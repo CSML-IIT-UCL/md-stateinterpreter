{
 "cells": [
  {
   "cell_type": "code",
   "execution_count": 1,
   "source": [
    "import mdtraj as md"
   ],
   "outputs": [],
   "metadata": {}
  },
  {
   "cell_type": "code",
   "execution_count": 6,
   "source": [
    "dir = '../../analysis/md_dataset/chignolin-unbiased/'\n",
    "traj_dict = { 'trajectory': dir+'CLN025-0-protein-ALL.dcd', 'topology' : dir+'CLN025-0-protein.pdb'}\n",
    "\n",
    "traj_file = traj_dict['trajectory']\n",
    "topo_file = traj_dict['topology']\n",
    "traj = md.load(traj_file, top=topo_file,stride=500)\n",
    "\n",
    "traj.save('test-data/'+'traj.dcd')\n"
   ],
   "outputs": [],
   "metadata": {}
  },
  {
   "cell_type": "code",
   "execution_count": 7,
   "source": [
    "!awk 'NR == 1 || $1%500==0' {dir}COLVAR > test-data/COLVAR"
   ],
   "outputs": [],
   "metadata": {}
  },
  {
   "cell_type": "markdown",
   "source": [],
   "metadata": {}
  }
 ],
 "metadata": {
  "orig_nbformat": 4,
  "language_info": {
   "name": "python",
   "version": "3.9.7",
   "mimetype": "text/x-python",
   "codemirror_mode": {
    "name": "ipython",
    "version": 3
   },
   "pygments_lexer": "ipython3",
   "nbconvert_exporter": "python",
   "file_extension": ".py"
  },
  "kernelspec": {
   "name": "python3",
   "display_name": "Python 3.9.7 64-bit ('pytorch': conda)"
  },
  "interpreter": {
   "hash": "a02a46087913cbb969307444ebf7a1b306ab4b246983cc11b407aff0a5ed992b"
  }
 },
 "nbformat": 4,
 "nbformat_minor": 2
}