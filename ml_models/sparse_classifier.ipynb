{
 "cells": [
  {
   "cell_type": "markdown",
   "id": "coordinate-retail",
   "metadata": {},
   "source": [
    "### Imports"
   ]
  },
  {
   "cell_type": "code",
   "execution_count": 1,
   "id": "historic-today",
   "metadata": {},
   "outputs": [],
   "source": [
    "import numpy as np\n",
    "import matplotlib.pyplot as plt\n",
    "plt.rcParams.update({\"text.usetex\": False})\n",
    "from sklearn.linear_model import Lasso "
   ]
  },
  {
   "cell_type": "markdown",
   "id": "understanding-armor",
   "metadata": {},
   "source": [
    "### Data loading"
   ]
  },
  {
   "cell_type": "code",
   "execution_count": 2,
   "id": "hollow-fountain",
   "metadata": {},
   "outputs": [],
   "source": [
    "A_data = np.loadtxt('../data/ala2/ala2_stateA.dat')[:,1:] #Ignoring time\n",
    "B_data = np.loadtxt('../data/ala2/ala2_stateB.dat')[:,1:] #Ignoring time\n",
    "with open('../data/ala2/ala2_stateA.dat', 'r') as f:\n",
    "    header = f.readline()\n",
    "columns = header[2:-1].split(' ')[1:] # Ignore comment symbol and \\n at the end"
   ]
  },
  {
   "cell_type": "code",
   "execution_count": 3,
   "id": "middle-elite",
   "metadata": {},
   "outputs": [
    {
     "data": {
      "text/plain": [
       "(10000, 77)"
      ]
     },
     "execution_count": 3,
     "metadata": {},
     "output_type": "execute_result"
    }
   ],
   "source": [
    "A_data.shape"
   ]
  },
  {
   "cell_type": "markdown",
   "id": "welsh-heavy",
   "metadata": {},
   "source": [
    "### Dataset preparation"
   ]
  },
  {
   "cell_type": "code",
   "execution_count": 4,
   "id": "current-attribute",
   "metadata": {},
   "outputs": [],
   "source": [
    "X_data = np.vstack([A_data, B_data]) \n",
    "Y_data = np.hstack([\n",
    "    np.ones(A_data.shape[0]),\n",
    "    -np.ones(B_data.shape[0])\n",
    "])\n",
    "perm = np.random.permutation(Y_data.shape[0])\n",
    "#Shuffling\n",
    "X_data = X_data[perm]\n",
    "Y_data = Y_data[perm]"
   ]
  },
  {
   "cell_type": "markdown",
   "id": "consecutive-academy",
   "metadata": {},
   "source": [
    "### Model training"
   ]
  },
  {
   "cell_type": "code",
   "execution_count": 5,
   "id": "registered-festival",
   "metadata": {},
   "outputs": [],
   "source": [
    "alpha = 0.1 #Adjusting this changes the number of selected features (low α = high number of features)\n",
    "model = Lasso(alpha=alpha)"
   ]
  },
  {
   "cell_type": "code",
   "execution_count": 6,
   "id": "sufficient-navigator",
   "metadata": {},
   "outputs": [
    {
     "data": {
      "text/plain": [
       "Lasso(alpha=0.1)"
      ]
     },
     "execution_count": 6,
     "metadata": {},
     "output_type": "execute_result"
    }
   ],
   "source": [
    "model.fit(X_data,Y_data)"
   ]
  },
  {
   "cell_type": "code",
   "execution_count": 7,
   "id": "accepting-weapon",
   "metadata": {},
   "outputs": [
    {
     "name": "stdout",
     "output_type": "stream",
     "text": [
      "The relevant features are:\n",
      "dih_sin1 with coefficient -0.623 and relative weight 0.675\n",
      "dih_sin5 with coefficient 0.432 and relative weight 0.325\n"
     ]
    }
   ],
   "source": [
    "print(\"The relevant features are:\")\n",
    "w_norm = np.linalg.norm(model.sparse_coef_.data)\n",
    "for idx in model.sparse_coef_.indices:\n",
    "    coeff = np.around(model.sparse_coef_[0,idx], decimals = 3)\n",
    "    weight = np.around(coeff**2/w_norm**2, decimals = 3)\n",
    "    print(f\"{columns[idx]} with coefficient {coeff} and relative weight {weight}\")"
   ]
  },
  {
   "cell_type": "markdown",
   "id": "written-fourth",
   "metadata": {},
   "source": [
    "### Model testing"
   ]
  },
  {
   "cell_type": "code",
   "execution_count": 23,
   "id": "consecutive-comparison",
   "metadata": {},
   "outputs": [],
   "source": [
    "model_idxs = model.sparse_coef_.indices\n",
    "A_data_light = A_data[:,model_idxs]\n",
    "B_data_light = B_data[:,model_idxs]\n",
    "\n",
    "boundary_x = np.linspace(-1,1,2)\n",
    "boundary_y = -np.linspace(-1,1,2)* model.sparse_coef_[0,model_idxs[0]]/model.sparse_coef_[0,model_idxs[1]]"
   ]
  },
  {
   "cell_type": "code",
   "execution_count": 24,
   "id": "million-genesis",
   "metadata": {},
   "outputs": [
    {
     "data": {
      "text/plain": [
       "[<matplotlib.lines.Line2D at 0x7f9ae0ab8820>]"
      ]
     },
     "execution_count": 24,
     "metadata": {},
     "output_type": "execute_result"
    },
    {
     "data": {
      "image/png": "[encoded data removed]",
      "text/plain": [
       "<Figure size 432x288 with 1 Axes>"
      ]
     },
     "metadata": {
      "needs_background": "light"
     },
     "output_type": "display_data"
    }
   ],
   "source": [
    "fig, ax = plt.subplots()\n",
    "ax.set_xlabel(columns[model_idxs[0]])\n",
    "ax.set_ylabel(columns[model_idxs[1]])\n",
    "ax.set_xlim(-1,1)\n",
    "ax.set_ylim(-1,1)\n",
    "ax.scatter(A_data_light[:,0], A_data_light[:,1])\n",
    "ax.scatter(B_data_light[:,0], B_data_light[:,1])\n",
    "ax.plot(boundary_x, boundary_y, 'k--')"
   ]
  },
  {
   "cell_type": "code",
   "execution_count": null,
   "id": "postal-basis",
   "metadata": {},
   "outputs": [],
   "source": []
  }
 ],
 "metadata": {
  "kernelspec": {
   "display_name": "Python 3",
   "language": "python",
   "name": "python3"
  },
  "language_info": {
   "codemirror_mode": {
    "name": "ipython",
    "version": 3
   },
   "file_extension": ".py",
   "mimetype": "text/x-python",
   "name": "python",
   "nbconvert_exporter": "python",
   "pygments_lexer": "ipython3",
   "version": "3.8.5"
  }
 },
 "nbformat": 4,
 "nbformat_minor": 5
}
