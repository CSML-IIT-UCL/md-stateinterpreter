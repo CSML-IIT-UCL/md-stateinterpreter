{
 "cells": [
  {
   "cell_type": "markdown",
   "id": "republican-biotechnology",
   "metadata": {},
   "source": [
    "### Imports"
   ]
  },
  {
   "cell_type": "code",
   "execution_count": 1,
   "id": "sticky-sunglasses",
   "metadata": {},
   "outputs": [],
   "source": [
    "import numpy as np\n",
    "from sklearn.linear_model import Lasso "
   ]
  },
  {
   "cell_type": "markdown",
   "id": "graduate-regular",
   "metadata": {},
   "source": [
    "### Data loading"
   ]
  },
  {
   "cell_type": "code",
   "execution_count": 2,
   "id": "dressed-aquarium",
   "metadata": {},
   "outputs": [],
   "source": [
    "A_data = np.loadtxt('../data/ala2/ala2_stateA.dat')\n",
    "B_data = np.loadtxt('../data/ala2/ala2_stateB.dat')\n",
    "with open('../data/ala2/ala2_stateA.dat', 'r') as f:\n",
    "    header = f.readline()\n",
    "columns = header[2:-1].split(' ') # Ignore comment symbol and \\n at the end"
   ]
  },
  {
   "cell_type": "markdown",
   "id": "unlikely-session",
   "metadata": {},
   "source": [
    "### Dataset preparation"
   ]
  },
  {
   "cell_type": "code",
   "execution_count": 3,
   "id": "alleged-nursery",
   "metadata": {},
   "outputs": [],
   "source": [
    "X_data = np.vstack([A_data, B_data])\n",
    "Y_data = np.hstack([\n",
    "    np.ones(A_data.shape[0]),\n",
    "    -np.ones(B_data.shape[0])\n",
    "])\n",
    "perm = np.random.permutation(Y_data.shape[0])\n",
    "#Shuffling\n",
    "X_data = X_data[perm,1:] #Ignoring time\n",
    "Y_data = Y_data[perm]"
   ]
  },
  {
   "cell_type": "markdown",
   "id": "optional-bearing",
   "metadata": {},
   "source": [
    "### Model training"
   ]
  },
  {
   "cell_type": "code",
   "execution_count": 19,
   "id": "neither-vocabulary",
   "metadata": {},
   "outputs": [],
   "source": [
    "alpha = 0.1 #Adjusting this changes the number of selected features (low α = high number of features)\n",
    "model = Lasso(alpha=alpha)"
   ]
  },
  {
   "cell_type": "code",
   "execution_count": 20,
   "id": "comparable-lemon",
   "metadata": {},
   "outputs": [
    {
     "data": {
      "text/plain": [
       "Lasso(alpha=0.1)"
      ]
     },
     "execution_count": 20,
     "metadata": {},
     "output_type": "execute_result"
    }
   ],
   "source": [
    "model.fit(X_data,Y_data)"
   ]
  },
  {
   "cell_type": "code",
   "execution_count": 21,
   "id": "rental-mississippi",
   "metadata": {},
   "outputs": [
    {
     "name": "stdout",
     "output_type": "stream",
     "text": [
      "The relevant features are (in order of importance):\n",
      "dih_cos1 with coefficient -0.623 and relative weight 0.675\n",
      "dih_cos5 with coefficient 0.432 and relative weight 0.325\n"
     ]
    }
   ],
   "source": [
    "print(\"The relevant features are:\")\n",
    "w_norm = np.linalg.norm(model.sparse_coef_.data)\n",
    "for idx in model.sparse_coef_.indices:\n",
    "    coeff = np.around(model.sparse_coef_[0,idx], decimals = 3)\n",
    "    weight = np.around(coeff**2/w_norm**2, decimals = 3)\n",
    "    print(f\"{columns[idx]} with coefficient {coeff} and relative weight {weight}\")"
   ]
  },
  {
   "cell_type": "code",
   "execution_count": null,
   "id": "graphic-application",
   "metadata": {},
   "outputs": [],
   "source": []
  }
 ],
 "metadata": {
  "kernelspec": {
   "display_name": "Python 3",
   "language": "python",
   "name": "python3"
  },
  "language_info": {
   "codemirror_mode": {
    "name": "ipython",
    "version": 3
   },
   "file_extension": ".py",
   "mimetype": "text/x-python",
   "name": "python",
   "nbconvert_exporter": "python",
   "pygments_lexer": "ipython3",
   "version": "3.8.5"
  }
 },
 "nbformat": 4,
 "nbformat_minor": 5
}
