{
 "cells": [
  {
   "cell_type": "markdown",
   "metadata": {},
   "source": [
    "## Import"
   ]
  },
  {
   "cell_type": "code",
   "execution_count": 1,
   "metadata": {},
   "outputs": [
    {
     "data": {
      "text/plain": [
       "<Figure size 432x288 with 0 Axes>"
      ]
     },
     "metadata": {},
     "output_type": "display_data"
    }
   ],
   "source": [
    "import numpy as np\n",
    "from stateinterpreter import Classifier, identify_metastable_states, load_dataframe, load_trajectory, prepare_training_dataset\n",
    "from stateinterpreter.utils.plot import plot_states\n",
    "#Paranoia\n",
    "#from IPython.display import set_matplotlib_formats\n",
    "#set_matplotlib_formats('svg')\n",
    "import matplotlib.pyplot as plt\n",
    "plt.set_cmap('fessa')"
   ]
  },
  {
   "cell_type": "markdown",
   "metadata": {},
   "source": [
    "## Load data"
   ]
  },
  {
   "cell_type": "code",
   "execution_count": 2,
   "metadata": {},
   "outputs": [
    {
     "data": {
      "text/html": [
       "<div>\n",
       "<style scoped>\n",
       "    .dataframe tbody tr th:only-of-type {\n",
       "        vertical-align: middle;\n",
       "    }\n",
       "\n",
       "    .dataframe tbody tr th {\n",
       "        vertical-align: top;\n",
       "    }\n",
       "\n",
       "    .dataframe thead th {\n",
       "        text-align: right;\n",
       "    }\n",
       "</style>\n",
       "<table border=\"1\" class=\"dataframe\">\n",
       "  <thead>\n",
       "    <tr style=\"text-align: right;\">\n",
       "      <th></th>\n",
       "      <th>DeepTICA 1</th>\n",
       "      <th>DeepTICA 2</th>\n",
       "      <th>DeepTICA 3</th>\n",
       "    </tr>\n",
       "  </thead>\n",
       "  <tbody>\n",
       "    <tr>\n",
       "      <th>0</th>\n",
       "      <td>0.818829</td>\n",
       "      <td>0.936690</td>\n",
       "      <td>0.391020</td>\n",
       "    </tr>\n",
       "    <tr>\n",
       "      <th>1</th>\n",
       "      <td>0.826180</td>\n",
       "      <td>1.034729</td>\n",
       "      <td>0.398371</td>\n",
       "    </tr>\n",
       "    <tr>\n",
       "      <th>2</th>\n",
       "      <td>0.837799</td>\n",
       "      <td>1.079363</td>\n",
       "      <td>0.427052</td>\n",
       "    </tr>\n",
       "    <tr>\n",
       "      <th>3</th>\n",
       "      <td>0.822358</td>\n",
       "      <td>0.859656</td>\n",
       "      <td>0.411466</td>\n",
       "    </tr>\n",
       "    <tr>\n",
       "      <th>4</th>\n",
       "      <td>0.819523</td>\n",
       "      <td>0.936758</td>\n",
       "      <td>0.413024</td>\n",
       "    </tr>\n",
       "  </tbody>\n",
       "</table>\n",
       "</div>"
      ],
      "text/plain": [
       "   DeepTICA 1  DeepTICA 2  DeepTICA 3\n",
       "0    0.818829    0.936690    0.391020\n",
       "1    0.826180    1.034729    0.398371\n",
       "2    0.837799    1.079363    0.427052\n",
       "3    0.822358    0.859656    0.411466\n",
       "4    0.819523    0.936758    0.413024"
      ]
     },
     "execution_count": 2,
     "metadata": {},
     "output_type": "execute_result"
    }
   ],
   "source": [
    "kBT = 2.5\n",
    "BPTI_data_path = '../../../data/md_datasets/BPTI-unbiased/'\n",
    "colvar_file = BPTI_data_path + 'deeptica/v2-lag100-nodes1024-256-64-3/COLVAR.csv'\n",
    "traj_dict = {\n",
    "        'trajectory' : BPTI_data_path+'trajectory.trr',\n",
    "        'topology' : BPTI_data_path+'topology.pdb'\n",
    "    }\n",
    "#Load Descriptors\n",
    "#desc_path = '../../../data/md_datasets/BPTI-unbiased/descritpors.pkl'\n",
    "#descriptors = pd.read_pickle(desc_path)\n",
    "\n",
    "start,stop,stride=0,None,1\n",
    "colvar = load_dataframe(colvar_file, start, stop, stride) #.drop(['idx', 'time'], axis=1)\n",
    "\n",
    "colvar.head()"
   ]
  },
  {
   "cell_type": "code",
   "execution_count": 3,
   "metadata": {},
   "outputs": [
    {
     "name": "stdout",
     "output_type": "stream",
     "text": [
      "['DISULFIDE dih CYS5_CYS55', 'DISULFIDE sin_dih CYS5_CYS55', 'DISULFIDE cos_dih CYS5_CYS55', 'DISULFIDE dih CYS14_CYS38', 'DISULFIDE sin_dih CYS14_CYS38', 'DISULFIDE cos_dih CYS14_CYS38', 'DISULFIDE dih CYS30_CYS51', 'DISULFIDE sin_dih CYS30_CYS51', 'DISULFIDE cos_dih CYS30_CYS51']\n",
      "{'DISULFIDE dih CYS5_CYS55': {'atoms': [76, 77, 862, 861], 'group': 'CYS5_CYS55'}, 'DISULFIDE sin_dih CYS5_CYS55': {'atoms': [76, 77, 862, 861], 'group': 'CYS5_CYS55'}, 'DISULFIDE cos_dih CYS5_CYS55': {'atoms': [76, 77, 862, 861], 'group': 'CYS5_CYS55'}, 'DISULFIDE dih CYS14_CYS38': {'atoms': [204, 205, 589, 588], 'group': 'CYS14_CYS38'}, 'DISULFIDE sin_dih CYS14_CYS38': {'atoms': [204, 205, 589, 588], 'group': 'CYS14_CYS38'}, 'DISULFIDE cos_dih CYS14_CYS38': {'atoms': [204, 205, 589, 588], 'group': 'CYS14_CYS38'}, 'DISULFIDE dih CYS30_CYS51': {'atoms': [476, 477, 797, 796], 'group': 'CYS30_CYS51'}, 'DISULFIDE sin_dih CYS30_CYS51': {'atoms': [476, 477, 797, 796], 'group': 'CYS30_CYS51'}, 'DISULFIDE cos_dih CYS30_CYS51': {'atoms': [476, 477, 797, 796], 'group': 'CYS30_CYS51'}}\n",
      "Computing Hydrogen bonds distances\n",
      "Donors: [0, 7, 9, 10, 40, 52, 72, 82, 101, 144, 155, 165, 170, 179, 200, 210, 218, 232, 242, 249, 251, 252, 266, 285, 304, 311, 313, 314, 328, 339, 349, 369, 380, 390, 397, 404, 414, 422, 436, 446, 453, 472, 482, 490, 499, 504, 513, 533, 549, 560, 570, 577, 584, 594, 601, 603, 604, 618, 628, 636, 650, 657, 659, 660, 674, 681, 688, 695, 702, 722, 730, 744, 749, 755, 765, 780, 792, 802, 819, 826, 828, 829, 843, 848, 857, 867, 874, 881]\n",
      "Acceptors: [  0   3   7   9  10  26  29  40  43  46  47  52  55  72  75  82  85 101\n",
      " 104 108 109 116 119 130 133 144 147 155 165 168 170 179 182 186 189 200\n",
      " 203 210 213 218 232 235 242 245 249 251 252 266 269 285 288 304 307 311\n",
      " 313 314 328 331 339 349 352 369 372 380 390 393 396 397 404 407 414 417\n",
      " 422 436 439 446 449 453 456 472 475 482 485 489 490 499 502 504 513 516\n",
      " 533 536 549 552 560 570 573 577 580 584 587 594 597 601 603 604 618 621\n",
      " 628 631 636 650 653 657 659 660 674 677 680 681 688 691 694 695 702 705\n",
      " 722 725 730 744 747 749 755 758 765 768 772 773 780 783 786 787 792 795\n",
      " 802 805 819 822 826 828 829 843 846 848 857 860 867 870 874 877 881 884\n",
      " 886]\n",
      "Computing Hydrogen bonds contacts\n",
      "Donors: [0, 7, 9, 10, 40, 52, 72, 82, 101, 144, 155, 165, 170, 179, 200, 210, 218, 232, 242, 249, 251, 252, 266, 285, 304, 311, 313, 314, 328, 339, 349, 369, 380, 390, 397, 404, 414, 422, 436, 446, 453, 472, 482, 490, 499, 504, 513, 533, 549, 560, 570, 577, 584, 594, 601, 603, 604, 618, 628, 636, 650, 657, 659, 660, 674, 681, 688, 695, 702, 722, 730, 744, 749, 755, 765, 780, 792, 802, 819, 826, 828, 829, 843, 848, 857, 867, 874, 881]\n",
      "Acceptors: [  0   3   7   9  10  26  29  40  43  46  47  52  55  72  75  82  85 101\n",
      " 104 108 109 116 119 130 133 144 147 155 165 168 170 179 182 186 189 200\n",
      " 203 210 213 218 232 235 242 245 249 251 252 266 269 285 288 304 307 311\n",
      " 313 314 328 331 339 349 352 369 372 380 390 393 396 397 404 407 414 417\n",
      " 422 436 439 446 449 453 456 472 475 482 485 489 490 499 502 504 513 516\n",
      " 533 536 549 552 560 570 573 577 580 584 587 594 597 601 603 604 618 621\n",
      " 628 631 636 650 653 657 659 660 674 677 680 681 688 691 694 695 702 705\n",
      " 722 725 730 744 747 749 755 758 765 768 772 773 780 783 786 787 792 795\n",
      " 802 805 819 822 826 828 829 843 846 848 857 860 867 870 874 877 881 884\n",
      " 886]\n",
      "Descriptors: (103125, 21136)\n"
     ]
    }
   ],
   "source": [
    "from stateinterpreter.descriptors import compute_descriptors\n",
    "\n",
    "traj = load_trajectory(traj_dict,start,stop,stride)\n",
    "descriptors, feats_info = compute_descriptors( traj, descriptors = ['dihedrals',  'disulfide', 'hbonds_distances', 'hbonds_contacts'] )"
   ]
  },
  {
   "cell_type": "markdown",
   "metadata": {},
   "source": [
    "# miscellanea"
   ]
  },
  {
   "cell_type": "code",
   "execution_count": 34,
   "metadata": {},
   "outputs": [
    {
     "data": {
      "text/plain": [
       "(20625, 798)"
      ]
     },
     "execution_count": 34,
     "metadata": {},
     "output_type": "execute_result"
    }
   ],
   "source": [
    "# Select only contacts which are greater than 0.5 at least once during the simulation\n",
    "selected = ((descriptors.filter(regex='HB_CONTACT')>0.5).sum()>0)\n",
    "desc = descriptors[selected.index[selected]]\n",
    "desc.shape"
   ]
  },
  {
   "cell_type": "markdown",
   "metadata": {},
   "source": [
    "Identify states"
   ]
  },
  {
   "cell_type": "code",
   "execution_count": null,
   "metadata": {},
   "outputs": [],
   "source": [
    "cv_list = ['DeepTICA 1', 'DeepTICA 2', 'DeepTICA 3']\n",
    "kBT = 2.5\n",
    "states_labels = identify_metastable_states(colvar, cv_list, kBT, bw_method=0.15, fes_cutoff=kBT)\n",
    "\n",
    "plot_states(colvar, states_labels, cv_list, fes_isolines=True, **{'bw_method':0.15}, cmap_name='fessa')"
   ]
  },
  {
   "cell_type": "markdown",
   "metadata": {},
   "source": [
    "### PLOT Fes and Rmsd"
   ]
  },
  {
   "cell_type": "code",
   "execution_count": null,
   "metadata": {},
   "outputs": [],
   "source": [
    "fig, ax_fake = plt.subplots(1)"
   ]
  },
  {
   "cell_type": "code",
   "execution_count": null,
   "metadata": {},
   "outputs": [],
   "source": [
    "import mdtraj as md\n",
    "from stateinterpreter.io import load_trajectory\n",
    "\n",
    "# Compute RMSD\n",
    "traj = load_trajectory(traj_dict,stride=stride)\n",
    "traj_file = traj_dict[\"trajectory\"]\n",
    "topo_file = traj_dict[\"topology\"] if \"topology\" in traj_dict else None\n",
    "\n",
    "traj = md.load(traj_file, top=topo_file, stride=stride)\n",
    "\n",
    "file_ref = BPTI_data_path+'RMSD-reference.pdb'\n",
    "rmsd_ref = md.load(topo_file)\n",
    "\n",
    "df, _ = traj.top.to_dataframe()\n",
    "# CA RMSD\n",
    "rmsd = md.rmsd(traj,rmsd_ref,atom_indices=df [df['name'] == 'CA'].index)\n",
    "# HEAVY ATOMS RMSD\n",
    "#rmsd = md.rmsd(traj,rmsd_ref,atom_indices=df [df['element'] != 'H'].index)"
   ]
  },
  {
   "cell_type": "code",
   "execution_count": null,
   "metadata": {},
   "outputs": [],
   "source": [
    "from itertools import combinations\n",
    "\n",
    "def plot_states_v2(colvar, state_labels, selected_cvs, fes_isolines = False, n_iso_fes = 9, ev_iso_labels = 2, alpha=0.3, cmap_name = 'Set2', save_folder=None, axs = None, **kde_kwargs):\n",
    "    states = state_labels['labels'].unique()\n",
    "    n_states = len(states)\n",
    "\n",
    "    # hexbin plot of tica components \n",
    "    idxs_pairs = [p for p in combinations(np.arange(len(selected_cvs)), 2)]\n",
    "    n_pairs = len(idxs_pairs)\n",
    "\n",
    "    if axs is None:\n",
    "        fig, axs = plt.subplots(1,n_pairs,figsize=(4.8*n_pairs,4), dpi=100)\n",
    "\n",
    "    for k, (x_idx,y_idx) in enumerate(idxs_pairs):\n",
    "        \n",
    "        label_x = selected_cvs[x_idx]\n",
    "        label_y = selected_cvs[y_idx]\n",
    "        # select ax\n",
    "        ax = axs[k] if n_pairs > 1 else axs\n",
    "\n",
    "        # FES isolines (if 2D)\n",
    "        if fes_isolines:\n",
    "            #logweights = None\n",
    "            #bw_method = 0.15\n",
    "\n",
    "            num_samples = 100\n",
    "\n",
    "            cmap = matplotlib.cm.get_cmap('Greys_r', n_iso_fes)\n",
    "            color_list = [cmap((i+1)/(n_iso_fes+3)) for i in range(n_iso_fes)]\n",
    "\n",
    "            empirical_centers = colvar[[label_x,label_y]].to_numpy()\n",
    "            KDE = gaussian_kde(empirical_centers,**kde_kwargs)\n",
    "\n",
    "            #bounds = [(x.min(), x.max()) for x in KDE.dataset.T]\n",
    "            bounds = []\n",
    "            for x in KDE.dataset.T:\n",
    "                bound = [x.min(), x.max()]\n",
    "                if bound[0] > -1:\n",
    "                    bound[0] = -1\n",
    "                if bound[1] < 1:\n",
    "                    bound[1] = 1\n",
    "                bounds.append(bound)\n",
    "\n",
    "            mesh = np.meshgrid(*[np.linspace(b[0], b[1], num_samples) for b in bounds])\n",
    "\n",
    "            positions = np.vstack([g.ravel() for g in mesh]).T\n",
    "            fes = -KDE.logpdf(positions).reshape(num_samples,num_samples)\n",
    "            fes -= fes.min()\n",
    "\n",
    "            CS = ax.contour(*mesh, fes, levels=np.linspace(0,n_iso_fes-1,n_iso_fes), colors = color_list)\n",
    "        if ev_iso_labels > 0:\n",
    "            ax.clabel(CS, CS.levels[::ev_iso_labels], fmt = lambda x: str(int(x))+ r'$k_{{\\rm B}}T$', inline=True, fontsize=8)\n",
    "\n",
    "        # Hexbin plot\n",
    "        x = colvar[label_x]\n",
    "        y = colvar[label_y]\n",
    "        z = state_labels['labels']\n",
    "        sel = state_labels['selection']\n",
    "        not_sel = np.logical_not(sel)\n",
    "\n",
    "        cmap = matplotlib.cm.get_cmap(cmap_name, n_states)\n",
    "        color_list = [cmap(i/(n_states)) for i in range(n_states)] \n",
    "      \n",
    "        ax.hexbin(x[not_sel],y[not_sel],C=z[not_sel],cmap=cmap_name,alpha=alpha)\n",
    "        ax.hexbin(x[sel],y[sel],C=z[sel],cmap=cmap_name)\n",
    "     \n",
    "        if axs is None:\n",
    "            ax.set_title('Metastable states identification')\n",
    "        ax.set_xlabel(label_x)\n",
    "        ax.set_ylabel(label_y)\n",
    "    \n",
    "        #Add basins labels\n",
    "        for b in states:\n",
    "            mask = np.logical_and(sel, z == b)\n",
    "            #If weighted not ok but functional\n",
    "            mx,my = np.mean(x[mask]), np.mean(y[mask])\n",
    "            ax.scatter(mx,my,color=color_list[b],s=300,alpha=1)\n",
    "            _ = ax.text(mx, my, b, ha=\"center\", va=\"center\", color='w', fontsize='large')\n",
    "\n",
    "    if save_folder is not None:\n",
    "        plt.savefig(save_folder+'states.pdf',bbox_inches='tight')\n",
    "    \n",
    "    if axs is None:\n",
    "        plt.tight_layout()\n",
    "        return fig, axs"
   ]
  },
  {
   "cell_type": "code",
   "execution_count": null,
   "metadata": {},
   "outputs": [],
   "source": [
    "centimeters = 1/2.54\n",
    "\n",
    "fig, axes = plt.subplots(1,3,figsize=(18*centimeters,6*centimeters), dpi=300, constrained_layout=True)\n",
    "axs = [axes[0],ax_fake,axes[1]]\n",
    "\n",
    "#plt.suptitle('Metastable states identification')\n",
    "\n",
    "# PLT FES aND LABELS\n",
    "plot_states_v2(colvar, states_labels, cv_list, fes_isolines=True, **{'bw_method':0.15}, alpha=0, cmap_name = 'fessa', n_iso_fes=10, ev_iso_labels=0, axs= axs)\n",
    "\n",
    "for ax in [axs[0],axs[2]]:\n",
    "    #ax.set_xlim(-1.1,1.1)\n",
    "    #ax.set_ylim(-1.1,1.1)\n",
    "    ax.set_xticks([-1,1])\n",
    "    ax.set_yticks([-1,1])\n",
    "\n",
    "#fix labels\n",
    "ax=axs[0]\n",
    "ax.set_xlabel('DeepTICA 1',labelpad=-5)\n",
    "ax.set_ylabel('DeepTICA 2',labelpad=-10)\n",
    "\n",
    "ax=axs[2]\n",
    "ax.set_xlabel('DeepTICA 2',labelpad=-5)\n",
    "ax.set_ylabel('DeepTICA 3',labelpad=-10)\n",
    "\n",
    "# PLT RMSD\n",
    "ax=axes[2]\n",
    "\n",
    "# running average\n",
    "N=5\n",
    "ave = np.convolve(rmsd, np.ones(N)/N, mode='same')\n",
    "\n",
    "pp = ax.scatter(np.arange(len(ave[5::5]))*0.05,ave[5::5],c=states_labels['labels'].values[5::5],s=0.1)\n",
    "ax.set_xlabel(r'Time [$\\mu s$]',labelpad=-5)\n",
    "ax.set_ylabel(r'$C_\\alpha$ RMSD [nm]')\n",
    "ax.set_xticks([0,1000])\n",
    "\n",
    "#cbar = plt.colorbar(pp,ax=ax)\n",
    "#cbar.set_label('State')\n",
    "\n",
    "save_folder = 'bpti-figs/'\n",
    "plt.savefig(save_folder+'states.pdf',bbox_inches='tight')"
   ]
  },
  {
   "cell_type": "code",
   "execution_count": null,
   "metadata": {},
   "outputs": [],
   "source": [
    "import mdtraj as md\n",
    "from stateinterpreter.io import load_trajectory\n",
    "\n",
    "ax=axs[3]\n",
    "\n",
    "traj = load_trajectory(traj_dict,stride=stride)\n",
    "traj_file = traj_dict[\"trajectory\"]\n",
    "topo_file = traj_dict[\"topology\"] if \"topology\" in traj_dict else None\n",
    "\n",
    "traj = md.load(traj_file, top=topo_file, stride=stride)\n",
    "\n",
    "file_ref = BPTI_data_path+'RMSD-reference.pdb'\n",
    "rmsd_ref = md.load(topo_file)\n",
    "\n",
    "df, _ = traj.top.to_dataframe()\n",
    "# CA RMSD\n",
    "rmsd = md.rmsd(traj,rmsd_ref,atom_indices=df [df['name'] == 'CA'].index)\n",
    "# HEAVY ATOMS RMSD\n",
    "#rmsd = md.rmsd(traj,rmsd_ref,atom_indices=df [df['element'] != 'H'].index)\n",
    "\n",
    "ax.scatter(np.arange(len(rmsd)),rmsd,c=states_labels['labels'].values,s=0.25)"
   ]
  },
  {
   "cell_type": "markdown",
   "metadata": {},
   "source": [
    "## Group lasso on dihedral angles"
   ]
  },
  {
   "cell_type": "markdown",
   "metadata": {},
   "source": [
    "Number of groups vs. regularization strength $\\lambda$"
   ]
  },
  {
   "cell_type": "markdown",
   "metadata": {},
   "source": [
    "NOI --> DES\n",
    "0 : 'DES-3'\n",
    "1 : 'DES-0'\n",
    "2 : 'DES-4'\n",
    "3 : 'DES-2b'\n",
    "4 : 'DES-2a'\n",
    "5 : 'DES-1'"
   ]
  },
  {
   "cell_type": "code",
   "execution_count": 26,
   "metadata": {},
   "outputs": [
    {
     "name": "stderr",
     "output_type": "stream",
     "text": [
      "Optimizing Lasso Estimator: 100%|██████████| 25/25 [22:27<00:00, 53.89s/it]\n"
     ]
    },
    {
     "data": {
      "image/png": "[encoded data removed]",
      "text/plain": [
       "<Figure size 216x144 with 2 Axes>"
      ]
     },
     "metadata": {
      "needs_background": "light"
     },
     "output_type": "display_data"
    }
   ],
   "source": [
    "state_names = None #['DES-3','DES-0','DES-4','DES-2b','DES-2a','DES-1']\n",
    "states_subset = [0,1,2,3,4,5]\n",
    "\n",
    "regularizers = np.geomspace(0.01, 1, 25)\n",
    "#regularizers = 10**(-0.5)\n",
    "select_feat = 'sin_|cos_'\n",
    "sample_obj, features_names, classes_names = prepare_training_dataset(descriptors, states_labels, 1000, regex_filter=select_feat, \n",
    "                                                    states_subset=states_subset, states_names=state_names)\n",
    "groups = [feats_info[name]['group'] for name in features_names]\n",
    "classifier = Classifier(sample_obj, features_names, classes_names)\n",
    "classifier.compute(regularizers, max_iter= 10000, groups=groups)\n",
    "\n",
    "classifier.plot();"
   ]
  },
  {
   "cell_type": "code",
   "execution_count": 41,
   "metadata": {},
   "outputs": [
    {
     "data": {
      "image/svg+xml": "<?xml version=\"1.0\" encoding=\"utf-8\" standalone=\"no\"?>\n<!DOCTYPE svg PUBLIC \"-//W3C//DTD SVG 1.1//EN\"\n  \"http://www.w3.org/Graphics/SVG/1.1/DTD/svg11.dtd\">\n<svg height=\"172.627766pt\" version=\"1.1\" viewBox=\"0 0 252.552134 172.627766\" width=\"252.552134pt\" xmlns=\"http://www.w3.org/2000/svg\" xmlns:xlink=\"http://www.w3.org/1999/xlink\">\n <metadata>\n  <rdf:RDF xmlns:cc=\"http://creativecommons.org/ns#\" xmlns:dc=\"http://purl.org/dc/elements/1.1/\" xmlns:rdf=\"http://www.w3.org/1999/02/22-rdf-syntax-ns#\">\n   <cc:Work>\n    <dc:type rdf:resource=\"http://purl.org/dc/dcmitype/StillImage\"/>\n    <dc:date>2021-12-23T18:18:38.228278</dc:date>\n    <dc:format>image/svg+xml</dc:format>\n    <dc:creator>\n     <cc:Agent>\n      <dc:title>Matplotlib v3.4.3, https://matplotlib.org/</dc:title>\n     </cc:Agent>\n    </dc:creator>\n   </cc:Work>\n  </rdf:RDF>\n </metadata>\n <defs>\n  <style type=\"text/css\">*{stroke-linecap:butt;stroke-linejoin:round;}</style>\n </defs>\n <g id=\"figure_1\">\n  <g id=\"patch_1\">\n   <path d=\"M 0 172.627766 \nL 252.552134 172.627766 \nL 252.552134 0 \nL 0 0 \nz\n\" style=\"fill:none;\"/>\n  </g>\n  <g id=\"axes_1\">\n   <g id=\"patch_2\">\n    <path d=\"M 39.785756 135.609449 \nL 215.533787 135.609449 \nL 215.533787 7.2 \nL 39.785756 7.2 \nz\n\" style=\"fill:#ffffff;\"/>\n   </g>\n   <g id=\"matplotlib.axis_1\">\n    <g id=\"xtick_1\">\n     <g id=\"line2d_1\">\n      <defs>\n       <path d=\"M 0 0 \nL 0 3.5 \n\" id=\"m6594cbdeec\" style=\"stroke:#000000;stroke-width:0.8;\"/>\n      </defs>\n      <g>\n       <use style=\"stroke:#000000;stroke-width:0.8;\" x=\"47.774303\" xlink:href=\"#m6594cbdeec\" y=\"135.609449\"/>\n      </g>\n     </g>\n     <g id=\"text_1\">\n      <!-- $\\mathdefault{−2.0}$ -->\n      <g transform=\"translate(37.534891 149.527947)scale(0.1 -0.1)\">\n       <defs>\n        <path d=\"M 4218 1472 \nC 4326 1472 4442 1472 4442 1600 \nC 4442 1728 4326 1728 4218 1728 \nL 755 1728 \nC 646 1728 531 1728 531 1600 \nC 531 1472 646 1472 755 1472 \nL 4218 1472 \nz\n\" id=\"CMSY10-0\" transform=\"scale(0.015625)\"/>\n        <path d=\"M 2669 990 \nL 2554 990 \nC 2490 537 2438 460 2413 422 \nC 2381 371 1920 371 1830 371 \nL 602 371 \nC 832 620 1280 1073 1824 1596 \nC 2214 1966 2669 2400 2669 3033 \nC 2669 3788 2067 4224 1395 4224 \nC 691 4224 262 3603 262 3027 \nC 262 2777 448 2745 525 2745 \nC 589 2745 781 2783 781 3007 \nC 781 3206 614 3264 525 3264 \nC 486 3264 448 3257 422 3244 \nC 544 3788 915 4057 1306 4057 \nC 1862 4057 2227 3616 2227 3033 \nC 2227 2477 1901 1998 1536 1583 \nL 262 147 \nL 262 0 \nL 2515 0 \nL 2669 990 \nz\n\" id=\"CMR17-32\" transform=\"scale(0.015625)\"/>\n        <path d=\"M 1178 307 \nC 1178 492 1024 620 870 620 \nC 685 620 557 467 557 313 \nC 557 128 710 0 864 0 \nC 1050 0 1178 153 1178 307 \nz\n\" id=\"CMMI12-3a\" transform=\"scale(0.015625)\"/>\n        <path d=\"M 2688 2038 \nC 2688 2430 2682 3099 2413 3613 \nC 2176 4063 1798 4224 1466 4224 \nC 1158 4224 768 4082 525 3620 \nC 269 3137 243 2539 243 2038 \nC 243 1671 250 1112 448 623 \nC 723 -39 1216 -128 1466 -128 \nC 1760 -128 2208 -7 2470 604 \nC 2662 1048 2688 1568 2688 2038 \nz\nM 1466 -26 \nC 1056 -26 813 328 723 816 \nC 653 1196 653 1749 653 2109 \nC 653 2604 653 3015 736 3407 \nC 858 3954 1216 4121 1466 4121 \nC 1728 4121 2067 3947 2189 3420 \nC 2272 3054 2278 2623 2278 2109 \nC 2278 1691 2278 1176 2202 797 \nC 2067 96 1690 -26 1466 -26 \nz\n\" id=\"CMR17-30\" transform=\"scale(0.015625)\"/>\n       </defs>\n       <use transform=\"scale(0.996264)\" xlink:href=\"#CMSY10-0\"/>\n       <use transform=\"translate(77.487468 0)scale(0.996264)\" xlink:href=\"#CMR17-32\"/>\n       <use transform=\"translate(123.177945 0)scale(0.996264)\" xlink:href=\"#CMMI12-3a\"/>\n       <use transform=\"translate(150.275122 0)scale(0.996264)\" xlink:href=\"#CMR17-30\"/>\n      </g>\n     </g>\n    </g>\n    <g id=\"xtick_2\">\n     <g id=\"line2d_2\">\n      <g>\n       <use style=\"stroke:#000000;stroke-width:0.8;\" x=\"87.717037\" xlink:href=\"#m6594cbdeec\" y=\"135.609449\"/>\n      </g>\n     </g>\n     <g id=\"text_2\">\n      <!-- $\\mathdefault{−1.5}$ -->\n      <g transform=\"translate(77.477626 149.527947)scale(0.1 -0.1)\">\n       <defs>\n        <path d=\"M 1702 4083 \nC 1702 4217 1696 4224 1606 4224 \nC 1357 3927 979 3833 621 3820 \nC 602 3820 570 3820 563 3808 \nC 557 3795 557 3782 557 3648 \nC 755 3648 1088 3686 1344 3839 \nL 1344 467 \nC 1344 243 1331 166 781 166 \nL 589 166 \nL 589 0 \nC 896 6 1216 12 1523 12 \nC 1830 12 2150 6 2458 0 \nL 2458 166 \nL 2266 166 \nC 1715 166 1702 236 1702 467 \nL 1702 4083 \nz\n\" id=\"CMR17-31\" transform=\"scale(0.015625)\"/>\n        <path d=\"M 730 3750 \nC 794 3724 1056 3641 1325 3641 \nC 1920 3641 2246 3961 2432 4140 \nC 2432 4191 2432 4224 2394 4224 \nC 2387 4224 2374 4224 2323 4198 \nC 2099 4102 1837 4032 1517 4032 \nC 1325 4032 1037 4055 723 4191 \nC 653 4224 640 4224 634 4224 \nC 602 4224 595 4217 595 4090 \nL 595 2231 \nC 595 2113 595 2080 659 2080 \nC 691 2080 704 2093 736 2139 \nC 941 2435 1222 2560 1542 2560 \nC 1766 2560 2246 2415 2246 1293 \nC 2246 1087 2246 716 2054 422 \nC 1894 159 1645 25 1370 25 \nC 947 25 518 319 403 812 \nC 429 806 480 793 506 793 \nC 589 793 749 838 749 1036 \nC 749 1209 627 1280 506 1280 \nC 358 1280 262 1190 262 1011 \nC 262 454 704 -128 1382 -128 \nC 2042 -128 2669 441 2669 1267 \nC 2669 2054 2170 2662 1549 2662 \nC 1222 2662 947 2540 730 2304 \nL 730 3750 \nz\n\" id=\"CMR17-35\" transform=\"scale(0.015625)\"/>\n       </defs>\n       <use transform=\"scale(0.996264)\" xlink:href=\"#CMSY10-0\"/>\n       <use transform=\"translate(77.487468 0)scale(0.996264)\" xlink:href=\"#CMR17-31\"/>\n       <use transform=\"translate(123.177945 0)scale(0.996264)\" xlink:href=\"#CMMI12-3a\"/>\n       <use transform=\"translate(150.275122 0)scale(0.996264)\" xlink:href=\"#CMR17-35\"/>\n      </g>\n     </g>\n    </g>\n    <g id=\"xtick_3\">\n     <g id=\"line2d_3\">\n      <g>\n       <use style=\"stroke:#000000;stroke-width:0.8;\" x=\"127.659771\" xlink:href=\"#m6594cbdeec\" y=\"135.609449\"/>\n      </g>\n     </g>\n     <g id=\"text_3\">\n      <!-- $\\mathdefault{−1.0}$ -->\n      <g transform=\"translate(117.42036 149.527947)scale(0.1 -0.1)\">\n       <use transform=\"scale(0.996264)\" xlink:href=\"#CMSY10-0\"/>\n       <use transform=\"translate(77.487468 0)scale(0.996264)\" xlink:href=\"#CMR17-31\"/>\n       <use transform=\"translate(123.177945 0)scale(0.996264)\" xlink:href=\"#CMMI12-3a\"/>\n       <use transform=\"translate(150.275122 0)scale(0.996264)\" xlink:href=\"#CMR17-30\"/>\n      </g>\n     </g>\n    </g>\n    <g id=\"xtick_4\">\n     <g id=\"line2d_4\">\n      <g>\n       <use style=\"stroke:#000000;stroke-width:0.8;\" x=\"167.602506\" xlink:href=\"#m6594cbdeec\" y=\"135.609449\"/>\n      </g>\n     </g>\n     <g id=\"text_4\">\n      <!-- $\\mathdefault{−0.5}$ -->\n      <g transform=\"translate(157.363095 149.527947)scale(0.1 -0.1)\">\n       <use transform=\"scale(0.996264)\" xlink:href=\"#CMSY10-0\"/>\n       <use transform=\"translate(77.487468 0)scale(0.996264)\" xlink:href=\"#CMR17-30\"/>\n       <use transform=\"translate(123.177945 0)scale(0.996264)\" xlink:href=\"#CMMI12-3a\"/>\n       <use transform=\"translate(150.275122 0)scale(0.996264)\" xlink:href=\"#CMR17-35\"/>\n      </g>\n     </g>\n    </g>\n    <g id=\"xtick_5\">\n     <g id=\"line2d_5\">\n      <g>\n       <use style=\"stroke:#000000;stroke-width:0.8;\" x=\"207.54524\" xlink:href=\"#m6594cbdeec\" y=\"135.609449\"/>\n      </g>\n     </g>\n     <g id=\"text_5\">\n      <!-- $\\mathdefault{0.0}$ -->\n      <g transform=\"translate(201.180201 149.527947)scale(0.1 -0.1)\">\n       <use transform=\"scale(0.996264)\" xlink:href=\"#CMR17-30\"/>\n       <use transform=\"translate(45.690477 0)scale(0.996264)\" xlink:href=\"#CMMI12-3a\"/>\n       <use transform=\"translate(72.787654 0)scale(0.996264)\" xlink:href=\"#CMR17-30\"/>\n      </g>\n     </g>\n    </g>\n    <g id=\"text_6\">\n     <!-- $\\log_{10}(\\lambda)$ -->\n     <g transform=\"translate(110.225098 162.937106)scale(0.1 -0.1)\">\n      <defs>\n       <path d=\"M 979 4416 \nL 218 4345 \nL 218 4179 \nC 595 4179 653 4141 653 3835 \nL 653 439 \nC 653 198 627 166 218 166 \nL 218 0 \nC 371 12 653 12 813 12 \nC 979 12 1261 12 1414 0 \nL 1414 166 \nC 1005 166 979 191 979 439 \nL 979 4416 \nz\n\" id=\"CMR17-6c\" transform=\"scale(0.015625)\"/>\n       <path d=\"M 2758 1356 \nC 2758 2176 2163 2816 1466 2816 \nC 768 2816 173 2176 173 1356 \nC 173 550 768 -64 1466 -64 \nC 2163 -64 2758 550 2758 1356 \nz\nM 1466 51 \nC 1165 51 909 230 762 480 \nC 602 768 582 1126 582 1408 \nC 582 1676 595 2009 762 2297 \nC 890 2508 1139 2713 1466 2713 \nC 1754 2713 1997 2553 2150 2329 \nC 2349 2028 2349 1606 2349 1408 \nC 2349 1158 2336 774 2163 467 \nC 1984 172 1709 51 1466 51 \nz\n\" id=\"CMR17-6f\" transform=\"scale(0.015625)\"/>\n       <path d=\"M 710 1165 \nC 832 1068 1043 960 1299 960 \nC 1805 960 2240 1359 2240 1895 \nC 2240 2063 2189 2321 1997 2521 \nC 2176 2713 2438 2777 2586 2777 \nC 2611 2777 2650 2777 2682 2758 \nC 2656 2751 2598 2726 2598 2623 \nC 2598 2540 2656 2483 2739 2483 \nC 2835 2483 2886 2547 2886 2630 \nC 2886 2751 2790 2880 2586 2880 \nC 2330 2880 2106 2758 1926 2591 \nC 1734 2764 1504 2828 1299 2828 \nC 794 2828 358 2431 358 1895 \nC 358 1527 570 1294 634 1230 \nC 442 1004 442 742 442 710 \nC 442 544 506 300 723 166 \nC 390 82 128 -184 128 -517 \nC 128 -996 736 -1344 1466 -1344 \nC 2170 -1344 2803 -1009 2803 -510 \nC 2803 384 1856 384 1363 384 \nC 1216 384 954 384 922 390 \nC 723 422 589 601 589 825 \nC 589 883 589 1024 710 1165 \nz\nM 1299 1068 \nC 736 1068 736 1766 736 1895 \nC 736 2024 736 2719 1299 2719 \nC 1862 2719 1862 2024 1862 1895 \nC 1862 1766 1862 1068 1299 1068 \nz\nM 1466 -1236 \nC 826 -1236 384 -883 384 -517 \nC 384 -311 493 -118 634 -11 \nC 794 102 858 102 1293 102 \nC 1818 102 2547 102 2547 -517 \nC 2547 -883 2106 -1236 1466 -1236 \nz\n\" id=\"CMR17-67\" transform=\"scale(0.015625)\"/>\n       <path d=\"M 1958 -1562 \nC 1958 -1556 1958 -1543 1939 -1524 \nC 1645 -1223 858 -403 858 1596 \nC 858 3595 1632 4408 1946 4729 \nC 1946 4735 1958 4748 1958 4767 \nC 1958 4787 1939 4800 1914 4800 \nC 1843 4800 1299 4325 986 3620 \nC 666 2909 576 2218 576 1603 \nC 576 1141 621 360 1005 -467 \nC 1312 -1133 1837 -1600 1914 -1600 \nC 1946 -1600 1958 -1588 1958 -1562 \nz\n\" id=\"CMR17-28\" transform=\"scale(0.015625)\"/>\n       <path d=\"M 1978 3963 \nC 1818 4416 1312 4416 1229 4416 \nC 1190 4416 1120 4416 1120 4351 \nC 1120 4300 1158 4294 1190 4287 \nC 1286 4275 1363 4262 1466 4078 \nC 1530 3957 2189 2055 2189 2042 \nC 2189 2036 2182 2029 2131 1978 \nL 467 305 \nC 390 229 339 178 339 95 \nC 339 6 416 -71 518 -71 \nC 544 -71 614 -58 653 -20 \nC 755 76 1670 1190 2253 1877 \nC 2419 1380 2624 795 2822 261 \nC 2854 165 2886 76 2976 -7 \nC 3040 -64 3053 -64 3232 -64 \nL 3354 -64 \nC 3379 -64 3424 -64 3424 -13 \nC 3424 12 3418 19 3392 44 \nC 3334 114 3290 229 3264 305 \nL 1978 3963 \nz\n\" id=\"CMMI12-15\" transform=\"scale(0.015625)\"/>\n       <path d=\"M 1683 1596 \nC 1683 2057 1638 2839 1254 3665 \nC 947 4332 422 4800 346 4800 \nC 326 4800 301 4793 301 4761 \nC 301 4748 307 4742 314 4729 \nC 621 4408 1402 3595 1402 1603 \nC 1402 -396 627 -1210 314 -1530 \nC 307 -1543 301 -1549 301 -1562 \nC 301 -1594 326 -1600 346 -1600 \nC 416 -1600 960 -1127 1274 -422 \nC 1594 289 1683 981 1683 1596 \nz\n\" id=\"CMR17-29\" transform=\"scale(0.015625)\"/>\n      </defs>\n      <use transform=\"scale(0.996264)\" xlink:href=\"#CMR17-6c\"/>\n      <use transform=\"translate(24.871058 0)scale(0.996264)\" xlink:href=\"#CMR17-6f\"/>\n      <use transform=\"translate(70.561536 0)scale(0.996264)\" xlink:href=\"#CMR17-67\"/>\n      <use transform=\"translate(117.553179 -22.865092)scale(0.697382)\" xlink:href=\"#CMR17-31\"/>\n      <use transform=\"translate(149.536361 -22.865092)scale(0.697382)\" xlink:href=\"#CMR17-30\"/>\n      <use transform=\"translate(182.017675 0)scale(0.996264)\" xlink:href=\"#CMR17-28\"/>\n      <use transform=\"translate(217.298443 0)scale(0.996264)\" xlink:href=\"#CMMI12-15\"/>\n      <use transform=\"translate(274.202514 0)scale(0.996264)\" xlink:href=\"#CMR17-29\"/>\n     </g>\n    </g>\n   </g>\n   <g id=\"matplotlib.axis_2\">\n    <g id=\"ytick_1\">\n     <g id=\"line2d_6\">\n      <defs>\n       <path d=\"M 0 0 \nL -3.5 0 \n\" id=\"me59a606d5e\" style=\"stroke:#000000;stroke-width:0.8;\"/>\n      </defs>\n      <g>\n       <use style=\"stroke:#000000;stroke-width:0.8;\" x=\"39.785756\" xlink:href=\"#me59a606d5e\" y=\"135.609449\"/>\n      </g>\n     </g>\n     <g id=\"text_7\">\n      <!-- $\\mathdefault{0.0}$ -->\n      <g transform=\"translate(20.055677 139.068698)scale(0.1 -0.1)\">\n       <use transform=\"scale(0.996264)\" xlink:href=\"#CMR17-30\"/>\n       <use transform=\"translate(45.690477 0)scale(0.996264)\" xlink:href=\"#CMMI12-3a\"/>\n       <use transform=\"translate(72.787654 0)scale(0.996264)\" xlink:href=\"#CMR17-30\"/>\n      </g>\n     </g>\n    </g>\n    <g id=\"ytick_2\">\n     <g id=\"line2d_7\">\n      <g>\n       <use style=\"stroke:#000000;stroke-width:0.8;\" x=\"39.785756\" xlink:href=\"#me59a606d5e\" y=\"112.262276\"/>\n      </g>\n     </g>\n     <g id=\"text_8\">\n      <!-- $\\mathdefault{0.2}$ -->\n      <g transform=\"translate(20.055677 115.721525)scale(0.1 -0.1)\">\n       <use transform=\"scale(0.996264)\" xlink:href=\"#CMR17-30\"/>\n       <use transform=\"translate(45.690477 0)scale(0.996264)\" xlink:href=\"#CMMI12-3a\"/>\n       <use transform=\"translate(72.787654 0)scale(0.996264)\" xlink:href=\"#CMR17-32\"/>\n      </g>\n     </g>\n    </g>\n    <g id=\"ytick_3\">\n     <g id=\"line2d_8\">\n      <g>\n       <use style=\"stroke:#000000;stroke-width:0.8;\" x=\"39.785756\" xlink:href=\"#me59a606d5e\" y=\"88.915104\"/>\n      </g>\n     </g>\n     <g id=\"text_9\">\n      <!-- $\\mathdefault{0.4}$ -->\n      <g transform=\"translate(20.055677 92.374353)scale(0.1 -0.1)\">\n       <defs>\n        <path d=\"M 2150 4147 \nC 2150 4281 2144 4288 2029 4288 \nL 128 1254 \nL 128 1088 \nL 1779 1088 \nL 1779 460 \nC 1779 230 1766 166 1318 166 \nL 1197 166 \nL 1197 0 \nC 1402 12 1747 12 1965 12 \nC 2182 12 2528 12 2733 0 \nL 2733 166 \nL 2611 166 \nC 2163 166 2150 230 2150 460 \nL 2150 1088 \nL 2803 1088 \nL 2803 1254 \nL 2150 1254 \nL 2150 4147 \nz\nM 1798 3723 \nL 1798 1254 \nL 256 1254 \nL 1798 3723 \nz\n\" id=\"CMR17-34\" transform=\"scale(0.015625)\"/>\n       </defs>\n       <use transform=\"scale(0.996264)\" xlink:href=\"#CMR17-30\"/>\n       <use transform=\"translate(45.690477 0)scale(0.996264)\" xlink:href=\"#CMMI12-3a\"/>\n       <use transform=\"translate(72.787654 0)scale(0.996264)\" xlink:href=\"#CMR17-34\"/>\n      </g>\n     </g>\n    </g>\n    <g id=\"ytick_4\">\n     <g id=\"line2d_9\">\n      <g>\n       <use style=\"stroke:#000000;stroke-width:0.8;\" x=\"39.785756\" xlink:href=\"#me59a606d5e\" y=\"65.567931\"/>\n      </g>\n     </g>\n     <g id=\"text_10\">\n      <!-- $\\mathdefault{0.6}$ -->\n      <g transform=\"translate(20.055677 69.02718)scale(0.1 -0.1)\">\n       <defs>\n        <path d=\"M 678 2198 \nC 678 3712 1395 4076 1811 4076 \nC 1946 4076 2272 4049 2400 3782 \nC 2298 3782 2106 3782 2106 3558 \nC 2106 3385 2246 3328 2336 3328 \nC 2394 3328 2566 3353 2566 3571 \nC 2566 3987 2246 4224 1805 4224 \nC 1043 4224 243 3411 243 2011 \nC 243 257 966 -128 1478 -128 \nC 2099 -128 2688 431 2688 1295 \nC 2688 2101 2170 2688 1517 2688 \nC 1126 2688 838 2430 678 1979 \nL 678 2198 \nz\nM 1478 25 \nC 691 25 691 1212 691 1450 \nC 691 1914 909 2585 1504 2585 \nC 1613 2585 1926 2585 2138 2140 \nC 2253 1889 2253 1624 2253 1302 \nC 2253 954 2253 696 2118 438 \nC 1978 173 1773 25 1478 25 \nz\n\" id=\"CMR17-36\" transform=\"scale(0.015625)\"/>\n       </defs>\n       <use transform=\"scale(0.996264)\" xlink:href=\"#CMR17-30\"/>\n       <use transform=\"translate(45.690477 0)scale(0.996264)\" xlink:href=\"#CMMI12-3a\"/>\n       <use transform=\"translate(72.787654 0)scale(0.996264)\" xlink:href=\"#CMR17-36\"/>\n      </g>\n     </g>\n    </g>\n    <g id=\"ytick_5\">\n     <g id=\"line2d_10\">\n      <g>\n       <use style=\"stroke:#000000;stroke-width:0.8;\" x=\"39.785756\" xlink:href=\"#me59a606d5e\" y=\"42.220759\"/>\n      </g>\n     </g>\n     <g id=\"text_11\">\n      <!-- $\\mathdefault{0.8}$ -->\n      <g transform=\"translate(20.055677 45.680008)scale(0.1 -0.1)\">\n       <defs>\n        <path d=\"M 1741 2289 \nC 2144 2494 2554 2803 2554 3298 \nC 2554 3884 1990 4224 1472 4224 \nC 890 4224 378 3800 378 3215 \nC 378 3054 416 2777 666 2533 \nC 730 2469 998 2276 1171 2154 \nC 883 2006 211 1652 211 945 \nC 211 282 838 -128 1459 -128 \nC 2144 -128 2720 366 2720 1022 \nC 2720 1607 2330 1877 2074 2051 \nL 1741 2289 \nz\nM 902 2855 \nC 851 2887 595 3086 595 3388 \nC 595 3781 998 4076 1459 4076 \nC 1965 4076 2336 3716 2336 3298 \nC 2336 2700 1670 2359 1638 2359 \nC 1632 2359 1626 2359 1574 2398 \nL 902 2855 \nz\nM 2080 1536 \nC 2176 1466 2483 1253 2483 861 \nC 2483 385 2010 25 1472 25 \nC 890 25 448 443 448 951 \nC 448 1459 838 1884 1280 2083 \nL 2080 1536 \nz\n\" id=\"CMR17-38\" transform=\"scale(0.015625)\"/>\n       </defs>\n       <use transform=\"scale(0.996264)\" xlink:href=\"#CMR17-30\"/>\n       <use transform=\"translate(45.690477 0)scale(0.996264)\" xlink:href=\"#CMMI12-3a\"/>\n       <use transform=\"translate(72.787654 0)scale(0.996264)\" xlink:href=\"#CMR17-38\"/>\n      </g>\n     </g>\n    </g>\n    <g id=\"ytick_6\">\n     <g id=\"line2d_11\">\n      <g>\n       <use style=\"stroke:#000000;stroke-width:0.8;\" x=\"39.785756\" xlink:href=\"#me59a606d5e\" y=\"18.873586\"/>\n      </g>\n     </g>\n     <g id=\"text_12\">\n      <!-- $\\mathdefault{1.0}$ -->\n      <g transform=\"translate(20.055677 22.332835)scale(0.1 -0.1)\">\n       <use transform=\"scale(0.996264)\" xlink:href=\"#CMR17-31\"/>\n       <use transform=\"translate(45.690477 0)scale(0.996264)\" xlink:href=\"#CMMI12-3a\"/>\n       <use transform=\"translate(72.787654 0)scale(0.996264)\" xlink:href=\"#CMR17-30\"/>\n      </g>\n     </g>\n    </g>\n    <g id=\"text_13\">\n     <!-- Accuracy -->\n     <g style=\"fill:#ff0000;\" transform=\"translate(14.118498 91.620617)rotate(-90)scale(0.1 -0.1)\">\n      <defs>\n       <path d=\"M 2323 4441 \nC 2291 4524 2278 4544 2214 4544 \nC 2150 4544 2138 4524 2106 4441 \nL 749 580 \nC 627 236 371 166 147 166 \nL 147 0 \nC 262 12 518 12 640 12 \nC 800 12 1056 12 1210 0 \nL 1210 166 \nC 909 179 864 382 864 459 \nC 864 516 877 548 890 586 \nL 1229 1536 \nL 2906 1536 \nL 3290 453 \nC 3322 376 3322 363 3322 338 \nC 3322 166 3046 166 2925 166 \nL 2925 0 \nC 3110 12 3443 12 3642 12 \nC 3808 12 4128 12 4282 0 \nL 4282 166 \nC 3942 166 3827 166 3744 402 \nL 2323 4441 \nz\nM 2067 3924 \nL 2848 1702 \nL 1286 1702 \nL 2067 3924 \nz\n\" id=\"CMR17-41\" transform=\"scale(0.015625)\"/>\n       <path d=\"M 2234 2240 \nC 2112 2240 1933 2240 1933 2015 \nC 1933 1836 2080 1785 2163 1785 \nC 2208 1785 2394 1804 2394 2028 \nC 2394 2476 1958 2816 1466 2816 \nC 787 2816 211 2201 211 1379 \nC 211 521 813 -64 1466 -64 \nC 2259 -64 2458 676 2458 747 \nC 2458 773 2451 792 2406 792 \nC 2362 792 2355 786 2330 702 \nC 2163 180 1798 51 1523 51 \nC 1114 51 621 431 621 1385 \nC 621 2358 1094 2700 1472 2700 \nC 1722 2700 2093 2582 2234 2240 \nz\n\" id=\"CMR17-63\" transform=\"scale(0.015625)\"/>\n       <path d=\"M 1882 2745 \nL 1882 2579 \nC 2259 2579 2317 2540 2317 2229 \nL 2317 1053 \nC 2317 510 2029 38 1555 38 \nC 1030 38 986 355 986 691 \nL 986 2816 \nL 211 2745 \nL 211 2579 \nC 467 2579 640 2579 646 2320 \nL 646 1079 \nC 646 646 646 368 813 187 \nC 896 103 1056 -64 1517 -64 \nC 2061 -64 2272 400 2323 536 \nL 2330 536 \nL 2330 -64 \nL 3091 -13 \nL 3091 154 \nC 2714 154 2656 193 2656 503 \nL 2656 2816 \nL 1882 2745 \nz\n\" id=\"CMR17-75\" transform=\"scale(0.015625)\"/>\n       <path d=\"M 960 1517 \nC 960 2134 1222 2713 1702 2713 \nC 1747 2713 1792 2707 1837 2687 \nC 1837 2687 1696 2642 1696 2475 \nC 1696 2321 1818 2257 1914 2257 \nC 1990 2257 2131 2302 2131 2482 \nC 2131 2687 1926 2816 1709 2816 \nC 1222 2816 1011 2340 947 2115 \nL 941 2115 \nL 941 2816 \nL 198 2745 \nL 198 2578 \nC 576 2578 634 2540 634 2231 \nL 634 443 \nC 634 198 608 166 198 166 \nL 198 0 \nC 352 12 646 12 813 12 \nC 998 12 1325 12 1498 0 \nL 1498 166 \nC 1037 166 960 166 960 455 \nL 960 1517 \nz\n\" id=\"CMR17-72\" transform=\"scale(0.015625)\"/>\n       <path d=\"M 2304 1656 \nC 2304 2048 2304 2275 2035 2534 \nC 1798 2751 1523 2816 1306 2816 \nC 800 2816 435 2408 435 1977 \nC 435 1740 627 1728 666 1728 \nC 749 1728 896 1779 896 1958 \nC 896 2118 774 2188 666 2188 \nC 640 2188 608 2182 589 2176 \nC 723 2594 1069 2713 1293 2713 \nC 1613 2713 1965 2421 1965 1875 \nL 1965 1632 \nC 1587 1619 1133 1568 774 1373 \nC 371 1147 256 822 256 576 \nC 256 77 832 -64 1171 -64 \nC 1523 -64 1850 135 1990 505 \nC 2003 219 2182 -39 2464 -39 \nC 2598 -39 2938 51 2938 563 \nL 2938 926 \nL 2822 926 \nL 2822 557 \nC 2822 161 2650 109 2566 109 \nC 2304 109 2304 446 2304 732 \nL 2304 1656 \nz\nM 1965 887 \nC 1965 323 1568 38 1216 38 \nC 896 38 646 278 646 576 \nC 646 771 730 1114 1101 1322 \nC 1408 1497 1760 1523 1965 1536 \nL 1965 887 \nz\n\" id=\"CMR17-61\" transform=\"scale(0.015625)\"/>\n       <path d=\"M 2496 2183 \nC 2656 2579 2944 2585 3034 2585 \nL 3034 2752 \nC 2912 2745 2752 2739 2630 2739 \nC 2496 2739 2285 2739 2157 2752 \nL 2157 2585 \nC 2400 2566 2406 2384 2406 2332 \nC 2406 2268 2394 2235 2362 2158 \nL 1664 409 \nL 902 2300 \nC 870 2378 870 2423 870 2430 \nC 870 2572 1018 2585 1171 2585 \nL 1171 2752 \nC 1018 2739 742 2739 582 2739 \nC 410 2739 205 2739 64 2752 \nL 64 2585 \nC 410 2585 448 2553 531 2345 \nL 1485 -31 \nC 1197 -795 1030 -1242 627 -1242 \nC 557 -1242 397 -1223 282 -1106 \nC 429 -1093 493 -1002 493 -892 \nC 493 -782 416 -685 288 -685 \nC 147 -685 77 -782 77 -899 \nC 77 -1158 339 -1344 627 -1344 \nC 998 -1344 1229 -983 1357 -659 \nL 2496 2183 \nz\n\" id=\"CMR17-79\" transform=\"scale(0.015625)\"/>\n      </defs>\n      <use transform=\"scale(0.996264)\" xlink:href=\"#CMR17-41\"/>\n      <use transform=\"translate(69.07243 0)scale(0.996264)\" xlink:href=\"#CMR17-63\"/>\n      <use transform=\"translate(109.55809 0)scale(0.996264)\" xlink:href=\"#CMR17-63\"/>\n      <use transform=\"translate(150.043751 0)scale(0.996264)\" xlink:href=\"#CMR17-75\"/>\n      <use transform=\"translate(200.939121 0)scale(0.996264)\" xlink:href=\"#CMR17-72\"/>\n      <use transform=\"translate(236.219888 0)scale(0.996264)\" xlink:href=\"#CMR17-61\"/>\n      <use transform=\"translate(281.910365 0)scale(0.996264)\" xlink:href=\"#CMR17-63\"/>\n      <use transform=\"translate(322.396026 0)scale(0.996264)\" xlink:href=\"#CMR17-79\"/>\n     </g>\n    </g>\n   </g>\n   <g id=\"line2d_12\">\n    <path clip-path=\"url(#p7cbcb48534)\" d=\"M 47.774303 20.274417 \nL 54.431425 20.430064 \nL 61.088547 20.585712 \nL 67.74567 20.663536 \nL 74.402792 20.663536 \nL 81.059915 20.897008 \nL 87.717037 21.208304 \nL 94.374159 21.286127 \nL 101.031282 21.675247 \nL 107.688404 21.908719 \nL 114.345527 22.375662 \nL 121.002649 22.920429 \nL 127.659771 23.465197 \nL 134.316894 23.620845 \nL 140.974016 22.842606 \nL 147.631139 24.399084 \nL 154.288261 29.613286 \nL 160.945383 58.17466 \nL 167.602506 75.062448 \nL 174.259628 97.086614 \nL 180.916751 97.00879 \nL 187.573873 117.865598 \nL 194.230995 117.865598 \nL 200.888118 117.865598 \nL 207.54524 117.865598 \n\" style=\"fill:none;stroke:#ff6347;stroke-linecap:square;stroke-width:1.5;\"/>\n   </g>\n   <g id=\"patch_3\">\n    <path d=\"M 39.785756 135.609449 \nL 39.785756 7.2 \n\" style=\"fill:none;stroke:#000000;stroke-linecap:square;stroke-linejoin:miter;stroke-width:0.8;\"/>\n   </g>\n   <g id=\"patch_4\">\n    <path d=\"M 215.533787 135.609449 \nL 215.533787 7.2 \n\" style=\"fill:none;stroke:#000000;stroke-linecap:square;stroke-linejoin:miter;stroke-width:0.8;\"/>\n   </g>\n   <g id=\"patch_5\">\n    <path d=\"M 39.785756 135.609449 \nL 215.533787 135.609449 \n\" style=\"fill:none;stroke:#000000;stroke-linecap:square;stroke-linejoin:miter;stroke-width:0.8;\"/>\n   </g>\n   <g id=\"patch_6\">\n    <path d=\"M 39.785756 7.2 \nL 215.533787 7.2 \n\" style=\"fill:none;stroke:#000000;stroke-linecap:square;stroke-linejoin:miter;stroke-width:0.8;\"/>\n   </g>\n  </g>\n  <g id=\"axes_2\">\n   <g id=\"matplotlib.axis_3\">\n    <g id=\"ytick_7\">\n     <g id=\"line2d_13\">\n      <path clip-path=\"url(#p7cbcb48534)\" d=\"M 39.785756 129.772656 \nL 215.533787 129.772656 \n\" style=\"fill:none;stroke:#b0b0b0;stroke-linecap:square;stroke-opacity:0.3;stroke-width:0.8;\"/>\n     </g>\n     <g id=\"line2d_14\">\n      <defs>\n       <path d=\"M 0 0 \nL 3.5 0 \n\" id=\"m1c1b098a0b\" style=\"stroke:#000000;stroke-width:0.8;\"/>\n      </defs>\n      <g>\n       <use style=\"stroke:#000000;stroke-width:0.8;\" x=\"215.533787\" xlink:href=\"#m1c1b098a0b\" y=\"129.772656\"/>\n      </g>\n     </g>\n     <g id=\"text_14\">\n      <!-- $\\mathdefault{0}$ -->\n      <g transform=\"translate(222.533787 133.231905)scale(0.1 -0.1)\">\n       <use transform=\"scale(0.996264)\" xlink:href=\"#CMR17-30\"/>\n      </g>\n     </g>\n    </g>\n    <g id=\"ytick_8\">\n     <g id=\"line2d_15\">\n      <path clip-path=\"url(#p7cbcb48534)\" d=\"M 39.785756 113.096104 \nL 215.533787 113.096104 \n\" style=\"fill:none;stroke:#b0b0b0;stroke-linecap:square;stroke-opacity:0.3;stroke-width:0.8;\"/>\n     </g>\n     <g id=\"line2d_16\">\n      <g>\n       <use style=\"stroke:#000000;stroke-width:0.8;\" x=\"215.533787\" xlink:href=\"#m1c1b098a0b\" y=\"113.096104\"/>\n      </g>\n     </g>\n     <g id=\"text_15\">\n      <!-- $\\mathdefault{3}$ -->\n      <g transform=\"translate(222.533787 116.555353)scale(0.1 -0.1)\">\n       <defs>\n        <path d=\"M 1414 2176 \nC 1984 2176 2234 1673 2234 1094 \nC 2234 322 1824 25 1453 25 \nC 1114 25 563 193 390 691 \nC 422 678 454 678 486 678 \nC 640 678 755 780 755 947 \nC 755 1132 614 1216 486 1216 \nC 378 1216 211 1164 211 927 \nC 211 335 787 -128 1466 -128 \nC 2176 -128 2720 432 2720 1087 \nC 2720 1718 2208 2176 1600 2246 \nC 2086 2347 2554 2776 2554 3353 \nC 2554 3856 2048 4224 1472 4224 \nC 890 4224 378 3862 378 3347 \nC 378 3123 544 3084 627 3084 \nC 762 3084 877 3167 877 3334 \nC 877 3500 762 3584 627 3584 \nC 602 3584 570 3584 544 3571 \nC 730 3999 1235 4076 1459 4076 \nC 1683 4076 2106 3966 2106 3347 \nC 2106 3167 2080 2851 1862 2574 \nC 1670 2329 1453 2316 1242 2297 \nC 1210 2297 1062 2284 1037 2284 \nC 992 2278 966 2272 966 2227 \nC 966 2182 973 2176 1101 2176 \nL 1414 2176 \nz\n\" id=\"CMR17-33\" transform=\"scale(0.015625)\"/>\n       </defs>\n       <use transform=\"scale(0.996264)\" xlink:href=\"#CMR17-33\"/>\n      </g>\n     </g>\n    </g>\n    <g id=\"ytick_9\">\n     <g id=\"line2d_17\">\n      <path clip-path=\"url(#p7cbcb48534)\" d=\"M 39.785756 96.419552 \nL 215.533787 96.419552 \n\" style=\"fill:none;stroke:#b0b0b0;stroke-linecap:square;stroke-opacity:0.3;stroke-width:0.8;\"/>\n     </g>\n     <g id=\"line2d_18\">\n      <g>\n       <use style=\"stroke:#000000;stroke-width:0.8;\" x=\"215.533787\" xlink:href=\"#m1c1b098a0b\" y=\"96.419552\"/>\n      </g>\n     </g>\n     <g id=\"text_16\">\n      <!-- $\\mathdefault{6}$ -->\n      <g transform=\"translate(222.533787 99.878801)scale(0.1 -0.1)\">\n       <use transform=\"scale(0.996264)\" xlink:href=\"#CMR17-36\"/>\n      </g>\n     </g>\n    </g>\n    <g id=\"ytick_10\">\n     <g id=\"line2d_19\">\n      <path clip-path=\"url(#p7cbcb48534)\" d=\"M 39.785756 79.743 \nL 215.533787 79.743 \n\" style=\"fill:none;stroke:#b0b0b0;stroke-linecap:square;stroke-opacity:0.3;stroke-width:0.8;\"/>\n     </g>\n     <g id=\"line2d_20\">\n      <g>\n       <use style=\"stroke:#000000;stroke-width:0.8;\" x=\"215.533787\" xlink:href=\"#m1c1b098a0b\" y=\"79.743\"/>\n      </g>\n     </g>\n     <g id=\"text_17\">\n      <!-- $\\mathdefault{9}$ -->\n      <g transform=\"translate(222.533787 83.202249)scale(0.1 -0.1)\">\n       <defs>\n        <path d=\"M 2253 1871 \nC 2253 448 1670 25 1190 25 \nC 1043 25 685 43 538 281 \nC 704 256 826 345 826 505 \nC 826 678 685 736 595 736 \nC 538 736 365 710 365 492 \nC 365 68 742 -128 1203 -128 \nC 1939 -128 2688 665 2688 2090 \nC 2688 3857 1971 4224 1485 4224 \nC 851 4224 243 3664 243 2800 \nC 243 2000 762 1408 1414 1408 \nC 1952 1408 2189 1910 2253 2122 \nL 2253 1871 \nz\nM 1427 1510 \nC 1254 1510 1011 1542 813 1929 \nC 678 2181 678 2477 678 2793 \nC 678 3174 678 3438 858 3722 \nC 947 3857 1114 4076 1485 4076 \nC 2240 4076 2240 2909 2240 2651 \nC 2240 2193 2035 1510 1427 1510 \nz\n\" id=\"CMR17-39\" transform=\"scale(0.015625)\"/>\n       </defs>\n       <use transform=\"scale(0.996264)\" xlink:href=\"#CMR17-39\"/>\n      </g>\n     </g>\n    </g>\n    <g id=\"ytick_11\">\n     <g id=\"line2d_21\">\n      <path clip-path=\"url(#p7cbcb48534)\" d=\"M 39.785756 63.066449 \nL 215.533787 63.066449 \n\" style=\"fill:none;stroke:#b0b0b0;stroke-linecap:square;stroke-opacity:0.3;stroke-width:0.8;\"/>\n     </g>\n     <g id=\"line2d_22\">\n      <g>\n       <use style=\"stroke:#000000;stroke-width:0.8;\" x=\"215.533787\" xlink:href=\"#m1c1b098a0b\" y=\"63.066449\"/>\n      </g>\n     </g>\n     <g id=\"text_18\">\n      <!-- $\\mathdefault{12}$ -->\n      <g transform=\"translate(222.533787 66.525698)scale(0.1 -0.1)\">\n       <use transform=\"scale(0.996264)\" xlink:href=\"#CMR17-31\"/>\n       <use transform=\"translate(45.690477 0)scale(0.996264)\" xlink:href=\"#CMR17-32\"/>\n      </g>\n     </g>\n    </g>\n    <g id=\"ytick_12\">\n     <g id=\"line2d_23\">\n      <path clip-path=\"url(#p7cbcb48534)\" d=\"M 39.785756 46.389897 \nL 215.533787 46.389897 \n\" style=\"fill:none;stroke:#b0b0b0;stroke-linecap:square;stroke-opacity:0.3;stroke-width:0.8;\"/>\n     </g>\n     <g id=\"line2d_24\">\n      <g>\n       <use style=\"stroke:#000000;stroke-width:0.8;\" x=\"215.533787\" xlink:href=\"#m1c1b098a0b\" y=\"46.389897\"/>\n      </g>\n     </g>\n     <g id=\"text_19\">\n      <!-- $\\mathdefault{15}$ -->\n      <g transform=\"translate(222.533787 49.849146)scale(0.1 -0.1)\">\n       <use transform=\"scale(0.996264)\" xlink:href=\"#CMR17-31\"/>\n       <use transform=\"translate(45.690477 0)scale(0.996264)\" xlink:href=\"#CMR17-35\"/>\n      </g>\n     </g>\n    </g>\n    <g id=\"ytick_13\">\n     <g id=\"line2d_25\">\n      <path clip-path=\"url(#p7cbcb48534)\" d=\"M 39.785756 29.713345 \nL 215.533787 29.713345 \n\" style=\"fill:none;stroke:#b0b0b0;stroke-linecap:square;stroke-opacity:0.3;stroke-width:0.8;\"/>\n     </g>\n     <g id=\"line2d_26\">\n      <g>\n       <use style=\"stroke:#000000;stroke-width:0.8;\" x=\"215.533787\" xlink:href=\"#m1c1b098a0b\" y=\"29.713345\"/>\n      </g>\n     </g>\n     <g id=\"text_20\">\n      <!-- $\\mathdefault{18}$ -->\n      <g transform=\"translate(222.533787 33.172594)scale(0.1 -0.1)\">\n       <use transform=\"scale(0.996264)\" xlink:href=\"#CMR17-31\"/>\n       <use transform=\"translate(45.690477 0)scale(0.996264)\" xlink:href=\"#CMR17-38\"/>\n      </g>\n     </g>\n    </g>\n    <g id=\"ytick_14\">\n     <g id=\"line2d_27\">\n      <path clip-path=\"url(#p7cbcb48534)\" d=\"M 39.785756 13.036793 \nL 215.533787 13.036793 \n\" style=\"fill:none;stroke:#b0b0b0;stroke-linecap:square;stroke-opacity:0.3;stroke-width:0.8;\"/>\n     </g>\n     <g id=\"line2d_28\">\n      <g>\n       <use style=\"stroke:#000000;stroke-width:0.8;\" x=\"215.533787\" xlink:href=\"#m1c1b098a0b\" y=\"13.036793\"/>\n      </g>\n     </g>\n     <g id=\"text_21\">\n      <!-- $\\mathdefault{21}$ -->\n      <g transform=\"translate(222.533787 16.496042)scale(0.1 -0.1)\">\n       <use transform=\"scale(0.996264)\" xlink:href=\"#CMR17-32\"/>\n       <use transform=\"translate(45.690477 0)scale(0.996264)\" xlink:href=\"#CMR17-31\"/>\n      </g>\n     </g>\n    </g>\n    <g id=\"text_22\">\n     <!-- Number of Groups -->\n     <g style=\"fill:#0000ff;\" transform=\"translate(243.414956 112.175525)rotate(-90)scale(0.1 -0.1)\">\n      <defs>\n       <path d=\"M 1312 4275 \nC 1267 4345 1261 4352 1139 4352 \nL 326 4352 \nL 326 4185 \nL 448 4185 \nC 704 4185 819 4153 838 4147 \nL 838 624 \nC 838 465 838 166 326 166 \nL 326 0 \nC 474 12 742 12 902 12 \nC 1062 12 1331 12 1478 0 \nL 1478 166 \nC 966 166 966 465 966 624 \nL 966 4057 \nC 1011 4019 1011 4007 1056 3943 \nL 3430 76 \nC 3475 0 3494 0 3526 0 \nC 3590 0 3590 19 3590 140 \nL 3590 3726 \nC 3590 3885 3590 4185 4102 4185 \nL 4102 4352 \nC 3955 4339 3686 4339 3526 4339 \nC 3366 4339 3098 4339 2950 4352 \nL 2950 4185 \nC 3462 4185 3462 3885 3462 3726 \nL 3462 777 \nL 1312 4275 \nz\n\" id=\"CMR17-4e\" transform=\"scale(0.015625)\"/>\n       <path d=\"M 4326 1954 \nC 4326 2276 4269 2816 3507 2816 \nC 3072 2816 2771 2520 2656 2173 \nL 2650 2173 \nC 2573 2700 2195 2816 1837 2816 \nC 1331 2816 1069 2424 973 2166 \nL 966 2166 \nL 966 2816 \nL 211 2745 \nL 211 2578 \nC 589 2578 646 2540 646 2231 \nL 646 443 \nC 646 198 621 166 211 166 \nL 211 0 \nC 365 12 646 12 813 12 \nC 979 12 1267 12 1421 0 \nL 1421 166 \nC 1011 166 986 192 986 443 \nL 986 1678 \nC 986 2269 1344 2713 1792 2713 \nC 2266 2713 2317 2289 2317 1980 \nL 2317 443 \nC 2317 198 2291 166 1882 166 \nL 1882 0 \nC 2035 12 2317 12 2483 12 \nC 2650 12 2938 12 3091 0 \nL 3091 166 \nC 2682 166 2656 192 2656 443 \nL 2656 1678 \nC 2656 2269 3014 2713 3462 2713 \nC 3936 2713 3987 2289 3987 1980 \nL 3987 443 \nC 3987 198 3962 166 3552 166 \nL 3552 0 \nC 3706 12 3987 12 4154 12 \nC 4320 12 4608 12 4762 0 \nL 4762 166 \nC 4352 166 4326 192 4326 443 \nL 4326 1954 \nz\n\" id=\"CMR17-6d\" transform=\"scale(0.015625)\"/>\n       <path d=\"M 960 4416 \nL 198 4345 \nL 198 4179 \nC 576 4179 634 4141 634 3843 \nL 634 -13 \nL 749 -13 \nL 934 445 \nC 1120 141 1395 -64 1766 -64 \nC 2406 -64 3053 503 3053 1382 \nC 3053 2209 2477 2816 1830 2816 \nC 1434 2816 1152 2603 960 2351 \nL 960 4416 \nz\nM 973 2022 \nC 973 2138 973 2157 1062 2293 \nC 1312 2681 1670 2713 1792 2713 \nC 1984 2713 2643 2610 2643 1388 \nC 2643 109 1888 38 1734 38 \nC 1536 38 1248 115 1043 490 \nC 973 613 973 626 973 742 \nL 973 2022 \nz\n\" id=\"CMR17-62\" transform=\"scale(0.015625)\"/>\n       <path d=\"M 2438 1503 \nC 2464 1529 2464 1542 2464 1606 \nC 2464 2251 2118 2816 1389 2816 \nC 710 2816 173 2175 173 1394 \nC 173 554 781 -64 1459 -64 \nC 2176 -64 2458 619 2458 755 \nC 2458 800 2419 800 2406 800 \nC 2362 800 2355 787 2330 709 \nC 2189 270 1837 51 1504 51 \nC 1229 51 954 206 781 490 \nC 582 819 582 1200 582 1503 \nL 2438 1503 \nz\nM 589 1600 \nC 634 2511 1126 2713 1382 2713 \nC 1818 2713 2112 2308 2118 1600 \nL 589 1600 \nz\n\" id=\"CMR17-65\" transform=\"scale(0.015625)\"/>\n       <path d=\"M 979 2585 \nL 1709 2585 \nL 1709 2752 \nL 966 2752 \nL 966 3539 \nC 966 4076 1235 4377 1510 4377 \nC 1594 4377 1690 4363 1754 4339 \nC 1702 4326 1568 4281 1568 4121 \nC 1568 3955 1696 3904 1786 3904 \nC 1875 3904 2003 3955 2003 4121 \nC 2003 4353 1773 4480 1517 4480 \nC 1152 4480 653 4211 653 3526 \nL 653 2752 \nL 141 2752 \nL 141 2585 \nL 653 2585 \nL 653 441 \nC 653 198 627 166 218 166 \nL 218 0 \nC 371 12 666 12 832 12 \nC 1018 12 1344 12 1517 0 \nL 1517 166 \nC 1056 166 979 166 979 454 \nL 979 2585 \nz\n\" id=\"CMR17-66\" transform=\"scale(0.015625)\"/>\n       <path d=\"M 3974 1258 \nC 3974 1503 3994 1536 4390 1536 \nL 4390 1702 \nC 4237 1689 3891 1689 3718 1689 \nC 3539 1689 3040 1696 2797 1702 \nL 2797 1536 \nL 2989 1536 \nC 3539 1536 3552 1464 3552 1232 \nL 3552 806 \nC 3552 96 2720 38 2522 38 \nC 1862 38 781 496 781 2179 \nC 781 3862 1843 4313 2464 4313 \nC 3187 4313 3712 3681 3834 2785 \nC 3846 2708 3846 2695 3904 2695 \nC 3974 2695 3974 2708 3974 2824 \nL 3974 4351 \nC 3974 4467 3968 4473 3930 4473 \nC 3904 4473 3898 4467 3853 4390 \nL 3571 3849 \nC 3258 4249 2874 4480 2381 4480 \nC 1286 4480 294 3507 294 2179 \nC 294 858 1267 -128 2394 -128 \nC 2912 -128 3418 57 3616 425 \nC 3725 161 3904 -20 3936 -20 \nC 3968 -20 3974 -13 3974 102 \nL 3974 1258 \nz\n\" id=\"CMR17-47\" transform=\"scale(0.015625)\"/>\n       <path d=\"M 1408 -1114 \nC 998 -1114 973 -1088 973 -834 \nL 973 380 \nC 1158 109 1427 -64 1766 -64 \nC 2406 -64 3053 503 3053 1382 \nC 3053 2196 2496 2816 1837 2816 \nC 1453 2816 1139 2603 960 2345 \nL 960 2816 \nL 198 2745 \nL 198 2577 \nC 576 2577 634 2539 634 2228 \nL 634 -834 \nC 634 -1081 608 -1114 198 -1114 \nL 198 -1280 \nC 352 -1268 634 -1268 800 -1268 \nC 966 -1268 1254 -1268 1408 -1280 \nL 1408 -1114 \nz\nM 973 2015 \nC 973 2106 973 2241 1222 2481 \nC 1254 2506 1472 2700 1792 2700 \nC 2259 2700 2643 2112 2643 1376 \nC 2643 639 2234 38 1728 38 \nC 1498 38 1248 148 1056 451 \nC 973 594 973 632 973 736 \nL 973 2015 \nz\n\" id=\"CMR17-70\" transform=\"scale(0.015625)\"/>\n       <path d=\"M 1978 2688 \nC 1978 2803 1971 2809 1933 2809 \nC 1907 2809 1901 2803 1824 2707 \nC 1805 2681 1747 2617 1728 2592 \nC 1523 2809 1235 2816 1126 2816 \nC 416 2816 160 2444 160 2073 \nC 160 1497 813 1363 998 1324 \nC 1402 1241 1542 1216 1677 1100 \nC 1760 1024 1901 883 1901 652 \nC 1901 384 1747 38 1158 38 \nC 602 38 403 460 288 1024 \nC 269 1113 269 1120 218 1120 \nC 166 1120 160 1113 160 985 \nL 160 64 \nC 160 -52 166 -58 205 -58 \nC 237 -58 243 -52 275 0 \nC 314 57 410 211 448 275 \nC 576 102 800 -64 1158 -64 \nC 1792 -64 2131 281 2131 780 \nC 2131 1107 1958 1280 1875 1356 \nC 1683 1555 1459 1600 1190 1651 \nC 838 1728 390 1817 390 2208 \nC 390 2374 480 2726 1126 2726 \nC 1811 2726 1850 2086 1862 1881 \nC 1869 1849 1901 1843 1920 1843 \nC 1978 1843 1978 1862 1978 1971 \nL 1978 2688 \nz\n\" id=\"CMR17-73\" transform=\"scale(0.015625)\"/>\n      </defs>\n      <use transform=\"scale(0.996264)\" xlink:href=\"#CMR17-4e\"/>\n      <use transform=\"translate(69.07243 0)scale(0.996264)\" xlink:href=\"#CMR17-75\"/>\n      <use transform=\"translate(119.9678 0)scale(0.996264)\" xlink:href=\"#CMR17-6d\"/>\n      <use transform=\"translate(194.284936 0)scale(0.996264)\" xlink:href=\"#CMR17-62\"/>\n      <use transform=\"translate(247.782744 0)scale(0.996264)\" xlink:href=\"#CMR17-65\"/>\n      <use transform=\"translate(288.268404 0)scale(0.996264)\" xlink:href=\"#CMR17-72\"/>\n      <use transform=\"translate(353.625139 0)scale(0.996264)\" xlink:href=\"#CMR17-6f\"/>\n      <use transform=\"translate(399.315616 0)scale(0.996264)\" xlink:href=\"#CMR17-66\"/>\n      <use transform=\"translate(456.865095 0)scale(0.996264)\" xlink:href=\"#CMR17-47\"/>\n      <use transform=\"translate(529.22044 0)scale(0.996264)\" xlink:href=\"#CMR17-72\"/>\n      <use transform=\"translate(564.501208 0)scale(0.996264)\" xlink:href=\"#CMR17-6f\"/>\n      <use transform=\"translate(610.191685 0)scale(0.996264)\" xlink:href=\"#CMR17-75\"/>\n      <use transform=\"translate(661.087055 0)scale(0.996264)\" xlink:href=\"#CMR17-70\"/>\n      <use transform=\"translate(711.982425 0)scale(0.996264)\" xlink:href=\"#CMR17-73\"/>\n     </g>\n    </g>\n   </g>\n   <g id=\"line2d_29\">\n    <path clip-path=\"url(#p7cbcb48534)\" d=\"M 47.774303 13.036793 \nL 54.431425 24.154494 \nL 61.088547 29.713345 \nL 67.74567 29.713345 \nL 74.402792 35.272196 \nL 81.059915 40.831046 \nL 87.717037 40.831046 \nL 94.374159 46.389897 \nL 101.031282 51.948747 \nL 107.688404 51.948747 \nL 114.345527 51.948747 \nL 121.002649 57.507598 \nL 127.659771 63.066449 \nL 134.316894 74.18415 \nL 140.974016 74.18415 \nL 147.631139 79.743 \nL 154.288261 90.860702 \nL 160.945383 107.537253 \nL 167.602506 118.654954 \nL 174.259628 124.213805 \nL 180.916751 124.213805 \nL 187.573873 129.772656 \nL 194.230995 129.772656 \nL 200.888118 129.772656 \nL 207.54524 129.772656 \n\" style=\"fill:none;stroke:#4682b4;stroke-linecap:square;stroke-width:1.5;\"/>\n   </g>\n   <g id=\"line2d_30\">\n    <path clip-path=\"url(#p7cbcb48534)\" d=\"M 147.631139 135.609449 \nL 147.631139 7.2 \n\" style=\"fill:none;stroke:#808080;stroke-dasharray:2.775,1.2;stroke-dashoffset:0;stroke-width:0.75;\"/>\n   </g>\n   <g id=\"patch_7\">\n    <path d=\"M 39.785756 135.609449 \nL 39.785756 7.2 \n\" style=\"fill:none;stroke:#000000;stroke-linecap:square;stroke-linejoin:miter;stroke-width:0.8;\"/>\n   </g>\n   <g id=\"patch_8\">\n    <path d=\"M 215.533787 135.609449 \nL 215.533787 7.2 \n\" style=\"fill:none;stroke:#000000;stroke-linecap:square;stroke-linejoin:miter;stroke-width:0.8;\"/>\n   </g>\n   <g id=\"patch_9\">\n    <path d=\"M 39.785756 135.609449 \nL 215.533787 135.609449 \n\" style=\"fill:none;stroke:#000000;stroke-linecap:square;stroke-linejoin:miter;stroke-width:0.8;\"/>\n   </g>\n   <g id=\"patch_10\">\n    <path d=\"M 39.785756 7.2 \nL 215.533787 7.2 \n\" style=\"fill:none;stroke:#000000;stroke-linecap:square;stroke-linejoin:miter;stroke-width:0.8;\"/>\n   </g>\n  </g>\n </g>\n <defs>\n  <clipPath id=\"p7cbcb48534\">\n   <rect height=\"128.409449\" width=\"175.748031\" x=\"39.785756\" y=\"7.2\"/>\n  </clipPath>\n </defs>\n</svg>\n",
      "text/plain": [
       "<Figure size 944.882x708.661 with 2 Axes>"
      ]
     },
     "metadata": {
      "needs_background": "light"
     },
     "output_type": "display_data"
    }
   ],
   "source": [
    "reg = 10**(-0.75)\n",
    "\n",
    "# plot setup\n",
    "centimeters = 1/2.54\n",
    "fig, ax = plt.subplots(dpi=300,figsize=(8*centimeters,6*centimeters))\n",
    "\n",
    "from stateinterpreter.plot import plot_classifier_complexity_vs_accuracy\n",
    "ax1,ax2 = plot_classifier_complexity_vs_accuracy(classifier,ax=ax)\n",
    "ax2.axvline(x = np.log10(reg), color='grey', linestyle='dashed', linewidth=0.75)\n",
    "\n",
    "save_folder = 'bpti-figs/'\n",
    "plt.savefig(save_folder+'group_accuracy.pdf',bbox_inches='tight')\n",
    "plt.show()"
   ]
  },
  {
   "cell_type": "code",
   "execution_count": 35,
   "metadata": {},
   "outputs": [
    {
     "name": "stdout",
     "output_type": "stream",
     "text": [
      "Accuracy: 95%\n",
      "State 0:\n",
      "[100.0% ]  ARG42\n",
      "State 1:\n",
      "[100.0% ]  CYS38\n",
      "State 2:\n",
      "[95.498%]  PHE4\n",
      "[4.502% ]  PRO2\n",
      "State 3:\n",
      "[78.38% ]  THR11\n",
      "[21.62% ]  CYS38\n",
      "State 4:\n",
      "[96.534%]  TYR35\n",
      "[3.466% ]  PRO9\n",
      "State 5:\n",
      "[87.389%]  CYS38\n",
      "[8.943% ]  PRO13\n",
      "[3.668% ]  TYR10\n"
     ]
    }
   ],
   "source": [
    "reg = 10**(-0.75)\n",
    "classifier.print_selected(reg)"
   ]
  },
  {
   "cell_type": "markdown",
   "metadata": {},
   "source": [
    "Residue importances"
   ]
  },
  {
   "cell_type": "code",
   "execution_count": 46,
   "metadata": {},
   "outputs": [
    {
     "data": {
      "application/vnd.jupyter.widget-view+json": {
       "model_id": "dc1b07ba737e448db9574d5dcded0be1",
       "version_major": 2,
       "version_minor": 0
      },
      "text/plain": []
     },
     "metadata": {},
     "output_type": "display_data"
    }
   ],
   "source": [
    "from stateinterpreter.utils.visualize import compute_residue_score \n",
    "\n",
    "traj = load_trajectory(traj_dict, stride=stride)\n",
    "# number of  residues\n",
    "n_residues = traj.n_residues\n",
    "\n",
    "residue_score = compute_residue_score(classifier,reg,feats_info,n_residues)"
   ]
  },
  {
   "cell_type": "code",
   "execution_count": 48,
   "metadata": {},
   "outputs": [
    {
     "data": {
      "text/html": [
       "<div>\n",
       "<style scoped>\n",
       "    .dataframe tbody tr th:only-of-type {\n",
       "        vertical-align: middle;\n",
       "    }\n",
       "\n",
       "    .dataframe tbody tr th {\n",
       "        vertical-align: top;\n",
       "    }\n",
       "\n",
       "    .dataframe thead th {\n",
       "        text-align: right;\n",
       "    }\n",
       "</style>\n",
       "<table border=\"1\" class=\"dataframe\">\n",
       "  <thead>\n",
       "    <tr style=\"text-align: right;\">\n",
       "      <th></th>\n",
       "      <th>BACKBONE sin_phi ARG1</th>\n",
       "      <th>BACKBONE sin_phi PRO2</th>\n",
       "      <th>BACKBONE sin_phi ASP3</th>\n",
       "      <th>BACKBONE sin_phi PHE4</th>\n",
       "      <th>BACKBONE sin_phi CYS5</th>\n",
       "      <th>BACKBONE sin_phi LEU6</th>\n",
       "      <th>BACKBONE sin_phi GLU7</th>\n",
       "      <th>BACKBONE sin_phi PRO8</th>\n",
       "      <th>BACKBONE sin_phi PRO9</th>\n",
       "      <th>BACKBONE sin_phi TYR10</th>\n",
       "      <th>...</th>\n",
       "      <th>SIDECHAIN cos_chi2 GLU49</th>\n",
       "      <th>SIDECHAIN cos_chi2 ASP50</th>\n",
       "      <th>SIDECHAIN cos_chi2 MET52</th>\n",
       "      <th>SIDECHAIN cos_chi2 ARG53</th>\n",
       "      <th>DISULFIDE sin_dih CYS5_CYS55</th>\n",
       "      <th>DISULFIDE cos_dih CYS5_CYS55</th>\n",
       "      <th>DISULFIDE sin_dih CYS14_CYS38</th>\n",
       "      <th>DISULFIDE cos_dih CYS14_CYS38</th>\n",
       "      <th>DISULFIDE sin_dih CYS30_CYS51</th>\n",
       "      <th>DISULFIDE cos_dih CYS30_CYS51</th>\n",
       "    </tr>\n",
       "  </thead>\n",
       "  <tbody>\n",
       "    <tr>\n",
       "      <th>0</th>\n",
       "      <td>-0.800495</td>\n",
       "      <td>-0.926716</td>\n",
       "      <td>-0.975521</td>\n",
       "      <td>-0.999744</td>\n",
       "      <td>-0.999964</td>\n",
       "      <td>-0.962204</td>\n",
       "      <td>-0.874549</td>\n",
       "      <td>-0.950574</td>\n",
       "      <td>-0.370935</td>\n",
       "      <td>-0.873390</td>\n",
       "      <td>...</td>\n",
       "      <td>-0.998442</td>\n",
       "      <td>0.500169</td>\n",
       "      <td>-0.999495</td>\n",
       "      <td>-0.991146</td>\n",
       "      <td>-0.999536</td>\n",
       "      <td>-0.030467</td>\n",
       "      <td>0.999589</td>\n",
       "      <td>-0.028675</td>\n",
       "      <td>-0.975816</td>\n",
       "      <td>-0.218593</td>\n",
       "    </tr>\n",
       "    <tr>\n",
       "      <th>1</th>\n",
       "      <td>-0.933559</td>\n",
       "      <td>-0.730527</td>\n",
       "      <td>-0.979260</td>\n",
       "      <td>-0.934574</td>\n",
       "      <td>-0.998159</td>\n",
       "      <td>-0.959778</td>\n",
       "      <td>-0.868239</td>\n",
       "      <td>-0.934651</td>\n",
       "      <td>-0.689149</td>\n",
       "      <td>-0.996072</td>\n",
       "      <td>...</td>\n",
       "      <td>-0.999974</td>\n",
       "      <td>-0.438326</td>\n",
       "      <td>-0.353263</td>\n",
       "      <td>-0.961761</td>\n",
       "      <td>-0.999017</td>\n",
       "      <td>-0.044320</td>\n",
       "      <td>0.999120</td>\n",
       "      <td>-0.041941</td>\n",
       "      <td>-0.980741</td>\n",
       "      <td>-0.195314</td>\n",
       "    </tr>\n",
       "    <tr>\n",
       "      <th>2</th>\n",
       "      <td>-0.970335</td>\n",
       "      <td>-0.969054</td>\n",
       "      <td>-0.864596</td>\n",
       "      <td>-0.835896</td>\n",
       "      <td>-0.992462</td>\n",
       "      <td>-0.982925</td>\n",
       "      <td>-0.855188</td>\n",
       "      <td>-0.938998</td>\n",
       "      <td>-0.668086</td>\n",
       "      <td>-0.984464</td>\n",
       "      <td>...</td>\n",
       "      <td>0.352362</td>\n",
       "      <td>0.957875</td>\n",
       "      <td>0.453912</td>\n",
       "      <td>-0.994874</td>\n",
       "      <td>-0.993370</td>\n",
       "      <td>0.114965</td>\n",
       "      <td>0.997402</td>\n",
       "      <td>-0.072043</td>\n",
       "      <td>-0.995064</td>\n",
       "      <td>0.099239</td>\n",
       "    </tr>\n",
       "    <tr>\n",
       "      <th>3</th>\n",
       "      <td>-0.847304</td>\n",
       "      <td>-0.831210</td>\n",
       "      <td>-0.981629</td>\n",
       "      <td>-0.962950</td>\n",
       "      <td>-0.982618</td>\n",
       "      <td>-0.973111</td>\n",
       "      <td>-0.924221</td>\n",
       "      <td>-0.995836</td>\n",
       "      <td>-0.806495</td>\n",
       "      <td>-0.907892</td>\n",
       "      <td>...</td>\n",
       "      <td>-0.934253</td>\n",
       "      <td>0.700958</td>\n",
       "      <td>0.648715</td>\n",
       "      <td>-0.996773</td>\n",
       "      <td>-0.995607</td>\n",
       "      <td>0.093635</td>\n",
       "      <td>0.977207</td>\n",
       "      <td>-0.212290</td>\n",
       "      <td>-0.999664</td>\n",
       "      <td>-0.025920</td>\n",
       "    </tr>\n",
       "    <tr>\n",
       "      <th>4</th>\n",
       "      <td>-0.975500</td>\n",
       "      <td>-0.906739</td>\n",
       "      <td>-0.990261</td>\n",
       "      <td>-0.894916</td>\n",
       "      <td>-0.197879</td>\n",
       "      <td>-0.805221</td>\n",
       "      <td>-0.931033</td>\n",
       "      <td>-0.918382</td>\n",
       "      <td>-0.957573</td>\n",
       "      <td>-0.956490</td>\n",
       "      <td>...</td>\n",
       "      <td>-0.995252</td>\n",
       "      <td>-0.283845</td>\n",
       "      <td>0.338350</td>\n",
       "      <td>-0.999601</td>\n",
       "      <td>-0.971392</td>\n",
       "      <td>0.237480</td>\n",
       "      <td>0.994021</td>\n",
       "      <td>-0.109190</td>\n",
       "      <td>-0.982214</td>\n",
       "      <td>0.187764</td>\n",
       "    </tr>\n",
       "    <tr>\n",
       "      <th>...</th>\n",
       "      <td>...</td>\n",
       "      <td>...</td>\n",
       "      <td>...</td>\n",
       "      <td>...</td>\n",
       "      <td>...</td>\n",
       "      <td>...</td>\n",
       "      <td>...</td>\n",
       "      <td>...</td>\n",
       "      <td>...</td>\n",
       "      <td>...</td>\n",
       "      <td>...</td>\n",
       "      <td>...</td>\n",
       "      <td>...</td>\n",
       "      <td>...</td>\n",
       "      <td>...</td>\n",
       "      <td>...</td>\n",
       "      <td>...</td>\n",
       "      <td>...</td>\n",
       "      <td>...</td>\n",
       "      <td>...</td>\n",
       "      <td>...</td>\n",
       "    </tr>\n",
       "    <tr>\n",
       "      <th>103120</th>\n",
       "      <td>-0.966238</td>\n",
       "      <td>-0.697278</td>\n",
       "      <td>-0.875134</td>\n",
       "      <td>-0.935926</td>\n",
       "      <td>-0.993331</td>\n",
       "      <td>-0.903049</td>\n",
       "      <td>-0.966906</td>\n",
       "      <td>-0.967213</td>\n",
       "      <td>-0.990404</td>\n",
       "      <td>-0.433217</td>\n",
       "      <td>...</td>\n",
       "      <td>-0.994578</td>\n",
       "      <td>0.022313</td>\n",
       "      <td>0.368546</td>\n",
       "      <td>-0.988016</td>\n",
       "      <td>-0.994428</td>\n",
       "      <td>0.105422</td>\n",
       "      <td>0.994405</td>\n",
       "      <td>0.105631</td>\n",
       "      <td>-0.995214</td>\n",
       "      <td>0.097723</td>\n",
       "    </tr>\n",
       "    <tr>\n",
       "      <th>103121</th>\n",
       "      <td>-0.857157</td>\n",
       "      <td>-0.803395</td>\n",
       "      <td>-0.930556</td>\n",
       "      <td>-0.910705</td>\n",
       "      <td>-0.999797</td>\n",
       "      <td>-0.670322</td>\n",
       "      <td>-0.922231</td>\n",
       "      <td>-0.862807</td>\n",
       "      <td>-0.516614</td>\n",
       "      <td>-0.735013</td>\n",
       "      <td>...</td>\n",
       "      <td>-0.987542</td>\n",
       "      <td>-0.506539</td>\n",
       "      <td>0.324005</td>\n",
       "      <td>-0.954476</td>\n",
       "      <td>-0.983773</td>\n",
       "      <td>0.179417</td>\n",
       "      <td>0.998822</td>\n",
       "      <td>-0.048520</td>\n",
       "      <td>-0.999442</td>\n",
       "      <td>0.033401</td>\n",
       "    </tr>\n",
       "    <tr>\n",
       "      <th>103122</th>\n",
       "      <td>-0.934079</td>\n",
       "      <td>-0.966747</td>\n",
       "      <td>-0.980075</td>\n",
       "      <td>-0.878948</td>\n",
       "      <td>-0.977967</td>\n",
       "      <td>-0.961989</td>\n",
       "      <td>-0.718325</td>\n",
       "      <td>-0.998058</td>\n",
       "      <td>-0.846795</td>\n",
       "      <td>-0.979347</td>\n",
       "      <td>...</td>\n",
       "      <td>-0.999763</td>\n",
       "      <td>0.444429</td>\n",
       "      <td>0.414626</td>\n",
       "      <td>-0.997842</td>\n",
       "      <td>-0.968065</td>\n",
       "      <td>0.250701</td>\n",
       "      <td>0.999915</td>\n",
       "      <td>-0.013017</td>\n",
       "      <td>-0.968832</td>\n",
       "      <td>-0.247718</td>\n",
       "    </tr>\n",
       "    <tr>\n",
       "      <th>103123</th>\n",
       "      <td>-0.881133</td>\n",
       "      <td>-0.852202</td>\n",
       "      <td>-0.971750</td>\n",
       "      <td>-0.966360</td>\n",
       "      <td>-0.988626</td>\n",
       "      <td>-0.781133</td>\n",
       "      <td>-0.955955</td>\n",
       "      <td>-0.949794</td>\n",
       "      <td>-0.682090</td>\n",
       "      <td>-0.999667</td>\n",
       "      <td>...</td>\n",
       "      <td>-0.935948</td>\n",
       "      <td>0.589731</td>\n",
       "      <td>-0.998718</td>\n",
       "      <td>-0.991697</td>\n",
       "      <td>-0.999991</td>\n",
       "      <td>0.004172</td>\n",
       "      <td>0.992962</td>\n",
       "      <td>-0.118431</td>\n",
       "      <td>-0.994371</td>\n",
       "      <td>0.105958</td>\n",
       "    </tr>\n",
       "    <tr>\n",
       "      <th>103124</th>\n",
       "      <td>-0.807527</td>\n",
       "      <td>-0.956611</td>\n",
       "      <td>-0.907722</td>\n",
       "      <td>-0.843917</td>\n",
       "      <td>-0.972615</td>\n",
       "      <td>-0.934990</td>\n",
       "      <td>-0.851713</td>\n",
       "      <td>-0.927583</td>\n",
       "      <td>-0.503691</td>\n",
       "      <td>-0.990591</td>\n",
       "      <td>...</td>\n",
       "      <td>-0.931078</td>\n",
       "      <td>-0.485197</td>\n",
       "      <td>-0.979466</td>\n",
       "      <td>-0.998115</td>\n",
       "      <td>-0.999992</td>\n",
       "      <td>-0.004078</td>\n",
       "      <td>0.997252</td>\n",
       "      <td>0.074091</td>\n",
       "      <td>-0.989404</td>\n",
       "      <td>0.145191</td>\n",
       "    </tr>\n",
       "  </tbody>\n",
       "</table>\n",
       "<p>103125 rows × 396 columns</p>\n",
       "</div>"
      ],
      "text/plain": [
       "        BACKBONE sin_phi ARG1  BACKBONE sin_phi PRO2  BACKBONE sin_phi ASP3  \\\n",
       "0                   -0.800495              -0.926716              -0.975521   \n",
       "1                   -0.933559              -0.730527              -0.979260   \n",
       "2                   -0.970335              -0.969054              -0.864596   \n",
       "3                   -0.847304              -0.831210              -0.981629   \n",
       "4                   -0.975500              -0.906739              -0.990261   \n",
       "...                       ...                    ...                    ...   \n",
       "103120              -0.966238              -0.697278              -0.875134   \n",
       "103121              -0.857157              -0.803395              -0.930556   \n",
       "103122              -0.934079              -0.966747              -0.980075   \n",
       "103123              -0.881133              -0.852202              -0.971750   \n",
       "103124              -0.807527              -0.956611              -0.907722   \n",
       "\n",
       "        BACKBONE sin_phi PHE4  BACKBONE sin_phi CYS5  BACKBONE sin_phi LEU6  \\\n",
       "0                   -0.999744              -0.999964              -0.962204   \n",
       "1                   -0.934574              -0.998159              -0.959778   \n",
       "2                   -0.835896              -0.992462              -0.982925   \n",
       "3                   -0.962950              -0.982618              -0.973111   \n",
       "4                   -0.894916              -0.197879              -0.805221   \n",
       "...                       ...                    ...                    ...   \n",
       "103120              -0.935926              -0.993331              -0.903049   \n",
       "103121              -0.910705              -0.999797              -0.670322   \n",
       "103122              -0.878948              -0.977967              -0.961989   \n",
       "103123              -0.966360              -0.988626              -0.781133   \n",
       "103124              -0.843917              -0.972615              -0.934990   \n",
       "\n",
       "        BACKBONE sin_phi GLU7  BACKBONE sin_phi PRO8  BACKBONE sin_phi PRO9  \\\n",
       "0                   -0.874549              -0.950574              -0.370935   \n",
       "1                   -0.868239              -0.934651              -0.689149   \n",
       "2                   -0.855188              -0.938998              -0.668086   \n",
       "3                   -0.924221              -0.995836              -0.806495   \n",
       "4                   -0.931033              -0.918382              -0.957573   \n",
       "...                       ...                    ...                    ...   \n",
       "103120              -0.966906              -0.967213              -0.990404   \n",
       "103121              -0.922231              -0.862807              -0.516614   \n",
       "103122              -0.718325              -0.998058              -0.846795   \n",
       "103123              -0.955955              -0.949794              -0.682090   \n",
       "103124              -0.851713              -0.927583              -0.503691   \n",
       "\n",
       "        BACKBONE sin_phi TYR10  ...  SIDECHAIN cos_chi2 GLU49  \\\n",
       "0                    -0.873390  ...                 -0.998442   \n",
       "1                    -0.996072  ...                 -0.999974   \n",
       "2                    -0.984464  ...                  0.352362   \n",
       "3                    -0.907892  ...                 -0.934253   \n",
       "4                    -0.956490  ...                 -0.995252   \n",
       "...                        ...  ...                       ...   \n",
       "103120               -0.433217  ...                 -0.994578   \n",
       "103121               -0.735013  ...                 -0.987542   \n",
       "103122               -0.979347  ...                 -0.999763   \n",
       "103123               -0.999667  ...                 -0.935948   \n",
       "103124               -0.990591  ...                 -0.931078   \n",
       "\n",
       "        SIDECHAIN cos_chi2 ASP50  SIDECHAIN cos_chi2 MET52  \\\n",
       "0                       0.500169                 -0.999495   \n",
       "1                      -0.438326                 -0.353263   \n",
       "2                       0.957875                  0.453912   \n",
       "3                       0.700958                  0.648715   \n",
       "4                      -0.283845                  0.338350   \n",
       "...                          ...                       ...   \n",
       "103120                  0.022313                  0.368546   \n",
       "103121                 -0.506539                  0.324005   \n",
       "103122                  0.444429                  0.414626   \n",
       "103123                  0.589731                 -0.998718   \n",
       "103124                 -0.485197                 -0.979466   \n",
       "\n",
       "        SIDECHAIN cos_chi2 ARG53  DISULFIDE sin_dih CYS5_CYS55  \\\n",
       "0                      -0.991146                     -0.999536   \n",
       "1                      -0.961761                     -0.999017   \n",
       "2                      -0.994874                     -0.993370   \n",
       "3                      -0.996773                     -0.995607   \n",
       "4                      -0.999601                     -0.971392   \n",
       "...                          ...                           ...   \n",
       "103120                 -0.988016                     -0.994428   \n",
       "103121                 -0.954476                     -0.983773   \n",
       "103122                 -0.997842                     -0.968065   \n",
       "103123                 -0.991697                     -0.999991   \n",
       "103124                 -0.998115                     -0.999992   \n",
       "\n",
       "        DISULFIDE cos_dih CYS5_CYS55  DISULFIDE sin_dih CYS14_CYS38  \\\n",
       "0                          -0.030467                       0.999589   \n",
       "1                          -0.044320                       0.999120   \n",
       "2                           0.114965                       0.997402   \n",
       "3                           0.093635                       0.977207   \n",
       "4                           0.237480                       0.994021   \n",
       "...                              ...                            ...   \n",
       "103120                      0.105422                       0.994405   \n",
       "103121                      0.179417                       0.998822   \n",
       "103122                      0.250701                       0.999915   \n",
       "103123                      0.004172                       0.992962   \n",
       "103124                     -0.004078                       0.997252   \n",
       "\n",
       "        DISULFIDE cos_dih CYS14_CYS38  DISULFIDE sin_dih CYS30_CYS51  \\\n",
       "0                           -0.028675                      -0.975816   \n",
       "1                           -0.041941                      -0.980741   \n",
       "2                           -0.072043                      -0.995064   \n",
       "3                           -0.212290                      -0.999664   \n",
       "4                           -0.109190                      -0.982214   \n",
       "...                               ...                            ...   \n",
       "103120                       0.105631                      -0.995214   \n",
       "103121                      -0.048520                      -0.999442   \n",
       "103122                      -0.013017                      -0.968832   \n",
       "103123                      -0.118431                      -0.994371   \n",
       "103124                       0.074091                      -0.989404   \n",
       "\n",
       "        DISULFIDE cos_dih CYS30_CYS51  \n",
       "0                           -0.218593  \n",
       "1                           -0.195314  \n",
       "2                            0.099239  \n",
       "3                           -0.025920  \n",
       "4                            0.187764  \n",
       "...                               ...  \n",
       "103120                       0.097723  \n",
       "103121                       0.033401  \n",
       "103122                      -0.247718  \n",
       "103123                       0.105958  \n",
       "103124                       0.145191  \n",
       "\n",
       "[103125 rows x 396 columns]"
      ]
     },
     "execution_count": 48,
     "metadata": {},
     "output_type": "execute_result"
    }
   ],
   "source": [
    "descriptors.filter(regex='sin_|cos_')"
   ]
  },
  {
   "cell_type": "code",
   "execution_count": null,
   "metadata": {},
   "outputs": [],
   "source": [
    "import pandas as pd\n",
    "import seaborn as sns\n",
    "import matplotlib.pyplot as plt\n",
    "\n",
    "# get residue names\n",
    "table, _ = traj.topology.to_dataframe()\n",
    "residue_names = table[\"resName\"] + table[\"resSeq\"].astype(\"str\")\n",
    "residue_names = residue_names.unique()\n",
    "\n",
    "# transform dictionary of residue scores into matrix and then into df to plot with seaborn (switch back to matplotlib?)\n",
    "score_matrix = np.row_stack([score for score in residue_score.values()])\n",
    "score_df = pd.DataFrame(score_matrix, columns = residue_names, index=[v for v in classes_names.values()])\n",
    "\n",
    "# Plot\n",
    "centimeters = 1\n",
    "plt.figure(figsize=(len(residue_names)*0.5*centimeters,6*centimeters))\n",
    "sns.heatmap(score_df, annot=True, fmt=\".2f\", cmap='Reds', linewidths=2)\n",
    "\n",
    "plt.xticks(rotation=30)\n",
    "plt.yticks(rotation=30)\n",
    "plt.title('Residue score')\n",
    "plt.show()"
   ]
  },
  {
   "cell_type": "code",
   "execution_count": null,
   "metadata": {},
   "outputs": [],
   "source": [
    "from stateinterpreter.visualize import visualize_residue_score\n",
    "\n",
    "visualize_residue_score(traj, states_labels, classes_names, residue_score, representation='cartoon')"
   ]
  },
  {
   "cell_type": "code",
   "execution_count": null,
   "metadata": {},
   "outputs": [],
   "source": [
    "reg = 10**(-1.5)\n",
    "classifier.plot_regularization_path(reg);\n",
    "classifier.print_selected(reg)"
   ]
  },
  {
   "cell_type": "markdown",
   "metadata": {},
   "source": [
    "### Lasso on group selection"
   ]
  },
  {
   "cell_type": "code",
   "execution_count": 38,
   "metadata": {},
   "outputs": [
    {
     "name": "stderr",
     "output_type": "stream",
     "text": [
      "Optimizing Lasso Estimator: 100%|██████████| 25/25 [00:01<00:00, 14.90it/s]\n"
     ]
    },
    {
     "data": {
      "text/plain": [
       "(<Figure size 216x144 with 2 Axes>,\n",
       " (<AxesSubplot:xlabel='$\\\\log_{10}(\\\\lambda)$', ylabel='Accuracy'>,\n",
       "  <AxesSubplot:ylabel='Number of Features'>))"
      ]
     },
     "execution_count": 38,
     "metadata": {},
     "output_type": "execute_result"
    },
    {
     "data": {
      "image/svg+xml": "<?xml version=\"1.0\" encoding=\"utf-8\" standalone=\"no\"?>\n<!DOCTYPE svg PUBLIC \"-//W3C//DTD SVG 1.1//EN\"\n  \"http://www.w3.org/Graphics/SVG/1.1/DTD/svg11.dtd\">\n<svg height=\"152.938317pt\" version=\"1.1\" viewBox=\"0 0 249.185438 152.938317\" width=\"249.185438pt\" xmlns=\"http://www.w3.org/2000/svg\" xmlns:xlink=\"http://www.w3.org/1999/xlink\">\n <metadata>\n  <rdf:RDF xmlns:cc=\"http://creativecommons.org/ns#\" xmlns:dc=\"http://purl.org/dc/elements/1.1/\" xmlns:rdf=\"http://www.w3.org/1999/02/22-rdf-syntax-ns#\">\n   <cc:Work>\n    <dc:type rdf:resource=\"http://purl.org/dc/dcmitype/StillImage\"/>\n    <dc:date>2021-12-23T18:16:47.786992</dc:date>\n    <dc:format>image/svg+xml</dc:format>\n    <dc:creator>\n     <cc:Agent>\n      <dc:title>Matplotlib v3.4.3, https://matplotlib.org/</dc:title>\n     </cc:Agent>\n    </dc:creator>\n   </cc:Work>\n  </rdf:RDF>\n </metadata>\n <defs>\n  <style type=\"text/css\">*{stroke-linecap:butt;stroke-linejoin:round;}</style>\n </defs>\n <g id=\"figure_1\">\n  <g id=\"patch_1\">\n   <path d=\"M 0 152.938317 \nL 249.185438 152.938317 \nL 249.185438 0 \nL 0 0 \nz\n\" style=\"fill:none;\"/>\n  </g>\n  <g id=\"axes_1\">\n   <g id=\"patch_2\">\n    <path d=\"M 44.767091 115.92 \nL 212.167091 115.92 \nL 212.167091 7.2 \nL 44.767091 7.2 \nz\n\" style=\"fill:#ffffff;\"/>\n   </g>\n   <g id=\"matplotlib.axis_1\">\n    <g id=\"xtick_1\">\n     <g id=\"line2d_1\">\n      <defs>\n       <path d=\"M 0 0 \nL 0 3.5 \n\" id=\"m778570b93a\" style=\"stroke:#000000;stroke-width:0.8;\"/>\n      </defs>\n      <g>\n       <use style=\"stroke:#000000;stroke-width:0.8;\" x=\"44.767091\" xlink:href=\"#m778570b93a\" y=\"115.92\"/>\n      </g>\n     </g>\n     <g id=\"text_1\">\n      <!-- $\\mathdefault{−2.0}$ -->\n      <g transform=\"translate(34.52768 129.838498)scale(0.1 -0.1)\">\n       <defs>\n        <path d=\"M 4218 1472 \nC 4326 1472 4442 1472 4442 1600 \nC 4442 1728 4326 1728 4218 1728 \nL 755 1728 \nC 646 1728 531 1728 531 1600 \nC 531 1472 646 1472 755 1472 \nL 4218 1472 \nz\n\" id=\"CMSY10-0\" transform=\"scale(0.015625)\"/>\n        <path d=\"M 2669 990 \nL 2554 990 \nC 2490 537 2438 460 2413 422 \nC 2381 371 1920 371 1830 371 \nL 602 371 \nC 832 620 1280 1073 1824 1596 \nC 2214 1966 2669 2400 2669 3033 \nC 2669 3788 2067 4224 1395 4224 \nC 691 4224 262 3603 262 3027 \nC 262 2777 448 2745 525 2745 \nC 589 2745 781 2783 781 3007 \nC 781 3206 614 3264 525 3264 \nC 486 3264 448 3257 422 3244 \nC 544 3788 915 4057 1306 4057 \nC 1862 4057 2227 3616 2227 3033 \nC 2227 2477 1901 1998 1536 1583 \nL 262 147 \nL 262 0 \nL 2515 0 \nL 2669 990 \nz\n\" id=\"CMR17-32\" transform=\"scale(0.015625)\"/>\n        <path d=\"M 1178 307 \nC 1178 492 1024 620 870 620 \nC 685 620 557 467 557 313 \nC 557 128 710 0 864 0 \nC 1050 0 1178 153 1178 307 \nz\n\" id=\"CMMI12-3a\" transform=\"scale(0.015625)\"/>\n        <path d=\"M 2688 2038 \nC 2688 2430 2682 3099 2413 3613 \nC 2176 4063 1798 4224 1466 4224 \nC 1158 4224 768 4082 525 3620 \nC 269 3137 243 2539 243 2038 \nC 243 1671 250 1112 448 623 \nC 723 -39 1216 -128 1466 -128 \nC 1760 -128 2208 -7 2470 604 \nC 2662 1048 2688 1568 2688 2038 \nz\nM 1466 -26 \nC 1056 -26 813 328 723 816 \nC 653 1196 653 1749 653 2109 \nC 653 2604 653 3015 736 3407 \nC 858 3954 1216 4121 1466 4121 \nC 1728 4121 2067 3947 2189 3420 \nC 2272 3054 2278 2623 2278 2109 \nC 2278 1691 2278 1176 2202 797 \nC 2067 96 1690 -26 1466 -26 \nz\n\" id=\"CMR17-30\" transform=\"scale(0.015625)\"/>\n       </defs>\n       <use transform=\"scale(0.996264)\" xlink:href=\"#CMSY10-0\"/>\n       <use transform=\"translate(77.487468 0)scale(0.996264)\" xlink:href=\"#CMR17-32\"/>\n       <use transform=\"translate(123.177945 0)scale(0.996264)\" xlink:href=\"#CMMI12-3a\"/>\n       <use transform=\"translate(150.275122 0)scale(0.996264)\" xlink:href=\"#CMR17-30\"/>\n      </g>\n     </g>\n    </g>\n    <g id=\"xtick_2\">\n     <g id=\"line2d_2\">\n      <g>\n       <use style=\"stroke:#000000;stroke-width:0.8;\" x=\"86.617091\" xlink:href=\"#m778570b93a\" y=\"115.92\"/>\n      </g>\n     </g>\n     <g id=\"text_2\">\n      <!-- $\\mathdefault{−1.5}$ -->\n      <g transform=\"translate(76.37768 129.838498)scale(0.1 -0.1)\">\n       <defs>\n        <path d=\"M 1702 4083 \nC 1702 4217 1696 4224 1606 4224 \nC 1357 3927 979 3833 621 3820 \nC 602 3820 570 3820 563 3808 \nC 557 3795 557 3782 557 3648 \nC 755 3648 1088 3686 1344 3839 \nL 1344 467 \nC 1344 243 1331 166 781 166 \nL 589 166 \nL 589 0 \nC 896 6 1216 12 1523 12 \nC 1830 12 2150 6 2458 0 \nL 2458 166 \nL 2266 166 \nC 1715 166 1702 236 1702 467 \nL 1702 4083 \nz\n\" id=\"CMR17-31\" transform=\"scale(0.015625)\"/>\n        <path d=\"M 730 3750 \nC 794 3724 1056 3641 1325 3641 \nC 1920 3641 2246 3961 2432 4140 \nC 2432 4191 2432 4224 2394 4224 \nC 2387 4224 2374 4224 2323 4198 \nC 2099 4102 1837 4032 1517 4032 \nC 1325 4032 1037 4055 723 4191 \nC 653 4224 640 4224 634 4224 \nC 602 4224 595 4217 595 4090 \nL 595 2231 \nC 595 2113 595 2080 659 2080 \nC 691 2080 704 2093 736 2139 \nC 941 2435 1222 2560 1542 2560 \nC 1766 2560 2246 2415 2246 1293 \nC 2246 1087 2246 716 2054 422 \nC 1894 159 1645 25 1370 25 \nC 947 25 518 319 403 812 \nC 429 806 480 793 506 793 \nC 589 793 749 838 749 1036 \nC 749 1209 627 1280 506 1280 \nC 358 1280 262 1190 262 1011 \nC 262 454 704 -128 1382 -128 \nC 2042 -128 2669 441 2669 1267 \nC 2669 2054 2170 2662 1549 2662 \nC 1222 2662 947 2540 730 2304 \nL 730 3750 \nz\n\" id=\"CMR17-35\" transform=\"scale(0.015625)\"/>\n       </defs>\n       <use transform=\"scale(0.996264)\" xlink:href=\"#CMSY10-0\"/>\n       <use transform=\"translate(77.487468 0)scale(0.996264)\" xlink:href=\"#CMR17-31\"/>\n       <use transform=\"translate(123.177945 0)scale(0.996264)\" xlink:href=\"#CMMI12-3a\"/>\n       <use transform=\"translate(150.275122 0)scale(0.996264)\" xlink:href=\"#CMR17-35\"/>\n      </g>\n     </g>\n    </g>\n    <g id=\"xtick_3\">\n     <g id=\"line2d_3\">\n      <g>\n       <use style=\"stroke:#000000;stroke-width:0.8;\" x=\"128.467091\" xlink:href=\"#m778570b93a\" y=\"115.92\"/>\n      </g>\n     </g>\n     <g id=\"text_3\">\n      <!-- $\\mathdefault{−1.0}$ -->\n      <g transform=\"translate(118.22768 129.838498)scale(0.1 -0.1)\">\n       <use transform=\"scale(0.996264)\" xlink:href=\"#CMSY10-0\"/>\n       <use transform=\"translate(77.487468 0)scale(0.996264)\" xlink:href=\"#CMR17-31\"/>\n       <use transform=\"translate(123.177945 0)scale(0.996264)\" xlink:href=\"#CMMI12-3a\"/>\n       <use transform=\"translate(150.275122 0)scale(0.996264)\" xlink:href=\"#CMR17-30\"/>\n      </g>\n     </g>\n    </g>\n    <g id=\"xtick_4\">\n     <g id=\"line2d_4\">\n      <g>\n       <use style=\"stroke:#000000;stroke-width:0.8;\" x=\"170.317091\" xlink:href=\"#m778570b93a\" y=\"115.92\"/>\n      </g>\n     </g>\n     <g id=\"text_4\">\n      <!-- $\\mathdefault{−0.5}$ -->\n      <g transform=\"translate(160.07768 129.838498)scale(0.1 -0.1)\">\n       <use transform=\"scale(0.996264)\" xlink:href=\"#CMSY10-0\"/>\n       <use transform=\"translate(77.487468 0)scale(0.996264)\" xlink:href=\"#CMR17-30\"/>\n       <use transform=\"translate(123.177945 0)scale(0.996264)\" xlink:href=\"#CMMI12-3a\"/>\n       <use transform=\"translate(150.275122 0)scale(0.996264)\" xlink:href=\"#CMR17-35\"/>\n      </g>\n     </g>\n    </g>\n    <g id=\"xtick_5\">\n     <g id=\"line2d_5\">\n      <g>\n       <use style=\"stroke:#000000;stroke-width:0.8;\" x=\"212.167091\" xlink:href=\"#m778570b93a\" y=\"115.92\"/>\n      </g>\n     </g>\n     <g id=\"text_5\">\n      <!-- $\\mathdefault{0.0}$ -->\n      <g transform=\"translate(205.802051 129.838498)scale(0.1 -0.1)\">\n       <use transform=\"scale(0.996264)\" xlink:href=\"#CMR17-30\"/>\n       <use transform=\"translate(45.690477 0)scale(0.996264)\" xlink:href=\"#CMMI12-3a\"/>\n       <use transform=\"translate(72.787654 0)scale(0.996264)\" xlink:href=\"#CMR17-30\"/>\n      </g>\n     </g>\n    </g>\n    <g id=\"text_6\">\n     <!-- $\\log_{10}(\\lambda)$ -->\n     <g transform=\"translate(111.032418 143.247657)scale(0.1 -0.1)\">\n      <defs>\n       <path d=\"M 979 4416 \nL 218 4345 \nL 218 4179 \nC 595 4179 653 4141 653 3835 \nL 653 439 \nC 653 198 627 166 218 166 \nL 218 0 \nC 371 12 653 12 813 12 \nC 979 12 1261 12 1414 0 \nL 1414 166 \nC 1005 166 979 191 979 439 \nL 979 4416 \nz\n\" id=\"CMR17-6c\" transform=\"scale(0.015625)\"/>\n       <path d=\"M 2758 1356 \nC 2758 2176 2163 2816 1466 2816 \nC 768 2816 173 2176 173 1356 \nC 173 550 768 -64 1466 -64 \nC 2163 -64 2758 550 2758 1356 \nz\nM 1466 51 \nC 1165 51 909 230 762 480 \nC 602 768 582 1126 582 1408 \nC 582 1676 595 2009 762 2297 \nC 890 2508 1139 2713 1466 2713 \nC 1754 2713 1997 2553 2150 2329 \nC 2349 2028 2349 1606 2349 1408 \nC 2349 1158 2336 774 2163 467 \nC 1984 172 1709 51 1466 51 \nz\n\" id=\"CMR17-6f\" transform=\"scale(0.015625)\"/>\n       <path d=\"M 710 1165 \nC 832 1068 1043 960 1299 960 \nC 1805 960 2240 1359 2240 1895 \nC 2240 2063 2189 2321 1997 2521 \nC 2176 2713 2438 2777 2586 2777 \nC 2611 2777 2650 2777 2682 2758 \nC 2656 2751 2598 2726 2598 2623 \nC 2598 2540 2656 2483 2739 2483 \nC 2835 2483 2886 2547 2886 2630 \nC 2886 2751 2790 2880 2586 2880 \nC 2330 2880 2106 2758 1926 2591 \nC 1734 2764 1504 2828 1299 2828 \nC 794 2828 358 2431 358 1895 \nC 358 1527 570 1294 634 1230 \nC 442 1004 442 742 442 710 \nC 442 544 506 300 723 166 \nC 390 82 128 -184 128 -517 \nC 128 -996 736 -1344 1466 -1344 \nC 2170 -1344 2803 -1009 2803 -510 \nC 2803 384 1856 384 1363 384 \nC 1216 384 954 384 922 390 \nC 723 422 589 601 589 825 \nC 589 883 589 1024 710 1165 \nz\nM 1299 1068 \nC 736 1068 736 1766 736 1895 \nC 736 2024 736 2719 1299 2719 \nC 1862 2719 1862 2024 1862 1895 \nC 1862 1766 1862 1068 1299 1068 \nz\nM 1466 -1236 \nC 826 -1236 384 -883 384 -517 \nC 384 -311 493 -118 634 -11 \nC 794 102 858 102 1293 102 \nC 1818 102 2547 102 2547 -517 \nC 2547 -883 2106 -1236 1466 -1236 \nz\n\" id=\"CMR17-67\" transform=\"scale(0.015625)\"/>\n       <path d=\"M 1958 -1562 \nC 1958 -1556 1958 -1543 1939 -1524 \nC 1645 -1223 858 -403 858 1596 \nC 858 3595 1632 4408 1946 4729 \nC 1946 4735 1958 4748 1958 4767 \nC 1958 4787 1939 4800 1914 4800 \nC 1843 4800 1299 4325 986 3620 \nC 666 2909 576 2218 576 1603 \nC 576 1141 621 360 1005 -467 \nC 1312 -1133 1837 -1600 1914 -1600 \nC 1946 -1600 1958 -1588 1958 -1562 \nz\n\" id=\"CMR17-28\" transform=\"scale(0.015625)\"/>\n       <path d=\"M 1978 3963 \nC 1818 4416 1312 4416 1229 4416 \nC 1190 4416 1120 4416 1120 4351 \nC 1120 4300 1158 4294 1190 4287 \nC 1286 4275 1363 4262 1466 4078 \nC 1530 3957 2189 2055 2189 2042 \nC 2189 2036 2182 2029 2131 1978 \nL 467 305 \nC 390 229 339 178 339 95 \nC 339 6 416 -71 518 -71 \nC 544 -71 614 -58 653 -20 \nC 755 76 1670 1190 2253 1877 \nC 2419 1380 2624 795 2822 261 \nC 2854 165 2886 76 2976 -7 \nC 3040 -64 3053 -64 3232 -64 \nL 3354 -64 \nC 3379 -64 3424 -64 3424 -13 \nC 3424 12 3418 19 3392 44 \nC 3334 114 3290 229 3264 305 \nL 1978 3963 \nz\n\" id=\"CMMI12-15\" transform=\"scale(0.015625)\"/>\n       <path d=\"M 1683 1596 \nC 1683 2057 1638 2839 1254 3665 \nC 947 4332 422 4800 346 4800 \nC 326 4800 301 4793 301 4761 \nC 301 4748 307 4742 314 4729 \nC 621 4408 1402 3595 1402 1603 \nC 1402 -396 627 -1210 314 -1530 \nC 307 -1543 301 -1549 301 -1562 \nC 301 -1594 326 -1600 346 -1600 \nC 416 -1600 960 -1127 1274 -422 \nC 1594 289 1683 981 1683 1596 \nz\n\" id=\"CMR17-29\" transform=\"scale(0.015625)\"/>\n      </defs>\n      <use transform=\"scale(0.996264)\" xlink:href=\"#CMR17-6c\"/>\n      <use transform=\"translate(24.871058 0)scale(0.996264)\" xlink:href=\"#CMR17-6f\"/>\n      <use transform=\"translate(70.561536 0)scale(0.996264)\" xlink:href=\"#CMR17-67\"/>\n      <use transform=\"translate(117.553179 -22.865092)scale(0.697382)\" xlink:href=\"#CMR17-31\"/>\n      <use transform=\"translate(149.536361 -22.865092)scale(0.697382)\" xlink:href=\"#CMR17-30\"/>\n      <use transform=\"translate(182.017675 0)scale(0.996264)\" xlink:href=\"#CMR17-28\"/>\n      <use transform=\"translate(217.298443 0)scale(0.996264)\" xlink:href=\"#CMMI12-15\"/>\n      <use transform=\"translate(274.202514 0)scale(0.996264)\" xlink:href=\"#CMR17-29\"/>\n     </g>\n    </g>\n   </g>\n   <g id=\"matplotlib.axis_2\">\n    <g id=\"ytick_1\">\n     <g id=\"line2d_6\">\n      <defs>\n       <path d=\"M 0 0 \nL -3.5 0 \n\" id=\"mef0dee28f7\" style=\"stroke:#000000;stroke-width:0.8;\"/>\n      </defs>\n      <g>\n       <use style=\"stroke:#000000;stroke-width:0.8;\" x=\"44.767091\" xlink:href=\"#mef0dee28f7\" y=\"115.92\"/>\n      </g>\n     </g>\n     <g id=\"text_7\">\n      <!-- $\\mathdefault{0.00}$ -->\n      <g transform=\"translate(20.055677 119.379249)scale(0.1 -0.1)\">\n       <use transform=\"scale(0.996264)\" xlink:href=\"#CMR17-30\"/>\n       <use transform=\"translate(45.690477 0)scale(0.996264)\" xlink:href=\"#CMMI12-3a\"/>\n       <use transform=\"translate(72.787654 0)scale(0.996264)\" xlink:href=\"#CMR17-30\"/>\n       <use transform=\"translate(118.478131 0)scale(0.996264)\" xlink:href=\"#CMR17-30\"/>\n      </g>\n     </g>\n    </g>\n    <g id=\"ytick_2\">\n     <g id=\"line2d_7\">\n      <g>\n       <use style=\"stroke:#000000;stroke-width:0.8;\" x=\"44.767091\" xlink:href=\"#mef0dee28f7\" y=\"91.210909\"/>\n      </g>\n     </g>\n     <g id=\"text_8\">\n      <!-- $\\mathdefault{0.25}$ -->\n      <g transform=\"translate(20.055677 94.670158)scale(0.1 -0.1)\">\n       <use transform=\"scale(0.996264)\" xlink:href=\"#CMR17-30\"/>\n       <use transform=\"translate(45.690477 0)scale(0.996264)\" xlink:href=\"#CMMI12-3a\"/>\n       <use transform=\"translate(72.787654 0)scale(0.996264)\" xlink:href=\"#CMR17-32\"/>\n       <use transform=\"translate(118.478131 0)scale(0.996264)\" xlink:href=\"#CMR17-35\"/>\n      </g>\n     </g>\n    </g>\n    <g id=\"ytick_3\">\n     <g id=\"line2d_8\">\n      <g>\n       <use style=\"stroke:#000000;stroke-width:0.8;\" x=\"44.767091\" xlink:href=\"#mef0dee28f7\" y=\"66.501818\"/>\n      </g>\n     </g>\n     <g id=\"text_9\">\n      <!-- $\\mathdefault{0.50}$ -->\n      <g transform=\"translate(20.055677 69.961067)scale(0.1 -0.1)\">\n       <use transform=\"scale(0.996264)\" xlink:href=\"#CMR17-30\"/>\n       <use transform=\"translate(45.690477 0)scale(0.996264)\" xlink:href=\"#CMMI12-3a\"/>\n       <use transform=\"translate(72.787654 0)scale(0.996264)\" xlink:href=\"#CMR17-35\"/>\n       <use transform=\"translate(118.478131 0)scale(0.996264)\" xlink:href=\"#CMR17-30\"/>\n      </g>\n     </g>\n    </g>\n    <g id=\"ytick_4\">\n     <g id=\"line2d_9\">\n      <g>\n       <use style=\"stroke:#000000;stroke-width:0.8;\" x=\"44.767091\" xlink:href=\"#mef0dee28f7\" y=\"41.792727\"/>\n      </g>\n     </g>\n     <g id=\"text_10\">\n      <!-- $\\mathdefault{0.75}$ -->\n      <g transform=\"translate(20.055677 45.251976)scale(0.1 -0.1)\">\n       <defs>\n        <path d=\"M 2886 3955 \nL 2886 4096 \nL 1382 4096 \nC 634 4096 621 4166 595 4288 \nL 480 4288 \nL 294 3104 \nL 410 3104 \nC 429 3226 474 3552 550 3673 \nC 589 3724 1062 3724 1171 3724 \nL 2579 3724 \nL 1869 2670 \nC 1395 1961 1069 1003 1069 166 \nC 1069 89 1069 -128 1299 -128 \nC 1530 -128 1530 89 1530 172 \nL 1530 466 \nC 1530 1514 1709 2204 2003 2644 \nL 2886 3955 \nz\n\" id=\"CMR17-37\" transform=\"scale(0.015625)\"/>\n       </defs>\n       <use transform=\"scale(0.996264)\" xlink:href=\"#CMR17-30\"/>\n       <use transform=\"translate(45.690477 0)scale(0.996264)\" xlink:href=\"#CMMI12-3a\"/>\n       <use transform=\"translate(72.787654 0)scale(0.996264)\" xlink:href=\"#CMR17-37\"/>\n       <use transform=\"translate(118.478131 0)scale(0.996264)\" xlink:href=\"#CMR17-35\"/>\n      </g>\n     </g>\n    </g>\n    <g id=\"ytick_5\">\n     <g id=\"line2d_10\">\n      <g>\n       <use style=\"stroke:#000000;stroke-width:0.8;\" x=\"44.767091\" xlink:href=\"#mef0dee28f7\" y=\"17.083636\"/>\n      </g>\n     </g>\n     <g id=\"text_11\">\n      <!-- $\\mathdefault{1.00}$ -->\n      <g transform=\"translate(20.055677 20.542886)scale(0.1 -0.1)\">\n       <use transform=\"scale(0.996264)\" xlink:href=\"#CMR17-31\"/>\n       <use transform=\"translate(45.690477 0)scale(0.996264)\" xlink:href=\"#CMMI12-3a\"/>\n       <use transform=\"translate(72.787654 0)scale(0.996264)\" xlink:href=\"#CMR17-30\"/>\n       <use transform=\"translate(118.478131 0)scale(0.996264)\" xlink:href=\"#CMR17-30\"/>\n      </g>\n     </g>\n    </g>\n    <g id=\"text_12\">\n     <!-- Accuracy -->\n     <g style=\"fill:#ff0000;\" transform=\"translate(14.118498 81.775893)rotate(-90)scale(0.1 -0.1)\">\n      <defs>\n       <path d=\"M 2323 4441 \nC 2291 4524 2278 4544 2214 4544 \nC 2150 4544 2138 4524 2106 4441 \nL 749 580 \nC 627 236 371 166 147 166 \nL 147 0 \nC 262 12 518 12 640 12 \nC 800 12 1056 12 1210 0 \nL 1210 166 \nC 909 179 864 382 864 459 \nC 864 516 877 548 890 586 \nL 1229 1536 \nL 2906 1536 \nL 3290 453 \nC 3322 376 3322 363 3322 338 \nC 3322 166 3046 166 2925 166 \nL 2925 0 \nC 3110 12 3443 12 3642 12 \nC 3808 12 4128 12 4282 0 \nL 4282 166 \nC 3942 166 3827 166 3744 402 \nL 2323 4441 \nz\nM 2067 3924 \nL 2848 1702 \nL 1286 1702 \nL 2067 3924 \nz\n\" id=\"CMR17-41\" transform=\"scale(0.015625)\"/>\n       <path d=\"M 2234 2240 \nC 2112 2240 1933 2240 1933 2015 \nC 1933 1836 2080 1785 2163 1785 \nC 2208 1785 2394 1804 2394 2028 \nC 2394 2476 1958 2816 1466 2816 \nC 787 2816 211 2201 211 1379 \nC 211 521 813 -64 1466 -64 \nC 2259 -64 2458 676 2458 747 \nC 2458 773 2451 792 2406 792 \nC 2362 792 2355 786 2330 702 \nC 2163 180 1798 51 1523 51 \nC 1114 51 621 431 621 1385 \nC 621 2358 1094 2700 1472 2700 \nC 1722 2700 2093 2582 2234 2240 \nz\n\" id=\"CMR17-63\" transform=\"scale(0.015625)\"/>\n       <path d=\"M 1882 2745 \nL 1882 2579 \nC 2259 2579 2317 2540 2317 2229 \nL 2317 1053 \nC 2317 510 2029 38 1555 38 \nC 1030 38 986 355 986 691 \nL 986 2816 \nL 211 2745 \nL 211 2579 \nC 467 2579 640 2579 646 2320 \nL 646 1079 \nC 646 646 646 368 813 187 \nC 896 103 1056 -64 1517 -64 \nC 2061 -64 2272 400 2323 536 \nL 2330 536 \nL 2330 -64 \nL 3091 -13 \nL 3091 154 \nC 2714 154 2656 193 2656 503 \nL 2656 2816 \nL 1882 2745 \nz\n\" id=\"CMR17-75\" transform=\"scale(0.015625)\"/>\n       <path d=\"M 960 1517 \nC 960 2134 1222 2713 1702 2713 \nC 1747 2713 1792 2707 1837 2687 \nC 1837 2687 1696 2642 1696 2475 \nC 1696 2321 1818 2257 1914 2257 \nC 1990 2257 2131 2302 2131 2482 \nC 2131 2687 1926 2816 1709 2816 \nC 1222 2816 1011 2340 947 2115 \nL 941 2115 \nL 941 2816 \nL 198 2745 \nL 198 2578 \nC 576 2578 634 2540 634 2231 \nL 634 443 \nC 634 198 608 166 198 166 \nL 198 0 \nC 352 12 646 12 813 12 \nC 998 12 1325 12 1498 0 \nL 1498 166 \nC 1037 166 960 166 960 455 \nL 960 1517 \nz\n\" id=\"CMR17-72\" transform=\"scale(0.015625)\"/>\n       <path d=\"M 2304 1656 \nC 2304 2048 2304 2275 2035 2534 \nC 1798 2751 1523 2816 1306 2816 \nC 800 2816 435 2408 435 1977 \nC 435 1740 627 1728 666 1728 \nC 749 1728 896 1779 896 1958 \nC 896 2118 774 2188 666 2188 \nC 640 2188 608 2182 589 2176 \nC 723 2594 1069 2713 1293 2713 \nC 1613 2713 1965 2421 1965 1875 \nL 1965 1632 \nC 1587 1619 1133 1568 774 1373 \nC 371 1147 256 822 256 576 \nC 256 77 832 -64 1171 -64 \nC 1523 -64 1850 135 1990 505 \nC 2003 219 2182 -39 2464 -39 \nC 2598 -39 2938 51 2938 563 \nL 2938 926 \nL 2822 926 \nL 2822 557 \nC 2822 161 2650 109 2566 109 \nC 2304 109 2304 446 2304 732 \nL 2304 1656 \nz\nM 1965 887 \nC 1965 323 1568 38 1216 38 \nC 896 38 646 278 646 576 \nC 646 771 730 1114 1101 1322 \nC 1408 1497 1760 1523 1965 1536 \nL 1965 887 \nz\n\" id=\"CMR17-61\" transform=\"scale(0.015625)\"/>\n       <path d=\"M 2496 2183 \nC 2656 2579 2944 2585 3034 2585 \nL 3034 2752 \nC 2912 2745 2752 2739 2630 2739 \nC 2496 2739 2285 2739 2157 2752 \nL 2157 2585 \nC 2400 2566 2406 2384 2406 2332 \nC 2406 2268 2394 2235 2362 2158 \nL 1664 409 \nL 902 2300 \nC 870 2378 870 2423 870 2430 \nC 870 2572 1018 2585 1171 2585 \nL 1171 2752 \nC 1018 2739 742 2739 582 2739 \nC 410 2739 205 2739 64 2752 \nL 64 2585 \nC 410 2585 448 2553 531 2345 \nL 1485 -31 \nC 1197 -795 1030 -1242 627 -1242 \nC 557 -1242 397 -1223 282 -1106 \nC 429 -1093 493 -1002 493 -892 \nC 493 -782 416 -685 288 -685 \nC 147 -685 77 -782 77 -899 \nC 77 -1158 339 -1344 627 -1344 \nC 998 -1344 1229 -983 1357 -659 \nL 2496 2183 \nz\n\" id=\"CMR17-79\" transform=\"scale(0.015625)\"/>\n      </defs>\n      <use transform=\"scale(0.996264)\" xlink:href=\"#CMR17-41\"/>\n      <use transform=\"translate(69.07243 0)scale(0.996264)\" xlink:href=\"#CMR17-63\"/>\n      <use transform=\"translate(109.55809 0)scale(0.996264)\" xlink:href=\"#CMR17-63\"/>\n      <use transform=\"translate(150.043751 0)scale(0.996264)\" xlink:href=\"#CMR17-75\"/>\n      <use transform=\"translate(200.939121 0)scale(0.996264)\" xlink:href=\"#CMR17-72\"/>\n      <use transform=\"translate(236.219888 0)scale(0.996264)\" xlink:href=\"#CMR17-61\"/>\n      <use transform=\"translate(281.910365 0)scale(0.996264)\" xlink:href=\"#CMR17-63\"/>\n      <use transform=\"translate(322.396026 0)scale(0.996264)\" xlink:href=\"#CMR17-79\"/>\n     </g>\n    </g>\n   </g>\n   <g id=\"line2d_11\">\n    <path clip-path=\"url(#p536208311a)\" d=\"M 44.767091 20.180509 \nL 51.742091 20.312291 \nL 58.717091 20.575855 \nL 65.692091 20.9712 \nL 72.667091 21.102982 \nL 79.642091 21.498327 \nL 86.617091 21.432436 \nL 93.592091 21.366545 \nL 100.567091 21.300655 \nL 107.542091 20.707636 \nL 114.517091 20.707636 \nL 121.492091 20.707636 \nL 128.467091 21.037091 \nL 135.442091 22.025455 \nL 142.417091 22.289018 \nL 149.392091 22.882036 \nL 156.367091 23.804509 \nL 163.342091 52.8624 \nL 170.317091 66.963055 \nL 177.292091 97.734109 \nL 184.267091 97.734109 \nL 191.242091 97.734109 \nL 198.217091 97.734109 \nL 205.192091 97.734109 \nL 212.167091 97.734109 \n\" style=\"fill:none;stroke:#ff6347;stroke-linecap:square;stroke-width:1.5;\"/>\n   </g>\n   <g id=\"patch_3\">\n    <path d=\"M 44.767091 115.92 \nL 44.767091 7.2 \n\" style=\"fill:none;stroke:#000000;stroke-linecap:square;stroke-linejoin:miter;stroke-width:0.8;\"/>\n   </g>\n   <g id=\"patch_4\">\n    <path d=\"M 212.167091 115.92 \nL 212.167091 7.2 \n\" style=\"fill:none;stroke:#000000;stroke-linecap:square;stroke-linejoin:miter;stroke-width:0.8;\"/>\n   </g>\n   <g id=\"patch_5\">\n    <path d=\"M 44.767091 115.92 \nL 212.167091 115.92 \n\" style=\"fill:none;stroke:#000000;stroke-linecap:square;stroke-linejoin:miter;stroke-width:0.8;\"/>\n   </g>\n   <g id=\"patch_6\">\n    <path d=\"M 44.767091 7.2 \nL 212.167091 7.2 \n\" style=\"fill:none;stroke:#000000;stroke-linecap:square;stroke-linejoin:miter;stroke-width:0.8;\"/>\n   </g>\n  </g>\n  <g id=\"axes_2\">\n   <g id=\"matplotlib.axis_3\">\n    <g id=\"ytick_6\">\n     <g id=\"line2d_12\">\n      <path clip-path=\"url(#p536208311a)\" d=\"M 44.767091 110.978182 \nL 212.167091 110.978182 \n\" style=\"fill:none;stroke:#b0b0b0;stroke-linecap:square;stroke-opacity:0.3;stroke-width:0.8;\"/>\n     </g>\n     <g id=\"line2d_13\">\n      <defs>\n       <path d=\"M 0 0 \nL 3.5 0 \n\" id=\"m7ee21eecc3\" style=\"stroke:#000000;stroke-width:0.8;\"/>\n      </defs>\n      <g>\n       <use style=\"stroke:#000000;stroke-width:0.8;\" x=\"212.167091\" xlink:href=\"#m7ee21eecc3\" y=\"110.978182\"/>\n      </g>\n     </g>\n     <g id=\"text_13\">\n      <!-- $\\mathdefault{0}$ -->\n      <g transform=\"translate(219.167091 114.437431)scale(0.1 -0.1)\">\n       <use transform=\"scale(0.996264)\" xlink:href=\"#CMR17-30\"/>\n      </g>\n     </g>\n    </g>\n    <g id=\"ytick_7\">\n     <g id=\"line2d_14\">\n      <path clip-path=\"url(#p536208311a)\" d=\"M 44.767091 99.117818 \nL 212.167091 99.117818 \n\" style=\"fill:none;stroke:#b0b0b0;stroke-linecap:square;stroke-opacity:0.3;stroke-width:0.8;\"/>\n     </g>\n     <g id=\"line2d_15\">\n      <g>\n       <use style=\"stroke:#000000;stroke-width:0.8;\" x=\"212.167091\" xlink:href=\"#m7ee21eecc3\" y=\"99.117818\"/>\n      </g>\n     </g>\n     <g id=\"text_14\">\n      <!-- $\\mathdefault{6}$ -->\n      <g transform=\"translate(219.167091 102.577067)scale(0.1 -0.1)\">\n       <defs>\n        <path d=\"M 678 2198 \nC 678 3712 1395 4076 1811 4076 \nC 1946 4076 2272 4049 2400 3782 \nC 2298 3782 2106 3782 2106 3558 \nC 2106 3385 2246 3328 2336 3328 \nC 2394 3328 2566 3353 2566 3571 \nC 2566 3987 2246 4224 1805 4224 \nC 1043 4224 243 3411 243 2011 \nC 243 257 966 -128 1478 -128 \nC 2099 -128 2688 431 2688 1295 \nC 2688 2101 2170 2688 1517 2688 \nC 1126 2688 838 2430 678 1979 \nL 678 2198 \nz\nM 1478 25 \nC 691 25 691 1212 691 1450 \nC 691 1914 909 2585 1504 2585 \nC 1613 2585 1926 2585 2138 2140 \nC 2253 1889 2253 1624 2253 1302 \nC 2253 954 2253 696 2118 438 \nC 1978 173 1773 25 1478 25 \nz\n\" id=\"CMR17-36\" transform=\"scale(0.015625)\"/>\n       </defs>\n       <use transform=\"scale(0.996264)\" xlink:href=\"#CMR17-36\"/>\n      </g>\n     </g>\n    </g>\n    <g id=\"ytick_8\">\n     <g id=\"line2d_16\">\n      <path clip-path=\"url(#p536208311a)\" d=\"M 44.767091 87.257455 \nL 212.167091 87.257455 \n\" style=\"fill:none;stroke:#b0b0b0;stroke-linecap:square;stroke-opacity:0.3;stroke-width:0.8;\"/>\n     </g>\n     <g id=\"line2d_17\">\n      <g>\n       <use style=\"stroke:#000000;stroke-width:0.8;\" x=\"212.167091\" xlink:href=\"#m7ee21eecc3\" y=\"87.257455\"/>\n      </g>\n     </g>\n     <g id=\"text_15\">\n      <!-- $\\mathdefault{12}$ -->\n      <g transform=\"translate(219.167091 90.716704)scale(0.1 -0.1)\">\n       <use transform=\"scale(0.996264)\" xlink:href=\"#CMR17-31\"/>\n       <use transform=\"translate(45.690477 0)scale(0.996264)\" xlink:href=\"#CMR17-32\"/>\n      </g>\n     </g>\n    </g>\n    <g id=\"ytick_9\">\n     <g id=\"line2d_18\">\n      <path clip-path=\"url(#p536208311a)\" d=\"M 44.767091 75.397091 \nL 212.167091 75.397091 \n\" style=\"fill:none;stroke:#b0b0b0;stroke-linecap:square;stroke-opacity:0.3;stroke-width:0.8;\"/>\n     </g>\n     <g id=\"line2d_19\">\n      <g>\n       <use style=\"stroke:#000000;stroke-width:0.8;\" x=\"212.167091\" xlink:href=\"#m7ee21eecc3\" y=\"75.397091\"/>\n      </g>\n     </g>\n     <g id=\"text_16\">\n      <!-- $\\mathdefault{18}$ -->\n      <g transform=\"translate(219.167091 78.85634)scale(0.1 -0.1)\">\n       <defs>\n        <path d=\"M 1741 2289 \nC 2144 2494 2554 2803 2554 3298 \nC 2554 3884 1990 4224 1472 4224 \nC 890 4224 378 3800 378 3215 \nC 378 3054 416 2777 666 2533 \nC 730 2469 998 2276 1171 2154 \nC 883 2006 211 1652 211 945 \nC 211 282 838 -128 1459 -128 \nC 2144 -128 2720 366 2720 1022 \nC 2720 1607 2330 1877 2074 2051 \nL 1741 2289 \nz\nM 902 2855 \nC 851 2887 595 3086 595 3388 \nC 595 3781 998 4076 1459 4076 \nC 1965 4076 2336 3716 2336 3298 \nC 2336 2700 1670 2359 1638 2359 \nC 1632 2359 1626 2359 1574 2398 \nL 902 2855 \nz\nM 2080 1536 \nC 2176 1466 2483 1253 2483 861 \nC 2483 385 2010 25 1472 25 \nC 890 25 448 443 448 951 \nC 448 1459 838 1884 1280 2083 \nL 2080 1536 \nz\n\" id=\"CMR17-38\" transform=\"scale(0.015625)\"/>\n       </defs>\n       <use transform=\"scale(0.996264)\" xlink:href=\"#CMR17-31\"/>\n       <use transform=\"translate(45.690477 0)scale(0.996264)\" xlink:href=\"#CMR17-38\"/>\n      </g>\n     </g>\n    </g>\n    <g id=\"ytick_10\">\n     <g id=\"line2d_20\">\n      <path clip-path=\"url(#p536208311a)\" d=\"M 44.767091 63.536727 \nL 212.167091 63.536727 \n\" style=\"fill:none;stroke:#b0b0b0;stroke-linecap:square;stroke-opacity:0.3;stroke-width:0.8;\"/>\n     </g>\n     <g id=\"line2d_21\">\n      <g>\n       <use style=\"stroke:#000000;stroke-width:0.8;\" x=\"212.167091\" xlink:href=\"#m7ee21eecc3\" y=\"63.536727\"/>\n      </g>\n     </g>\n     <g id=\"text_17\">\n      <!-- $\\mathdefault{24}$ -->\n      <g transform=\"translate(219.167091 66.995976)scale(0.1 -0.1)\">\n       <defs>\n        <path d=\"M 2150 4147 \nC 2150 4281 2144 4288 2029 4288 \nL 128 1254 \nL 128 1088 \nL 1779 1088 \nL 1779 460 \nC 1779 230 1766 166 1318 166 \nL 1197 166 \nL 1197 0 \nC 1402 12 1747 12 1965 12 \nC 2182 12 2528 12 2733 0 \nL 2733 166 \nL 2611 166 \nC 2163 166 2150 230 2150 460 \nL 2150 1088 \nL 2803 1088 \nL 2803 1254 \nL 2150 1254 \nL 2150 4147 \nz\nM 1798 3723 \nL 1798 1254 \nL 256 1254 \nL 1798 3723 \nz\n\" id=\"CMR17-34\" transform=\"scale(0.015625)\"/>\n       </defs>\n       <use transform=\"scale(0.996264)\" xlink:href=\"#CMR17-32\"/>\n       <use transform=\"translate(45.690477 0)scale(0.996264)\" xlink:href=\"#CMR17-34\"/>\n      </g>\n     </g>\n    </g>\n    <g id=\"ytick_11\">\n     <g id=\"line2d_22\">\n      <path clip-path=\"url(#p536208311a)\" d=\"M 44.767091 51.676364 \nL 212.167091 51.676364 \n\" style=\"fill:none;stroke:#b0b0b0;stroke-linecap:square;stroke-opacity:0.3;stroke-width:0.8;\"/>\n     </g>\n     <g id=\"line2d_23\">\n      <g>\n       <use style=\"stroke:#000000;stroke-width:0.8;\" x=\"212.167091\" xlink:href=\"#m7ee21eecc3\" y=\"51.676364\"/>\n      </g>\n     </g>\n     <g id=\"text_18\">\n      <!-- $\\mathdefault{30}$ -->\n      <g transform=\"translate(219.167091 55.135613)scale(0.1 -0.1)\">\n       <defs>\n        <path d=\"M 1414 2176 \nC 1984 2176 2234 1673 2234 1094 \nC 2234 322 1824 25 1453 25 \nC 1114 25 563 193 390 691 \nC 422 678 454 678 486 678 \nC 640 678 755 780 755 947 \nC 755 1132 614 1216 486 1216 \nC 378 1216 211 1164 211 927 \nC 211 335 787 -128 1466 -128 \nC 2176 -128 2720 432 2720 1087 \nC 2720 1718 2208 2176 1600 2246 \nC 2086 2347 2554 2776 2554 3353 \nC 2554 3856 2048 4224 1472 4224 \nC 890 4224 378 3862 378 3347 \nC 378 3123 544 3084 627 3084 \nC 762 3084 877 3167 877 3334 \nC 877 3500 762 3584 627 3584 \nC 602 3584 570 3584 544 3571 \nC 730 3999 1235 4076 1459 4076 \nC 1683 4076 2106 3966 2106 3347 \nC 2106 3167 2080 2851 1862 2574 \nC 1670 2329 1453 2316 1242 2297 \nC 1210 2297 1062 2284 1037 2284 \nC 992 2278 966 2272 966 2227 \nC 966 2182 973 2176 1101 2176 \nL 1414 2176 \nz\n\" id=\"CMR17-33\" transform=\"scale(0.015625)\"/>\n       </defs>\n       <use transform=\"scale(0.996264)\" xlink:href=\"#CMR17-33\"/>\n       <use transform=\"translate(45.690477 0)scale(0.996264)\" xlink:href=\"#CMR17-30\"/>\n      </g>\n     </g>\n    </g>\n    <g id=\"ytick_12\">\n     <g id=\"line2d_24\">\n      <path clip-path=\"url(#p536208311a)\" d=\"M 44.767091 39.816 \nL 212.167091 39.816 \n\" style=\"fill:none;stroke:#b0b0b0;stroke-linecap:square;stroke-opacity:0.3;stroke-width:0.8;\"/>\n     </g>\n     <g id=\"line2d_25\">\n      <g>\n       <use style=\"stroke:#000000;stroke-width:0.8;\" x=\"212.167091\" xlink:href=\"#m7ee21eecc3\" y=\"39.816\"/>\n      </g>\n     </g>\n     <g id=\"text_19\">\n      <!-- $\\mathdefault{36}$ -->\n      <g transform=\"translate(219.167091 43.275249)scale(0.1 -0.1)\">\n       <use transform=\"scale(0.996264)\" xlink:href=\"#CMR17-33\"/>\n       <use transform=\"translate(45.690477 0)scale(0.996264)\" xlink:href=\"#CMR17-36\"/>\n      </g>\n     </g>\n    </g>\n    <g id=\"ytick_13\">\n     <g id=\"line2d_26\">\n      <path clip-path=\"url(#p536208311a)\" d=\"M 44.767091 27.955636 \nL 212.167091 27.955636 \n\" style=\"fill:none;stroke:#b0b0b0;stroke-linecap:square;stroke-opacity:0.3;stroke-width:0.8;\"/>\n     </g>\n     <g id=\"line2d_27\">\n      <g>\n       <use style=\"stroke:#000000;stroke-width:0.8;\" x=\"212.167091\" xlink:href=\"#m7ee21eecc3\" y=\"27.955636\"/>\n      </g>\n     </g>\n     <g id=\"text_20\">\n      <!-- $\\mathdefault{42}$ -->\n      <g transform=\"translate(219.167091 31.414886)scale(0.1 -0.1)\">\n       <use transform=\"scale(0.996264)\" xlink:href=\"#CMR17-34\"/>\n       <use transform=\"translate(45.690477 0)scale(0.996264)\" xlink:href=\"#CMR17-32\"/>\n      </g>\n     </g>\n    </g>\n    <g id=\"ytick_14\">\n     <g id=\"line2d_28\">\n      <path clip-path=\"url(#p536208311a)\" d=\"M 44.767091 16.095273 \nL 212.167091 16.095273 \n\" style=\"fill:none;stroke:#b0b0b0;stroke-linecap:square;stroke-opacity:0.3;stroke-width:0.8;\"/>\n     </g>\n     <g id=\"line2d_29\">\n      <g>\n       <use style=\"stroke:#000000;stroke-width:0.8;\" x=\"212.167091\" xlink:href=\"#m7ee21eecc3\" y=\"16.095273\"/>\n      </g>\n     </g>\n     <g id=\"text_21\">\n      <!-- $\\mathdefault{48}$ -->\n      <g transform=\"translate(219.167091 19.554522)scale(0.1 -0.1)\">\n       <use transform=\"scale(0.996264)\" xlink:href=\"#CMR17-34\"/>\n       <use transform=\"translate(45.690477 0)scale(0.996264)\" xlink:href=\"#CMR17-38\"/>\n      </g>\n     </g>\n    </g>\n    <g id=\"text_22\">\n     <!-- Number of Features -->\n     <g style=\"fill:#0000ff;\" transform=\"translate(240.04826 104.856052)rotate(-90)scale(0.1 -0.1)\">\n      <defs>\n       <path d=\"M 1312 4275 \nC 1267 4345 1261 4352 1139 4352 \nL 326 4352 \nL 326 4185 \nL 448 4185 \nC 704 4185 819 4153 838 4147 \nL 838 624 \nC 838 465 838 166 326 166 \nL 326 0 \nC 474 12 742 12 902 12 \nC 1062 12 1331 12 1478 0 \nL 1478 166 \nC 966 166 966 465 966 624 \nL 966 4057 \nC 1011 4019 1011 4007 1056 3943 \nL 3430 76 \nC 3475 0 3494 0 3526 0 \nC 3590 0 3590 19 3590 140 \nL 3590 3726 \nC 3590 3885 3590 4185 4102 4185 \nL 4102 4352 \nC 3955 4339 3686 4339 3526 4339 \nC 3366 4339 3098 4339 2950 4352 \nL 2950 4185 \nC 3462 4185 3462 3885 3462 3726 \nL 3462 777 \nL 1312 4275 \nz\n\" id=\"CMR17-4e\" transform=\"scale(0.015625)\"/>\n       <path d=\"M 4326 1954 \nC 4326 2276 4269 2816 3507 2816 \nC 3072 2816 2771 2520 2656 2173 \nL 2650 2173 \nC 2573 2700 2195 2816 1837 2816 \nC 1331 2816 1069 2424 973 2166 \nL 966 2166 \nL 966 2816 \nL 211 2745 \nL 211 2578 \nC 589 2578 646 2540 646 2231 \nL 646 443 \nC 646 198 621 166 211 166 \nL 211 0 \nC 365 12 646 12 813 12 \nC 979 12 1267 12 1421 0 \nL 1421 166 \nC 1011 166 986 192 986 443 \nL 986 1678 \nC 986 2269 1344 2713 1792 2713 \nC 2266 2713 2317 2289 2317 1980 \nL 2317 443 \nC 2317 198 2291 166 1882 166 \nL 1882 0 \nC 2035 12 2317 12 2483 12 \nC 2650 12 2938 12 3091 0 \nL 3091 166 \nC 2682 166 2656 192 2656 443 \nL 2656 1678 \nC 2656 2269 3014 2713 3462 2713 \nC 3936 2713 3987 2289 3987 1980 \nL 3987 443 \nC 3987 198 3962 166 3552 166 \nL 3552 0 \nC 3706 12 3987 12 4154 12 \nC 4320 12 4608 12 4762 0 \nL 4762 166 \nC 4352 166 4326 192 4326 443 \nL 4326 1954 \nz\n\" id=\"CMR17-6d\" transform=\"scale(0.015625)\"/>\n       <path d=\"M 960 4416 \nL 198 4345 \nL 198 4179 \nC 576 4179 634 4141 634 3843 \nL 634 -13 \nL 749 -13 \nL 934 445 \nC 1120 141 1395 -64 1766 -64 \nC 2406 -64 3053 503 3053 1382 \nC 3053 2209 2477 2816 1830 2816 \nC 1434 2816 1152 2603 960 2351 \nL 960 4416 \nz\nM 973 2022 \nC 973 2138 973 2157 1062 2293 \nC 1312 2681 1670 2713 1792 2713 \nC 1984 2713 2643 2610 2643 1388 \nC 2643 109 1888 38 1734 38 \nC 1536 38 1248 115 1043 490 \nC 973 613 973 626 973 742 \nL 973 2022 \nz\n\" id=\"CMR17-62\" transform=\"scale(0.015625)\"/>\n       <path d=\"M 2438 1503 \nC 2464 1529 2464 1542 2464 1606 \nC 2464 2251 2118 2816 1389 2816 \nC 710 2816 173 2175 173 1394 \nC 173 554 781 -64 1459 -64 \nC 2176 -64 2458 619 2458 755 \nC 2458 800 2419 800 2406 800 \nC 2362 800 2355 787 2330 709 \nC 2189 270 1837 51 1504 51 \nC 1229 51 954 206 781 490 \nC 582 819 582 1200 582 1503 \nL 2438 1503 \nz\nM 589 1600 \nC 634 2511 1126 2713 1382 2713 \nC 1818 2713 2112 2308 2118 1600 \nL 589 1600 \nz\n\" id=\"CMR17-65\" transform=\"scale(0.015625)\"/>\n       <path d=\"M 979 2585 \nL 1709 2585 \nL 1709 2752 \nL 966 2752 \nL 966 3539 \nC 966 4076 1235 4377 1510 4377 \nC 1594 4377 1690 4363 1754 4339 \nC 1702 4326 1568 4281 1568 4121 \nC 1568 3955 1696 3904 1786 3904 \nC 1875 3904 2003 3955 2003 4121 \nC 2003 4353 1773 4480 1517 4480 \nC 1152 4480 653 4211 653 3526 \nL 653 2752 \nL 141 2752 \nL 141 2585 \nL 653 2585 \nL 653 441 \nC 653 198 627 166 218 166 \nL 218 0 \nC 371 12 666 12 832 12 \nC 1018 12 1344 12 1517 0 \nL 1517 166 \nC 1056 166 979 166 979 454 \nL 979 2585 \nz\n\" id=\"CMR17-66\" transform=\"scale(0.015625)\"/>\n       <path d=\"M 3482 4339 \nL 326 4339 \nL 326 4172 \nC 768 4172 838 4172 838 3883 \nL 838 450 \nC 838 166 768 166 326 166 \nL 326 0 \nC 512 12 870 12 1069 12 \nC 1331 12 1638 12 1901 0 \nL 1901 166 \nL 1760 166 \nC 1274 166 1261 229 1261 456 \nL 1261 2073 \nL 1837 2073 \nC 2432 2073 2490 1865 2490 1334 \nL 2605 1334 \nL 2605 2991 \nL 2490 2991 \nC 2490 2451 2432 2240 1837 2240 \nL 1261 2240 \nL 1261 3922 \nC 1261 4140 1274 4172 1530 4172 \nL 2355 4172 \nC 3322 4172 3430 3774 3520 2920 \nL 3635 2920 \nL 3482 4339 \nz\n\" id=\"CMR17-46\" transform=\"scale(0.015625)\"/>\n       <path d=\"M 966 2585 \nL 1862 2585 \nL 1862 2752 \nL 966 2752 \nL 966 3968 \nL 851 3968 \nC 838 3292 614 2700 70 2687 \nL 70 2585 \nL 627 2585 \nL 627 778 \nC 627 655 627 -64 1370 -64 \nC 1747 -64 1965 308 1965 784 \nL 1965 1151 \nL 1850 1151 \nL 1850 790 \nC 1850 347 1677 51 1408 51 \nC 1222 51 966 179 966 765 \nL 966 2585 \nz\n\" id=\"CMR17-74\" transform=\"scale(0.015625)\"/>\n       <path d=\"M 1978 2688 \nC 1978 2803 1971 2809 1933 2809 \nC 1907 2809 1901 2803 1824 2707 \nC 1805 2681 1747 2617 1728 2592 \nC 1523 2809 1235 2816 1126 2816 \nC 416 2816 160 2444 160 2073 \nC 160 1497 813 1363 998 1324 \nC 1402 1241 1542 1216 1677 1100 \nC 1760 1024 1901 883 1901 652 \nC 1901 384 1747 38 1158 38 \nC 602 38 403 460 288 1024 \nC 269 1113 269 1120 218 1120 \nC 166 1120 160 1113 160 985 \nL 160 64 \nC 160 -52 166 -58 205 -58 \nC 237 -58 243 -52 275 0 \nC 314 57 410 211 448 275 \nC 576 102 800 -64 1158 -64 \nC 1792 -64 2131 281 2131 780 \nC 2131 1107 1958 1280 1875 1356 \nC 1683 1555 1459 1600 1190 1651 \nC 838 1728 390 1817 390 2208 \nC 390 2374 480 2726 1126 2726 \nC 1811 2726 1850 2086 1862 1881 \nC 1869 1849 1901 1843 1920 1843 \nC 1978 1843 1978 1862 1978 1971 \nL 1978 2688 \nz\n\" id=\"CMR17-73\" transform=\"scale(0.015625)\"/>\n      </defs>\n      <use transform=\"scale(0.996264)\" xlink:href=\"#CMR17-4e\"/>\n      <use transform=\"translate(69.07243 0)scale(0.996264)\" xlink:href=\"#CMR17-75\"/>\n      <use transform=\"translate(119.9678 0)scale(0.996264)\" xlink:href=\"#CMR17-6d\"/>\n      <use transform=\"translate(194.284936 0)scale(0.996264)\" xlink:href=\"#CMR17-62\"/>\n      <use transform=\"translate(247.782744 0)scale(0.996264)\" xlink:href=\"#CMR17-65\"/>\n      <use transform=\"translate(288.268404 0)scale(0.996264)\" xlink:href=\"#CMR17-72\"/>\n      <use transform=\"translate(353.625139 0)scale(0.996264)\" xlink:href=\"#CMR17-6f\"/>\n      <use transform=\"translate(399.315616 0)scale(0.996264)\" xlink:href=\"#CMR17-66\"/>\n      <use transform=\"translate(456.865095 0)scale(0.996264)\" xlink:href=\"#CMR17-46\"/>\n      <use transform=\"translate(509.041686 0)scale(0.996264)\" xlink:href=\"#CMR17-65\"/>\n      <use transform=\"translate(549.527346 0)scale(0.996264)\" xlink:href=\"#CMR17-61\"/>\n      <use transform=\"translate(595.217823 0)scale(0.996264)\" xlink:href=\"#CMR17-74\"/>\n      <use transform=\"translate(630.498591 0)scale(0.996264)\" xlink:href=\"#CMR17-75\"/>\n      <use transform=\"translate(681.393961 0)scale(0.996264)\" xlink:href=\"#CMR17-72\"/>\n      <use transform=\"translate(716.674729 0)scale(0.996264)\" xlink:href=\"#CMR17-65\"/>\n      <use transform=\"translate(757.160389 0)scale(0.996264)\" xlink:href=\"#CMR17-73\"/>\n     </g>\n    </g>\n   </g>\n   <g id=\"line2d_30\">\n    <path clip-path=\"url(#p536208311a)\" d=\"M 44.767091 12.141818 \nL 51.742091 24.002182 \nL 58.717091 29.932364 \nL 65.692091 37.839273 \nL 72.667091 43.769455 \nL 79.642091 47.722909 \nL 86.617091 49.699636 \nL 93.592091 51.676364 \nL 100.567091 55.629818 \nL 107.542091 55.629818 \nL 114.517091 59.583273 \nL 121.492091 73.420364 \nL 128.467091 77.373818 \nL 135.442091 91.210909 \nL 142.417091 95.164364 \nL 149.392091 95.164364 \nL 156.367091 101.094545 \nL 163.342091 105.048 \nL 170.317091 107.024727 \nL 177.292091 110.978182 \nL 184.267091 110.978182 \nL 191.242091 110.978182 \nL 198.217091 110.978182 \nL 205.192091 110.978182 \nL 212.167091 110.978182 \n\" style=\"fill:none;stroke:#4682b4;stroke-linecap:square;stroke-width:1.5;\"/>\n   </g>\n   <g id=\"patch_7\">\n    <path d=\"M 44.767091 115.92 \nL 44.767091 7.2 \n\" style=\"fill:none;stroke:#000000;stroke-linecap:square;stroke-linejoin:miter;stroke-width:0.8;\"/>\n   </g>\n   <g id=\"patch_8\">\n    <path d=\"M 212.167091 115.92 \nL 212.167091 7.2 \n\" style=\"fill:none;stroke:#000000;stroke-linecap:square;stroke-linejoin:miter;stroke-width:0.8;\"/>\n   </g>\n   <g id=\"patch_9\">\n    <path d=\"M 44.767091 115.92 \nL 212.167091 115.92 \n\" style=\"fill:none;stroke:#000000;stroke-linecap:square;stroke-linejoin:miter;stroke-width:0.8;\"/>\n   </g>\n   <g id=\"patch_10\">\n    <path d=\"M 44.767091 7.2 \nL 212.167091 7.2 \n\" style=\"fill:none;stroke:#000000;stroke-linecap:square;stroke-linejoin:miter;stroke-width:0.8;\"/>\n   </g>\n  </g>\n </g>\n <defs>\n  <clipPath id=\"p536208311a\">\n   <rect height=\"108.72\" width=\"167.4\" x=\"44.767091\" y=\"7.2\"/>\n  </clipPath>\n </defs>\n</svg>\n",
      "text/plain": [
       "<Figure size 216x144 with 2 Axes>"
      ]
     },
     "metadata": {
      "needs_background": "light"
     },
     "output_type": "display_data"
    }
   ],
   "source": [
    "regularizers = np.geomspace(0.01, 1, 25)\n",
    "#sample_obj, features_names, classes_names = sample(descriptors, states_labels, 1000, states_subset=[0,1], states_names=[\"Low\", 'Hi'])\n",
    "pruned_classifier = classifier.prune(reg)\n",
    "pruned_classifier.compute(regularizers, max_iter= 10000)\n",
    "\n",
    "pruned_classifier.plot()"
   ]
  },
  {
   "cell_type": "code",
   "execution_count": 45,
   "metadata": {},
   "outputs": [
    {
     "data": {
      "image/svg+xml": "<?xml version=\"1.0\" encoding=\"utf-8\" standalone=\"no\"?>\n<!DOCTYPE svg PUBLIC \"-//W3C//DTD SVG 1.1//EN\"\n  \"http://www.w3.org/Graphics/SVG/1.1/DTD/svg11.dtd\">\n<svg height=\"172.627766pt\" version=\"1.1\" viewBox=\"0 0 252.552134 172.627766\" width=\"252.552134pt\" xmlns=\"http://www.w3.org/2000/svg\" xmlns:xlink=\"http://www.w3.org/1999/xlink\">\n <metadata>\n  <rdf:RDF xmlns:cc=\"http://creativecommons.org/ns#\" xmlns:dc=\"http://purl.org/dc/elements/1.1/\" xmlns:rdf=\"http://www.w3.org/1999/02/22-rdf-syntax-ns#\">\n   <cc:Work>\n    <dc:type rdf:resource=\"http://purl.org/dc/dcmitype/StillImage\"/>\n    <dc:date>2021-12-23T18:20:10.852978</dc:date>\n    <dc:format>image/svg+xml</dc:format>\n    <dc:creator>\n     <cc:Agent>\n      <dc:title>Matplotlib v3.4.3, https://matplotlib.org/</dc:title>\n     </cc:Agent>\n    </dc:creator>\n   </cc:Work>\n  </rdf:RDF>\n </metadata>\n <defs>\n  <style type=\"text/css\">*{stroke-linecap:butt;stroke-linejoin:round;}</style>\n </defs>\n <g id=\"figure_1\">\n  <g id=\"patch_1\">\n   <path d=\"M 0 172.627766 \nL 252.552134 172.627766 \nL 252.552134 0 \nL 0 0 \nz\n\" style=\"fill:none;\"/>\n  </g>\n  <g id=\"axes_1\">\n   <g id=\"patch_2\">\n    <path d=\"M 39.785756 135.609449 \nL 215.533787 135.609449 \nL 215.533787 7.2 \nL 39.785756 7.2 \nz\n\" style=\"fill:#ffffff;\"/>\n   </g>\n   <g id=\"matplotlib.axis_1\">\n    <g id=\"xtick_1\">\n     <g id=\"line2d_1\">\n      <defs>\n       <path d=\"M 0 0 \nL 0 3.5 \n\" id=\"mdab22397fd\" style=\"stroke:#000000;stroke-width:0.8;\"/>\n      </defs>\n      <g>\n       <use style=\"stroke:#000000;stroke-width:0.8;\" x=\"39.785756\" xlink:href=\"#mdab22397fd\" y=\"135.609449\"/>\n      </g>\n     </g>\n     <g id=\"text_1\">\n      <!-- $\\mathdefault{−2.0}$ -->\n      <g transform=\"translate(29.546344 149.527947)scale(0.1 -0.1)\">\n       <defs>\n        <path d=\"M 4218 1472 \nC 4326 1472 4442 1472 4442 1600 \nC 4442 1728 4326 1728 4218 1728 \nL 755 1728 \nC 646 1728 531 1728 531 1600 \nC 531 1472 646 1472 755 1472 \nL 4218 1472 \nz\n\" id=\"CMSY10-0\" transform=\"scale(0.015625)\"/>\n        <path d=\"M 2669 990 \nL 2554 990 \nC 2490 537 2438 460 2413 422 \nC 2381 371 1920 371 1830 371 \nL 602 371 \nC 832 620 1280 1073 1824 1596 \nC 2214 1966 2669 2400 2669 3033 \nC 2669 3788 2067 4224 1395 4224 \nC 691 4224 262 3603 262 3027 \nC 262 2777 448 2745 525 2745 \nC 589 2745 781 2783 781 3007 \nC 781 3206 614 3264 525 3264 \nC 486 3264 448 3257 422 3244 \nC 544 3788 915 4057 1306 4057 \nC 1862 4057 2227 3616 2227 3033 \nC 2227 2477 1901 1998 1536 1583 \nL 262 147 \nL 262 0 \nL 2515 0 \nL 2669 990 \nz\n\" id=\"CMR17-32\" transform=\"scale(0.015625)\"/>\n        <path d=\"M 1178 307 \nC 1178 492 1024 620 870 620 \nC 685 620 557 467 557 313 \nC 557 128 710 0 864 0 \nC 1050 0 1178 153 1178 307 \nz\n\" id=\"CMMI12-3a\" transform=\"scale(0.015625)\"/>\n        <path d=\"M 2688 2038 \nC 2688 2430 2682 3099 2413 3613 \nC 2176 4063 1798 4224 1466 4224 \nC 1158 4224 768 4082 525 3620 \nC 269 3137 243 2539 243 2038 \nC 243 1671 250 1112 448 623 \nC 723 -39 1216 -128 1466 -128 \nC 1760 -128 2208 -7 2470 604 \nC 2662 1048 2688 1568 2688 2038 \nz\nM 1466 -26 \nC 1056 -26 813 328 723 816 \nC 653 1196 653 1749 653 2109 \nC 653 2604 653 3015 736 3407 \nC 858 3954 1216 4121 1466 4121 \nC 1728 4121 2067 3947 2189 3420 \nC 2272 3054 2278 2623 2278 2109 \nC 2278 1691 2278 1176 2202 797 \nC 2067 96 1690 -26 1466 -26 \nz\n\" id=\"CMR17-30\" transform=\"scale(0.015625)\"/>\n       </defs>\n       <use transform=\"scale(0.996264)\" xlink:href=\"#CMSY10-0\"/>\n       <use transform=\"translate(77.487468 0)scale(0.996264)\" xlink:href=\"#CMR17-32\"/>\n       <use transform=\"translate(123.177945 0)scale(0.996264)\" xlink:href=\"#CMMI12-3a\"/>\n       <use transform=\"translate(150.275122 0)scale(0.996264)\" xlink:href=\"#CMR17-30\"/>\n      </g>\n     </g>\n    </g>\n    <g id=\"xtick_2\">\n     <g id=\"line2d_2\">\n      <g>\n       <use style=\"stroke:#000000;stroke-width:0.8;\" x=\"83.722764\" xlink:href=\"#mdab22397fd\" y=\"135.609449\"/>\n      </g>\n     </g>\n     <g id=\"text_2\">\n      <!-- $\\mathdefault{−1.5}$ -->\n      <g transform=\"translate(73.483352 149.527947)scale(0.1 -0.1)\">\n       <defs>\n        <path d=\"M 1702 4083 \nC 1702 4217 1696 4224 1606 4224 \nC 1357 3927 979 3833 621 3820 \nC 602 3820 570 3820 563 3808 \nC 557 3795 557 3782 557 3648 \nC 755 3648 1088 3686 1344 3839 \nL 1344 467 \nC 1344 243 1331 166 781 166 \nL 589 166 \nL 589 0 \nC 896 6 1216 12 1523 12 \nC 1830 12 2150 6 2458 0 \nL 2458 166 \nL 2266 166 \nC 1715 166 1702 236 1702 467 \nL 1702 4083 \nz\n\" id=\"CMR17-31\" transform=\"scale(0.015625)\"/>\n        <path d=\"M 730 3750 \nC 794 3724 1056 3641 1325 3641 \nC 1920 3641 2246 3961 2432 4140 \nC 2432 4191 2432 4224 2394 4224 \nC 2387 4224 2374 4224 2323 4198 \nC 2099 4102 1837 4032 1517 4032 \nC 1325 4032 1037 4055 723 4191 \nC 653 4224 640 4224 634 4224 \nC 602 4224 595 4217 595 4090 \nL 595 2231 \nC 595 2113 595 2080 659 2080 \nC 691 2080 704 2093 736 2139 \nC 941 2435 1222 2560 1542 2560 \nC 1766 2560 2246 2415 2246 1293 \nC 2246 1087 2246 716 2054 422 \nC 1894 159 1645 25 1370 25 \nC 947 25 518 319 403 812 \nC 429 806 480 793 506 793 \nC 589 793 749 838 749 1036 \nC 749 1209 627 1280 506 1280 \nC 358 1280 262 1190 262 1011 \nC 262 454 704 -128 1382 -128 \nC 2042 -128 2669 441 2669 1267 \nC 2669 2054 2170 2662 1549 2662 \nC 1222 2662 947 2540 730 2304 \nL 730 3750 \nz\n\" id=\"CMR17-35\" transform=\"scale(0.015625)\"/>\n       </defs>\n       <use transform=\"scale(0.996264)\" xlink:href=\"#CMSY10-0\"/>\n       <use transform=\"translate(77.487468 0)scale(0.996264)\" xlink:href=\"#CMR17-31\"/>\n       <use transform=\"translate(123.177945 0)scale(0.996264)\" xlink:href=\"#CMMI12-3a\"/>\n       <use transform=\"translate(150.275122 0)scale(0.996264)\" xlink:href=\"#CMR17-35\"/>\n      </g>\n     </g>\n    </g>\n    <g id=\"xtick_3\">\n     <g id=\"line2d_3\">\n      <g>\n       <use style=\"stroke:#000000;stroke-width:0.8;\" x=\"127.659771\" xlink:href=\"#mdab22397fd\" y=\"135.609449\"/>\n      </g>\n     </g>\n     <g id=\"text_3\">\n      <!-- $\\mathdefault{−1.0}$ -->\n      <g transform=\"translate(117.42036 149.527947)scale(0.1 -0.1)\">\n       <use transform=\"scale(0.996264)\" xlink:href=\"#CMSY10-0\"/>\n       <use transform=\"translate(77.487468 0)scale(0.996264)\" xlink:href=\"#CMR17-31\"/>\n       <use transform=\"translate(123.177945 0)scale(0.996264)\" xlink:href=\"#CMMI12-3a\"/>\n       <use transform=\"translate(150.275122 0)scale(0.996264)\" xlink:href=\"#CMR17-30\"/>\n      </g>\n     </g>\n    </g>\n    <g id=\"xtick_4\">\n     <g id=\"line2d_4\">\n      <g>\n       <use style=\"stroke:#000000;stroke-width:0.8;\" x=\"171.596779\" xlink:href=\"#mdab22397fd\" y=\"135.609449\"/>\n      </g>\n     </g>\n     <g id=\"text_4\">\n      <!-- $\\mathdefault{−0.5}$ -->\n      <g transform=\"translate(161.357368 149.527947)scale(0.1 -0.1)\">\n       <use transform=\"scale(0.996264)\" xlink:href=\"#CMSY10-0\"/>\n       <use transform=\"translate(77.487468 0)scale(0.996264)\" xlink:href=\"#CMR17-30\"/>\n       <use transform=\"translate(123.177945 0)scale(0.996264)\" xlink:href=\"#CMMI12-3a\"/>\n       <use transform=\"translate(150.275122 0)scale(0.996264)\" xlink:href=\"#CMR17-35\"/>\n      </g>\n     </g>\n    </g>\n    <g id=\"xtick_5\">\n     <g id=\"line2d_5\">\n      <g>\n       <use style=\"stroke:#000000;stroke-width:0.8;\" x=\"215.533787\" xlink:href=\"#mdab22397fd\" y=\"135.609449\"/>\n      </g>\n     </g>\n     <g id=\"text_5\">\n      <!-- $\\mathdefault{0.0}$ -->\n      <g transform=\"translate(209.168748 149.527947)scale(0.1 -0.1)\">\n       <use transform=\"scale(0.996264)\" xlink:href=\"#CMR17-30\"/>\n       <use transform=\"translate(45.690477 0)scale(0.996264)\" xlink:href=\"#CMMI12-3a\"/>\n       <use transform=\"translate(72.787654 0)scale(0.996264)\" xlink:href=\"#CMR17-30\"/>\n      </g>\n     </g>\n    </g>\n    <g id=\"text_6\">\n     <!-- $\\log_{10}(\\lambda)$ -->\n     <g transform=\"translate(110.225098 162.937106)scale(0.1 -0.1)\">\n      <defs>\n       <path d=\"M 979 4416 \nL 218 4345 \nL 218 4179 \nC 595 4179 653 4141 653 3835 \nL 653 439 \nC 653 198 627 166 218 166 \nL 218 0 \nC 371 12 653 12 813 12 \nC 979 12 1261 12 1414 0 \nL 1414 166 \nC 1005 166 979 191 979 439 \nL 979 4416 \nz\n\" id=\"CMR17-6c\" transform=\"scale(0.015625)\"/>\n       <path d=\"M 2758 1356 \nC 2758 2176 2163 2816 1466 2816 \nC 768 2816 173 2176 173 1356 \nC 173 550 768 -64 1466 -64 \nC 2163 -64 2758 550 2758 1356 \nz\nM 1466 51 \nC 1165 51 909 230 762 480 \nC 602 768 582 1126 582 1408 \nC 582 1676 595 2009 762 2297 \nC 890 2508 1139 2713 1466 2713 \nC 1754 2713 1997 2553 2150 2329 \nC 2349 2028 2349 1606 2349 1408 \nC 2349 1158 2336 774 2163 467 \nC 1984 172 1709 51 1466 51 \nz\n\" id=\"CMR17-6f\" transform=\"scale(0.015625)\"/>\n       <path d=\"M 710 1165 \nC 832 1068 1043 960 1299 960 \nC 1805 960 2240 1359 2240 1895 \nC 2240 2063 2189 2321 1997 2521 \nC 2176 2713 2438 2777 2586 2777 \nC 2611 2777 2650 2777 2682 2758 \nC 2656 2751 2598 2726 2598 2623 \nC 2598 2540 2656 2483 2739 2483 \nC 2835 2483 2886 2547 2886 2630 \nC 2886 2751 2790 2880 2586 2880 \nC 2330 2880 2106 2758 1926 2591 \nC 1734 2764 1504 2828 1299 2828 \nC 794 2828 358 2431 358 1895 \nC 358 1527 570 1294 634 1230 \nC 442 1004 442 742 442 710 \nC 442 544 506 300 723 166 \nC 390 82 128 -184 128 -517 \nC 128 -996 736 -1344 1466 -1344 \nC 2170 -1344 2803 -1009 2803 -510 \nC 2803 384 1856 384 1363 384 \nC 1216 384 954 384 922 390 \nC 723 422 589 601 589 825 \nC 589 883 589 1024 710 1165 \nz\nM 1299 1068 \nC 736 1068 736 1766 736 1895 \nC 736 2024 736 2719 1299 2719 \nC 1862 2719 1862 2024 1862 1895 \nC 1862 1766 1862 1068 1299 1068 \nz\nM 1466 -1236 \nC 826 -1236 384 -883 384 -517 \nC 384 -311 493 -118 634 -11 \nC 794 102 858 102 1293 102 \nC 1818 102 2547 102 2547 -517 \nC 2547 -883 2106 -1236 1466 -1236 \nz\n\" id=\"CMR17-67\" transform=\"scale(0.015625)\"/>\n       <path d=\"M 1958 -1562 \nC 1958 -1556 1958 -1543 1939 -1524 \nC 1645 -1223 858 -403 858 1596 \nC 858 3595 1632 4408 1946 4729 \nC 1946 4735 1958 4748 1958 4767 \nC 1958 4787 1939 4800 1914 4800 \nC 1843 4800 1299 4325 986 3620 \nC 666 2909 576 2218 576 1603 \nC 576 1141 621 360 1005 -467 \nC 1312 -1133 1837 -1600 1914 -1600 \nC 1946 -1600 1958 -1588 1958 -1562 \nz\n\" id=\"CMR17-28\" transform=\"scale(0.015625)\"/>\n       <path d=\"M 1978 3963 \nC 1818 4416 1312 4416 1229 4416 \nC 1190 4416 1120 4416 1120 4351 \nC 1120 4300 1158 4294 1190 4287 \nC 1286 4275 1363 4262 1466 4078 \nC 1530 3957 2189 2055 2189 2042 \nC 2189 2036 2182 2029 2131 1978 \nL 467 305 \nC 390 229 339 178 339 95 \nC 339 6 416 -71 518 -71 \nC 544 -71 614 -58 653 -20 \nC 755 76 1670 1190 2253 1877 \nC 2419 1380 2624 795 2822 261 \nC 2854 165 2886 76 2976 -7 \nC 3040 -64 3053 -64 3232 -64 \nL 3354 -64 \nC 3379 -64 3424 -64 3424 -13 \nC 3424 12 3418 19 3392 44 \nC 3334 114 3290 229 3264 305 \nL 1978 3963 \nz\n\" id=\"CMMI12-15\" transform=\"scale(0.015625)\"/>\n       <path d=\"M 1683 1596 \nC 1683 2057 1638 2839 1254 3665 \nC 947 4332 422 4800 346 4800 \nC 326 4800 301 4793 301 4761 \nC 301 4748 307 4742 314 4729 \nC 621 4408 1402 3595 1402 1603 \nC 1402 -396 627 -1210 314 -1530 \nC 307 -1543 301 -1549 301 -1562 \nC 301 -1594 326 -1600 346 -1600 \nC 416 -1600 960 -1127 1274 -422 \nC 1594 289 1683 981 1683 1596 \nz\n\" id=\"CMR17-29\" transform=\"scale(0.015625)\"/>\n      </defs>\n      <use transform=\"scale(0.996264)\" xlink:href=\"#CMR17-6c\"/>\n      <use transform=\"translate(24.871058 0)scale(0.996264)\" xlink:href=\"#CMR17-6f\"/>\n      <use transform=\"translate(70.561536 0)scale(0.996264)\" xlink:href=\"#CMR17-67\"/>\n      <use transform=\"translate(117.553179 -22.865092)scale(0.697382)\" xlink:href=\"#CMR17-31\"/>\n      <use transform=\"translate(149.536361 -22.865092)scale(0.697382)\" xlink:href=\"#CMR17-30\"/>\n      <use transform=\"translate(182.017675 0)scale(0.996264)\" xlink:href=\"#CMR17-28\"/>\n      <use transform=\"translate(217.298443 0)scale(0.996264)\" xlink:href=\"#CMMI12-15\"/>\n      <use transform=\"translate(274.202514 0)scale(0.996264)\" xlink:href=\"#CMR17-29\"/>\n     </g>\n    </g>\n   </g>\n   <g id=\"matplotlib.axis_2\">\n    <g id=\"ytick_1\">\n     <g id=\"line2d_6\">\n      <defs>\n       <path d=\"M 0 0 \nL -3.5 0 \n\" id=\"m92863fda7c\" style=\"stroke:#000000;stroke-width:0.8;\"/>\n      </defs>\n      <g>\n       <use style=\"stroke:#000000;stroke-width:0.8;\" x=\"39.785756\" xlink:href=\"#m92863fda7c\" y=\"135.609449\"/>\n      </g>\n     </g>\n     <g id=\"text_7\">\n      <!-- $\\mathdefault{0.0}$ -->\n      <g transform=\"translate(20.055677 139.068698)scale(0.1 -0.1)\">\n       <use transform=\"scale(0.996264)\" xlink:href=\"#CMR17-30\"/>\n       <use transform=\"translate(45.690477 0)scale(0.996264)\" xlink:href=\"#CMMI12-3a\"/>\n       <use transform=\"translate(72.787654 0)scale(0.996264)\" xlink:href=\"#CMR17-30\"/>\n      </g>\n     </g>\n    </g>\n    <g id=\"ytick_2\">\n     <g id=\"line2d_7\">\n      <g>\n       <use style=\"stroke:#000000;stroke-width:0.8;\" x=\"39.785756\" xlink:href=\"#m92863fda7c\" y=\"112.262276\"/>\n      </g>\n     </g>\n     <g id=\"text_8\">\n      <!-- $\\mathdefault{0.2}$ -->\n      <g transform=\"translate(20.055677 115.721525)scale(0.1 -0.1)\">\n       <use transform=\"scale(0.996264)\" xlink:href=\"#CMR17-30\"/>\n       <use transform=\"translate(45.690477 0)scale(0.996264)\" xlink:href=\"#CMMI12-3a\"/>\n       <use transform=\"translate(72.787654 0)scale(0.996264)\" xlink:href=\"#CMR17-32\"/>\n      </g>\n     </g>\n    </g>\n    <g id=\"ytick_3\">\n     <g id=\"line2d_8\">\n      <g>\n       <use style=\"stroke:#000000;stroke-width:0.8;\" x=\"39.785756\" xlink:href=\"#m92863fda7c\" y=\"88.915104\"/>\n      </g>\n     </g>\n     <g id=\"text_9\">\n      <!-- $\\mathdefault{0.4}$ -->\n      <g transform=\"translate(20.055677 92.374353)scale(0.1 -0.1)\">\n       <defs>\n        <path d=\"M 2150 4147 \nC 2150 4281 2144 4288 2029 4288 \nL 128 1254 \nL 128 1088 \nL 1779 1088 \nL 1779 460 \nC 1779 230 1766 166 1318 166 \nL 1197 166 \nL 1197 0 \nC 1402 12 1747 12 1965 12 \nC 2182 12 2528 12 2733 0 \nL 2733 166 \nL 2611 166 \nC 2163 166 2150 230 2150 460 \nL 2150 1088 \nL 2803 1088 \nL 2803 1254 \nL 2150 1254 \nL 2150 4147 \nz\nM 1798 3723 \nL 1798 1254 \nL 256 1254 \nL 1798 3723 \nz\n\" id=\"CMR17-34\" transform=\"scale(0.015625)\"/>\n       </defs>\n       <use transform=\"scale(0.996264)\" xlink:href=\"#CMR17-30\"/>\n       <use transform=\"translate(45.690477 0)scale(0.996264)\" xlink:href=\"#CMMI12-3a\"/>\n       <use transform=\"translate(72.787654 0)scale(0.996264)\" xlink:href=\"#CMR17-34\"/>\n      </g>\n     </g>\n    </g>\n    <g id=\"ytick_4\">\n     <g id=\"line2d_9\">\n      <g>\n       <use style=\"stroke:#000000;stroke-width:0.8;\" x=\"39.785756\" xlink:href=\"#m92863fda7c\" y=\"65.567931\"/>\n      </g>\n     </g>\n     <g id=\"text_10\">\n      <!-- $\\mathdefault{0.6}$ -->\n      <g transform=\"translate(20.055677 69.02718)scale(0.1 -0.1)\">\n       <defs>\n        <path d=\"M 678 2198 \nC 678 3712 1395 4076 1811 4076 \nC 1946 4076 2272 4049 2400 3782 \nC 2298 3782 2106 3782 2106 3558 \nC 2106 3385 2246 3328 2336 3328 \nC 2394 3328 2566 3353 2566 3571 \nC 2566 3987 2246 4224 1805 4224 \nC 1043 4224 243 3411 243 2011 \nC 243 257 966 -128 1478 -128 \nC 2099 -128 2688 431 2688 1295 \nC 2688 2101 2170 2688 1517 2688 \nC 1126 2688 838 2430 678 1979 \nL 678 2198 \nz\nM 1478 25 \nC 691 25 691 1212 691 1450 \nC 691 1914 909 2585 1504 2585 \nC 1613 2585 1926 2585 2138 2140 \nC 2253 1889 2253 1624 2253 1302 \nC 2253 954 2253 696 2118 438 \nC 1978 173 1773 25 1478 25 \nz\n\" id=\"CMR17-36\" transform=\"scale(0.015625)\"/>\n       </defs>\n       <use transform=\"scale(0.996264)\" xlink:href=\"#CMR17-30\"/>\n       <use transform=\"translate(45.690477 0)scale(0.996264)\" xlink:href=\"#CMMI12-3a\"/>\n       <use transform=\"translate(72.787654 0)scale(0.996264)\" xlink:href=\"#CMR17-36\"/>\n      </g>\n     </g>\n    </g>\n    <g id=\"ytick_5\">\n     <g id=\"line2d_10\">\n      <g>\n       <use style=\"stroke:#000000;stroke-width:0.8;\" x=\"39.785756\" xlink:href=\"#m92863fda7c\" y=\"42.220759\"/>\n      </g>\n     </g>\n     <g id=\"text_11\">\n      <!-- $\\mathdefault{0.8}$ -->\n      <g transform=\"translate(20.055677 45.680008)scale(0.1 -0.1)\">\n       <defs>\n        <path d=\"M 1741 2289 \nC 2144 2494 2554 2803 2554 3298 \nC 2554 3884 1990 4224 1472 4224 \nC 890 4224 378 3800 378 3215 \nC 378 3054 416 2777 666 2533 \nC 730 2469 998 2276 1171 2154 \nC 883 2006 211 1652 211 945 \nC 211 282 838 -128 1459 -128 \nC 2144 -128 2720 366 2720 1022 \nC 2720 1607 2330 1877 2074 2051 \nL 1741 2289 \nz\nM 902 2855 \nC 851 2887 595 3086 595 3388 \nC 595 3781 998 4076 1459 4076 \nC 1965 4076 2336 3716 2336 3298 \nC 2336 2700 1670 2359 1638 2359 \nC 1632 2359 1626 2359 1574 2398 \nL 902 2855 \nz\nM 2080 1536 \nC 2176 1466 2483 1253 2483 861 \nC 2483 385 2010 25 1472 25 \nC 890 25 448 443 448 951 \nC 448 1459 838 1884 1280 2083 \nL 2080 1536 \nz\n\" id=\"CMR17-38\" transform=\"scale(0.015625)\"/>\n       </defs>\n       <use transform=\"scale(0.996264)\" xlink:href=\"#CMR17-30\"/>\n       <use transform=\"translate(45.690477 0)scale(0.996264)\" xlink:href=\"#CMMI12-3a\"/>\n       <use transform=\"translate(72.787654 0)scale(0.996264)\" xlink:href=\"#CMR17-38\"/>\n      </g>\n     </g>\n    </g>\n    <g id=\"ytick_6\">\n     <g id=\"line2d_11\">\n      <g>\n       <use style=\"stroke:#000000;stroke-width:0.8;\" x=\"39.785756\" xlink:href=\"#m92863fda7c\" y=\"18.873586\"/>\n      </g>\n     </g>\n     <g id=\"text_12\">\n      <!-- $\\mathdefault{1.0}$ -->\n      <g transform=\"translate(20.055677 22.332835)scale(0.1 -0.1)\">\n       <use transform=\"scale(0.996264)\" xlink:href=\"#CMR17-31\"/>\n       <use transform=\"translate(45.690477 0)scale(0.996264)\" xlink:href=\"#CMMI12-3a\"/>\n       <use transform=\"translate(72.787654 0)scale(0.996264)\" xlink:href=\"#CMR17-30\"/>\n      </g>\n     </g>\n    </g>\n    <g id=\"text_13\">\n     <!-- Accuracy -->\n     <g style=\"fill:#ff0000;\" transform=\"translate(14.118498 91.620617)rotate(-90)scale(0.1 -0.1)\">\n      <defs>\n       <path d=\"M 2323 4441 \nC 2291 4524 2278 4544 2214 4544 \nC 2150 4544 2138 4524 2106 4441 \nL 749 580 \nC 627 236 371 166 147 166 \nL 147 0 \nC 262 12 518 12 640 12 \nC 800 12 1056 12 1210 0 \nL 1210 166 \nC 909 179 864 382 864 459 \nC 864 516 877 548 890 586 \nL 1229 1536 \nL 2906 1536 \nL 3290 453 \nC 3322 376 3322 363 3322 338 \nC 3322 166 3046 166 2925 166 \nL 2925 0 \nC 3110 12 3443 12 3642 12 \nC 3808 12 4128 12 4282 0 \nL 4282 166 \nC 3942 166 3827 166 3744 402 \nL 2323 4441 \nz\nM 2067 3924 \nL 2848 1702 \nL 1286 1702 \nL 2067 3924 \nz\n\" id=\"CMR17-41\" transform=\"scale(0.015625)\"/>\n       <path d=\"M 2234 2240 \nC 2112 2240 1933 2240 1933 2015 \nC 1933 1836 2080 1785 2163 1785 \nC 2208 1785 2394 1804 2394 2028 \nC 2394 2476 1958 2816 1466 2816 \nC 787 2816 211 2201 211 1379 \nC 211 521 813 -64 1466 -64 \nC 2259 -64 2458 676 2458 747 \nC 2458 773 2451 792 2406 792 \nC 2362 792 2355 786 2330 702 \nC 2163 180 1798 51 1523 51 \nC 1114 51 621 431 621 1385 \nC 621 2358 1094 2700 1472 2700 \nC 1722 2700 2093 2582 2234 2240 \nz\n\" id=\"CMR17-63\" transform=\"scale(0.015625)\"/>\n       <path d=\"M 1882 2745 \nL 1882 2579 \nC 2259 2579 2317 2540 2317 2229 \nL 2317 1053 \nC 2317 510 2029 38 1555 38 \nC 1030 38 986 355 986 691 \nL 986 2816 \nL 211 2745 \nL 211 2579 \nC 467 2579 640 2579 646 2320 \nL 646 1079 \nC 646 646 646 368 813 187 \nC 896 103 1056 -64 1517 -64 \nC 2061 -64 2272 400 2323 536 \nL 2330 536 \nL 2330 -64 \nL 3091 -13 \nL 3091 154 \nC 2714 154 2656 193 2656 503 \nL 2656 2816 \nL 1882 2745 \nz\n\" id=\"CMR17-75\" transform=\"scale(0.015625)\"/>\n       <path d=\"M 960 1517 \nC 960 2134 1222 2713 1702 2713 \nC 1747 2713 1792 2707 1837 2687 \nC 1837 2687 1696 2642 1696 2475 \nC 1696 2321 1818 2257 1914 2257 \nC 1990 2257 2131 2302 2131 2482 \nC 2131 2687 1926 2816 1709 2816 \nC 1222 2816 1011 2340 947 2115 \nL 941 2115 \nL 941 2816 \nL 198 2745 \nL 198 2578 \nC 576 2578 634 2540 634 2231 \nL 634 443 \nC 634 198 608 166 198 166 \nL 198 0 \nC 352 12 646 12 813 12 \nC 998 12 1325 12 1498 0 \nL 1498 166 \nC 1037 166 960 166 960 455 \nL 960 1517 \nz\n\" id=\"CMR17-72\" transform=\"scale(0.015625)\"/>\n       <path d=\"M 2304 1656 \nC 2304 2048 2304 2275 2035 2534 \nC 1798 2751 1523 2816 1306 2816 \nC 800 2816 435 2408 435 1977 \nC 435 1740 627 1728 666 1728 \nC 749 1728 896 1779 896 1958 \nC 896 2118 774 2188 666 2188 \nC 640 2188 608 2182 589 2176 \nC 723 2594 1069 2713 1293 2713 \nC 1613 2713 1965 2421 1965 1875 \nL 1965 1632 \nC 1587 1619 1133 1568 774 1373 \nC 371 1147 256 822 256 576 \nC 256 77 832 -64 1171 -64 \nC 1523 -64 1850 135 1990 505 \nC 2003 219 2182 -39 2464 -39 \nC 2598 -39 2938 51 2938 563 \nL 2938 926 \nL 2822 926 \nL 2822 557 \nC 2822 161 2650 109 2566 109 \nC 2304 109 2304 446 2304 732 \nL 2304 1656 \nz\nM 1965 887 \nC 1965 323 1568 38 1216 38 \nC 896 38 646 278 646 576 \nC 646 771 730 1114 1101 1322 \nC 1408 1497 1760 1523 1965 1536 \nL 1965 887 \nz\n\" id=\"CMR17-61\" transform=\"scale(0.015625)\"/>\n       <path d=\"M 2496 2183 \nC 2656 2579 2944 2585 3034 2585 \nL 3034 2752 \nC 2912 2745 2752 2739 2630 2739 \nC 2496 2739 2285 2739 2157 2752 \nL 2157 2585 \nC 2400 2566 2406 2384 2406 2332 \nC 2406 2268 2394 2235 2362 2158 \nL 1664 409 \nL 902 2300 \nC 870 2378 870 2423 870 2430 \nC 870 2572 1018 2585 1171 2585 \nL 1171 2752 \nC 1018 2739 742 2739 582 2739 \nC 410 2739 205 2739 64 2752 \nL 64 2585 \nC 410 2585 448 2553 531 2345 \nL 1485 -31 \nC 1197 -795 1030 -1242 627 -1242 \nC 557 -1242 397 -1223 282 -1106 \nC 429 -1093 493 -1002 493 -892 \nC 493 -782 416 -685 288 -685 \nC 147 -685 77 -782 77 -899 \nC 77 -1158 339 -1344 627 -1344 \nC 998 -1344 1229 -983 1357 -659 \nL 2496 2183 \nz\n\" id=\"CMR17-79\" transform=\"scale(0.015625)\"/>\n      </defs>\n      <use transform=\"scale(0.996264)\" xlink:href=\"#CMR17-41\"/>\n      <use transform=\"translate(69.07243 0)scale(0.996264)\" xlink:href=\"#CMR17-63\"/>\n      <use transform=\"translate(109.55809 0)scale(0.996264)\" xlink:href=\"#CMR17-63\"/>\n      <use transform=\"translate(150.043751 0)scale(0.996264)\" xlink:href=\"#CMR17-75\"/>\n      <use transform=\"translate(200.939121 0)scale(0.996264)\" xlink:href=\"#CMR17-72\"/>\n      <use transform=\"translate(236.219888 0)scale(0.996264)\" xlink:href=\"#CMR17-61\"/>\n      <use transform=\"translate(281.910365 0)scale(0.996264)\" xlink:href=\"#CMR17-63\"/>\n      <use transform=\"translate(322.396026 0)scale(0.996264)\" xlink:href=\"#CMR17-79\"/>\n     </g>\n    </g>\n   </g>\n   <g id=\"line2d_12\">\n    <path clip-path=\"url(#pc12b557f7c)\" d=\"M 39.785756 22.53131 \nL 47.10859 22.686958 \nL 54.431425 22.998253 \nL 61.75426 23.465197 \nL 69.077094 23.620845 \nL 76.399929 24.087788 \nL 83.722764 24.009964 \nL 91.045598 23.93214 \nL 98.368433 23.854316 \nL 105.691267 23.153901 \nL 113.014102 23.153901 \nL 120.336937 23.153901 \nL 127.659771 23.543021 \nL 134.982606 24.710379 \nL 142.305441 25.021675 \nL 149.628275 25.72209 \nL 156.95111 26.811625 \nL 164.273945 61.131969 \nL 171.596779 77.786285 \nL 178.919614 114.13005 \nL 186.242449 114.13005 \nL 193.565283 114.13005 \nL 200.888118 114.13005 \nL 208.210953 114.13005 \nL 215.533787 114.13005 \n\" style=\"fill:none;stroke:#ff6347;stroke-linecap:square;stroke-width:1.5;\"/>\n   </g>\n   <g id=\"line2d_13\">\n    <path clip-path=\"url(#pc12b557f7c)\" d=\"M 145.234575 135.609449 \nL 145.234575 7.2 \n\" style=\"fill:none;stroke:#808080;stroke-dasharray:2.775,1.2;stroke-dashoffset:0;stroke-width:0.75;\"/>\n   </g>\n   <g id=\"patch_3\">\n    <path d=\"M 39.785756 135.609449 \nL 39.785756 7.2 \n\" style=\"fill:none;stroke:#000000;stroke-linecap:square;stroke-linejoin:miter;stroke-width:0.8;\"/>\n   </g>\n   <g id=\"patch_4\">\n    <path d=\"M 215.533787 135.609449 \nL 215.533787 7.2 \n\" style=\"fill:none;stroke:#000000;stroke-linecap:square;stroke-linejoin:miter;stroke-width:0.8;\"/>\n   </g>\n   <g id=\"patch_5\">\n    <path d=\"M 39.785756 135.609449 \nL 215.533787 135.609449 \n\" style=\"fill:none;stroke:#000000;stroke-linecap:square;stroke-linejoin:miter;stroke-width:0.8;\"/>\n   </g>\n   <g id=\"patch_6\">\n    <path d=\"M 39.785756 7.2 \nL 215.533787 7.2 \n\" style=\"fill:none;stroke:#000000;stroke-linecap:square;stroke-linejoin:miter;stroke-width:0.8;\"/>\n   </g>\n  </g>\n  <g id=\"axes_2\">\n   <g id=\"matplotlib.axis_3\">\n    <g id=\"ytick_7\">\n     <g id=\"line2d_14\">\n      <path clip-path=\"url(#pc12b557f7c)\" d=\"M 39.785756 129.772656 \nL 215.533787 129.772656 \n\" style=\"fill:none;stroke:#b0b0b0;stroke-linecap:square;stroke-opacity:0.3;stroke-width:0.8;\"/>\n     </g>\n     <g id=\"line2d_15\">\n      <defs>\n       <path d=\"M 0 0 \nL 3.5 0 \n\" id=\"mcaaa1d080b\" style=\"stroke:#000000;stroke-width:0.8;\"/>\n      </defs>\n      <g>\n       <use style=\"stroke:#000000;stroke-width:0.8;\" x=\"215.533787\" xlink:href=\"#mcaaa1d080b\" y=\"129.772656\"/>\n      </g>\n     </g>\n     <g id=\"text_14\">\n      <!-- $\\mathdefault{0}$ -->\n      <g transform=\"translate(222.533787 133.231905)scale(0.1 -0.1)\">\n       <use transform=\"scale(0.996264)\" xlink:href=\"#CMR17-30\"/>\n      </g>\n     </g>\n    </g>\n    <g id=\"ytick_8\">\n     <g id=\"line2d_16\">\n      <path clip-path=\"url(#pc12b557f7c)\" d=\"M 39.785756 115.764352 \nL 215.533787 115.764352 \n\" style=\"fill:none;stroke:#b0b0b0;stroke-linecap:square;stroke-opacity:0.3;stroke-width:0.8;\"/>\n     </g>\n     <g id=\"line2d_17\">\n      <g>\n       <use style=\"stroke:#000000;stroke-width:0.8;\" x=\"215.533787\" xlink:href=\"#mcaaa1d080b\" y=\"115.764352\"/>\n      </g>\n     </g>\n     <g id=\"text_15\">\n      <!-- $\\mathdefault{6}$ -->\n      <g transform=\"translate(222.533787 119.223601)scale(0.1 -0.1)\">\n       <use transform=\"scale(0.996264)\" xlink:href=\"#CMR17-36\"/>\n      </g>\n     </g>\n    </g>\n    <g id=\"ytick_9\">\n     <g id=\"line2d_18\">\n      <path clip-path=\"url(#pc12b557f7c)\" d=\"M 39.785756 101.756049 \nL 215.533787 101.756049 \n\" style=\"fill:none;stroke:#b0b0b0;stroke-linecap:square;stroke-opacity:0.3;stroke-width:0.8;\"/>\n     </g>\n     <g id=\"line2d_19\">\n      <g>\n       <use style=\"stroke:#000000;stroke-width:0.8;\" x=\"215.533787\" xlink:href=\"#mcaaa1d080b\" y=\"101.756049\"/>\n      </g>\n     </g>\n     <g id=\"text_16\">\n      <!-- $\\mathdefault{12}$ -->\n      <g transform=\"translate(222.533787 105.215298)scale(0.1 -0.1)\">\n       <use transform=\"scale(0.996264)\" xlink:href=\"#CMR17-31\"/>\n       <use transform=\"translate(45.690477 0)scale(0.996264)\" xlink:href=\"#CMR17-32\"/>\n      </g>\n     </g>\n    </g>\n    <g id=\"ytick_10\">\n     <g id=\"line2d_20\">\n      <path clip-path=\"url(#pc12b557f7c)\" d=\"M 39.785756 87.747745 \nL 215.533787 87.747745 \n\" style=\"fill:none;stroke:#b0b0b0;stroke-linecap:square;stroke-opacity:0.3;stroke-width:0.8;\"/>\n     </g>\n     <g id=\"line2d_21\">\n      <g>\n       <use style=\"stroke:#000000;stroke-width:0.8;\" x=\"215.533787\" xlink:href=\"#mcaaa1d080b\" y=\"87.747745\"/>\n      </g>\n     </g>\n     <g id=\"text_17\">\n      <!-- $\\mathdefault{18}$ -->\n      <g transform=\"translate(222.533787 91.206994)scale(0.1 -0.1)\">\n       <use transform=\"scale(0.996264)\" xlink:href=\"#CMR17-31\"/>\n       <use transform=\"translate(45.690477 0)scale(0.996264)\" xlink:href=\"#CMR17-38\"/>\n      </g>\n     </g>\n    </g>\n    <g id=\"ytick_11\">\n     <g id=\"line2d_22\">\n      <path clip-path=\"url(#pc12b557f7c)\" d=\"M 39.785756 73.739442 \nL 215.533787 73.739442 \n\" style=\"fill:none;stroke:#b0b0b0;stroke-linecap:square;stroke-opacity:0.3;stroke-width:0.8;\"/>\n     </g>\n     <g id=\"line2d_23\">\n      <g>\n       <use style=\"stroke:#000000;stroke-width:0.8;\" x=\"215.533787\" xlink:href=\"#mcaaa1d080b\" y=\"73.739442\"/>\n      </g>\n     </g>\n     <g id=\"text_18\">\n      <!-- $\\mathdefault{24}$ -->\n      <g transform=\"translate(222.533787 77.198691)scale(0.1 -0.1)\">\n       <use transform=\"scale(0.996264)\" xlink:href=\"#CMR17-32\"/>\n       <use transform=\"translate(45.690477 0)scale(0.996264)\" xlink:href=\"#CMR17-34\"/>\n      </g>\n     </g>\n    </g>\n    <g id=\"ytick_12\">\n     <g id=\"line2d_24\">\n      <path clip-path=\"url(#pc12b557f7c)\" d=\"M 39.785756 59.731138 \nL 215.533787 59.731138 \n\" style=\"fill:none;stroke:#b0b0b0;stroke-linecap:square;stroke-opacity:0.3;stroke-width:0.8;\"/>\n     </g>\n     <g id=\"line2d_25\">\n      <g>\n       <use style=\"stroke:#000000;stroke-width:0.8;\" x=\"215.533787\" xlink:href=\"#mcaaa1d080b\" y=\"59.731138\"/>\n      </g>\n     </g>\n     <g id=\"text_19\">\n      <!-- $\\mathdefault{30}$ -->\n      <g transform=\"translate(222.533787 63.190387)scale(0.1 -0.1)\">\n       <defs>\n        <path d=\"M 1414 2176 \nC 1984 2176 2234 1673 2234 1094 \nC 2234 322 1824 25 1453 25 \nC 1114 25 563 193 390 691 \nC 422 678 454 678 486 678 \nC 640 678 755 780 755 947 \nC 755 1132 614 1216 486 1216 \nC 378 1216 211 1164 211 927 \nC 211 335 787 -128 1466 -128 \nC 2176 -128 2720 432 2720 1087 \nC 2720 1718 2208 2176 1600 2246 \nC 2086 2347 2554 2776 2554 3353 \nC 2554 3856 2048 4224 1472 4224 \nC 890 4224 378 3862 378 3347 \nC 378 3123 544 3084 627 3084 \nC 762 3084 877 3167 877 3334 \nC 877 3500 762 3584 627 3584 \nC 602 3584 570 3584 544 3571 \nC 730 3999 1235 4076 1459 4076 \nC 1683 4076 2106 3966 2106 3347 \nC 2106 3167 2080 2851 1862 2574 \nC 1670 2329 1453 2316 1242 2297 \nC 1210 2297 1062 2284 1037 2284 \nC 992 2278 966 2272 966 2227 \nC 966 2182 973 2176 1101 2176 \nL 1414 2176 \nz\n\" id=\"CMR17-33\" transform=\"scale(0.015625)\"/>\n       </defs>\n       <use transform=\"scale(0.996264)\" xlink:href=\"#CMR17-33\"/>\n       <use transform=\"translate(45.690477 0)scale(0.996264)\" xlink:href=\"#CMR17-30\"/>\n      </g>\n     </g>\n    </g>\n    <g id=\"ytick_13\">\n     <g id=\"line2d_26\">\n      <path clip-path=\"url(#pc12b557f7c)\" d=\"M 39.785756 45.722835 \nL 215.533787 45.722835 \n\" style=\"fill:none;stroke:#b0b0b0;stroke-linecap:square;stroke-opacity:0.3;stroke-width:0.8;\"/>\n     </g>\n     <g id=\"line2d_27\">\n      <g>\n       <use style=\"stroke:#000000;stroke-width:0.8;\" x=\"215.533787\" xlink:href=\"#mcaaa1d080b\" y=\"45.722835\"/>\n      </g>\n     </g>\n     <g id=\"text_20\">\n      <!-- $\\mathdefault{36}$ -->\n      <g transform=\"translate(222.533787 49.182084)scale(0.1 -0.1)\">\n       <use transform=\"scale(0.996264)\" xlink:href=\"#CMR17-33\"/>\n       <use transform=\"translate(45.690477 0)scale(0.996264)\" xlink:href=\"#CMR17-36\"/>\n      </g>\n     </g>\n    </g>\n    <g id=\"ytick_14\">\n     <g id=\"line2d_28\">\n      <path clip-path=\"url(#pc12b557f7c)\" d=\"M 39.785756 31.714531 \nL 215.533787 31.714531 \n\" style=\"fill:none;stroke:#b0b0b0;stroke-linecap:square;stroke-opacity:0.3;stroke-width:0.8;\"/>\n     </g>\n     <g id=\"line2d_29\">\n      <g>\n       <use style=\"stroke:#000000;stroke-width:0.8;\" x=\"215.533787\" xlink:href=\"#mcaaa1d080b\" y=\"31.714531\"/>\n      </g>\n     </g>\n     <g id=\"text_21\">\n      <!-- $\\mathdefault{42}$ -->\n      <g transform=\"translate(222.533787 35.17378)scale(0.1 -0.1)\">\n       <use transform=\"scale(0.996264)\" xlink:href=\"#CMR17-34\"/>\n       <use transform=\"translate(45.690477 0)scale(0.996264)\" xlink:href=\"#CMR17-32\"/>\n      </g>\n     </g>\n    </g>\n    <g id=\"ytick_15\">\n     <g id=\"line2d_30\">\n      <path clip-path=\"url(#pc12b557f7c)\" d=\"M 39.785756 17.706228 \nL 215.533787 17.706228 \n\" style=\"fill:none;stroke:#b0b0b0;stroke-linecap:square;stroke-opacity:0.3;stroke-width:0.8;\"/>\n     </g>\n     <g id=\"line2d_31\">\n      <g>\n       <use style=\"stroke:#000000;stroke-width:0.8;\" x=\"215.533787\" xlink:href=\"#mcaaa1d080b\" y=\"17.706228\"/>\n      </g>\n     </g>\n     <g id=\"text_22\">\n      <!-- $\\mathdefault{48}$ -->\n      <g transform=\"translate(222.533787 21.165477)scale(0.1 -0.1)\">\n       <use transform=\"scale(0.996264)\" xlink:href=\"#CMR17-34\"/>\n       <use transform=\"translate(45.690477 0)scale(0.996264)\" xlink:href=\"#CMR17-38\"/>\n      </g>\n     </g>\n    </g>\n    <g id=\"text_23\">\n     <!-- Number of Features -->\n     <g style=\"fill:#0000ff;\" transform=\"translate(243.414956 114.700776)rotate(-90)scale(0.1 -0.1)\">\n      <defs>\n       <path d=\"M 1312 4275 \nC 1267 4345 1261 4352 1139 4352 \nL 326 4352 \nL 326 4185 \nL 448 4185 \nC 704 4185 819 4153 838 4147 \nL 838 624 \nC 838 465 838 166 326 166 \nL 326 0 \nC 474 12 742 12 902 12 \nC 1062 12 1331 12 1478 0 \nL 1478 166 \nC 966 166 966 465 966 624 \nL 966 4057 \nC 1011 4019 1011 4007 1056 3943 \nL 3430 76 \nC 3475 0 3494 0 3526 0 \nC 3590 0 3590 19 3590 140 \nL 3590 3726 \nC 3590 3885 3590 4185 4102 4185 \nL 4102 4352 \nC 3955 4339 3686 4339 3526 4339 \nC 3366 4339 3098 4339 2950 4352 \nL 2950 4185 \nC 3462 4185 3462 3885 3462 3726 \nL 3462 777 \nL 1312 4275 \nz\n\" id=\"CMR17-4e\" transform=\"scale(0.015625)\"/>\n       <path d=\"M 4326 1954 \nC 4326 2276 4269 2816 3507 2816 \nC 3072 2816 2771 2520 2656 2173 \nL 2650 2173 \nC 2573 2700 2195 2816 1837 2816 \nC 1331 2816 1069 2424 973 2166 \nL 966 2166 \nL 966 2816 \nL 211 2745 \nL 211 2578 \nC 589 2578 646 2540 646 2231 \nL 646 443 \nC 646 198 621 166 211 166 \nL 211 0 \nC 365 12 646 12 813 12 \nC 979 12 1267 12 1421 0 \nL 1421 166 \nC 1011 166 986 192 986 443 \nL 986 1678 \nC 986 2269 1344 2713 1792 2713 \nC 2266 2713 2317 2289 2317 1980 \nL 2317 443 \nC 2317 198 2291 166 1882 166 \nL 1882 0 \nC 2035 12 2317 12 2483 12 \nC 2650 12 2938 12 3091 0 \nL 3091 166 \nC 2682 166 2656 192 2656 443 \nL 2656 1678 \nC 2656 2269 3014 2713 3462 2713 \nC 3936 2713 3987 2289 3987 1980 \nL 3987 443 \nC 3987 198 3962 166 3552 166 \nL 3552 0 \nC 3706 12 3987 12 4154 12 \nC 4320 12 4608 12 4762 0 \nL 4762 166 \nC 4352 166 4326 192 4326 443 \nL 4326 1954 \nz\n\" id=\"CMR17-6d\" transform=\"scale(0.015625)\"/>\n       <path d=\"M 960 4416 \nL 198 4345 \nL 198 4179 \nC 576 4179 634 4141 634 3843 \nL 634 -13 \nL 749 -13 \nL 934 445 \nC 1120 141 1395 -64 1766 -64 \nC 2406 -64 3053 503 3053 1382 \nC 3053 2209 2477 2816 1830 2816 \nC 1434 2816 1152 2603 960 2351 \nL 960 4416 \nz\nM 973 2022 \nC 973 2138 973 2157 1062 2293 \nC 1312 2681 1670 2713 1792 2713 \nC 1984 2713 2643 2610 2643 1388 \nC 2643 109 1888 38 1734 38 \nC 1536 38 1248 115 1043 490 \nC 973 613 973 626 973 742 \nL 973 2022 \nz\n\" id=\"CMR17-62\" transform=\"scale(0.015625)\"/>\n       <path d=\"M 2438 1503 \nC 2464 1529 2464 1542 2464 1606 \nC 2464 2251 2118 2816 1389 2816 \nC 710 2816 173 2175 173 1394 \nC 173 554 781 -64 1459 -64 \nC 2176 -64 2458 619 2458 755 \nC 2458 800 2419 800 2406 800 \nC 2362 800 2355 787 2330 709 \nC 2189 270 1837 51 1504 51 \nC 1229 51 954 206 781 490 \nC 582 819 582 1200 582 1503 \nL 2438 1503 \nz\nM 589 1600 \nC 634 2511 1126 2713 1382 2713 \nC 1818 2713 2112 2308 2118 1600 \nL 589 1600 \nz\n\" id=\"CMR17-65\" transform=\"scale(0.015625)\"/>\n       <path d=\"M 979 2585 \nL 1709 2585 \nL 1709 2752 \nL 966 2752 \nL 966 3539 \nC 966 4076 1235 4377 1510 4377 \nC 1594 4377 1690 4363 1754 4339 \nC 1702 4326 1568 4281 1568 4121 \nC 1568 3955 1696 3904 1786 3904 \nC 1875 3904 2003 3955 2003 4121 \nC 2003 4353 1773 4480 1517 4480 \nC 1152 4480 653 4211 653 3526 \nL 653 2752 \nL 141 2752 \nL 141 2585 \nL 653 2585 \nL 653 441 \nC 653 198 627 166 218 166 \nL 218 0 \nC 371 12 666 12 832 12 \nC 1018 12 1344 12 1517 0 \nL 1517 166 \nC 1056 166 979 166 979 454 \nL 979 2585 \nz\n\" id=\"CMR17-66\" transform=\"scale(0.015625)\"/>\n       <path d=\"M 3482 4339 \nL 326 4339 \nL 326 4172 \nC 768 4172 838 4172 838 3883 \nL 838 450 \nC 838 166 768 166 326 166 \nL 326 0 \nC 512 12 870 12 1069 12 \nC 1331 12 1638 12 1901 0 \nL 1901 166 \nL 1760 166 \nC 1274 166 1261 229 1261 456 \nL 1261 2073 \nL 1837 2073 \nC 2432 2073 2490 1865 2490 1334 \nL 2605 1334 \nL 2605 2991 \nL 2490 2991 \nC 2490 2451 2432 2240 1837 2240 \nL 1261 2240 \nL 1261 3922 \nC 1261 4140 1274 4172 1530 4172 \nL 2355 4172 \nC 3322 4172 3430 3774 3520 2920 \nL 3635 2920 \nL 3482 4339 \nz\n\" id=\"CMR17-46\" transform=\"scale(0.015625)\"/>\n       <path d=\"M 966 2585 \nL 1862 2585 \nL 1862 2752 \nL 966 2752 \nL 966 3968 \nL 851 3968 \nC 838 3292 614 2700 70 2687 \nL 70 2585 \nL 627 2585 \nL 627 778 \nC 627 655 627 -64 1370 -64 \nC 1747 -64 1965 308 1965 784 \nL 1965 1151 \nL 1850 1151 \nL 1850 790 \nC 1850 347 1677 51 1408 51 \nC 1222 51 966 179 966 765 \nL 966 2585 \nz\n\" id=\"CMR17-74\" transform=\"scale(0.015625)\"/>\n       <path d=\"M 1978 2688 \nC 1978 2803 1971 2809 1933 2809 \nC 1907 2809 1901 2803 1824 2707 \nC 1805 2681 1747 2617 1728 2592 \nC 1523 2809 1235 2816 1126 2816 \nC 416 2816 160 2444 160 2073 \nC 160 1497 813 1363 998 1324 \nC 1402 1241 1542 1216 1677 1100 \nC 1760 1024 1901 883 1901 652 \nC 1901 384 1747 38 1158 38 \nC 602 38 403 460 288 1024 \nC 269 1113 269 1120 218 1120 \nC 166 1120 160 1113 160 985 \nL 160 64 \nC 160 -52 166 -58 205 -58 \nC 237 -58 243 -52 275 0 \nC 314 57 410 211 448 275 \nC 576 102 800 -64 1158 -64 \nC 1792 -64 2131 281 2131 780 \nC 2131 1107 1958 1280 1875 1356 \nC 1683 1555 1459 1600 1190 1651 \nC 838 1728 390 1817 390 2208 \nC 390 2374 480 2726 1126 2726 \nC 1811 2726 1850 2086 1862 1881 \nC 1869 1849 1901 1843 1920 1843 \nC 1978 1843 1978 1862 1978 1971 \nL 1978 2688 \nz\n\" id=\"CMR17-73\" transform=\"scale(0.015625)\"/>\n      </defs>\n      <use transform=\"scale(0.996264)\" xlink:href=\"#CMR17-4e\"/>\n      <use transform=\"translate(69.07243 0)scale(0.996264)\" xlink:href=\"#CMR17-75\"/>\n      <use transform=\"translate(119.9678 0)scale(0.996264)\" xlink:href=\"#CMR17-6d\"/>\n      <use transform=\"translate(194.284936 0)scale(0.996264)\" xlink:href=\"#CMR17-62\"/>\n      <use transform=\"translate(247.782744 0)scale(0.996264)\" xlink:href=\"#CMR17-65\"/>\n      <use transform=\"translate(288.268404 0)scale(0.996264)\" xlink:href=\"#CMR17-72\"/>\n      <use transform=\"translate(353.625139 0)scale(0.996264)\" xlink:href=\"#CMR17-6f\"/>\n      <use transform=\"translate(399.315616 0)scale(0.996264)\" xlink:href=\"#CMR17-66\"/>\n      <use transform=\"translate(456.865095 0)scale(0.996264)\" xlink:href=\"#CMR17-46\"/>\n      <use transform=\"translate(509.041686 0)scale(0.996264)\" xlink:href=\"#CMR17-65\"/>\n      <use transform=\"translate(549.527346 0)scale(0.996264)\" xlink:href=\"#CMR17-61\"/>\n      <use transform=\"translate(595.217823 0)scale(0.996264)\" xlink:href=\"#CMR17-74\"/>\n      <use transform=\"translate(630.498591 0)scale(0.996264)\" xlink:href=\"#CMR17-75\"/>\n      <use transform=\"translate(681.393961 0)scale(0.996264)\" xlink:href=\"#CMR17-72\"/>\n      <use transform=\"translate(716.674729 0)scale(0.996264)\" xlink:href=\"#CMR17-65\"/>\n      <use transform=\"translate(757.160389 0)scale(0.996264)\" xlink:href=\"#CMR17-73\"/>\n     </g>\n    </g>\n   </g>\n   <g id=\"line2d_32\">\n    <path clip-path=\"url(#pc12b557f7c)\" d=\"M 39.785756 13.036793 \nL 47.10859 27.045097 \nL 54.431425 34.049248 \nL 61.75426 43.388117 \nL 69.077094 50.392269 \nL 76.399929 55.061704 \nL 83.722764 57.396421 \nL 91.045598 59.731138 \nL 98.368433 64.400573 \nL 105.691267 64.400573 \nL 113.014102 69.070007 \nL 120.336937 85.413028 \nL 127.659771 90.082462 \nL 134.982606 106.425483 \nL 142.305441 111.094918 \nL 149.628275 111.094918 \nL 156.95111 118.099069 \nL 164.273945 122.768504 \nL 171.596779 125.103221 \nL 178.919614 129.772656 \nL 186.242449 129.772656 \nL 193.565283 129.772656 \nL 200.888118 129.772656 \nL 208.210953 129.772656 \nL 215.533787 129.772656 \n\" style=\"fill:none;stroke:#4682b4;stroke-linecap:square;stroke-width:1.5;\"/>\n   </g>\n   <g id=\"patch_7\">\n    <path d=\"M 39.785756 135.609449 \nL 39.785756 7.2 \n\" style=\"fill:none;stroke:#000000;stroke-linecap:square;stroke-linejoin:miter;stroke-width:0.8;\"/>\n   </g>\n   <g id=\"patch_8\">\n    <path d=\"M 215.533787 135.609449 \nL 215.533787 7.2 \n\" style=\"fill:none;stroke:#000000;stroke-linecap:square;stroke-linejoin:miter;stroke-width:0.8;\"/>\n   </g>\n   <g id=\"patch_9\">\n    <path d=\"M 39.785756 135.609449 \nL 215.533787 135.609449 \n\" style=\"fill:none;stroke:#000000;stroke-linecap:square;stroke-linejoin:miter;stroke-width:0.8;\"/>\n   </g>\n   <g id=\"patch_10\">\n    <path d=\"M 39.785756 7.2 \nL 215.533787 7.2 \n\" style=\"fill:none;stroke:#000000;stroke-linecap:square;stroke-linejoin:miter;stroke-width:0.8;\"/>\n   </g>\n  </g>\n </g>\n <defs>\n  <clipPath id=\"pc12b557f7c\">\n   <rect height=\"128.409449\" width=\"175.748031\" x=\"39.785756\" y=\"7.2\"/>\n  </clipPath>\n </defs>\n</svg>\n",
      "text/plain": [
       "<Figure size 944.882x708.661 with 2 Axes>"
      ]
     },
     "metadata": {
      "needs_background": "light"
     },
     "output_type": "display_data"
    },
    {
     "name": "stdout",
     "output_type": "stream",
     "text": [
      "Accuracy: 94%\n",
      "State 0:\n",
      "[100.0% ]  BACKBONE sin_phi ARG42\n",
      "State 1:\n",
      "[100.0% ]  BACKBONE sin_psi CYS38\n",
      "State 2:\n",
      "[100.0% ]  BACKBONE sin_phi PRO2\n",
      "State 3:\n",
      "[97.575%]  BACKBONE sin_phi THR11\n",
      "[2.425% ]  BACKBONE sin_phi CYS38\n",
      "State 4:\n",
      "[96.507%]  BACKBONE sin_phi TYR35\n",
      "[3.493% ]  BACKBONE cos_psi PRO9\n",
      "State 5:\n",
      "[79.503%]  BACKBONE sin_phi CYS38\n",
      "[20.497%]  BACKBONE cos_phi TYR10\n"
     ]
    }
   ],
   "source": [
    "log_reg = -0.8\n",
    "reg = 10**(log_reg)\n",
    "\n",
    "# plot setup\n",
    "centimeters = 1/2.54\n",
    "fig, ax = plt.subplots(dpi=300,figsize=(8*centimeters,6*centimeters))\n",
    "\n",
    "from stateinterpreter.plot import plot_classifier_complexity_vs_accuracy\n",
    "plot_classifier_complexity_vs_accuracy(pruned_classifier,ax=ax)\n",
    "ax.axvline(x = log_reg, color='grey', linestyle='dashed', linewidth=0.75)\n",
    "\n",
    "save_folder = 'bpti-figs/'\n",
    "plt.savefig(save_folder+'pruned_accuracy.pdf',bbox_inches='tight')\n",
    "\n",
    "plt.show()\n",
    "\n",
    "pruned_classifier.print_selected(reg)"
   ]
  },
  {
   "cell_type": "code",
   "execution_count": null,
   "metadata": {},
   "outputs": [],
   "source": [
    "from stateinterpreter.plot import plot_histogram_features\n",
    "\n",
    "relevant_feat = pruned_classifier.feature_summary(reg)\n",
    "plot_histogram_features(descriptors,states_labels,classes_names,relevant_feat)"
   ]
  },
  {
   "cell_type": "code",
   "execution_count": null,
   "metadata": {},
   "outputs": [],
   "source": [
    "mask = ( states_labels['selection'] == 1 ) # & ( states_labels['labels'] != 0)\n",
    "xx = descriptors[mask]['BACKBONE phi ARG42'].values\n",
    "c = states_labels[mask]['labels'].values\n",
    "t = traj.time[mask]\n",
    "\n",
    "N=1\n",
    "#ave = np.convolve(xx, np.ones(N)/N, mode='same')[N::N]\n",
    "#t = np.arange(len(ave))*0.01*N\n",
    "\n",
    "# plot setup\n",
    "centimeters = 1/2.54\n",
    "fig, ax = plt.subplots(dpi=300,figsize=(8*centimeters,6*centimeters))\n",
    "\n",
    "# get discrete colormap\n",
    "cmap = plt.get_cmap('fessa', np.max(c)-np.min(c)+1)\n",
    "\n",
    "pp = ax.scatter(t,xx,c=c,s=0.1, cmap= cmap, vmin = np.min(c)-.5, vmax = np.max(c)+.5)\n",
    "\n",
    "plt.colorbar(pp,ax=ax)\n",
    "\n",
    "ax.set_xlabel(r'Time [$\\mu$s]')\n",
    "ax.set_ylabel(r'$\\phi$(ARG42)')\n",
    "\n",
    "plt.savefig(save_folder+'arg42.pdf',bbox_inches='tight')"
   ]
  },
  {
   "cell_type": "code",
   "execution_count": null,
   "metadata": {},
   "outputs": [],
   "source": [
    "from stateinterpreter.numerical_utils import gaussian_kde\n",
    "import matplotlib\n",
    "import matplotlib.pyplot as plt\n",
    "\n",
    "# COMPUTE FES\n",
    "selected_cvs = ['BACKBONE phi CYS38', 'BACKBONE psi CYS38']\n",
    "logweights = None\n",
    "bw_method = 0.15\n",
    "\n",
    "num_samples = 200\n",
    "n_iso_fes = 10\n",
    "ev_iso_labels = 2\n",
    "\n",
    "cmap = matplotlib.cm.get_cmap('Greys_r', n_iso_fes)\n",
    "color_list = [cmap((i+1)/(n_iso_fes+3)) for i in range(n_iso_fes)]\n",
    "\n",
    "empirical_centers = descriptors[selected_cvs].to_numpy()\n",
    "KDE = gaussian_kde(empirical_centers,bw_method=bw_method,logweights=logweights)\n",
    "\n",
    "#bounds = [(x.min(), x.max()) for x in KDE.dataset.T]\n",
    "bounds = [(-np.pi,np.pi),(-np.pi,np.pi)]\n",
    "mesh = np.meshgrid(*[np.linspace(b[0], b[1], num_samples) for b in bounds])\n",
    "\n",
    "positions = np.vstack([g.ravel() for g in mesh]).T\n",
    "fes = -KDE.logpdf(positions).reshape(num_samples,num_samples)\n",
    "fes -= fes.min()\n",
    "\n",
    "# PLOT ISOLINES\n",
    "centimeters = 1/2.54\n",
    "fig, ax = plt.subplots(dpi=300,figsize=(8*centimeters,6*centimeters))\n",
    "CS = ax.contour(*mesh, fes, levels=np.linspace(0,n_iso_fes-1,n_iso_fes), colors = color_list)\n",
    "ax.clabel(CS, CS.levels[::ev_iso_labels], fmt = lambda x: str(int(x))+ r'$k_{{\\rm B}}T$', inline=True, fontsize=6)\n",
    "\n",
    "# SCATTER\n",
    "mask = ( states_labels['selection'] == 1 )\n",
    "xx = descriptors[mask]['BACKBONE phi CYS38']\n",
    "yy = descriptors[mask]['BACKBONE psi CYS38']\n",
    "c = states_labels[mask]['labels']\n",
    "\n",
    "cmap = plt.get_cmap('fessa', np.max(c)-np.min(c)+1)\n",
    "#pp = ax.hexbin(xx,yy,C=c,cmap= cmap, vmin = np.min(c)-.5, vmax = np.max(c)+.5)\n",
    "pp = ax.scatter(xx,yy,c=c,s=0.1, cmap= cmap, vmin = np.min(c)-.5, vmax = np.max(c)+.5)\n",
    "cbar = plt.colorbar(pp,ax=ax)\n",
    "cbar.set_label('State')\n",
    "\n",
    "# SETUP \n",
    "ax.set_xlabel(r'$\\phi$(CYS38)',labelpad=-5)\n",
    "ax.set_ylabel(r'$\\psi$(CYS38)',labelpad=-10)\n",
    "ax.set_xlim(-np.pi,np.pi)\n",
    "ax.set_ylim(-np.pi,np.pi)\n",
    "ax.set_xticks([-np.pi/2,np.pi/2])\n",
    "ax.set_yticks([-np.pi/2,np.pi/2])\n",
    "ax.set_xticklabels ([r'$-\\frac{\\pi}{2}$',r'$\\frac{\\pi}{2}$'])\n",
    "ax.set_yticklabels ([r'$-\\frac{\\pi}{2}$',r'$\\frac{\\pi}{2}$'])\n",
    "ax.axis('equal')\n",
    "plt.tight_layout()\n",
    "\n",
    "plt.savefig(save_folder+'ramachandran_cys38.pdf',bbox_inches='tight')"
   ]
  },
  {
   "cell_type": "code",
   "execution_count": null,
   "metadata": {},
   "outputs": [],
   "source": [
    "from stateinterpreter.numerical_utils import gaussian_kde\n",
    "import matplotlib\n",
    "import matplotlib.pyplot as plt\n",
    "\n",
    "residues = ['CYS38','ARG42','TYR35','PRO2' ]\n",
    "\n",
    "centimeters = 1/2.54\n",
    "fig, axs = plt.subplots(2,2,dpi=300,figsize=(18*centimeters,16*centimeters),constrained_layout=True)\n",
    "\n",
    "axs_flat = axs.flat\n",
    "\n",
    "for i,residue in enumerate(residues):\n",
    "    # COMPUTE FES\n",
    "    selected_cvs = ['BACKBONE phi '+residue, 'BACKBONE psi '+residue]\n",
    "    logweights = None\n",
    "    bw_method = 0.15\n",
    "\n",
    "    num_samples = 200\n",
    "    n_iso_fes = 10\n",
    "    ev_iso_labels = 2\n",
    "\n",
    "    cmap = matplotlib.cm.get_cmap('Greys_r', n_iso_fes)\n",
    "    color_list = [cmap((i+1)/(n_iso_fes+3)) for i in range(n_iso_fes)]\n",
    "\n",
    "    empirical_centers = descriptors[selected_cvs].to_numpy()\n",
    "    KDE = gaussian_kde(empirical_centers,bw_method=bw_method,logweights=logweights)\n",
    "\n",
    "    #bounds = [(x.min(), x.max()) for x in KDE.dataset.T]\n",
    "    bounds = [(-np.pi,np.pi),(-np.pi,np.pi)]\n",
    "    mesh = np.meshgrid(*[np.linspace(b[0], b[1], num_samples) for b in bounds])\n",
    "\n",
    "    positions = np.vstack([g.ravel() for g in mesh]).T\n",
    "    fes = -KDE.logpdf(positions).reshape(num_samples,num_samples)\n",
    "    fes -= fes.min()\n",
    "\n",
    "    # PLOT ISOLINES\n",
    "    ax = axs.flat[i]\n",
    "    CS = ax.contour(*mesh, fes, levels=np.linspace(0,n_iso_fes-1,n_iso_fes), colors = color_list)\n",
    "    #ax.clabel(CS, CS.levels[::ev_iso_labels], fmt = lambda x: str(int(x))+ r'$k_{{\\rm B}}T$', inline=True, fontsize=6)\n",
    "\n",
    "    # SCATTER\n",
    "    mask = ( states_labels['selection'] == 1 )\n",
    "    xx = descriptors[mask][selected_cvs[0]]\n",
    "    yy = descriptors[mask][selected_cvs[1]]\n",
    "    c = states_labels[mask]['labels']\n",
    "\n",
    "    cmap = plt.get_cmap('fessa', np.max(c)-np.min(c)+1)\n",
    "    #pp = ax.hexbin(xx,yy,C=c,cmap= cmap, vmin = np.min(c)-.5, vmax = np.max(c)+.5)\n",
    "    pp = ax.scatter(xx,yy,c=c,s=0.1, cmap= cmap, vmin = np.min(c)-.5, vmax = np.max(c)+.5)\n",
    "    cbar = plt.colorbar(pp,ax=ax)\n",
    "    cbar.set_label('State')\n",
    "\n",
    "    # SETUP \n",
    "    ax.set_xlabel(r'$\\phi$({})'.format(residue),labelpad=-5)\n",
    "    ax.set_ylabel(r'$\\psi$({})'.format(residue),labelpad=-10)\n",
    "    ax.set_xlim(-np.pi,np.pi)\n",
    "    ax.set_ylim(-np.pi,np.pi)\n",
    "    ax.set_xticks([-np.pi,-np.pi/2,0,np.pi/2,np.pi])\n",
    "    ax.set_yticks([-np.pi,-np.pi/2,0,np.pi/2,np.pi])\n",
    "    #ax.set_xticklabels ([r'$-\\frac{\\pi}{2}$',r'$\\frac{\\pi}{2}$'])\n",
    "    #ax.set_yticklabels ([r'$-\\frac{\\pi}{2}$',r'$\\frac{\\pi}{2}$'])\n",
    "    ax.set_xticklabels ([r'$-\\pi$','','','',r'$\\pi$'])\n",
    "    ax.set_yticklabels ([r'$-\\pi$','','','',r'$\\pi$'])\n",
    "    ax.set_aspect('equal', 'box')\n",
    "\n",
    "#plt.tight_layout()\n",
    "\n",
    "plt.savefig(save_folder+'ramachandran_multi.pdf',bbox_inches='tight')"
   ]
  },
  {
   "cell_type": "code",
   "execution_count": null,
   "metadata": {},
   "outputs": [],
   "source": [
    "reg = 10**(-0.8)\n",
    "pruned_classifier.print_selected(reg)\n",
    "pruned_classifier.plot_regularization_path(reg); "
   ]
  },
  {
   "cell_type": "code",
   "execution_count": null,
   "metadata": {},
   "outputs": [],
   "source": [
    "from stateinterpreter.io import load_trajectory\n",
    "from stateinterpreter.visualize import compute_residue_score \n",
    "\n",
    "# number of  residues\n",
    "n_residues = traj.n_residues\n",
    "\n",
    "residue_score = compute_residue_score(pruned_classifier,reg,feats_info,n_residues)"
   ]
  },
  {
   "cell_type": "code",
   "execution_count": null,
   "metadata": {},
   "outputs": [],
   "source": [
    "from stateinterpreter.visualize import visualize_residue_score\n",
    "\n",
    "visualize_residue_score(traj, states_labels, classes_names, residue_score, representation='cartoon')"
   ]
  },
  {
   "cell_type": "code",
   "execution_count": null,
   "metadata": {},
   "outputs": [],
   "source": [
    "from stateinterpreter.visualize import visualize_features\n",
    "\n",
    "relevant_feat = classifier.feature_summary(reg)\n",
    "visualize_features(traj, states_labels, classes_names, relevant_feat, feats_info, state = 0, representation = 'cartoon')"
   ]
  },
  {
   "cell_type": "code",
   "execution_count": null,
   "metadata": {},
   "outputs": [],
   "source": [
    "import pandas as pd\n",
    "import seaborn as sns\n",
    "import matplotlib.pyplot as plt\n",
    "\n",
    "# get residue names\n",
    "table, _ = traj.topology.to_dataframe()\n",
    "residue_names = table[\"resName\"] + table[\"resSeq\"].astype(\"str\")\n",
    "residue_names = residue_names.unique()\n",
    "\n",
    "# transform dictionary of residue scores into matrix and then into df to plot with seaborn (switch back to matplotlib?)\n",
    "score_matrix = np.row_stack([score for score in residue_score.values()])\n",
    "score_df = pd.DataFrame(score_matrix, columns = residue_names, index=[v for v in classes_names.values()])\n",
    "\n",
    "# Plot\n",
    "plt.figure(figsize=(len(residue_names)*0.5,6))\n",
    "sns.heatmap(score_df, annot=True, fmt=\".2f\", cmap='Reds', linewidths=2)\n",
    "\n",
    "plt.xticks(rotation=30)\n",
    "plt.yticks(rotation=30)\n",
    "plt.title('Residue score')\n",
    "plt.show()"
   ]
  },
  {
   "cell_type": "code",
   "execution_count": null,
   "metadata": {},
   "outputs": [],
   "source": []
  },
  {
   "cell_type": "markdown",
   "metadata": {},
   "source": [
    "# Standard lasso"
   ]
  },
  {
   "cell_type": "markdown",
   "metadata": {},
   "source": [
    "## HBONDS"
   ]
  },
  {
   "cell_type": "code",
   "execution_count": null,
   "metadata": {},
   "outputs": [],
   "source": [
    "regularizers = np.geomspace(0.1, 1, 11)\n",
    "select_feat = 'HB_CONT'\n",
    "sample_obj, features_names, classes_names = sample(descriptors, states_labels, 1000, regex_filter=select_feat, \n",
    "                                                    states_subset=states_subset, states_names=state_names)\n",
    "classifier = Classifier(sample_obj, features_names, classes_names)\n",
    "classifier.compute(regularizers, max_iter= 10000) #, groups=groups)\n",
    "\n",
    "classifier.plot();"
   ]
  },
  {
   "cell_type": "code",
   "execution_count": null,
   "metadata": {},
   "outputs": [],
   "source": [
    "reg = 10**(-0.75)\n",
    "classifier.print_selected(reg)"
   ]
  },
  {
   "cell_type": "code",
   "execution_count": null,
   "metadata": {},
   "outputs": [],
   "source": [
    "from stateinterpreter.plot import plot_combination_states_features\n",
    "import matplotlib.pyplot as plt \n",
    "\n",
    "relevant_feat = classifier.feature_summary(reg)\n",
    "plot_combination_states_features(colvar,descriptors,cv_list,relevant_feat,state_labels=states_labels)\n",
    "plt.tight_layout()"
   ]
  },
  {
   "cell_type": "code",
   "execution_count": null,
   "metadata": {},
   "outputs": [],
   "source": [
    "from stateinterpreter.plot import plot_histogram_features\n",
    "\n",
    "plot_histogram_features(descriptors,states_labels,classes_names,relevant_feat)"
   ]
  },
  {
   "cell_type": "code",
   "execution_count": null,
   "metadata": {},
   "outputs": [],
   "source": [
    "from stateinterpreter.visualize import visualize_features\n",
    "from stateinterpreter.io import load_trajectory\n",
    "\n",
    "traj = load_trajectory(traj_dict,stride=stride)\n",
    "visualize_features(traj, states_labels, classes_names, relevant_feat, feats_info, state = 4, representation = 'licorice')"
   ]
  },
  {
   "cell_type": "markdown",
   "metadata": {},
   "source": [
    "### Quadratic kernel"
   ]
  },
  {
   "cell_type": "code",
   "execution_count": null,
   "metadata": {},
   "outputs": [],
   "source": [
    "pruned_classifier = classifier.prune(reg)\n",
    "pruned_classifier.compute(regularizers, quadratic_kernel=True, max_iter= 10000)\n",
    "\n",
    "pruned_classifier.plot()"
   ]
  },
  {
   "cell_type": "code",
   "execution_count": null,
   "metadata": {},
   "outputs": [],
   "source": [
    "reg = 10**(-0.5)\n",
    "pruned_classifier.print_selected(reg)"
   ]
  },
  {
   "cell_type": "code",
   "execution_count": null,
   "metadata": {},
   "outputs": [],
   "source": [
    "relevant_feat = classifier.feature_summary(reg)\n",
    "plot_histogram_features(descriptors,states_labels,classes_names,relevant_feat)"
   ]
  },
  {
   "cell_type": "markdown",
   "metadata": {},
   "source": [
    "## Dihedrals"
   ]
  },
  {
   "cell_type": "code",
   "execution_count": null,
   "metadata": {},
   "outputs": [],
   "source": [
    "state_names = ['DES-3','DES-0','DES-4','DES-2b','DES-2a','DES-1']\n",
    "states_subset = [0,2,3,4,5,6]"
   ]
  },
  {
   "cell_type": "code",
   "execution_count": null,
   "metadata": {},
   "outputs": [],
   "source": [
    "regularizers = np.geomspace(0.01, 1, 11)\n",
    "select_feat = 'sin_|cos_'\n",
    "sample_obj, features_names, classes_names = sample(descriptors, states_labels, 1000, regex_filter=select_feat, \n",
    "                                                    states_subset=states_subset, states_names=state_names)\n",
    "classifier = Classifier(sample_obj, features_names, classes_names)\n",
    "classifier.compute(regularizers, max_iter= 10000) #, groups=groups)\n",
    "\n",
    "classifier.plot();"
   ]
  },
  {
   "cell_type": "code",
   "execution_count": null,
   "metadata": {},
   "outputs": [],
   "source": [
    "reg = 10**(-1)\n",
    "classifier.print_selected(reg)"
   ]
  },
  {
   "cell_type": "code",
   "execution_count": null,
   "metadata": {},
   "outputs": [],
   "source": [
    "from stateinterpreter.plot import plot_combination_states_features\n",
    "import matplotlib.pyplot as plt \n",
    "\n",
    "relevant_feat = classifier.feature_summary(reg)\n",
    "plot_combination_states_features(colvar,descriptors,cv_list,relevant_feat,state_labels=states_labels)\n",
    "#plt.tight_layout()"
   ]
  },
  {
   "cell_type": "code",
   "execution_count": null,
   "metadata": {},
   "outputs": [],
   "source": [
    "from stateinterpreter.plot import plot_histogram_features\n",
    "\n",
    "plot_histogram_features(descriptors,states_labels,classes_names,relevant_feat)"
   ]
  },
  {
   "cell_type": "code",
   "execution_count": null,
   "metadata": {},
   "outputs": [],
   "source": [
    "from stateinterpreter.io import load_trajectory\n",
    "from stateinterpreter.visualize import compute_residue_score \n",
    "\n",
    "traj = load_trajectory(traj_dict, stride=stride)\n",
    "# number of  residues\n",
    "n_residues = traj.n_residues\n",
    "\n",
    "residue_score = compute_residue_score(classifier,reg,feats_info,n_residues)"
   ]
  },
  {
   "cell_type": "code",
   "execution_count": null,
   "metadata": {},
   "outputs": [],
   "source": [
    "import pandas as pd\n",
    "import seaborn as sns\n",
    "import matplotlib.pyplot as plt\n",
    "\n",
    "# get residue names\n",
    "table, _ = traj.topology.to_dataframe()\n",
    "residue_names = table[\"resName\"] + table[\"resSeq\"].astype(\"str\")\n",
    "residue_names = residue_names.unique()\n",
    "\n",
    "# transform dictionary of residue scores into matrix and then into df to plot with seaborn (switch back to matplotlib?)\n",
    "score_matrix = np.row_stack([score for score in residue_score.values()])\n",
    "score_df = pd.DataFrame(score_matrix, columns = residue_names, index=[v for v in classes_names.values()])\n",
    "\n",
    "# Plot\n",
    "plt.figure(figsize=(len(residue_names)*0.5,6))\n",
    "sns.heatmap(score_df, annot=True, fmt=\".2f\", cmap='Reds', linewidths=2)\n",
    "\n",
    "plt.xticks(rotation=30)\n",
    "plt.yticks(rotation=30)\n",
    "plt.title('Residue score')\n",
    "plt.show()"
   ]
  },
  {
   "cell_type": "markdown",
   "metadata": {},
   "source": [
    "Quadratic Kernel"
   ]
  },
  {
   "cell_type": "code",
   "execution_count": null,
   "metadata": {},
   "outputs": [],
   "source": [
    "regularizers = np.geomspace(0.01, 1, 25)\n",
    "pruned_classifier = classifier.prune(reg,)\n",
    "pruned_classifier.compute(regularizers, quadratic_kernel=True, max_iter= 10000)\n",
    "\n",
    "pruned_classifier.plot()"
   ]
  },
  {
   "cell_type": "code",
   "execution_count": null,
   "metadata": {},
   "outputs": [],
   "source": [
    "reg = 10**(-0.5)\n",
    "pruned_classifier.print_selected(reg)"
   ]
  },
  {
   "cell_type": "code",
   "execution_count": null,
   "metadata": {},
   "outputs": [],
   "source": [
    "from stateinterpreter.plot import plot_combination_states_features\n",
    "import matplotlib.pyplot as plt \n",
    "\n",
    "relevant_feat = pruned_classifier.feature_summary(reg)\n",
    "plot_combination_states_features(colvar,descriptors,cv_list,relevant_feat,state_labels=states_labels)"
   ]
  },
  {
   "cell_type": "code",
   "execution_count": null,
   "metadata": {},
   "outputs": [],
   "source": [
    "from stateinterpreter.plot import plot_histogram_features\n",
    "\n",
    "plot_histogram_features(descriptors,states_labels,classes_names,relevant_feat)"
   ]
  },
  {
   "cell_type": "code",
   "execution_count": null,
   "metadata": {},
   "outputs": [],
   "source": []
  },
  {
   "cell_type": "markdown",
   "metadata": {},
   "source": [
    "# SASA on 0 vs rest"
   ]
  },
  {
   "cell_type": "code",
   "execution_count": 36,
   "metadata": {},
   "outputs": [
    {
     "name": "stdout",
     "output_type": "stream",
     "text": [
      "DEV >>> Finding Local Minima\n",
      "DEV >>> Basin Assignment\n",
      "Found 2 local minima with selected populations:\n",
      "\tBasin 0 -> 2094 configurations.\n",
      "\tBasin 1 -> 96718 configurations.\n"
     ]
    },
    {
     "data": {
      "text/plain": [
       "<matplotlib.colorbar.Colorbar at 0x7f29bc528640>"
      ]
     },
     "execution_count": 36,
     "metadata": {},
     "output_type": "execute_result"
    },
    {
     "data": {
      "image/png": "[encoded data removed]",
      "text/plain": [
       "<Figure size 432x288 with 2 Axes>"
      ]
     },
     "metadata": {
      "needs_background": "light"
     },
     "output_type": "display_data"
    }
   ],
   "source": [
    "cv_list = ['DeepTICA 1']\n",
    "kBT = 2.5\n",
    "states_labels = identify_metastable_states(colvar, cv_list, kBT, bw_method=0.15, fes_cutoff=kBT)\n",
    "\n",
    "mask = states_labels['selection'] == 1\n",
    "plt.scatter(np.arange(len(colvar)), colvar[cv_list], c = states_labels['labels'], s = 0.1,alpha=0.1)\n",
    "pp = plt.scatter(np.arange(len(colvar[mask])), colvar[mask][cv_list], c = states_labels[mask]['labels'], s = 0.1,alpha=1)\n",
    "plt.colorbar()\n",
    "#plot_states(colvar, states_labels, cv_list, fes_isolines=True, **{'bw_method':0.15}, cmap_name='fessa')"
   ]
  },
  {
   "cell_type": "code",
   "execution_count": 38,
   "metadata": {},
   "outputs": [
    {
     "data": {
      "text/html": [
       "<div>\n",
       "<style scoped>\n",
       "    .dataframe tbody tr th:only-of-type {\n",
       "        vertical-align: middle;\n",
       "    }\n",
       "\n",
       "    .dataframe tbody tr th {\n",
       "        vertical-align: top;\n",
       "    }\n",
       "\n",
       "    .dataframe thead th {\n",
       "        text-align: right;\n",
       "    }\n",
       "</style>\n",
       "<table border=\"1\" class=\"dataframe\">\n",
       "  <thead>\n",
       "    <tr style=\"text-align: right;\">\n",
       "      <th></th>\n",
       "      <th>labels</th>\n",
       "      <th>selection</th>\n",
       "    </tr>\n",
       "  </thead>\n",
       "  <tbody>\n",
       "    <tr>\n",
       "      <th>82957</th>\n",
       "      <td>0</td>\n",
       "      <td>True</td>\n",
       "    </tr>\n",
       "  </tbody>\n",
       "</table>\n",
       "</div>"
      ],
      "text/plain": [
       "       labels  selection\n",
       "82957       0       True"
      ]
     },
     "execution_count": 38,
     "metadata": {},
     "output_type": "execute_result"
    }
   ],
   "source": [
    "states_labels[states_labels['labels'] == 0].sample(1)"
   ]
  },
  {
   "cell_type": "code",
   "execution_count": 10,
   "metadata": {},
   "outputs": [
    {
     "name": "stdout",
     "output_type": "stream",
     "text": [
      "(103125, 58)\n"
     ]
    },
    {
     "data": {
      "text/html": [
       "<div>\n",
       "<style scoped>\n",
       "    .dataframe tbody tr th:only-of-type {\n",
       "        vertical-align: middle;\n",
       "    }\n",
       "\n",
       "    .dataframe tbody tr th {\n",
       "        vertical-align: top;\n",
       "    }\n",
       "\n",
       "    .dataframe thead th {\n",
       "        text-align: right;\n",
       "    }\n",
       "</style>\n",
       "<table border=\"1\" class=\"dataframe\">\n",
       "  <thead>\n",
       "    <tr style=\"text-align: right;\">\n",
       "      <th></th>\n",
       "      <th>SASA ARG1</th>\n",
       "      <th>SASA PRO2</th>\n",
       "      <th>SASA ASP3</th>\n",
       "      <th>SASA PHE4</th>\n",
       "      <th>SASA CYS5</th>\n",
       "      <th>SASA LEU6</th>\n",
       "      <th>SASA GLU7</th>\n",
       "      <th>SASA PRO8</th>\n",
       "      <th>SASA PRO9</th>\n",
       "      <th>SASA TYR10</th>\n",
       "      <th>...</th>\n",
       "      <th>SASA GLU49</th>\n",
       "      <th>SASA ASP50</th>\n",
       "      <th>SASA CYS51</th>\n",
       "      <th>SASA MET52</th>\n",
       "      <th>SASA ARG53</th>\n",
       "      <th>SASA THR54</th>\n",
       "      <th>SASA CYS55</th>\n",
       "      <th>SASA GLY56</th>\n",
       "      <th>SASA GLY57</th>\n",
       "      <th>SASA ALA58</th>\n",
       "    </tr>\n",
       "  </thead>\n",
       "  <tbody>\n",
       "    <tr>\n",
       "      <th>0</th>\n",
       "      <td>1.099962</td>\n",
       "      <td>0.524975</td>\n",
       "      <td>0.995111</td>\n",
       "      <td>0.769809</td>\n",
       "      <td>0.000000e+00</td>\n",
       "      <td>1.154583</td>\n",
       "      <td>0.335177</td>\n",
       "      <td>1.100501</td>\n",
       "      <td>0.500973</td>\n",
       "      <td>0.852805</td>\n",
       "      <td>...</td>\n",
       "      <td>1.249677</td>\n",
       "      <td>0.275696</td>\n",
       "      <td>0.0</td>\n",
       "      <td>1.181362</td>\n",
       "      <td>1.798351</td>\n",
       "      <td>0.535614</td>\n",
       "      <td>0.000000e+00</td>\n",
       "      <td>0.521890</td>\n",
       "      <td>0.460957</td>\n",
       "      <td>1.328122</td>\n",
       "    </tr>\n",
       "    <tr>\n",
       "      <th>1</th>\n",
       "      <td>1.141736</td>\n",
       "      <td>0.647664</td>\n",
       "      <td>1.063257</td>\n",
       "      <td>0.726136</td>\n",
       "      <td>8.848819e-04</td>\n",
       "      <td>1.352720</td>\n",
       "      <td>0.361452</td>\n",
       "      <td>0.733724</td>\n",
       "      <td>0.420077</td>\n",
       "      <td>1.019489</td>\n",
       "      <td>...</td>\n",
       "      <td>1.222329</td>\n",
       "      <td>0.436374</td>\n",
       "      <td>0.0</td>\n",
       "      <td>1.402522</td>\n",
       "      <td>1.870236</td>\n",
       "      <td>0.455180</td>\n",
       "      <td>2.260575e-02</td>\n",
       "      <td>0.373593</td>\n",
       "      <td>0.800718</td>\n",
       "      <td>1.374059</td>\n",
       "    </tr>\n",
       "    <tr>\n",
       "      <th>2</th>\n",
       "      <td>1.552173</td>\n",
       "      <td>0.580780</td>\n",
       "      <td>1.234221</td>\n",
       "      <td>0.722276</td>\n",
       "      <td>7.830159e-07</td>\n",
       "      <td>0.787330</td>\n",
       "      <td>0.323951</td>\n",
       "      <td>0.744376</td>\n",
       "      <td>0.511902</td>\n",
       "      <td>1.172669</td>\n",
       "      <td>...</td>\n",
       "      <td>1.131043</td>\n",
       "      <td>0.143955</td>\n",
       "      <td>0.0</td>\n",
       "      <td>1.110286</td>\n",
       "      <td>1.934112</td>\n",
       "      <td>0.452785</td>\n",
       "      <td>2.168415e-03</td>\n",
       "      <td>0.131982</td>\n",
       "      <td>0.489193</td>\n",
       "      <td>1.641537</td>\n",
       "    </tr>\n",
       "    <tr>\n",
       "      <th>3</th>\n",
       "      <td>1.678078</td>\n",
       "      <td>0.559984</td>\n",
       "      <td>1.335652</td>\n",
       "      <td>0.508590</td>\n",
       "      <td>6.928766e-10</td>\n",
       "      <td>1.138489</td>\n",
       "      <td>0.607993</td>\n",
       "      <td>1.083300</td>\n",
       "      <td>0.346442</td>\n",
       "      <td>1.164071</td>\n",
       "      <td>...</td>\n",
       "      <td>1.144953</td>\n",
       "      <td>0.322470</td>\n",
       "      <td>0.0</td>\n",
       "      <td>0.660122</td>\n",
       "      <td>2.095870</td>\n",
       "      <td>0.519053</td>\n",
       "      <td>2.394451e-06</td>\n",
       "      <td>0.263163</td>\n",
       "      <td>0.554062</td>\n",
       "      <td>1.796579</td>\n",
       "    </tr>\n",
       "    <tr>\n",
       "      <th>4</th>\n",
       "      <td>1.507681</td>\n",
       "      <td>0.505891</td>\n",
       "      <td>1.100117</td>\n",
       "      <td>0.313368</td>\n",
       "      <td>3.871238e-02</td>\n",
       "      <td>1.422832</td>\n",
       "      <td>0.564999</td>\n",
       "      <td>1.001045</td>\n",
       "      <td>0.451675</td>\n",
       "      <td>0.987744</td>\n",
       "      <td>...</td>\n",
       "      <td>1.459088</td>\n",
       "      <td>0.527855</td>\n",
       "      <td>0.0</td>\n",
       "      <td>0.877392</td>\n",
       "      <td>2.241290</td>\n",
       "      <td>0.520313</td>\n",
       "      <td>2.716426e-09</td>\n",
       "      <td>0.218849</td>\n",
       "      <td>0.583376</td>\n",
       "      <td>1.433574</td>\n",
       "    </tr>\n",
       "    <tr>\n",
       "      <th>...</th>\n",
       "      <td>...</td>\n",
       "      <td>...</td>\n",
       "      <td>...</td>\n",
       "      <td>...</td>\n",
       "      <td>...</td>\n",
       "      <td>...</td>\n",
       "      <td>...</td>\n",
       "      <td>...</td>\n",
       "      <td>...</td>\n",
       "      <td>...</td>\n",
       "      <td>...</td>\n",
       "      <td>...</td>\n",
       "      <td>...</td>\n",
       "      <td>...</td>\n",
       "      <td>...</td>\n",
       "      <td>...</td>\n",
       "      <td>...</td>\n",
       "      <td>...</td>\n",
       "      <td>...</td>\n",
       "      <td>...</td>\n",
       "      <td>...</td>\n",
       "    </tr>\n",
       "    <tr>\n",
       "      <th>103120</th>\n",
       "      <td>0.988555</td>\n",
       "      <td>0.532069</td>\n",
       "      <td>1.293645</td>\n",
       "      <td>0.690284</td>\n",
       "      <td>1.153597e-03</td>\n",
       "      <td>0.997396</td>\n",
       "      <td>0.868174</td>\n",
       "      <td>0.628643</td>\n",
       "      <td>0.043528</td>\n",
       "      <td>1.462217</td>\n",
       "      <td>...</td>\n",
       "      <td>1.104613</td>\n",
       "      <td>0.553409</td>\n",
       "      <td>0.0</td>\n",
       "      <td>0.871810</td>\n",
       "      <td>1.973288</td>\n",
       "      <td>0.569353</td>\n",
       "      <td>5.576282e-09</td>\n",
       "      <td>0.373503</td>\n",
       "      <td>0.599514</td>\n",
       "      <td>1.496040</td>\n",
       "    </tr>\n",
       "    <tr>\n",
       "      <th>103121</th>\n",
       "      <td>1.314960</td>\n",
       "      <td>0.472399</td>\n",
       "      <td>1.233714</td>\n",
       "      <td>0.272588</td>\n",
       "      <td>3.349593e-03</td>\n",
       "      <td>1.101382</td>\n",
       "      <td>0.967791</td>\n",
       "      <td>0.530495</td>\n",
       "      <td>0.003588</td>\n",
       "      <td>1.442700</td>\n",
       "      <td>...</td>\n",
       "      <td>1.411432</td>\n",
       "      <td>0.367121</td>\n",
       "      <td>0.0</td>\n",
       "      <td>0.784554</td>\n",
       "      <td>1.682969</td>\n",
       "      <td>0.459669</td>\n",
       "      <td>6.225837e-12</td>\n",
       "      <td>0.464457</td>\n",
       "      <td>0.399868</td>\n",
       "      <td>1.276764</td>\n",
       "    </tr>\n",
       "    <tr>\n",
       "      <th>103122</th>\n",
       "      <td>1.429128</td>\n",
       "      <td>0.510590</td>\n",
       "      <td>1.336736</td>\n",
       "      <td>0.399423</td>\n",
       "      <td>3.738488e-06</td>\n",
       "      <td>1.135008</td>\n",
       "      <td>0.696672</td>\n",
       "      <td>0.848874</td>\n",
       "      <td>0.099726</td>\n",
       "      <td>0.914115</td>\n",
       "      <td>...</td>\n",
       "      <td>1.239789</td>\n",
       "      <td>0.450235</td>\n",
       "      <td>0.0</td>\n",
       "      <td>1.117825</td>\n",
       "      <td>1.840205</td>\n",
       "      <td>0.456592</td>\n",
       "      <td>6.951357e-15</td>\n",
       "      <td>0.344495</td>\n",
       "      <td>0.316335</td>\n",
       "      <td>1.336097</td>\n",
       "    </tr>\n",
       "    <tr>\n",
       "      <th>103123</th>\n",
       "      <td>1.734680</td>\n",
       "      <td>0.541445</td>\n",
       "      <td>1.385939</td>\n",
       "      <td>0.558892</td>\n",
       "      <td>1.785765e-02</td>\n",
       "      <td>1.225461</td>\n",
       "      <td>0.914057</td>\n",
       "      <td>0.474256</td>\n",
       "      <td>0.032562</td>\n",
       "      <td>0.810536</td>\n",
       "      <td>...</td>\n",
       "      <td>1.033351</td>\n",
       "      <td>0.350956</td>\n",
       "      <td>0.0</td>\n",
       "      <td>1.103749</td>\n",
       "      <td>1.818960</td>\n",
       "      <td>0.525961</td>\n",
       "      <td>3.053586e-02</td>\n",
       "      <td>0.384847</td>\n",
       "      <td>0.641501</td>\n",
       "      <td>1.888945</td>\n",
       "    </tr>\n",
       "    <tr>\n",
       "      <th>103124</th>\n",
       "      <td>1.582319</td>\n",
       "      <td>0.530086</td>\n",
       "      <td>1.058708</td>\n",
       "      <td>0.420124</td>\n",
       "      <td>8.868750e-03</td>\n",
       "      <td>1.262786</td>\n",
       "      <td>0.710541</td>\n",
       "      <td>0.754093</td>\n",
       "      <td>0.000916</td>\n",
       "      <td>0.721513</td>\n",
       "      <td>...</td>\n",
       "      <td>1.269282</td>\n",
       "      <td>0.223674</td>\n",
       "      <td>0.0</td>\n",
       "      <td>1.405216</td>\n",
       "      <td>1.930176</td>\n",
       "      <td>0.308246</td>\n",
       "      <td>3.387179e-05</td>\n",
       "      <td>0.282605</td>\n",
       "      <td>0.736196</td>\n",
       "      <td>1.602211</td>\n",
       "    </tr>\n",
       "  </tbody>\n",
       "</table>\n",
       "<p>103125 rows × 58 columns</p>\n",
       "</div>"
      ],
      "text/plain": [
       "        SASA ARG1  SASA PRO2  SASA ASP3  SASA PHE4     SASA CYS5  SASA LEU6  \\\n",
       "0        1.099962   0.524975   0.995111   0.769809  0.000000e+00   1.154583   \n",
       "1        1.141736   0.647664   1.063257   0.726136  8.848819e-04   1.352720   \n",
       "2        1.552173   0.580780   1.234221   0.722276  7.830159e-07   0.787330   \n",
       "3        1.678078   0.559984   1.335652   0.508590  6.928766e-10   1.138489   \n",
       "4        1.507681   0.505891   1.100117   0.313368  3.871238e-02   1.422832   \n",
       "...           ...        ...        ...        ...           ...        ...   \n",
       "103120   0.988555   0.532069   1.293645   0.690284  1.153597e-03   0.997396   \n",
       "103121   1.314960   0.472399   1.233714   0.272588  3.349593e-03   1.101382   \n",
       "103122   1.429128   0.510590   1.336736   0.399423  3.738488e-06   1.135008   \n",
       "103123   1.734680   0.541445   1.385939   0.558892  1.785765e-02   1.225461   \n",
       "103124   1.582319   0.530086   1.058708   0.420124  8.868750e-03   1.262786   \n",
       "\n",
       "        SASA GLU7  SASA PRO8  SASA PRO9  SASA TYR10  ...  SASA GLU49  \\\n",
       "0        0.335177   1.100501   0.500973    0.852805  ...    1.249677   \n",
       "1        0.361452   0.733724   0.420077    1.019489  ...    1.222329   \n",
       "2        0.323951   0.744376   0.511902    1.172669  ...    1.131043   \n",
       "3        0.607993   1.083300   0.346442    1.164071  ...    1.144953   \n",
       "4        0.564999   1.001045   0.451675    0.987744  ...    1.459088   \n",
       "...           ...        ...        ...         ...  ...         ...   \n",
       "103120   0.868174   0.628643   0.043528    1.462217  ...    1.104613   \n",
       "103121   0.967791   0.530495   0.003588    1.442700  ...    1.411432   \n",
       "103122   0.696672   0.848874   0.099726    0.914115  ...    1.239789   \n",
       "103123   0.914057   0.474256   0.032562    0.810536  ...    1.033351   \n",
       "103124   0.710541   0.754093   0.000916    0.721513  ...    1.269282   \n",
       "\n",
       "        SASA ASP50  SASA CYS51  SASA MET52  SASA ARG53  SASA THR54  \\\n",
       "0         0.275696         0.0    1.181362    1.798351    0.535614   \n",
       "1         0.436374         0.0    1.402522    1.870236    0.455180   \n",
       "2         0.143955         0.0    1.110286    1.934112    0.452785   \n",
       "3         0.322470         0.0    0.660122    2.095870    0.519053   \n",
       "4         0.527855         0.0    0.877392    2.241290    0.520313   \n",
       "...            ...         ...         ...         ...         ...   \n",
       "103120    0.553409         0.0    0.871810    1.973288    0.569353   \n",
       "103121    0.367121         0.0    0.784554    1.682969    0.459669   \n",
       "103122    0.450235         0.0    1.117825    1.840205    0.456592   \n",
       "103123    0.350956         0.0    1.103749    1.818960    0.525961   \n",
       "103124    0.223674         0.0    1.405216    1.930176    0.308246   \n",
       "\n",
       "          SASA CYS55  SASA GLY56  SASA GLY57  SASA ALA58  \n",
       "0       0.000000e+00    0.521890    0.460957    1.328122  \n",
       "1       2.260575e-02    0.373593    0.800718    1.374059  \n",
       "2       2.168415e-03    0.131982    0.489193    1.641537  \n",
       "3       2.394451e-06    0.263163    0.554062    1.796579  \n",
       "4       2.716426e-09    0.218849    0.583376    1.433574  \n",
       "...              ...         ...         ...         ...  \n",
       "103120  5.576282e-09    0.373503    0.599514    1.496040  \n",
       "103121  6.225837e-12    0.464457    0.399868    1.276764  \n",
       "103122  6.951357e-15    0.344495    0.316335    1.336097  \n",
       "103123  3.053586e-02    0.384847    0.641501    1.888945  \n",
       "103124  3.387179e-05    0.282605    0.736196    1.602211  \n",
       "\n",
       "[103125 rows x 58 columns]"
      ]
     },
     "execution_count": 10,
     "metadata": {},
     "output_type": "execute_result"
    }
   ],
   "source": [
    "#calculate descriptors\n",
    "import mdtraj as md\n",
    "# SASA\n",
    "\n",
    "mode = 'residue'\n",
    "\n",
    "traj = md.load(traj_dict['trajectory'], top=traj_dict['topology'], stride=stride)#, atom_indices = traj.top.select('protein'))\n",
    "sasa = md.shrake_rupley(traj,mode=mode)\n",
    "\n",
    "print(sasa.shape)\n",
    "\n",
    "import pandas as pd\n",
    "\n",
    "names = []\n",
    "feats_info = {}\n",
    "\n",
    "table, bonds = traj.top.to_dataframe()\n",
    "\n",
    "if mode == 'atom':\n",
    "    for idx in range(traj.n_atoms):\n",
    "        name = 'SASA '+str(traj.top.atom(idx))\n",
    "        names.append(name)\n",
    "        feats_info[name] = {\n",
    "            'atoms': [idx],\n",
    "            'group': table[\"resName\"][idx] + table[\"resSeq\"][idx].astype(\"str\")\n",
    "        }\n",
    "elif mode == 'residue':\n",
    "    for res in traj.top.residues:\n",
    "        name = 'SASA '+str(res)\n",
    "        names.append(name)\n",
    "        feats_info[name] = {\n",
    "            #'atoms': [idx],\n",
    "            'group': str(res)\n",
    "        }\n",
    "descriptors = pd.DataFrame(sasa, columns=names) \n",
    "\n",
    "descriptors"
   ]
  },
  {
   "cell_type": "code",
   "execution_count": 11,
   "metadata": {},
   "outputs": [
    {
     "name": "stderr",
     "output_type": "stream",
     "text": [
      "Optimizing Lasso Estimator: 100%|██████████| 25/25 [00:00<00:00, 396.01it/s]\n"
     ]
    },
    {
     "data": {
      "image/png": "[encoded data removed]",
      "text/plain": [
       "<Figure size 216x144 with 2 Axes>"
      ]
     },
     "metadata": {
      "needs_background": "light"
     },
     "output_type": "display_data"
    }
   ],
   "source": [
    "regularizers = np.geomspace(0.01, 1, 25)\n",
    "select_feat = 'SASA'\n",
    "sample_obj, features_names, classes_names = sample(descriptors, states_labels, 1000, regex_filter=select_feat)\n",
    "classifier = Classifier(sample_obj, features_names, classes_names)\n",
    "classifier.compute(regularizers, max_iter= 10000) #, groups=groups)\n",
    "\n",
    "classifier.plot();"
   ]
  },
  {
   "cell_type": "code",
   "execution_count": 12,
   "metadata": {},
   "outputs": [
    {
     "name": "stdout",
     "output_type": "stream",
     "text": [
      "Accuracy: 100%\n",
      "State 0:\n",
      "[42.431%]  SASA ARG39\n",
      "[33.519%]  SASA LYS41\n",
      "[24.05% ]  SASA PRO8\n",
      "State 1:\n",
      "[42.431%]  SASA ARG39\n",
      "[33.519%]  SASA LYS41\n",
      "[24.05% ]  SASA PRO8\n"
     ]
    }
   ],
   "source": [
    "reg = 10**(-0.8)\n",
    "classifier.print_selected(reg)"
   ]
  },
  {
   "cell_type": "code",
   "execution_count": 6,
   "metadata": {},
   "outputs": [
    {
     "ename": "NameError",
     "evalue": "name 'classifier' is not defined",
     "output_type": "error",
     "traceback": [
      "\u001b[0;31m---------------------------------------------------------------------------\u001b[0m",
      "\u001b[0;31mNameError\u001b[0m                                 Traceback (most recent call last)",
      "\u001b[0;32m/tmp/ipykernel_308243/3010009531.py\u001b[0m in \u001b[0;36m<module>\u001b[0;34m\u001b[0m\n\u001b[1;32m     74\u001b[0m \u001b[0mfig\u001b[0m\u001b[0;34m,\u001b[0m \u001b[0max\u001b[0m \u001b[0;34m=\u001b[0m \u001b[0mplt\u001b[0m\u001b[0;34m.\u001b[0m\u001b[0msubplots\u001b[0m\u001b[0;34m(\u001b[0m\u001b[0;36m1\u001b[0m\u001b[0;34m,\u001b[0m\u001b[0;36m1\u001b[0m\u001b[0;34m,\u001b[0m \u001b[0mdpi\u001b[0m\u001b[0;34m=\u001b[0m\u001b[0;36m300\u001b[0m\u001b[0;34m,\u001b[0m\u001b[0mfigsize\u001b[0m\u001b[0;34m=\u001b[0m\u001b[0;34m(\u001b[0m\u001b[0;36m8\u001b[0m\u001b[0;34m*\u001b[0m\u001b[0mcentimeters\u001b[0m\u001b[0;34m,\u001b[0m\u001b[0;36m6\u001b[0m\u001b[0;34m*\u001b[0m\u001b[0mcentimeters\u001b[0m\u001b[0;34m)\u001b[0m\u001b[0;34m)\u001b[0m\u001b[0;31m#,constrained_layout=True)\u001b[0m\u001b[0;34m\u001b[0m\u001b[0;34m\u001b[0m\u001b[0m\n\u001b[1;32m     75\u001b[0m \u001b[0;34m\u001b[0m\u001b[0m\n\u001b[0;32m---> 76\u001b[0;31m \u001b[0mrelevant_feat\u001b[0m \u001b[0;34m=\u001b[0m \u001b[0mclassifier\u001b[0m\u001b[0;34m.\u001b[0m\u001b[0mfeature_summary\u001b[0m\u001b[0;34m(\u001b[0m\u001b[0mreg\u001b[0m\u001b[0;34m)\u001b[0m\u001b[0;34m\u001b[0m\u001b[0;34m\u001b[0m\u001b[0m\n\u001b[0m\u001b[1;32m     77\u001b[0m \u001b[0mplot_histogram_features_single_state\u001b[0m\u001b[0;34m(\u001b[0m\u001b[0mdescriptors\u001b[0m\u001b[0;34m,\u001b[0m\u001b[0mstates_labels\u001b[0m\u001b[0;34m,\u001b[0m\u001b[0mclasses_names\u001b[0m\u001b[0;34m,\u001b[0m\u001b[0mrelevant_feat\u001b[0m\u001b[0;34m,\u001b[0m\u001b[0max\u001b[0m\u001b[0;34m=\u001b[0m\u001b[0max\u001b[0m\u001b[0;34m,\u001b[0m\u001b[0mhist_offset\u001b[0m\u001b[0;34m=\u001b[0m\u001b[0;36m1\u001b[0m\u001b[0;34m,\u001b[0m\u001b[0mstate\u001b[0m\u001b[0;34m=\u001b[0m\u001b[0;36m1\u001b[0m\u001b[0;34m,\u001b[0m\u001b[0mn_bins\u001b[0m\u001b[0;34m=\u001b[0m\u001b[0;36m30\u001b[0m\u001b[0;34m)\u001b[0m\u001b[0;34m\u001b[0m\u001b[0;34m\u001b[0m\u001b[0m\n\u001b[1;32m     78\u001b[0m \u001b[0;34m\u001b[0m\u001b[0m\n",
      "\u001b[0;31mNameError\u001b[0m: name 'classifier' is not defined"
     ]
    },
    {
     "data": {
      "image/svg+xml": "<?xml version=\"1.0\" encoding=\"utf-8\" standalone=\"no\"?>\n<!DOCTYPE svg PUBLIC \"-//W3C//DTD SVG 1.1//EN\"\n  \"http://www.w3.org/Graphics/SVG/1.1/DTD/svg11.dtd\">\n<svg height=\"162.124375pt\" version=\"1.1\" viewBox=\"0 0 216.24315 162.124375\" width=\"216.24315pt\" xmlns=\"http://www.w3.org/2000/svg\" xmlns:xlink=\"http://www.w3.org/1999/xlink\">\n <metadata>\n  <rdf:RDF xmlns:cc=\"http://creativecommons.org/ns#\" xmlns:dc=\"http://purl.org/dc/elements/1.1/\" xmlns:rdf=\"http://www.w3.org/1999/02/22-rdf-syntax-ns#\">\n   <cc:Work>\n    <dc:type rdf:resource=\"http://purl.org/dc/dcmitype/StillImage\"/>\n    <dc:date>2022-02-01T15:30:26.947260</dc:date>\n    <dc:format>image/svg+xml</dc:format>\n    <dc:creator>\n     <cc:Agent>\n      <dc:title>Matplotlib v3.4.3, https://matplotlib.org/</dc:title>\n     </cc:Agent>\n    </dc:creator>\n   </cc:Work>\n  </rdf:RDF>\n </metadata>\n <defs>\n  <style type=\"text/css\">*{stroke-linecap:butt;stroke-linejoin:round;}</style>\n </defs>\n <g id=\"figure_1\">\n  <g id=\"patch_1\">\n   <path d=\"M 0 162.124375 \nL 216.24315 162.124375 \nL 216.24315 0 \nL 0 0 \nz\n\" style=\"fill:none;\"/>\n  </g>\n  <g id=\"axes_1\">\n   <g id=\"patch_2\">\n    <path d=\"M 26.930079 139.068698 \nL 202.67811 139.068698 \nL 202.67811 10.659249 \nL 26.930079 10.659249 \nz\n\" style=\"fill:#ffffff;\"/>\n   </g>\n   <g id=\"matplotlib.axis_1\">\n    <g id=\"xtick_1\">\n     <g id=\"line2d_1\">\n      <defs>\n       <path d=\"M 0 0 \nL 0 3.5 \n\" id=\"ma73522903a\" style=\"stroke:#000000;stroke-width:0.8;\"/>\n      </defs>\n      <g>\n       <use style=\"stroke:#000000;stroke-width:0.8;\" x=\"26.930079\" xlink:href=\"#ma73522903a\" y=\"139.068698\"/>\n      </g>\n     </g>\n     <g id=\"text_1\">\n      <!-- $\\mathdefault{0.0}$ -->\n      <g transform=\"translate(20.565039 152.987196)scale(0.1 -0.1)\">\n       <defs>\n        <path d=\"M 2688 2038 \nC 2688 2430 2682 3099 2413 3613 \nC 2176 4063 1798 4224 1466 4224 \nC 1158 4224 768 4082 525 3620 \nC 269 3137 243 2539 243 2038 \nC 243 1671 250 1112 448 623 \nC 723 -39 1216 -128 1466 -128 \nC 1760 -128 2208 -7 2470 604 \nC 2662 1048 2688 1568 2688 2038 \nz\nM 1466 -26 \nC 1056 -26 813 328 723 816 \nC 653 1196 653 1749 653 2109 \nC 653 2604 653 3015 736 3407 \nC 858 3954 1216 4121 1466 4121 \nC 1728 4121 2067 3947 2189 3420 \nC 2272 3054 2278 2623 2278 2109 \nC 2278 1691 2278 1176 2202 797 \nC 2067 96 1690 -26 1466 -26 \nz\n\" id=\"CMR17-30\" transform=\"scale(0.015625)\"/>\n        <path d=\"M 1178 307 \nC 1178 492 1024 620 870 620 \nC 685 620 557 467 557 313 \nC 557 128 710 0 864 0 \nC 1050 0 1178 153 1178 307 \nz\n\" id=\"CMMI12-3a\" transform=\"scale(0.015625)\"/>\n       </defs>\n       <use transform=\"scale(0.996264)\" xlink:href=\"#CMR17-30\"/>\n       <use transform=\"translate(45.690477 0)scale(0.996264)\" xlink:href=\"#CMMI12-3a\"/>\n       <use transform=\"translate(72.787654 0)scale(0.996264)\" xlink:href=\"#CMR17-30\"/>\n      </g>\n     </g>\n    </g>\n    <g id=\"xtick_2\">\n     <g id=\"line2d_2\">\n      <g>\n       <use style=\"stroke:#000000;stroke-width:0.8;\" x=\"62.079685\" xlink:href=\"#ma73522903a\" y=\"139.068698\"/>\n      </g>\n     </g>\n     <g id=\"text_2\">\n      <!-- $\\mathdefault{0.2}$ -->\n      <g transform=\"translate(55.714646 152.987196)scale(0.1 -0.1)\">\n       <defs>\n        <path d=\"M 2669 990 \nL 2554 990 \nC 2490 537 2438 460 2413 422 \nC 2381 371 1920 371 1830 371 \nL 602 371 \nC 832 620 1280 1073 1824 1596 \nC 2214 1966 2669 2400 2669 3033 \nC 2669 3788 2067 4224 1395 4224 \nC 691 4224 262 3603 262 3027 \nC 262 2777 448 2745 525 2745 \nC 589 2745 781 2783 781 3007 \nC 781 3206 614 3264 525 3264 \nC 486 3264 448 3257 422 3244 \nC 544 3788 915 4057 1306 4057 \nC 1862 4057 2227 3616 2227 3033 \nC 2227 2477 1901 1998 1536 1583 \nL 262 147 \nL 262 0 \nL 2515 0 \nL 2669 990 \nz\n\" id=\"CMR17-32\" transform=\"scale(0.015625)\"/>\n       </defs>\n       <use transform=\"scale(0.996264)\" xlink:href=\"#CMR17-30\"/>\n       <use transform=\"translate(45.690477 0)scale(0.996264)\" xlink:href=\"#CMMI12-3a\"/>\n       <use transform=\"translate(72.787654 0)scale(0.996264)\" xlink:href=\"#CMR17-32\"/>\n      </g>\n     </g>\n    </g>\n    <g id=\"xtick_3\">\n     <g id=\"line2d_3\">\n      <g>\n       <use style=\"stroke:#000000;stroke-width:0.8;\" x=\"97.229292\" xlink:href=\"#ma73522903a\" y=\"139.068698\"/>\n      </g>\n     </g>\n     <g id=\"text_3\">\n      <!-- $\\mathdefault{0.4}$ -->\n      <g transform=\"translate(90.864252 152.987196)scale(0.1 -0.1)\">\n       <defs>\n        <path d=\"M 2150 4147 \nC 2150 4281 2144 4288 2029 4288 \nL 128 1254 \nL 128 1088 \nL 1779 1088 \nL 1779 460 \nC 1779 230 1766 166 1318 166 \nL 1197 166 \nL 1197 0 \nC 1402 12 1747 12 1965 12 \nC 2182 12 2528 12 2733 0 \nL 2733 166 \nL 2611 166 \nC 2163 166 2150 230 2150 460 \nL 2150 1088 \nL 2803 1088 \nL 2803 1254 \nL 2150 1254 \nL 2150 4147 \nz\nM 1798 3723 \nL 1798 1254 \nL 256 1254 \nL 1798 3723 \nz\n\" id=\"CMR17-34\" transform=\"scale(0.015625)\"/>\n       </defs>\n       <use transform=\"scale(0.996264)\" xlink:href=\"#CMR17-30\"/>\n       <use transform=\"translate(45.690477 0)scale(0.996264)\" xlink:href=\"#CMMI12-3a\"/>\n       <use transform=\"translate(72.787654 0)scale(0.996264)\" xlink:href=\"#CMR17-34\"/>\n      </g>\n     </g>\n    </g>\n    <g id=\"xtick_4\">\n     <g id=\"line2d_4\">\n      <g>\n       <use style=\"stroke:#000000;stroke-width:0.8;\" x=\"132.378898\" xlink:href=\"#ma73522903a\" y=\"139.068698\"/>\n      </g>\n     </g>\n     <g id=\"text_4\">\n      <!-- $\\mathdefault{0.6}$ -->\n      <g transform=\"translate(126.013858 152.987196)scale(0.1 -0.1)\">\n       <defs>\n        <path d=\"M 678 2198 \nC 678 3712 1395 4076 1811 4076 \nC 1946 4076 2272 4049 2400 3782 \nC 2298 3782 2106 3782 2106 3558 \nC 2106 3385 2246 3328 2336 3328 \nC 2394 3328 2566 3353 2566 3571 \nC 2566 3987 2246 4224 1805 4224 \nC 1043 4224 243 3411 243 2011 \nC 243 257 966 -128 1478 -128 \nC 2099 -128 2688 431 2688 1295 \nC 2688 2101 2170 2688 1517 2688 \nC 1126 2688 838 2430 678 1979 \nL 678 2198 \nz\nM 1478 25 \nC 691 25 691 1212 691 1450 \nC 691 1914 909 2585 1504 2585 \nC 1613 2585 1926 2585 2138 2140 \nC 2253 1889 2253 1624 2253 1302 \nC 2253 954 2253 696 2118 438 \nC 1978 173 1773 25 1478 25 \nz\n\" id=\"CMR17-36\" transform=\"scale(0.015625)\"/>\n       </defs>\n       <use transform=\"scale(0.996264)\" xlink:href=\"#CMR17-30\"/>\n       <use transform=\"translate(45.690477 0)scale(0.996264)\" xlink:href=\"#CMMI12-3a\"/>\n       <use transform=\"translate(72.787654 0)scale(0.996264)\" xlink:href=\"#CMR17-36\"/>\n      </g>\n     </g>\n    </g>\n    <g id=\"xtick_5\">\n     <g id=\"line2d_5\">\n      <g>\n       <use style=\"stroke:#000000;stroke-width:0.8;\" x=\"167.528504\" xlink:href=\"#ma73522903a\" y=\"139.068698\"/>\n      </g>\n     </g>\n     <g id=\"text_5\">\n      <!-- $\\mathdefault{0.8}$ -->\n      <g transform=\"translate(161.163465 152.987196)scale(0.1 -0.1)\">\n       <defs>\n        <path d=\"M 1741 2289 \nC 2144 2494 2554 2803 2554 3298 \nC 2554 3884 1990 4224 1472 4224 \nC 890 4224 378 3800 378 3215 \nC 378 3054 416 2777 666 2533 \nC 730 2469 998 2276 1171 2154 \nC 883 2006 211 1652 211 945 \nC 211 282 838 -128 1459 -128 \nC 2144 -128 2720 366 2720 1022 \nC 2720 1607 2330 1877 2074 2051 \nL 1741 2289 \nz\nM 902 2855 \nC 851 2887 595 3086 595 3388 \nC 595 3781 998 4076 1459 4076 \nC 1965 4076 2336 3716 2336 3298 \nC 2336 2700 1670 2359 1638 2359 \nC 1632 2359 1626 2359 1574 2398 \nL 902 2855 \nz\nM 2080 1536 \nC 2176 1466 2483 1253 2483 861 \nC 2483 385 2010 25 1472 25 \nC 890 25 448 443 448 951 \nC 448 1459 838 1884 1280 2083 \nL 2080 1536 \nz\n\" id=\"CMR17-38\" transform=\"scale(0.015625)\"/>\n       </defs>\n       <use transform=\"scale(0.996264)\" xlink:href=\"#CMR17-30\"/>\n       <use transform=\"translate(45.690477 0)scale(0.996264)\" xlink:href=\"#CMMI12-3a\"/>\n       <use transform=\"translate(72.787654 0)scale(0.996264)\" xlink:href=\"#CMR17-38\"/>\n      </g>\n     </g>\n    </g>\n    <g id=\"xtick_6\">\n     <g id=\"line2d_6\">\n      <g>\n       <use style=\"stroke:#000000;stroke-width:0.8;\" x=\"202.67811\" xlink:href=\"#ma73522903a\" y=\"139.068698\"/>\n      </g>\n     </g>\n     <g id=\"text_6\">\n      <!-- $\\mathdefault{1.0}$ -->\n      <g transform=\"translate(196.313071 152.987196)scale(0.1 -0.1)\">\n       <defs>\n        <path d=\"M 1702 4083 \nC 1702 4217 1696 4224 1606 4224 \nC 1357 3927 979 3833 621 3820 \nC 602 3820 570 3820 563 3808 \nC 557 3795 557 3782 557 3648 \nC 755 3648 1088 3686 1344 3839 \nL 1344 467 \nC 1344 243 1331 166 781 166 \nL 589 166 \nL 589 0 \nC 896 6 1216 12 1523 12 \nC 1830 12 2150 6 2458 0 \nL 2458 166 \nL 2266 166 \nC 1715 166 1702 236 1702 467 \nL 1702 4083 \nz\n\" id=\"CMR17-31\" transform=\"scale(0.015625)\"/>\n       </defs>\n       <use transform=\"scale(0.996264)\" xlink:href=\"#CMR17-31\"/>\n       <use transform=\"translate(45.690477 0)scale(0.996264)\" xlink:href=\"#CMMI12-3a\"/>\n       <use transform=\"translate(72.787654 0)scale(0.996264)\" xlink:href=\"#CMR17-30\"/>\n      </g>\n     </g>\n    </g>\n   </g>\n   <g id=\"matplotlib.axis_2\">\n    <g id=\"ytick_1\">\n     <g id=\"line2d_7\">\n      <defs>\n       <path d=\"M 0 0 \nL -3.5 0 \n\" id=\"m2160acbc8b\" style=\"stroke:#000000;stroke-width:0.8;\"/>\n      </defs>\n      <g>\n       <use style=\"stroke:#000000;stroke-width:0.8;\" x=\"26.930079\" xlink:href=\"#m2160acbc8b\" y=\"139.068698\"/>\n      </g>\n     </g>\n     <g id=\"text_7\">\n      <!-- $\\mathdefault{0.0}$ -->\n      <g transform=\"translate(7.2 142.527947)scale(0.1 -0.1)\">\n       <use transform=\"scale(0.996264)\" xlink:href=\"#CMR17-30\"/>\n       <use transform=\"translate(45.690477 0)scale(0.996264)\" xlink:href=\"#CMMI12-3a\"/>\n       <use transform=\"translate(72.787654 0)scale(0.996264)\" xlink:href=\"#CMR17-30\"/>\n      </g>\n     </g>\n    </g>\n    <g id=\"ytick_2\">\n     <g id=\"line2d_8\">\n      <g>\n       <use style=\"stroke:#000000;stroke-width:0.8;\" x=\"26.930079\" xlink:href=\"#m2160acbc8b\" y=\"113.386808\"/>\n      </g>\n     </g>\n     <g id=\"text_8\">\n      <!-- $\\mathdefault{0.2}$ -->\n      <g transform=\"translate(7.2 116.846057)scale(0.1 -0.1)\">\n       <use transform=\"scale(0.996264)\" xlink:href=\"#CMR17-30\"/>\n       <use transform=\"translate(45.690477 0)scale(0.996264)\" xlink:href=\"#CMMI12-3a\"/>\n       <use transform=\"translate(72.787654 0)scale(0.996264)\" xlink:href=\"#CMR17-32\"/>\n      </g>\n     </g>\n    </g>\n    <g id=\"ytick_3\">\n     <g id=\"line2d_9\">\n      <g>\n       <use style=\"stroke:#000000;stroke-width:0.8;\" x=\"26.930079\" xlink:href=\"#m2160acbc8b\" y=\"87.704918\"/>\n      </g>\n     </g>\n     <g id=\"text_9\">\n      <!-- $\\mathdefault{0.4}$ -->\n      <g transform=\"translate(7.2 91.164168)scale(0.1 -0.1)\">\n       <use transform=\"scale(0.996264)\" xlink:href=\"#CMR17-30\"/>\n       <use transform=\"translate(45.690477 0)scale(0.996264)\" xlink:href=\"#CMMI12-3a\"/>\n       <use transform=\"translate(72.787654 0)scale(0.996264)\" xlink:href=\"#CMR17-34\"/>\n      </g>\n     </g>\n    </g>\n    <g id=\"ytick_4\">\n     <g id=\"line2d_10\">\n      <g>\n       <use style=\"stroke:#000000;stroke-width:0.8;\" x=\"26.930079\" xlink:href=\"#m2160acbc8b\" y=\"62.023029\"/>\n      </g>\n     </g>\n     <g id=\"text_10\">\n      <!-- $\\mathdefault{0.6}$ -->\n      <g transform=\"translate(7.2 65.482278)scale(0.1 -0.1)\">\n       <use transform=\"scale(0.996264)\" xlink:href=\"#CMR17-30\"/>\n       <use transform=\"translate(45.690477 0)scale(0.996264)\" xlink:href=\"#CMMI12-3a\"/>\n       <use transform=\"translate(72.787654 0)scale(0.996264)\" xlink:href=\"#CMR17-36\"/>\n      </g>\n     </g>\n    </g>\n    <g id=\"ytick_5\">\n     <g id=\"line2d_11\">\n      <g>\n       <use style=\"stroke:#000000;stroke-width:0.8;\" x=\"26.930079\" xlink:href=\"#m2160acbc8b\" y=\"36.341139\"/>\n      </g>\n     </g>\n     <g id=\"text_11\">\n      <!-- $\\mathdefault{0.8}$ -->\n      <g transform=\"translate(7.2 39.800388)scale(0.1 -0.1)\">\n       <use transform=\"scale(0.996264)\" xlink:href=\"#CMR17-30\"/>\n       <use transform=\"translate(45.690477 0)scale(0.996264)\" xlink:href=\"#CMMI12-3a\"/>\n       <use transform=\"translate(72.787654 0)scale(0.996264)\" xlink:href=\"#CMR17-38\"/>\n      </g>\n     </g>\n    </g>\n    <g id=\"ytick_6\">\n     <g id=\"line2d_12\">\n      <g>\n       <use style=\"stroke:#000000;stroke-width:0.8;\" x=\"26.930079\" xlink:href=\"#m2160acbc8b\" y=\"10.659249\"/>\n      </g>\n     </g>\n     <g id=\"text_12\">\n      <!-- $\\mathdefault{1.0}$ -->\n      <g transform=\"translate(7.2 14.118498)scale(0.1 -0.1)\">\n       <use transform=\"scale(0.996264)\" xlink:href=\"#CMR17-31\"/>\n       <use transform=\"translate(45.690477 0)scale(0.996264)\" xlink:href=\"#CMMI12-3a\"/>\n       <use transform=\"translate(72.787654 0)scale(0.996264)\" xlink:href=\"#CMR17-30\"/>\n      </g>\n     </g>\n    </g>\n   </g>\n   <g id=\"patch_3\">\n    <path d=\"M 26.930079 139.068698 \nL 26.930079 10.659249 \n\" style=\"fill:none;stroke:#000000;stroke-linecap:square;stroke-linejoin:miter;stroke-width:0.8;\"/>\n   </g>\n   <g id=\"patch_4\">\n    <path d=\"M 202.67811 139.068698 \nL 202.67811 10.659249 \n\" style=\"fill:none;stroke:#000000;stroke-linecap:square;stroke-linejoin:miter;stroke-width:0.8;\"/>\n   </g>\n   <g id=\"patch_5\">\n    <path d=\"M 26.930079 139.068698 \nL 202.67811 139.068698 \n\" style=\"fill:none;stroke:#000000;stroke-linecap:square;stroke-linejoin:miter;stroke-width:0.8;\"/>\n   </g>\n   <g id=\"patch_6\">\n    <path d=\"M 26.930079 10.659249 \nL 202.67811 10.659249 \n\" style=\"fill:none;stroke:#000000;stroke-linecap:square;stroke-linejoin:miter;stroke-width:0.8;\"/>\n   </g>\n  </g>\n </g>\n</svg>\n",
      "text/plain": [
       "<Figure size 944.882x708.661 with 1 Axes>"
      ]
     },
     "metadata": {
      "needs_background": "light"
     },
     "output_type": "display_data"
    }
   ],
   "source": [
    "from stateinterpreter._configs import __useTeX__\n",
    "\n",
    "def plot_histogram_features_single_state(descriptors,states_labels,classes_names,relevant_feat, ax, state=0, hist_offset = -0.2, n_bins = 50, ylog = False, height=0.75, width=6):\n",
    "\n",
    "    features_per_class = [len(feat_list) for feat_list in relevant_feat.values()]\n",
    "\n",
    "    for b, (basin, basin_name) in enumerate( classes_names.items() ):\n",
    "        if basin == state:\n",
    "            feat_list = relevant_feat[basin_name]\n",
    "\n",
    "            #fig,ax = plt.subplots( figsize = (4,0.5*len(feat_list)) )\n",
    "            #ax = axs[b]\n",
    "            feature_labels = []\n",
    "            for h, feature in enumerate( feat_list[::-1] ):\n",
    "                feature_name = feature[2]\n",
    "                if (__useTeX__) and ('_' in feature_name):\n",
    "                    feature_label = feature_name.replace('_','\\_')\n",
    "                else:\n",
    "                    feature_label = feature_name\n",
    "                feature_label=feature_label.replace('SASA ','')\n",
    "                \n",
    "                feature_labels.append(feature_label)\n",
    "\n",
    "                # formatting\n",
    "                if feature_labels is None:\n",
    "                    feature_labels = [str(n) for n in range(len(feat_list))]\n",
    "                    ax.set_ylabel('Feature histograms')\n",
    "\n",
    "                #coordinate = descriptors[feature_name]\n",
    "                #hist, edges = np.histogram(coordinate, bins=n_bins)\n",
    "                for i in classes_names.keys():\n",
    "                    x_i = descriptors[ ( states_labels['labels'] == i ) & ( states_labels['selection'] ) ][feature_name]\n",
    "                    hist, edges = np.histogram(x_i, bins=n_bins)\n",
    "                    if not ylog:\n",
    "                        y = hist / hist.max()\n",
    "                    else:\n",
    "                        y = np.zeros_like(hist) + np.NaN\n",
    "                        pos_idx = hist > 0\n",
    "                        y[pos_idx] = np.log(hist[pos_idx]) / np.log(hist[pos_idx]).max()\n",
    "                    color = 'fessa0' if i == 0 else 'grey'\n",
    "                    feature_labels = [ feat.replace('HB\\\\_CONTACT ','') for feat in feature_labels]\n",
    "                    alpha=0.8 if i == state else 0.8\n",
    "                    label=( 'State == 0' if i == 0 else 'States != 0' ) if h == 0 else None\n",
    "                    ax.fill_between(edges[:-1], y + h + hist_offset, y2=h + hist_offset, color=color, alpha=alpha, label = label)#, label=feature_labels[h] if i == 0 else None) #, **kwargs)\n",
    "\n",
    "                ax.axhline(y=h + hist_offset, xmin=0, xmax=1, color='k', linewidth=.2)\n",
    "\n",
    "                print(b,h,i)\n",
    "            #handles, labels = ax.get_legend_handles_labels()\n",
    "            #ax.legend(handles[::-1], labels[::-1],frameon=False,ncol=1,loc=3,labelspacing=3,bbox_to_anchor=(0.05, 0.))\n",
    "\n",
    "            ax.legend(frameon=False,ncol=1,loc='lower right',fontsize='small')\n",
    "\n",
    "            ax.set_ylim(hist_offset, h + hist_offset + 1)\n",
    "            ax.set_yticks(np.array(range(len(feature_labels))) + hist_offset + .3)\n",
    "            ax.set_yticklabels(feature_labels)\n",
    "            #ax.set_xlabel('Feature values')\n",
    "            #ax.set_title(f'{basin}: {basin_name}')\n",
    "\n",
    "            #ax.set_yticks([])\n",
    "            #ax.set_yticklabels([])\n",
    "\n",
    "            ax.set_xlabel(r'SASA of residues [$nm^2$]')\n",
    "            ax.set_ylabel('Histogram')\n",
    "\n",
    "            #ax2 = ax.twinx()\n",
    "            #ax2.set_ylim(hist_offset, h + hist_offset + 1)\n",
    "            #ax2.set_yticks(np.array(range(len(feature_labels))) + .3)\n",
    "            #feature_label = feature_label.replace('HB\\\\_CONTACT ','')\n",
    "            #ax2.set_yticklabels(feature_labels,rotation=45)\n",
    "\n",
    "# plot setup\n",
    "centimeters = 1/2.54\n",
    "fig, ax = plt.subplots(1,1, dpi=300,figsize=(8*centimeters,6*centimeters))#,constrained_layout=True)\n",
    "\n",
    "relevant_feat = classifier.feature_summary(reg)\n",
    "plot_histogram_features_single_state(descriptors,states_labels,classes_names,relevant_feat,ax=ax,hist_offset=1,state=1,n_bins=30)\n",
    "\n",
    "plt.tight_layout()\n",
    "\n",
    "save_folder =  None#'bpti-figs/'\n",
    "\n",
    "if save_folder is not None:\n",
    "        plt.savefig(save_folder+'sasa_histogram.pdf',bbox_inches='tight')"
   ]
  },
  {
   "cell_type": "code",
   "execution_count": 24,
   "metadata": {},
   "outputs": [
    {
     "data": {
      "application/vnd.jupyter.widget-view+json": {
       "model_id": "88e6957fdc724fea93c529324175e943",
       "version_major": 2,
       "version_minor": 0
      },
      "text/plain": []
     },
     "metadata": {},
     "output_type": "display_data"
    }
   ],
   "source": [
    "from stateinterpreter.io import load_trajectory\n",
    "from stateinterpreter.visualize import compute_residue_score \n",
    "\n",
    "#traj = load_trajectory(traj_dict, stride=stride)\n",
    "# number of  residues\n",
    "n_residues = traj.n_residues\n",
    "\n",
    "residue_score = compute_residue_score(classifier,reg,feats_info,n_residues)\n",
    "residue_score"
   ]
  },
  {
   "cell_type": "code",
   "execution_count": 64,
   "metadata": {},
   "outputs": [],
   "source": [
    "import nglview \n",
    "import matplotlib\n",
    "from time import sleep \n",
    "\n",
    "def visualize_residue_score(trajectory, states_labels, classes_names, residue_score, representation = 'licorice', palette = 'Reds', state_frames=None):\n",
    "    # sample one frame per state\n",
    "    if state_frames is None:\n",
    "        frames = [states_labels [( states_labels['labels'] == i ) & ( states_labels['selection'] ) ].sample(1).index.values[0] for i in classes_names.keys() ]\n",
    "    else:\n",
    "        frames = state_frames\n",
    "        \n",
    "    traj = trajectory[frames]\n",
    "    traj.superpose(traj[0])\n",
    "\n",
    "    view = nglview.show_mdtraj(traj, default=False)\n",
    "\n",
    "    if representation == 'licorice' :\n",
    "        view.add_licorice('(not hydrogen)')\n",
    "    elif representation == 'cartoon' :\n",
    "        view.add_cartoon('protein')\n",
    "    elif representation == 'ball_and_stick' :\n",
    "        view.add_ball_and_stick('(not hydrogen)')\n",
    "\n",
    "    view.add_ball_and_stick('042 and backbone')\n",
    "\n",
    "    # get color palette\n",
    "    cmap = matplotlib.cm.get_cmap(palette, 11)\n",
    "    palette = [matplotlib.colors.rgb2hex( cmap(i) ) for i in range(cmap.N)]\n",
    "\n",
    "    # transform score in colors\n",
    "    residue_colors = {}\n",
    "    for i, state in enumerate( classes_names.keys() ):\n",
    "        colors = []\n",
    "        for i in residue_score[ classes_names[state] ]:\n",
    "            col = int (i*10)*2\n",
    "            colors.append( palette[col] ) \n",
    "        residue_colors[state] = colors\n",
    "\n",
    "    # define observer function to allow changing colors with frame\n",
    "    def on_change(change):\n",
    "        frame = change.new\n",
    "        frame_color = residue_colors[frame]\n",
    "        frame_color = [c.replace('#', '0x') for c in frame_color]\n",
    "        \n",
    "        view._set_color_by_residue(view,frame_color)\n",
    "        #view.update_licorice()\n",
    "        sleep(0.1) # wait for the color update\n",
    "\n",
    "    # convert to int\n",
    "   \n",
    "    # initialize set color by residue\n",
    "    def _set_color_by_residue(self, colors, component_index=0, repr_index=0):\n",
    "            self._remote_call('setColorByResidue',\n",
    "                            target='Widget',\n",
    "                            args=[colors, component_index, repr_index])\n",
    "\n",
    "    if not hasattr(view, '_set_color_by_residue'):\n",
    "        view._set_color_by_residue = _set_color_by_residue\n",
    "\n",
    "    # set colors from state 0 \n",
    "    frame_color = residue_colors[0]\n",
    "    frame_color = [c.replace('#', '0x') for c in frame_color]\n",
    "        \n",
    "    view._set_color_by_residue(view,frame_color)\n",
    "    view.observe(on_change, names=['frame'])\n",
    "\n",
    "    return view"
   ]
  },
  {
   "cell_type": "code",
   "execution_count": 65,
   "metadata": {},
   "outputs": [
    {
     "data": {
      "application/vnd.jupyter.widget-view+json": {
       "model_id": "faeb95f9d0954f57a9bc665541132c06",
       "version_major": 2,
       "version_minor": 0
      },
      "text/plain": [
       "NGLWidget(max_frame=1)"
      ]
     },
     "metadata": {},
     "output_type": "display_data"
    }
   ],
   "source": [
    "#from stateinterpreter.visualize import visualize_residue_score\n",
    "\n",
    "view = visualize_residue_score(traj, states_labels, classes_names, residue_score, representation='cartoon',state_frames=[82957,0])\n",
    "\n",
    "view"
   ]
  },
  {
   "cell_type": "code",
   "execution_count": 67,
   "metadata": {},
   "outputs": [],
   "source": [
    "view.download_image('bpti-figs/image1.png')"
   ]
  },
  {
   "cell_type": "markdown",
   "metadata": {},
   "source": [
    "# Hierarchical classification"
   ]
  },
  {
   "cell_type": "markdown",
   "metadata": {},
   "source": [
    "### PLOT FES"
   ]
  },
  {
   "cell_type": "code",
   "execution_count": 4,
   "metadata": {},
   "outputs": [],
   "source": [
    "__all__ = [\"compute_fes\"]\n",
    "\n",
    "from sklearn.neighbors import KernelDensity\n",
    "import pandas as pd\n",
    "import numpy as np\n",
    "import matplotlib.pyplot as plt\n",
    "from torch import Tensor\n",
    "\n",
    "def compute_fes(X, temp=300, num_samples=100, bounds=None, bandwidth=0.01, kernel='gaussian', weights=None, scale_by = None, blocks = 1, plot=False, plot_max_fes=None, ax = None):\n",
    "    \"\"\"Compute the Free Energy Surface along the given variables.\n",
    "\n",
    "    Parameters\n",
    "    ----------\n",
    "    X : array-like, list of arrays\n",
    "        data\n",
    "    temp : float, optional\n",
    "        temperature, by default 300\n",
    "    num_samples : int, optional\n",
    "        number of points used along each direction, by default 100\n",
    "    bounds : list of lists, optional\n",
    "        limit the calculation of the FES to a region, by default equal to the range of values\n",
    "    bandwidth : float, optional\n",
    "        Bandwidth use for the kernels, by default 0.1. \n",
    "    kernel: string, optional\n",
    "        Kernel type, by default 'gaussian'. \n",
    "    weights : array, optional\n",
    "        array of samples weights, by default None\n",
    "    scale_by : string, optional\n",
    "        Standardize each variable by its standard deviation (`std`) or by its range of values, by default None\n",
    "    blocks : int, optional\n",
    "        number of blocks to be used, by default 1\n",
    "    plot : bool, optional\n",
    "        Plot the results (only available for 1D and 2D FES), by default False\n",
    "    plot_max_fes : float, optional\n",
    "        Maximum value of the FES to be plotted, by default None\n",
    "    ax : matplotlib axis, optional\n",
    "        Axis where to plot, default create new figure\n",
    "    Returns\n",
    "    -------\n",
    "    fes: np.array\n",
    "        free energy\n",
    "    grid: np.array or list of arrays (>1D)\n",
    "        grid points for plotting\n",
    "    bounds: list\n",
    "        bounds along each variable\n",
    "    std: np.array\n",
    "        (weighted) standard deviation along the blocks (only if blocks>1)\n",
    "\n",
    "    Notes\n",
    "    -----\n",
    "    - This function uses sklearn.neighbors.KernelDensity function to construct the estimate of the FES (https://scikit-learn.org/stable/modules/generated/sklearn.neighbors.KernelDensity.html). You can specify all the kernels supported.\n",
    "\n",
    "    - Note that if ``scale_by`` is not none, the bandwidth is not rescaled as well. So if using ``scale_by='range'`` a bandwidth of 0.01 corresponds to a 1/100 of the range of values assumed by the variable.\n",
    "\n",
    "    - If blocks>1 a (weighted) block analyis is performed [1], which allows also to obtain an estimate of the uncertainty.\n",
    "\n",
    "    [1] Invernizzi, Piaggi and Parrinello, PRX, 2020,10,4\n",
    "\n",
    "    \"\"\"\n",
    "    # temperature\n",
    "    kb = 0.00831441\n",
    "    kbt = kb * temp\n",
    "\n",
    "    # dataset\n",
    "    if type(X) == list:\n",
    "        X = np.vstack(X).T\n",
    "    elif type(X) == pd.DataFrame:\n",
    "        X = X.values\n",
    "    elif type(X) == Tensor:\n",
    "        X = X.numpy()\n",
    "    \n",
    "    if X.ndim == 1:\n",
    "        X = X.reshape([-1,1])  \n",
    "\n",
    "    # div\n",
    "    nsamples = X.shape[0]\n",
    "    dim = X.shape[1]\n",
    "    \n",
    "    # weights\n",
    "    if weights is None:\n",
    "        weights = np.ones(nsamples)\n",
    "    else:\n",
    "        assert weights.ndim == 1\n",
    "        assert weights.shape[0] == nsamples\n",
    "\n",
    "    # rescale\n",
    "    if scale_by is not None:\n",
    "        if scale_by == 'std':\n",
    "            scale = X.std(axis=0)\n",
    "        elif scale_by == 'range':\n",
    "            scale = X.max(axis=0)-X.min(axis=0)\n",
    "        elif type(scale_by) == list:\n",
    "            scale = np.asarray(scale_by)\n",
    "        X = np.copy(X)\n",
    "        X /= scale\n",
    "\n",
    "    # eval points\n",
    "    if dim == 1:\n",
    "        if bounds is None:\n",
    "            bounds = (X[:,0].min(), X[:,0].max())\n",
    "        grid = np.linspace(bounds[0], bounds[1], num_samples)\n",
    "        positions = grid.reshape([-1,1])\n",
    "    else:\n",
    "        if bounds is None:\n",
    "            bounds = [(X[:,i].min(), X[:,i].max()) for i in range(dim)]\n",
    "        grid = np.meshgrid(*[np.linspace(b[0], b[1], num_samples) for b in bounds])\n",
    "        positions = np.vstack([g.ravel() for g in grid]).T\n",
    "\n",
    "    # divide in blocks\n",
    "    X_b = np.array_split(X,blocks)\n",
    "    w_b = np.array_split(weights,blocks)\n",
    "\n",
    "    O_i,W_i = [], [] #values per block\n",
    "    # block average\n",
    "    for i in range(blocks):\n",
    "        # data of each block\n",
    "        X_i = X_b[i]\n",
    "        w_i = w_b[i]\n",
    "\n",
    "        # fit\n",
    "        kde = KernelDensity(bandwidth=bandwidth, kernel=kernel)\n",
    "        kde.fit(X_i, sample_weight=w_i)\n",
    "\n",
    "        # logpdf --> fes\n",
    "        ##positions = torch.tensor(positions, dtype=torch.float32)\n",
    "        fes = - kbt * kde.score_samples(positions).reshape([num_samples for i in range(dim)])\n",
    "        fes -= fes.min()\n",
    "\n",
    "        # result for each block\n",
    "        O_i.append(fes)\n",
    "        W_i.append(np.sum(w_i))\n",
    "\n",
    "    O_i = np.asarray(O_i)\n",
    "    W_i = np.asarray(W_i)\n",
    "\n",
    "    # compute avg and std \n",
    "    if blocks > 1: \n",
    "        # weighted average\n",
    "        O = np.dot(O_i.T,W_i)/np.sum(W_i)\n",
    "        # weighted std\n",
    "        dev = O_i - O\n",
    "        blocks_eff = (np.sum(W_i))**2/(np.sum(W_i**2))\n",
    "        variance = blocks_eff/(blocks_eff - 1) * (np.dot((dev**2).T,W_i) )/(np.sum(W_i))\n",
    "        error = np.sqrt(variance/blocks_eff)\n",
    "    else:\n",
    "        O = O_i[0]\n",
    "        error = None\n",
    "\n",
    "    # rescale back\n",
    "    if scale_by is not None:\n",
    "        if dim == 1:\n",
    "            bounds = (bounds[0]*scale[0], bounds[1]*scale[0])\n",
    "            grid *= scale\n",
    "        else:\n",
    "            bounds = [(bounds[i][0]*scale[i], bounds[i][1]*scale[i]) for i in range(dim)]\n",
    "            for i in range(dim):\n",
    "                grid[i] *= scale[i]\n",
    "\n",
    "    # Plot\n",
    "    if plot:\n",
    "        if ax is None:\n",
    "            fig,ax = plt.subplots()\n",
    "        if dim == 1:\n",
    "            fes2 = np.copy(O)\n",
    "            if plot_max_fes is not None:\n",
    "                fes2[fes2>plot_max_fes] = np.nan\n",
    "            if blocks > 1:\n",
    "                ax.errorbar(grid,fes2,error)\n",
    "            else:\n",
    "                ax.plot(grid,fes2)  \n",
    "            ax.set_ylabel('FES [kJ/mol]')\n",
    "        elif dim == 2: \n",
    "            fes2 = np.copy(O)\n",
    "            if plot_max_fes is not None:\n",
    "                fes2[fes2>plot_max_fes] = np.nan\n",
    "            extent = [item for sublist in bounds for item in sublist] \n",
    "            pp = ax.contourf(fes2,cmap='fessa',extent=extent)#,vmax=max_fes)\n",
    "            cbar = plt.colorbar(pp,ax=ax)\n",
    "            cbar.set_label('FES [kJ/mol]')\n",
    "\n",
    "    return fes,grid,bounds,error"
   ]
  },
  {
   "cell_type": "code",
   "execution_count": null,
   "metadata": {},
   "outputs": [],
   "source": [
    "# TICA 1\n",
    "\n",
    "cv = colvar\n",
    "cv_list = ['DeepTICA 1']\n",
    "fes,grid,bounds,error = compute_fes(cv[cv_list],bandwidth=0.05,plot=True)\n",
    "\n",
    "# TICA 2\n",
    "cv_list = ['DeepTICA 2']\n",
    "cv = colvar[colvar['DeepTICA 1'] > -0.125]\n",
    "fes,grid,bounds,error = compute_fes(cv[cv_list],bandwidth=0.05,plot=True)\n",
    "\n",
    "# TICA 3\n",
    "cv_list = ['DeepTICA 3']\n",
    "cv = colvar[(colvar['DeepTICA 1'] > -0.125) & (colvar['DeepTICA 2'] < 0.25)]\n",
    "fes,grid,bounds,error = compute_fes(cv[cv_list],bandwidth=0.05,plot=True)"
   ]
  },
  {
   "cell_type": "markdown",
   "metadata": {},
   "source": [
    "### TICA 1"
   ]
  },
  {
   "cell_type": "code",
   "execution_count": 54,
   "metadata": {},
   "outputs": [
    {
     "name": "stdout",
     "output_type": "stream",
     "text": [
      "(20625, 798)\n",
      "DEV >>> Finding Local Minima\n",
      "DEV >>> Basin Assignment\n",
      "Found 2 local minima with selected populations:\n",
      "\tBasin 0 -> 451 configurations.\n",
      "\tBasin 1 -> 19823 configurations.\n"
     ]
    }
   ],
   "source": [
    "# filter colvar\n",
    "cv_list = ['DeepTICA 1']\n",
    "cv = colvar\n",
    "desc = descriptors\n",
    "\n",
    "# filter HB-descriptors\n",
    "# Select only contacts which are greater than 0.5 at least once for these states\n",
    "selected = ((desc.filter(regex='HB_CONTACT')>0.5).sum()>0)\n",
    "desc = desc[selected.index[selected]]\n",
    "print(desc.shape)\n",
    "\n",
    "# bandwitdth\n",
    "bandwidth = 0.1\n",
    "std = cv[cv_list].std().values[0]\n",
    "\n",
    "# identify states\n",
    "states_labels = identify_metastable_states(cv, cv_list, kBT, bandwidth, fes_cutoff=kBT)"
   ]
  },
  {
   "cell_type": "code",
   "execution_count": 62,
   "metadata": {},
   "outputs": [
    {
     "name": "stdout",
     "output_type": "stream",
     "text": [
      "-0.98086023 -0.4960541 -0.738457165\n",
      "0.6313023 0.8990839 0.7651931000000001\n"
     ]
    },
    {
     "data": {
      "image/png": "[encoded data removed]",
      "text/plain": [
       "<Figure size 432x288 with 1 Axes>"
      ]
     },
     "metadata": {
      "needs_background": "light"
     },
     "output_type": "display_data"
    }
   ],
   "source": [
    "from stateinterpreter.utils.numerical_utils import gaussian_kde\n",
    "num_samples=500\n",
    "\n",
    "empirical_centers = cv[cv_list].to_numpy()\n",
    "KDE = gaussian_kde(empirical_centers,bandwidth)\n",
    "\n",
    "bounds = [(x.min(), x.max()) for x in KDE.dataset.T]\n",
    "mesh = np.meshgrid(*[np.linspace(b[0], b[1], num_samples) for b in bounds])\n",
    "\n",
    "positions = np.vstack([g.ravel() for g in mesh]).T\n",
    "fes = -kBT*KDE.logpdf(positions) #.reshape(num_samples,num_samples)\n",
    "fes -= fes.min()\n",
    "plt.plot(mesh[0],fes)\n",
    "#fes,grid,bounds,error = compute_fes(cv[cv_list].values,bandwidth=bandwidth,plot=True,num_samples=500)\n",
    "#plt.plot(grid,fes)\n",
    "n_states = len(states_labels['labels'].unique())\n",
    "\n",
    "for i in range(n_states):\n",
    "    mask = ( states_labels['labels'] == i ) & (states_labels['selection'] == True )\n",
    "    Min = cv[mask][cv_list].min().values[0] \n",
    "    Max = cv[mask][cv_list].max().values[0] \n",
    "    plt.axvspan(Min,Max, alpha=0.45,color=f'fessa{6-i}')\n",
    "    print(Min,Max,(Max+Min)/2)\n",
    "    plt.text((Max+Min)/2,0,i,fontsize=18)"
   ]
  },
  {
   "cell_type": "code",
   "execution_count": 37,
   "metadata": {},
   "outputs": [
    {
     "name": "stderr",
     "output_type": "stream",
     "text": [
      "/home/lbonati@iit.local/work/md-stateinterpreter/stateinterpreter/ml.py:71: UserWarning: The asked number of samples is higher than the possible unique values. Sampling with replacement\n",
      "  warnings.warn(\"The asked number of samples is higher than the possible unique values. Sampling with replacement\")\n",
      "Optimizing Lasso Estimator: 100%|██████████| 101/101 [00:01<00:00, 86.45it/s] \n"
     ]
    },
    {
     "data": {
      "image/png": "[encoded data removed]",
      "text/plain": [
       "<Figure size 216x144 with 2 Axes>"
      ]
     },
     "metadata": {
      "needs_background": "light"
     },
     "output_type": "display_data"
    }
   ],
   "source": [
    "regularizers = np.geomspace(0.01, 1, 101)\n",
    "select_feat = 'HB_CONTACT' #'sin_|cos_'\n",
    "sample_obj, features_names, classes_names = prepare_training_dataset(desc, states_labels, 500, regex_filter=select_feat,) \n",
    "                                                    #states_subset=states_subset, states_names=state_names)\n",
    "classifier = Classifier(sample_obj, features_names, classes_names)\n",
    "classifier.compute(regularizers, max_iter= 10000) #, groups=groups)\n",
    "\n",
    "classifier.plot();"
   ]
  },
  {
   "cell_type": "code",
   "execution_count": 38,
   "metadata": {},
   "outputs": [
    {
     "name": "stdout",
     "output_type": "stream",
     "text": [
      "Accuracy: 99%\n",
      "State 1:\n",
      " HB_CONTACT ARG42-N -- ASN43-N\n",
      " HB_CONTACT LYS41-N -- ARG42-N\n"
     ]
    },
    {
     "data": {
      "image/png": "[encoded data removed]",
      "text/plain": [
       "<Figure size 432x144 with 1 Axes>"
      ]
     },
     "metadata": {
      "needs_background": "light"
     },
     "output_type": "display_data"
    }
   ],
   "source": [
    "from stateinterpreter.utils.plot import plot_histogram_features\n",
    "import matplotlib.pyplot as plt \n",
    "\n",
    "reg = 10**(-0.5)\n",
    "classifier.print_selected(reg)\n",
    "\n",
    "relevant_feat = classifier.feature_summary(reg)\n",
    "plot_histogram_features(descriptors,states_labels,classes_names,relevant_feat)"
   ]
  },
  {
   "cell_type": "markdown",
   "metadata": {},
   "source": [
    "### TICA 2"
   ]
  },
  {
   "cell_type": "code",
   "execution_count": 63,
   "metadata": {},
   "outputs": [
    {
     "name": "stdout",
     "output_type": "stream",
     "text": [
      "(20110, 747)\n",
      "DEV >>> Finding Local Minima\n",
      "DEV >>> Basin Assignment\n",
      "Found 2 local minima with selected populations:\n",
      "\tBasin 0 -> 12792 configurations.\n",
      "\tBasin 1 -> 5045 configurations.\n"
     ]
    }
   ],
   "source": [
    "# filter colvar\n",
    "cv_list = ['DeepTICA 2']\n",
    "mask = colvar['DeepTICA 1'] > -0.125\n",
    "cv = colvar[mask].reset_index()\n",
    "desc = descriptors[mask].reset_index()\n",
    "\n",
    "# filter HB-descriptors\n",
    "# Select only contacts which are greater than 0.5 at least once for these states\n",
    "selected = ((desc.filter(regex='HB_CONTACT')>0.5).sum()>0)\n",
    "desc = desc[selected.index[selected]]\n",
    "print(desc.shape)\n",
    "\n",
    "# bandwitdth\n",
    "bandwidth = 0.1\n",
    "std = cv[cv_list].std().values[0]\n",
    "\n",
    "# identify states\n",
    "states_labels = identify_metastable_states(cv, cv_list, kBT, bandwidth, fes_cutoff=kBT)\n",
    "#fes,grid,bounds,error = compute_fes(cv[cv_list],bandwidth=bandwidth,plot=True,num_samples=500)"
   ]
  },
  {
   "cell_type": "code",
   "execution_count": 64,
   "metadata": {},
   "outputs": [
    {
     "name": "stdout",
     "output_type": "stream",
     "text": [
      "0\n",
      "1\n"
     ]
    },
    {
     "data": {
      "image/png": "[encoded data removed]",
      "text/plain": [
       "<Figure size 432x288 with 1 Axes>"
      ]
     },
     "metadata": {
      "needs_background": "light"
     },
     "output_type": "display_data"
    }
   ],
   "source": [
    "from stateinterpreter.utils.numerical_utils import gaussian_kde\n",
    "num_samples=500\n",
    "\n",
    "empirical_centers = cv[cv_list].to_numpy()\n",
    "KDE = gaussian_kde(empirical_centers,bandwidth)\n",
    "\n",
    "bounds = [(x.min(), x.max()) for x in KDE.dataset.T]\n",
    "mesh = np.meshgrid(*[np.linspace(b[0], b[1], num_samples) for b in bounds])\n",
    "\n",
    "positions = np.vstack([g.ravel() for g in mesh]).T\n",
    "fes2 = -kBT*KDE.logpdf(positions) #.reshape(num_samples,num_samples)\n",
    "fes2 -= fes2.min()\n",
    "plt.plot(mesh[0],fes2)\n",
    "#fes,grid,bounds,error = compute_fes(colvar[cv_list].values,bandwidth=bandwidth,plot=True,num_samples=500)\n",
    "#plt.plot(grid,fes)\n",
    "\n",
    "n_states = len(states_labels['labels'].unique())\n",
    "\n",
    "for i in range(n_states):\n",
    "    print(i)\n",
    "    mask = ( states_labels['labels'] == i ) & (states_labels['selection'] == True )\n",
    "    Min = cv[mask][cv_list].min().values[0] \n",
    "    Max = cv[mask][cv_list].max().values[0] \n",
    "    plt.axvspan(Min,Max, alpha=0.45,color=f'fessa{6-i}')\n",
    "    plt.text((Max+Min)/2,0,i,fontsize=18)"
   ]
  },
  {
   "cell_type": "code",
   "execution_count": 52,
   "metadata": {},
   "outputs": [
    {
     "name": "stderr",
     "output_type": "stream",
     "text": [
      "Optimizing Lasso Estimator: 100%|██████████| 101/101 [00:02<00:00, 40.34it/s]\n"
     ]
    },
    {
     "data": {
      "image/png": "[encoded data removed]",
      "text/plain": [
       "<Figure size 216x144 with 2 Axes>"
      ]
     },
     "metadata": {
      "needs_background": "light"
     },
     "output_type": "display_data"
    }
   ],
   "source": [
    "regularizers = np.geomspace(0.01, 1, 101)\n",
    "select_feat = None #'sin_|cos_'\n",
    "sample_obj, features_names, classes_names = prepare_training_dataset(desc, states_labels, 1000, regex_filter=select_feat,) \n",
    "                                                    #states_subset=states_subset, states_names=state_names)\n",
    "classifier = Classifier(sample_obj, features_names, classes_names)\n",
    "classifier.compute(regularizers, max_iter= 10000) #, groups=groups)\n",
    "\n",
    "classifier.plot();"
   ]
  },
  {
   "cell_type": "code",
   "execution_count": 53,
   "metadata": {},
   "outputs": [
    {
     "name": "stdout",
     "output_type": "stream",
     "text": [
      "Accuracy: 99%\n",
      "State 1:\n",
      " HB_CONTACT CYS14-N -- GLY36-O\n",
      " HB_CONTACT ALA16-N -- GLY36-O\n",
      " HB_CONTACT LYS15-N -- ALA16-N\n",
      " HB_CONTACT TYR35-OHs -- CYS38-N\n"
     ]
    },
    {
     "data": {
      "image/png": "[encoded data removed]",
      "text/plain": [
       "<Figure size 432x288 with 1 Axes>"
      ]
     },
     "metadata": {
      "needs_background": "light"
     },
     "output_type": "display_data"
    }
   ],
   "source": [
    "from stateinterpreter.utils.plot import plot_histogram_features\n",
    "import matplotlib.pyplot as plt \n",
    "\n",
    "reg = 10**(-0.4)\n",
    "classifier.print_selected(reg)\n",
    "relevant_feat = classifier.feature_summary(reg)\n",
    "plot_histogram_features(desc,states_labels,classes_names,relevant_feat)"
   ]
  },
  {
   "cell_type": "markdown",
   "metadata": {},
   "source": [
    "### TICA 3"
   ]
  },
  {
   "cell_type": "code",
   "execution_count": 112,
   "metadata": {},
   "outputs": [
    {
     "name": "stdout",
     "output_type": "stream",
     "text": [
      "(7350, 662)\n",
      "DEV >>> Finding Local Minima\n",
      "DEV >>> Basin Assignment\n",
      "Found 4 local minima with selected populations:\n",
      "\tBasin 0 -> 797 configurations.\n",
      "\tBasin 1 -> 435 configurations.\n",
      "\tBasin 2 -> 5246 configurations.\n",
      "\tBasin 3 -> 273 configurations.\n"
     ]
    }
   ],
   "source": [
    "# filter colvar\n",
    "cv_list = ['DeepTICA 3']\n",
    "mask = (colvar['DeepTICA 1'] > -0.125) & (colvar['DeepTICA 2'] < 0.25)\n",
    "cv = colvar[mask].reset_index()\n",
    "desc = descriptors[mask].reset_index()\n",
    "\n",
    "# filter HB-descriptors\n",
    "# Select only contacts which are greater than 0.5 at least once for these states\n",
    "selected = ((desc.filter(regex='HB_CONTACT')>0.5).sum()>0)\n",
    "desc = desc[selected.index[selected]]\n",
    "print(desc.shape)\n",
    "\n",
    "# bandwitdth\n",
    "bandwidth = 0.05\n",
    "std = cv[cv_list].std().values[0]\n",
    "\n",
    "# identify states\n",
    "states_labels = identify_metastable_states(cv, cv_list, kBT, bandwidth, fes_cutoff=kBT, gradient_descent_iterates=5)\n",
    "#fes,grid,bounds,error = compute_fes(cv[cv_list],bandwidth=bandwidth,plot=True,num_samples=500)"
   ]
  },
  {
   "cell_type": "code",
   "execution_count": 123,
   "metadata": {},
   "outputs": [
    {
     "data": {
      "image/png": "[encoded data removed]",
      "text/plain": [
       "<Figure size 432x288 with 2 Axes>"
      ]
     },
     "metadata": {
      "needs_background": "light"
     },
     "output_type": "display_data"
    }
   ],
   "source": [
    "from stateinterpreter.utils.numerical_utils import gaussian_kde\n",
    "num_samples=500\n",
    "\n",
    "empirical_centers = cv[cv_list].to_numpy()\n",
    "KDE = gaussian_kde(empirical_centers,bandwidth)\n",
    "\n",
    "bounds = [(x.min(), x.max()) for x in KDE.dataset.T]\n",
    "mesh = np.meshgrid(*[np.linspace(b[0], b[1], num_samples) for b in bounds])\n",
    "\n",
    "positions = np.vstack([g.ravel() for g in mesh]).T\n",
    "fes2 = -kBT*KDE.logpdf(positions) #.reshape(num_samples,num_samples)\n",
    "fes2 -= fes2.min()\n",
    "\n",
    "fig, axs = plt.subplots(2,1,sharex=True)\n",
    "ax = axs[0]\n",
    "ax.plot(mesh[0],fes2)\n",
    "#fes,grid,bounds,error = compute_fes(colvar[cv_list].values,bandwidth=bandwidth,plot=True,num_samples=500)\n",
    "#plt.plot(grid,fes)\n",
    "\n",
    "n_states = len(states_labels['labels'].unique())\n",
    "\n",
    "for i in range(n_states):\n",
    "    ax = axs[0]\n",
    "    mask = ( states_labels['labels'] == i ) & (states_labels['selection'] == True )\n",
    "    Min = cv[mask][cv_list].min().values[0] \n",
    "    Max = cv[mask][cv_list].max().values[0] \n",
    "    ax.axvspan(Min,Max, alpha=0.45,color=f'fessa{6-i}')\n",
    "    ax.text((Max+Min)/2,0,i,fontsize=18)\n",
    "\n",
    "for i in range(n_states):\n",
    "    ax = axs[1]\n",
    "    mask = ( states_labels['labels'] == i ) & (states_labels['selection'] == True )\n",
    "    x = cv[mask][cv_list].values\n",
    "    ax.hist(x,bins=100,color=f'fessa{6-i}',range=[-1,1],density=True)"
   ]
  },
  {
   "cell_type": "code",
   "execution_count": 88,
   "metadata": {},
   "outputs": [],
   "source": [
    "gradient_descent_iterates = 50\n",
    "\n",
    "pts = [np.copy(KDE.dataset)[cv[((states_labels['labels']==3) & (cv['DeepTICA 3']<0.5))].index]]\n",
    "v = np.zeros_like(pts[0])\n",
    "beta = 0.9 #Default\n",
    "learning_rate = np.diag(np.diag(KDE.inv_bwidth)**-1)*0.5\n",
    "\n",
    "for i in range(gradient_descent_iterates): \n",
    "    v*= beta\n",
    "    v += - (1 - beta)*KDE.grad(pts[-1], logpdf=True)\n",
    "    #pts -= np.dot(v,learning_rate)\n",
    "    pts.append(pts[-1]-np.dot(v,learning_rate))"
   ]
  },
  {
   "cell_type": "code",
   "execution_count": 111,
   "metadata": {},
   "outputs": [
    {
     "name": "stdout",
     "output_type": "stream",
     "text": [
      "[[-0.27814706]\n",
      " [-0.283023  ]\n",
      " [ 0.30333272]\n",
      " [-0.28645741]\n",
      " [ 0.30577564]]\n",
      "[[-0.49185288]\n",
      " [-0.51289673]\n",
      " [ 0.30333272]\n",
      " [-0.52753247]\n",
      " [ 0.30577564]]\n"
     ]
    }
   ],
   "source": [
    "import numpy.ma as ma\n",
    "x = pts[0]\n",
    "minima = np.asarray([-0.25,-0.5,0.55,0.75])\n",
    "masked = np.min(np.abs(x-minima),axis=1) < 5*bandwidth\n",
    "mx = ma.masked_array(pts[0], mask=mask)\n",
    "\n",
    "mx += - (1 - beta)*KDE.grad(mx, logpdf=True)\n"
   ]
  },
  {
   "cell_type": "code",
   "execution_count": 89,
   "metadata": {},
   "outputs": [
    {
     "data": {
      "text/plain": [
       "<matplotlib.patches.Polygon at 0x7fe49c40aa90>"
      ]
     },
     "execution_count": 89,
     "metadata": {},
     "output_type": "execute_result"
    },
    {
     "data": {
      "image/png": "[encoded data removed]",
      "text/plain": [
       "<Figure size 432x288 with 1 Axes>"
      ]
     },
     "metadata": {
      "needs_background": "light"
     },
     "output_type": "display_data"
    }
   ],
   "source": [
    "pts_ev = np.array(pts).squeeze()\n",
    "plt.plot(pts_ev[:,10],'.')\n",
    "plt.axhspan(0.51,0.61,alpha=0.2)"
   ]
  },
  {
   "cell_type": "code",
   "execution_count": 10,
   "metadata": {},
   "outputs": [],
   "source": [
    "gradient_descent_iterates = 5\n",
    "\n",
    "pts = np.copy(KDE.dataset)\n",
    "v = np.zeros_like(pts)\n",
    "beta = 0.9 #Default\n",
    "learning_rate = np.diag(np.diag(KDE.inv_bwidth)**-1)\n",
    "for _ in range(gradient_descent_iterates): \n",
    "    v*= beta\n",
    "    v += -(1 - beta)*KDE.grad(pts, logpdf=True)\n",
    "    pts -= np.dot(v,learning_rate)"
   ]
  },
  {
   "cell_type": "code",
   "execution_count": 15,
   "metadata": {},
   "outputs": [
    {
     "ename": "NameError",
     "evalue": "name 'minima' is not defined",
     "output_type": "error",
     "traceback": [
      "\u001b[0;31m---------------------------------------------------------------------------\u001b[0m",
      "\u001b[0;31mNameError\u001b[0m                                 Traceback (most recent call last)",
      "\u001b[0;32m/tmp/ipykernel_2358234/2204982334.py\u001b[0m in \u001b[0;36m<module>\u001b[0;34m\u001b[0m\n\u001b[0;32m----> 1\u001b[0;31m \u001b[0mnorms\u001b[0m \u001b[0;34m=\u001b[0m \u001b[0mnp\u001b[0m\u001b[0;34m.\u001b[0m\u001b[0mlinalg\u001b[0m\u001b[0;34m.\u001b[0m\u001b[0mnorm\u001b[0m\u001b[0;34m(\u001b[0m\u001b[0;34m(\u001b[0m\u001b[0mpts\u001b[0m\u001b[0;34m[\u001b[0m\u001b[0;34m:\u001b[0m\u001b[0;34m,\u001b[0m\u001b[0mnp\u001b[0m\u001b[0;34m.\u001b[0m\u001b[0mnewaxis\u001b[0m\u001b[0;34m,\u001b[0m\u001b[0;34m:\u001b[0m\u001b[0;34m]\u001b[0m \u001b[0;34m-\u001b[0m \u001b[0mminima\u001b[0m\u001b[0;34m)\u001b[0m\u001b[0;34m,\u001b[0m \u001b[0maxis\u001b[0m\u001b[0;34m=\u001b[0m\u001b[0;36m2\u001b[0m\u001b[0;34m)\u001b[0m\u001b[0;34m\u001b[0m\u001b[0;34m\u001b[0m\u001b[0m\n\u001b[0m\u001b[1;32m      2\u001b[0m \u001b[0mclasses\u001b[0m \u001b[0;34m=\u001b[0m \u001b[0mnp\u001b[0m\u001b[0;34m.\u001b[0m\u001b[0margmin\u001b[0m\u001b[0;34m(\u001b[0m\u001b[0mnorms\u001b[0m\u001b[0;34m,\u001b[0m \u001b[0maxis\u001b[0m\u001b[0;34m=\u001b[0m\u001b[0;36m1\u001b[0m\u001b[0;34m)\u001b[0m\u001b[0;34m\u001b[0m\u001b[0;34m\u001b[0m\u001b[0m\n\u001b[1;32m      3\u001b[0m \u001b[0mfes_at_minima\u001b[0m \u001b[0;34m=\u001b[0m \u001b[0;34m-\u001b[0m \u001b[0mKDE\u001b[0m\u001b[0;34m.\u001b[0m\u001b[0mlogpdf\u001b[0m\u001b[0;34m(\u001b[0m\u001b[0mminima\u001b[0m\u001b[0;34m)\u001b[0m\u001b[0;34m\u001b[0m\u001b[0;34m\u001b[0m\u001b[0m\n\u001b[1;32m      4\u001b[0m \u001b[0mref_fes\u001b[0m \u001b[0;34m=\u001b[0m \u001b[0mnp\u001b[0m\u001b[0;34m.\u001b[0m\u001b[0masarray\u001b[0m\u001b[0;34m(\u001b[0m\u001b[0;34m[\u001b[0m\u001b[0mfes_at_minima\u001b[0m\u001b[0;34m[\u001b[0m\u001b[0midx\u001b[0m\u001b[0;34m]\u001b[0m \u001b[0;32mfor\u001b[0m \u001b[0midx\u001b[0m \u001b[0;32min\u001b[0m \u001b[0mclasses\u001b[0m\u001b[0;34m]\u001b[0m\u001b[0;34m)\u001b[0m\u001b[0;34m\u001b[0m\u001b[0;34m\u001b[0m\u001b[0m\n\u001b[1;32m      5\u001b[0m \u001b[0mfes_pts\u001b[0m \u001b[0;34m=\u001b[0m \u001b[0;34m-\u001b[0m \u001b[0mKDE\u001b[0m\u001b[0;34m.\u001b[0m\u001b[0mlogpdf\u001b[0m\u001b[0;34m(\u001b[0m\u001b[0mKDE\u001b[0m\u001b[0;34m.\u001b[0m\u001b[0mdataset\u001b[0m\u001b[0;34m)\u001b[0m\u001b[0;34m\u001b[0m\u001b[0;34m\u001b[0m\u001b[0m\n",
      "\u001b[0;31mNameError\u001b[0m: name 'minima' is not defined"
     ]
    }
   ],
   "source": [
    "norms = np.linalg.norm((pts[:,np.newaxis,:] - minima), axis=2)\n",
    "classes = np.argmin(norms, axis=1)\n",
    "fes_at_minima = - KDE.logpdf(minima)\n",
    "ref_fes = np.asarray([fes_at_minima[idx] for idx in classes])\n",
    "fes_pts = - KDE.logpdf(KDE.dataset)\n",
    "mask = (fes_pts - ref_fes) < fes_cutoff\n",
    "df = pd.DataFrame(data=classes, columns=[\"labels\"])\n",
    "df[\"selection\"] = mask"
   ]
  },
  {
   "cell_type": "code",
   "execution_count": 79,
   "metadata": {},
   "outputs": [
    {
     "name": "stdout",
     "output_type": "stream",
     "text": [
      "0\n",
      "1\n",
      "2\n",
      "3\n"
     ]
    },
    {
     "data": {
      "image/png": "[encoded data removed]",
      "text/plain": [
       "<Figure size 432x288 with 1 Axes>"
      ]
     },
     "metadata": {
      "needs_background": "light"
     },
     "output_type": "display_data"
    }
   ],
   "source": [
    "from stateinterpreter.utils.numerical_utils import gaussian_kde\n",
    "num_samples=500\n",
    "\n",
    "empirical_centers = cv[cv_list].to_numpy()\n",
    "KDE = gaussian_kde(empirical_centers,bandwidth)\n",
    "\n",
    "bounds = [(x.min(), x.max()) for x in KDE.dataset.T]\n",
    "mesh = np.meshgrid(*[np.linspace(b[0], b[1], num_samples) for b in bounds])\n",
    "\n",
    "positions = np.vstack([g.ravel() for g in mesh]).T\n",
    "fes2 = -kBT*KDE.logpdf(positions) #.reshape(num_samples,num_samples)\n",
    "fes2 -= fes2.min()\n",
    "plt.plot(mesh[0],fes2)\n",
    "#fes,grid,bounds,error = compute_fes(colvar[cv_list].values,bandwidth=bandwidth,plot=True,num_samples=500)\n",
    "#plt.plot(grid,fes)\n",
    "\n",
    "n_states = len(states_labels['labels'].unique())\n",
    "\n",
    "for i in range(n_states):\n",
    "    print(i)\n",
    "    mask = ( states_labels['labels'] == i ) & (states_labels['selection'] == True )\n",
    "    Min = cv[mask][cv_list].min().values[0] \n",
    "    Max = cv[mask][cv_list].max().values[0] \n",
    "    plt.axvspan(Min,Max, alpha=0.45,color=f'fessa{6-i}')\n",
    "    plt.text((Max+Min)/2,0,i,fontsize=18)"
   ]
  },
  {
   "cell_type": "code",
   "execution_count": null,
   "metadata": {},
   "outputs": [],
   "source": [
    "# Merge basins 0 and 1\n",
    "states_labels[states_labels['labels']==1]['labels'] = 0 "
   ]
  },
  {
   "cell_type": "code",
   "execution_count": 67,
   "metadata": {},
   "outputs": [
    {
     "name": "stderr",
     "output_type": "stream",
     "text": [
      "/home/lbonati@iit.local/work/md-stateinterpreter/stateinterpreter/ml.py:71: UserWarning: The asked number of samples is higher than the possible unique values. Sampling with replacement\n",
      "  warnings.warn(\"The asked number of samples is higher than the possible unique values. Sampling with replacement\")\n",
      "Optimizing Lasso Estimator: 100%|██████████| 101/101 [00:09<00:00, 10.95it/s]\n"
     ]
    },
    {
     "data": {
      "image/png": "[encoded data removed]",
      "text/plain": [
       "<Figure size 216x144 with 2 Axes>"
      ]
     },
     "metadata": {
      "needs_background": "light"
     },
     "output_type": "display_data"
    }
   ],
   "source": [
    "label = states_labels[mask]\n",
    "regularizers = np.geomspace(0.01, 1, 101)\n",
    "select_feat = None # 'sin_|cos_'\n",
    "#states_subset = [0,1]\n",
    "sample_obj, features_names, classes_names = prepare_training_dataset(desc, states_labels, 500, regex_filter=select_feat)\n",
    "                                                    #states_subset=states_subset)#, states_names=state_names)\n",
    "classifier = Classifier(sample_obj, features_names, classes_names)\n",
    "classifier.compute(regularizers, max_iter= 1000) #, groups=groups)\n",
    "\n",
    "classifier.plot();"
   ]
  },
  {
   "cell_type": "code",
   "execution_count": 70,
   "metadata": {},
   "outputs": [
    {
     "name": "stdout",
     "output_type": "stream",
     "text": [
      "Accuracy: 88%\n",
      "State 0:\n",
      " HB_CONTACT LYS15-N -- GLY37-N\n",
      " HB_CONTACT PRO9-O -- LYS41-N\n",
      "State 1:\n",
      " HB_CONTACT ARG39-N -- ALA40-N\n",
      "State 2:\n",
      "State 3:\n",
      " HB_CONTACT ARG1-N -- THR54-O\n"
     ]
    },
    {
     "data": {
      "image/png": "[encoded data removed]",
      "text/plain": [
       "<Figure size 432x288 with 4 Axes>"
      ]
     },
     "metadata": {
      "needs_background": "light"
     },
     "output_type": "display_data"
    }
   ],
   "source": [
    "from stateinterpreter.utils.plot import plot_histogram_features\n",
    "import matplotlib.pyplot as plt \n",
    "\n",
    "reg = 10**(-0.52)\n",
    "classifier.print_selected(reg)\n",
    "relevant_feat = classifier.feature_summary(reg)\n",
    "plot_histogram_features(desc,states_labels,classes_names,relevant_feat,height=1)"
   ]
  },
  {
   "cell_type": "code",
   "execution_count": null,
   "metadata": {},
   "outputs": [],
   "source": [
    "# TICA 1\n",
    "cv = colvar\n",
    "cv_list = ['DeepTICA 1']\n",
    "fes,grid,bounds,error = compute_fes(cv[cv_list],bandwidth=0.05,plot=True)\n",
    "\n",
    "# TICA 2\n",
    "cv_list = ['DeepTICA 2']\n",
    "cv = colvar[colvar['DeepTICA 1'] > -0.125]\n",
    "fes,grid,bounds,error = compute_fes(cv[cv_list],bandwidth=0.05,plot=True)\n",
    "\n",
    "# TICA 3\n",
    "cv_list = ['DeepTICA 3']\n",
    "cv = colvar[(colvar['DeepTICA 1'] > -0.125) & (colvar['DeepTICA 2'] < 0.25)]\n",
    "fes,grid,bounds,error = compute_fes(cv[cv_list],bandwidth=0.05,plot=True)"
   ]
  },
  {
   "cell_type": "code",
   "execution_count": null,
   "metadata": {},
   "outputs": [],
   "source": []
  },
  {
   "cell_type": "markdown",
   "metadata": {},
   "source": [
    "# Semi-automatic classification"
   ]
  },
  {
   "cell_type": "markdown",
   "metadata": {},
   "source": [
    "Functions"
   ]
  },
  {
   "cell_type": "code",
   "execution_count": 4,
   "metadata": {},
   "outputs": [],
   "source": [
    "from stateinterpreter.utils.numerical_utils import gaussian_kde\n",
    "\n",
    "def plot_fes(cv,bandwidth,states_labels=None,logweights=None,kBT=2.5,cv_list=None,states_subset=None,num_samples=100,ax=None,prefix_label=\"\"):\n",
    "    \n",
    "    if cv_list is not None:\n",
    "        cv = cv[cv_list]\n",
    "\n",
    "    empirical_centers = cv.to_numpy()\n",
    "    KDE = gaussian_kde(empirical_centers,bandwidth,logweights)\n",
    "\n",
    "    bounds = [(x.min(), x.max()) for x in KDE.dataset.T]\n",
    "    mesh = np.meshgrid(*[np.linspace(b[0], b[1], num_samples) for b in bounds])\n",
    "\n",
    "    positions = np.vstack([g.ravel() for g in mesh]).T\n",
    "    fes = -kBT*KDE.logpdf(positions)\n",
    "    fes -= fes.min()\n",
    "    if ax is None:\n",
    "        fig,ax = plt.subplots()\n",
    "    ax.plot(mesh[0],fes/kBT,color='dimgrey',linewidth=2)\n",
    "    ax.set_xlabel(cv.columns.values[0])\n",
    "    ax.set_ylabel('FES [$k_B$T]')\n",
    "    ax.set_xlim(bounds[0][0],bounds[0][1])\n",
    "    ax.set_ylim(0,)\n",
    "    \n",
    "    if states_labels is not None:\n",
    "        if states_subset is not None:\n",
    "            labels = states_subset\n",
    "        else:\n",
    "            labels = sorted(states_labels['labels'].unique())\n",
    "        for i in labels:\n",
    "            mask = ( states_labels['labels'] == i ) & (states_labels['selection'] == True )\n",
    "            Min = cv[mask].min().values[0] \n",
    "            Max = cv[mask].max().values[0] \n",
    "            ax.axvspan(Min,Max, alpha=0.5, color=f'fessa{6-i}')\n",
    "            ax.text((Max+Min)/2,1,prefix_label+str(i),fontsize=14,ha='center')\n",
    "\n",
    "def get_best_reg(classifier):\n",
    "    num = []\n",
    "    for reg in classifier._reg:\n",
    "        # get number of features\n",
    "        selected = classifier._get_selected(reg, feature_mode=False)\n",
    "        unique_idxs = set()\n",
    "        for state in selected.values():\n",
    "            for data in state:\n",
    "                unique_idxs.add(data[0])\n",
    "        num.append(len(unique_idxs)) \n",
    "\n",
    "    # accuracy\n",
    "    acc = classifier._crossval\n",
    "\n",
    "    # criterion\n",
    "    score = (1-acc)*100+num\n",
    "\n",
    "    # return reg which minimizes it\n",
    "    best_reg = np.argmin(score)\n",
    "    return classifier._reg[best_reg],acc[best_reg],num[best_reg]"
   ]
  },
  {
   "cell_type": "code",
   "execution_count": 5,
   "metadata": {},
   "outputs": [],
   "source": [
    "def train(cv_list,mask=None,base_state=\"\",merge_states=None,states_subset=None):\n",
    "    if mask is not None:\n",
    "        # apply mask\n",
    "        cv = colvar[mask].reset_index()\n",
    "        desc = descriptors[mask].reset_index()\n",
    "        logw = None\n",
    "        if logweights is not None:\n",
    "            logw = logweights[mask]\n",
    "            if type(logw) == pd.DataFrame:\n",
    "                logw = logw.reset_index()\n",
    "    else:\n",
    "        cv = colvar\n",
    "        desc = descriptors\n",
    "        logw = logweights\n",
    "\n",
    "    # filter HB-descriptors\n",
    "    # Select only contacts which are greater than 0.5 at least once for these states\n",
    "    if filter_descriptors:\n",
    "        selected = ((desc.filter(regex='HB_CONTACT')>0.5).sum()>0)\n",
    "        desc = desc[selected.index[selected]]\n",
    "        print('Filtering H-bonds:',desc.shape)\n",
    "\n",
    "    # identify states\n",
    "    states_labels = identify_metastable_states(cv, cv_list, kBT, bandwidth, logweights=logw, fes_cutoff=kBT, gradient_descent_iterates=gradient_descent_iterates)\n",
    "    # merge states if requested \n",
    "    if merge_states is not None:\n",
    "        for pair in merge_states:\n",
    "            states_labels.loc[states_labels['labels'] == pair[1], 'labels'] = pair[0]\n",
    "    \n",
    "    # count states\n",
    "    if states_subset is None:\n",
    "        num_states = len(states_labels['labels'].unique())\n",
    "    else:\n",
    "        num_states = len(states_subset)\n",
    "    num_histo = num_states if num_states>2 else 1\n",
    "    \n",
    "    # plot setup\n",
    "    if num_states == 1:\n",
    "        fig,ax = plt.subplots(figsize=(4.5,3))\n",
    "    else:\n",
    "        #fig,axs = plt.subplots(1,2,figsize=(7.5,5))\n",
    "        fig = plt.figure(figsize=(13.5,3), constrained_layout=True)\n",
    "        gs = matplotlib.gridspec.GridSpec(num_histo, 3, figure=fig)\n",
    "        ax1 = fig.add_subplot(gs[:, 0])\n",
    "        ax2 = fig.add_subplot(gs[:, 1])\n",
    "        axs_histo = []\n",
    "        for i in range(num_histo):\n",
    "            axs_histo.append(fig.add_subplot(gs[i, 2]))\n",
    "        ax = ax1\n",
    "        \n",
    "    plot_fes(cv[cv_list],bandwidth,states_labels,logweights=logw,num_samples=200,states_subset=states_subset,prefix_label=base_state+'.' if len(base_state)>0 else \"\",ax=ax)\n",
    "    \n",
    "    if len(base_state) > 0 :\n",
    "        ax.set_title( f'State {base_state}' )\n",
    "\n",
    "    if num_states > 1 :\n",
    "\n",
    "        # classify\n",
    "        if states_subset is not None:\n",
    "            state_names = [f'{base_state}.{i}' for i in states_subset ]\n",
    "        else:\n",
    "            state_names = [f'{base_state}.{i}' for i in sorted(states_labels['labels'].unique()) ]\n",
    "        sample_obj, features_names, classes_names = prepare_training_dataset(desc, states_labels, num_samples, regex_filter=select_feat, states_names=state_names,states_subset=states_subset) \n",
    "        classifier = Classifier(sample_obj, features_names, classes_names)\n",
    "        classifier.compute(regularizers, max_iter= 10000) #, groups=groups)\n",
    "\n",
    "        # get best reg\n",
    "        reg,acc,num = get_best_reg(classifier)\n",
    "\n",
    "        # plot\n",
    "        ax = ax2\n",
    "        _, ax_twin = plot_classifier_complexity_vs_accuracy(classifier, ax = ax)\n",
    "        ax.axvline(np.log10(reg),linestyle='dotted',color='k')\n",
    "        ax.text(np.log10(reg)+0.02,acc+.05,f'{np.round(acc*100,1)}%',fontsize=12,color='fessa0')\n",
    "        ax_twin.text(np.log10(reg)+0.02,num+0.5,f'{num}',fontsize=12,color='fessa1')\n",
    "\n",
    "        #print features\n",
    "        print('Regularization --> log_10 (lambda) = ',np.round(np.log10(reg),3))\n",
    "        classifier.print_selected(reg)\n",
    "\n",
    "        relevant_feat = classifier.feature_summary(reg)\n",
    "        plot_histogram_features(desc, states_labels, classes_names, relevant_feat, axs = axs_histo, height=1)\n",
    "\n",
    "        #plt.tight_layout()\n",
    "    if save_folder is not None:\n",
    "        plt.savefig(save_folder+f'deeptica{cv_list[0][-1]}_state{base_state}_{feat_type}.png', bbox_inches='tight')\n"
   ]
  },
  {
   "cell_type": "markdown",
   "metadata": {},
   "source": [
    "Parameters"
   ]
  },
  {
   "cell_type": "code",
   "execution_count": 8,
   "metadata": {},
   "outputs": [],
   "source": [
    "import matplotlib\n",
    "from stateinterpreter import identify_metastable_states,prepare_training_dataset,Classifier\n",
    "from stateinterpreter.utils.plot import plot_classifier_complexity_vs_accuracy,plot_histogram_features\n",
    "\n",
    "regularizers = np.geomspace(0.01, 1, 51)\n",
    "\n",
    "logweights = None\n",
    "num_samples = 5000\n",
    "bandwidth = 0.1\n",
    "save_folder = BPTI_data_path+'deeptica/v2-lag100-nodes1024-256-64-3/'\n",
    "gradient_descent_iterates = 0"
   ]
  },
  {
   "cell_type": "code",
   "execution_count": 9,
   "metadata": {},
   "outputs": [],
   "source": [
    "# HBONDS\n",
    "feat_type = 'hbonds'\n",
    "select_feat = 'HB_CONT'\n",
    "filter_descriptors = True"
   ]
  },
  {
   "cell_type": "code",
   "execution_count": 20,
   "metadata": {},
   "outputs": [],
   "source": [
    "# ANGLES\n",
    "feat_type = 'angles'\n",
    "select_feat = 'sin_|cos_'\n",
    "filter_descriptors = False "
   ]
  },
  {
   "cell_type": "code",
   "execution_count": 9,
   "metadata": {},
   "outputs": [],
   "source": [
    "# BOTH\n",
    "feat_type =  'both' \n",
    "select_feat =  'sin_|cos_|HB_CONT'\n",
    "filter_descriptors = False"
   ]
  },
  {
   "cell_type": "markdown",
   "metadata": {},
   "source": [
    "## TICA 1"
   ]
  },
  {
   "cell_type": "code",
   "execution_count": 21,
   "metadata": {},
   "outputs": [
    {
     "name": "stdout",
     "output_type": "stream",
     "text": [
      "DEV >>> Finding Local Minima\n",
      "DEV >>> Basin Assignment\n",
      "Found 2 local minima with selected populations:\n",
      "\tBasin 0 -> 2294 configurations.\n",
      "\tBasin 1 -> 99096 configurations.\n"
     ]
    },
    {
     "name": "stderr",
     "output_type": "stream",
     "text": [
      "/home/lbonati@iit.local/work/md-stateinterpreter/stateinterpreter/ml.py:71: UserWarning: The asked number of samples is higher than the possible unique values. Sampling with replacement\n",
      "  warnings.warn(\"The asked number of samples is higher than the possible unique values. Sampling with replacement\")\n",
      "Optimizing Lasso Estimator: 100%|██████████| 51/51 [00:04<00:00, 10.80it/s]\n"
     ]
    },
    {
     "name": "stdout",
     "output_type": "stream",
     "text": [
      "Regularization --> log_10 (lambda) =  -0.48\n",
      "Accuracy: 99%\n",
      "State .1:\n",
      " BACKBONE sin_phi ARG42\n"
     ]
    },
    {
     "data": {
      "image/png": "[encoded data removed]",
      "text/plain": [
       "<Figure size 972x216 with 4 Axes>"
      ]
     },
     "metadata": {
      "needs_background": "light"
     },
     "output_type": "display_data"
    }
   ],
   "source": [
    "base_state = \"\"\n",
    "cv_list = ['DeepTICA 1']\n",
    "mask = None\n",
    "train(cv_list,mask,base_state)"
   ]
  },
  {
   "cell_type": "markdown",
   "metadata": {},
   "source": [
    "## TICA 2"
   ]
  },
  {
   "cell_type": "markdown",
   "metadata": {},
   "source": [
    "### State 0"
   ]
  },
  {
   "cell_type": "code",
   "execution_count": 22,
   "metadata": {},
   "outputs": [
    {
     "name": "stdout",
     "output_type": "stream",
     "text": [
      "DEV >>> Finding Local Minima\n",
      "DEV >>> Basin Assignment\n",
      "Found 1 local minima with selected populations:\n",
      "\tBasin 0 -> 2565 configurations.\n"
     ]
    },
    {
     "data": {
      "image/png": "[encoded data removed]",
      "text/plain": [
       "<Figure size 324x216 with 1 Axes>"
      ]
     },
     "metadata": {
      "needs_background": "light"
     },
     "output_type": "display_data"
    }
   ],
   "source": [
    "base_state= \"0\"\n",
    "cv_list = ['DeepTICA 2']\n",
    "mask = colvar['DeepTICA 1'] < -0.125\n",
    "train(cv_list,mask,base_state)"
   ]
  },
  {
   "cell_type": "markdown",
   "metadata": {},
   "source": [
    "### State 1"
   ]
  },
  {
   "cell_type": "code",
   "execution_count": 23,
   "metadata": {},
   "outputs": [
    {
     "name": "stdout",
     "output_type": "stream",
     "text": [
      "DEV >>> Finding Local Minima\n",
      "DEV >>> Basin Assignment\n",
      "Found 2 local minima with selected populations:\n",
      "\tBasin 0 -> 64048 configurations.\n",
      "\tBasin 1 -> 25286 configurations.\n"
     ]
    },
    {
     "name": "stderr",
     "output_type": "stream",
     "text": [
      "Optimizing Lasso Estimator: 100%|██████████| 51/51 [00:04<00:00, 11.10it/s]\n"
     ]
    },
    {
     "name": "stdout",
     "output_type": "stream",
     "text": [
      "Regularization --> log_10 (lambda) =  -0.88\n",
      "Accuracy: 97%\n",
      "State 1.1:\n",
      " BACKBONE cos_psi LYS15\n",
      " BACKBONE sin_phi CYS38\n",
      " BACKBONE sin_psi ARG17\n"
     ]
    },
    {
     "data": {
      "image/png": "[encoded data removed]",
      "text/plain": [
       "<Figure size 972x216 with 4 Axes>"
      ]
     },
     "metadata": {
      "needs_background": "light"
     },
     "output_type": "display_data"
    }
   ],
   "source": [
    "base_state= \"1\"\n",
    "cv_list = ['DeepTICA 2']\n",
    "mask = colvar['DeepTICA 1'] > -0.125\n",
    "train(cv_list,mask,base_state)"
   ]
  },
  {
   "cell_type": "markdown",
   "metadata": {},
   "source": [
    "## Tica 3"
   ]
  },
  {
   "cell_type": "markdown",
   "metadata": {},
   "source": [
    "### State 1.0"
   ]
  },
  {
   "cell_type": "code",
   "execution_count": 24,
   "metadata": {},
   "outputs": [
    {
     "name": "stdout",
     "output_type": "stream",
     "text": [
      "DEV >>> Finding Local Minima\n",
      "DEV >>> Basin Assignment\n",
      "Found 5 local minima with selected populations:\n",
      "\tBasin 0 -> 1781 configurations.\n",
      "\tBasin 1 -> 6135 configurations.\n",
      "\tBasin 2 -> 4279 configurations.\n",
      "\tBasin 3 -> 48115 configurations.\n",
      "\tBasin 4 -> 2288 configurations.\n"
     ]
    },
    {
     "name": "stderr",
     "output_type": "stream",
     "text": [
      "/home/lbonati@iit.local/work/md-stateinterpreter/stateinterpreter/ml.py:71: UserWarning: The asked number of samples is higher than the possible unique values. Sampling with replacement\n",
      "  warnings.warn(\"The asked number of samples is higher than the possible unique values. Sampling with replacement\")\n",
      "Optimizing Lasso Estimator: 100%|██████████| 51/51 [00:17<00:00,  2.88it/s]\n"
     ]
    },
    {
     "name": "stdout",
     "output_type": "stream",
     "text": [
      "Regularization --> log_10 (lambda) =  -0.4\n",
      "Accuracy: 97%\n",
      "State 1.0.1:\n",
      " BACKBONE cos_psi PRO13\n",
      "State 1.0.3:\n",
      "State 1.0.4:\n",
      " BACKBONE sin_phi PRO2\n"
     ]
    },
    {
     "data": {
      "image/png": "[encoded data removed]",
      "text/plain": [
       "<Figure size 972x216 with 6 Axes>"
      ]
     },
     "metadata": {
      "needs_background": "light"
     },
     "output_type": "display_data"
    }
   ],
   "source": [
    "base_state= \"1.0\"\n",
    "cv_list = ['DeepTICA 3']\n",
    "mask = (colvar['DeepTICA 1'] > -0.125) & (colvar['DeepTICA 2'] < 0.25)\n",
    "#modify parameters\n",
    "old_bandwidth=bandwidth\n",
    "bandwidth=0.025\n",
    "gradient_descent_iterates=5\n",
    "train(cv_list,mask,base_state,states_subset=[1,3,4],merge_states=[[1,0],[1,2]])\n",
    "\n",
    "bandwidth = old_bandwidth\n",
    "gradient_descent_iterates = 0"
   ]
  },
  {
   "cell_type": "code",
   "execution_count": 26,
   "metadata": {},
   "outputs": [
    {
     "name": "stdout",
     "output_type": "stream",
     "text": [
      "DEV >>> Finding Local Minima\n",
      "DEV >>> Basin Assignment\n",
      "Found 5 local minima with selected populations:\n",
      "\tBasin 0 -> 1781 configurations.\n",
      "\tBasin 1 -> 6135 configurations.\n",
      "\tBasin 2 -> 4279 configurations.\n",
      "\tBasin 3 -> 48115 configurations.\n",
      "\tBasin 4 -> 2288 configurations.\n"
     ]
    },
    {
     "name": "stderr",
     "output_type": "stream",
     "text": [
      "Optimizing Lasso Estimator: 100%|██████████| 51/51 [00:04<00:00, 12.25it/s]\n"
     ]
    },
    {
     "name": "stdout",
     "output_type": "stream",
     "text": [
      "Regularization --> log_10 (lambda) =  -0.36\n",
      "Accuracy: 97%\n",
      "State 1.0a.3:\n",
      " BACKBONE cos_psi PRO13\n"
     ]
    },
    {
     "data": {
      "image/png": "[encoded data removed]",
      "text/plain": [
       "<Figure size 972x216 with 4 Axes>"
      ]
     },
     "metadata": {
      "needs_background": "light"
     },
     "output_type": "display_data"
    }
   ],
   "source": [
    "base_state= \"1.0a\"\n",
    "cv_list = ['DeepTICA 3']\n",
    "mask = (colvar['DeepTICA 1'] > -0.125) & (colvar['DeepTICA 2'] < 0.25)\n",
    "#modify parameters\n",
    "old_bandwidth=bandwidth\n",
    "bandwidth=0.025\n",
    "gradient_descent_iterates=5\n",
    "train(cv_list,mask,base_state,states_subset=[1,3],merge_states=[[1,0],[1,2]])\n",
    "\n",
    "bandwidth = old_bandwidth\n",
    "gradient_descent_iterates = 0"
   ]
  },
  {
   "cell_type": "code",
   "execution_count": 27,
   "metadata": {},
   "outputs": [
    {
     "name": "stdout",
     "output_type": "stream",
     "text": [
      "DEV >>> Finding Local Minima\n",
      "DEV >>> Basin Assignment\n",
      "Found 5 local minima with selected populations:\n",
      "\tBasin 0 -> 1519 configurations.\n",
      "\tBasin 1 -> 6171 configurations.\n",
      "\tBasin 2 -> 4245 configurations.\n",
      "\tBasin 3 -> 48115 configurations.\n",
      "\tBasin 4 -> 2288 configurations.\n"
     ]
    },
    {
     "name": "stderr",
     "output_type": "stream",
     "text": [
      "/home/lbonati@iit.local/work/md-stateinterpreter/stateinterpreter/ml.py:71: UserWarning: The asked number of samples is higher than the possible unique values. Sampling with replacement\n",
      "  warnings.warn(\"The asked number of samples is higher than the possible unique values. Sampling with replacement\")\n",
      "Optimizing Lasso Estimator: 100%|██████████| 51/51 [00:04<00:00, 12.45it/s]\n"
     ]
    },
    {
     "name": "stdout",
     "output_type": "stream",
     "text": [
      "Regularization --> log_10 (lambda) =  -0.52\n",
      "Accuracy: 99%\n",
      "State 1.0b.4:\n",
      " BACKBONE sin_phi PRO2\n"
     ]
    },
    {
     "data": {
      "image/png": "[encoded data removed]",
      "text/plain": [
       "<Figure size 972x216 with 4 Axes>"
      ]
     },
     "metadata": {
      "needs_background": "light"
     },
     "output_type": "display_data"
    }
   ],
   "source": [
    "base_state= \"1.0b\"\n",
    "cv_list = ['DeepTICA 3']\n",
    "mask = (colvar['DeepTICA 1'] > -0.125) & (colvar['DeepTICA 2'] < 0.25)\n",
    "#modify parameters\n",
    "old_bandwidth=bandwidth\n",
    "bandwidth=0.025\n",
    "gradient_descent_iterates=10\n",
    "train(cv_list,mask,base_state,states_subset=[3,4],merge_states=[[1,0],[1,2]])\n",
    "\n",
    "bandwidth = old_bandwidth\n",
    "gradient_descent_iterates = 0"
   ]
  },
  {
   "cell_type": "markdown",
   "metadata": {},
   "source": [
    "### State 1.1"
   ]
  },
  {
   "cell_type": "code",
   "execution_count": 19,
   "metadata": {},
   "outputs": [
    {
     "name": "stdout",
     "output_type": "stream",
     "text": [
      "Filtering H-bonds: (27064, 580)\n",
      "DEV >>> Finding Local Minima\n",
      "DEV >>> Basin Assignment\n",
      "Found 1 local minima with selected populations:\n",
      "\tBasin 0 -> 26566 configurations.\n"
     ]
    },
    {
     "data": {
      "image/png": "[encoded data removed]",
      "text/plain": [
       "<Figure size 324x216 with 1 Axes>"
      ]
     },
     "metadata": {
      "needs_background": "light"
     },
     "output_type": "display_data"
    }
   ],
   "source": [
    "base_state= \"1.1\"\n",
    "cv_list = ['DeepTICA 3']\n",
    "mask = (colvar['DeepTICA 1'] > -0.125) & (colvar['DeepTICA 2'] > 0.25)\n",
    "train(cv_list,mask,base_state)"
   ]
  },
  {
   "cell_type": "markdown",
   "metadata": {},
   "source": [
    "# Tree-based classification"
   ]
  },
  {
   "cell_type": "markdown",
   "metadata": {},
   "source": [
    "## Functions"
   ]
  },
  {
   "cell_type": "code",
   "execution_count": 4,
   "metadata": {},
   "outputs": [],
   "source": [
    "from stateinterpreter.utils.numerical_utils import gaussian_kde\n",
    "\n",
    "def plot_fes(cv,bandwidth,states_labels=None,logweights=None,kBT=2.5,cv_list=None,states_subset=None,num_samples=100,ax=None,prefix_label=\"\"):\n",
    "    \n",
    "    if cv_list is not None:\n",
    "        cv = cv[cv_list]\n",
    "\n",
    "    empirical_centers = cv.to_numpy()\n",
    "    KDE = gaussian_kde(empirical_centers,bandwidth,logweights)\n",
    "\n",
    "    bounds = [(x.min(), x.max()) for x in KDE.dataset.T]\n",
    "    mesh = np.meshgrid(*[np.linspace(b[0], b[1], num_samples) for b in bounds])\n",
    "\n",
    "    positions = np.vstack([g.ravel() for g in mesh]).T\n",
    "    fes = -kBT*KDE.logpdf(positions)\n",
    "    fes -= fes.min()\n",
    "    if ax is None:\n",
    "        fig,ax = plt.subplots()\n",
    "    ax.plot(mesh[0],fes/kBT,color='dimgrey',linewidth=2)\n",
    "    ax.set_xlabel(cv.columns.values[0])\n",
    "    ax.set_ylabel('FES [$k_B$T]')\n",
    "    ax.set_xlim(bounds[0][0],bounds[0][1])\n",
    "    ax.set_ylim(0,)\n",
    "    \n",
    "    if states_labels is not None:\n",
    "        if states_subset is not None:\n",
    "            labels = states_subset\n",
    "        else:\n",
    "            labels = sorted(states_labels['labels'].unique())\n",
    "        for i,label in enumerate(labels):\n",
    "            mask = ( states_labels['labels'] == label ) & (states_labels['selection'] == True )\n",
    "            Min = cv[mask].min().values[0] \n",
    "            Max = cv[mask].max().values[0] \n",
    "            ax.axvspan(Min,Max, alpha=0.5, color=f'fessa{6-i}')\n",
    "            ax.text((Max+Min)/2,1,prefix_label+str(i),fontsize=14,ha='center')\n",
    "\n",
    "def get_best_reg(classifier):\n",
    "    # accuracy\n",
    "    acc = classifier.get_accuracy()\n",
    "    # number of features\n",
    "    num = classifier.get_num_features()\n",
    "    \n",
    "    # criterion\n",
    "    score = (1-acc)*100+num\n",
    "\n",
    "    # return reg which minimizes it\n",
    "    best_reg = np.argmin(score)\n",
    "    return classifier._reg[best_reg],acc[best_reg],num[best_reg]"
   ]
  },
  {
   "cell_type": "markdown",
   "metadata": {},
   "source": [
    "## Build tree"
   ]
  },
  {
   "cell_type": "code",
   "execution_count": 5,
   "metadata": {},
   "outputs": [],
   "source": [
    "from stateinterpreter.utils.numerical_utils import gaussian_kde\n",
    "import scipy.optimize as opt\n",
    "import networkx as nx \n",
    "from copy import deepcopy\n",
    "\n",
    "def find_fes_fixed_points(centers, bandwidth, init_points, tol=1e-5, return_kde = False):\n",
    "    #Ok only for 1d data. Not checking for saddle points, not checking for dimentions\n",
    "    kde = gaussian_kde(centers, bandwidth=bandwidth)\n",
    "    dKDE = lambda x: -kde.grad(x, logpdf=True)\n",
    "    roots, converged, _ = opt.newton(dKDE,init_points, tol=tol*1e-2, full_output=True, disp=False)\n",
    "    b = roots[converged]\n",
    "    b.sort()\n",
    "    d = np.append(True, np.diff(b))\n",
    "    roots = b[d>tol]\n",
    "    if not return_kde:\n",
    "        return roots[:, np.newaxis]\n",
    "    else:\n",
    "        return roots[:, np.newaxis], kde\n",
    "\n",
    "def get_state_bounds(fixed_points, kde, bounds):\n",
    "    num_fixed_points = fixed_points.shape[0]\n",
    "    if num_fixed_points == 1:\n",
    "        maxima = np.array([[]])\n",
    "    else:\n",
    "        diff_signs = np.ones(num_fixed_points -1 )\n",
    "        diff_signs[1::2] *= -1\n",
    "        diffs = np.diff(-kde.logpdf(fixed_points), axis=0)\n",
    "        assert(np.allclose(diff_signs, np.sign(diffs)))\n",
    "        maxima = fixed_points[1::2]\n",
    "    state_bounds = []\n",
    "    maxima = np.insert(maxima, 0, [bounds[0]])\n",
    "    maxima = np.append(maxima, [bounds[1]])\n",
    "    for i in range(len(maxima) -1):\n",
    "        inf = maxima[i]\n",
    "        sup = maxima[i + 1]\n",
    "        data = dict()\n",
    "        data['bounds'] = [inf, sup]\n",
    "        data['enclosed_minima'] = fixed_points[i*2]\n",
    "        data['f_min'] = -kde.logpdf(data['enclosed_minima'])\n",
    "        if i == 0:\n",
    "            data['f_infbdry'] = None\n",
    "        else: \n",
    "            data['f_infbdry'] = -kde.logpdf(np.array(inf))\n",
    "        if i == len(maxima) - 2: \n",
    "            data['f_supbdry'] = None \n",
    "        else:\n",
    "            data['f_supbdry'] = - kde.logpdf(np.array(sup))\n",
    "        state_bounds.append(data)\n",
    "    return state_bounds\n",
    "\n",
    "def fuse_bounds(state_bounds, tol = 0.5):\n",
    "    state_bounds = deepcopy(state_bounds)\n",
    "    for idx, d in enumerate(state_bounds):\n",
    "        if d['f_infbdry'] == None:\n",
    "            if d['f_supbdry'] == None:\n",
    "                #Already single state\n",
    "                pass\n",
    "            else:\n",
    "                d_sup = d['f_supbdry'] - d['f_min']\n",
    "                if d_sup < tol:\n",
    "                    return fuse_bounds(fuse_above(state_bounds, idx), tol)\n",
    "        elif d['f_supbdry'] == None:\n",
    "            if d['f_infbdry'] == None:\n",
    "                #Already single state\n",
    "                pass\n",
    "            else:\n",
    "                d_inf = d['f_infbdry'] - d['f_min']\n",
    "                if d_inf < tol:\n",
    "                    return fuse_bounds(fuse_below(state_bounds, idx), tol)\n",
    "        else:\n",
    "            d_sup = d['f_supbdry'] - d['f_min']\n",
    "            d_inf = d['f_infbdry'] - d['f_min']\n",
    "            if (d_sup < tol) and (d_inf >= tol):\n",
    "                return fuse_bounds(fuse_above(state_bounds, idx), tol)\n",
    "            if (d_sup >= tol) and (d_inf < tol):\n",
    "                return fuse_bounds(fuse_below(state_bounds, idx), tol)\n",
    "            if (d_sup < tol) and (d_inf < tol):\n",
    "                if d_inf < d_sup:\n",
    "                    return fuse_bounds(fuse_below(state_bounds, idx), tol)\n",
    "                else:\n",
    "                    return fuse_bounds(fuse_above(state_bounds, idx), tol)\n",
    "            else:\n",
    "                pass\n",
    "    return state_bounds\n",
    "    \n",
    "def fuse_below(state_bounds, idx):\n",
    "    assert idx > 0\n",
    "    state_bounds[idx - 1]['bounds'][1] = state_bounds[idx]['bounds'][1]\n",
    "    state_bounds[idx -1]['f_supbdry'] = state_bounds[idx]['f_supbdry']\n",
    "    if state_bounds[idx -1]['f_min'] >= state_bounds[idx]['f_min']:\n",
    "        state_bounds[idx -1]['f_min'] = state_bounds[idx]['f_min']\n",
    "        state_bounds[idx -1]['enclosed_minima'] = state_bounds[idx]['enclosed_minima']\n",
    "    state_bounds.pop(idx)\n",
    "    return state_bounds\n",
    "\n",
    "def fuse_above(state_bounds, idx):\n",
    "    assert idx < len(state_bounds) - 1\n",
    "    state_bounds[idx + 1]['bounds'][0] = state_bounds[idx]['bounds'][0]\n",
    "    state_bounds[idx + 1]['f_infbdry'] = state_bounds[idx]['f_infbdry']\n",
    "    if state_bounds[idx + 1]['f_min'] >= state_bounds[idx]['f_min']:\n",
    "        state_bounds[idx + 1]['f_min'] = state_bounds[idx]['f_min']\n",
    "        state_bounds[idx + 1]['enclosed_minima'] = state_bounds[idx]['enclosed_minima']\n",
    "    state_bounds.pop(idx)\n",
    "    return state_bounds\n",
    "\n",
    "def branch_tica(centers, bandwidth, fusing_tolerance=1):\n",
    "    inf, sup = np.min(centers), np.max(centers)\n",
    "    padding = 1.1\n",
    "    init_points = np.arange(inf*padding, sup*padding, bandwidth)[:, np.newaxis]\n",
    "    fixed_points, kde = find_fes_fixed_points(centers[:, np.newaxis], bandwidth, init_points, return_kde = True)\n",
    "    state_bounds = get_state_bounds(fixed_points, kde, [inf, sup])\n",
    "    state_bounds = fuse_bounds(state_bounds, tol = fusing_tolerance)\n",
    "    for d in state_bounds:\n",
    "        inf = d['bounds'][0]\n",
    "        sup = d['bounds'][1]\n",
    "        d['mask'] = np.logical_and(centers > inf, centers < sup)\n",
    "    return state_bounds\n",
    "\n",
    "def hierarchy_pos(G, root=None, width=1., vert_gap = 0.2, vert_loc = 0, leaf_vs_root_factor = 0.5):\n",
    "\n",
    "    '''\n",
    "    If the graph is a tree this will return the positions to plot this in a \n",
    "    hierarchical layout.\n",
    "    \n",
    "    Based on Joel's answer at https://stackoverflow.com/a/29597209/2966723,\n",
    "    but with some modifications.  \n",
    "\n",
    "    We include this because it may be useful for plotting transmission trees,\n",
    "    and there is currently no networkx equivalent (though it may be coming soon).\n",
    "    \n",
    "    There are two basic approaches we think of to allocate the horizontal \n",
    "    location of a node.  \n",
    "    \n",
    "    - Top down: we allocate horizontal space to a node.  Then its ``k`` \n",
    "      descendants split up that horizontal space equally.  This tends to result\n",
    "      in overlapping nodes when some have many descendants.\n",
    "    - Bottom up: we allocate horizontal space to each leaf node.  A node at a \n",
    "      higher level gets the entire space allocated to its descendant leaves.\n",
    "      Based on this, leaf nodes at higher levels get the same space as leaf\n",
    "      nodes very deep in the tree.  \n",
    "      \n",
    "    We use use both of these approaches simultaneously with ``leaf_vs_root_factor`` \n",
    "    determining how much of the horizontal space is based on the bottom up \n",
    "    or top down approaches.  ``0`` gives pure bottom up, while 1 gives pure top\n",
    "    down.   \n",
    "    \n",
    "    \n",
    "    :Arguments: \n",
    "    \n",
    "    **G** the graph (must be a tree)\n",
    "\n",
    "    **root** the root node of the tree \n",
    "    - if the tree is directed and this is not given, the root will be found and used\n",
    "    - if the tree is directed and this is given, then the positions will be \n",
    "      just for the descendants of this node.\n",
    "    - if the tree is undirected and not given, then a random choice will be used.\n",
    "\n",
    "    **width** horizontal space allocated for this branch - avoids overlap with other branches\n",
    "\n",
    "    **vert_gap** gap between levels of hierarchy\n",
    "\n",
    "    **vert_loc** vertical location of root\n",
    "    \n",
    "    **leaf_vs_root_factor**\n",
    "\n",
    "    xcenter: horizontal location of root\n",
    "    '''\n",
    "    if not nx.is_tree(G):\n",
    "        raise TypeError('cannot use hierarchy_pos on a graph that is not a tree')\n",
    "\n",
    "    if root is None:\n",
    "        if isinstance(G, nx.DiGraph):\n",
    "            root = next(iter(nx.topological_sort(G)))  #allows back compatibility with nx version 1.11\n",
    "        else:\n",
    "            root = np.random.choice(list(G.nodes))\n",
    "\n",
    "    def _hierarchy_pos(G, root, leftmost, width, leafdx = 0.2, vert_gap = 0.2, vert_loc = 0, \n",
    "                    xcenter = 0.5, rootpos = None, \n",
    "                    leafpos = None, parent = None):\n",
    "        '''\n",
    "        see hierarchy_pos docstring for most arguments\n",
    "\n",
    "        pos: a dict saying where all nodes go if they have been assigned\n",
    "        parent: parent of this branch. - only affects it if non-directed\n",
    "\n",
    "        '''\n",
    "\n",
    "        if rootpos is None:\n",
    "            rootpos = {root:(xcenter,vert_loc)}\n",
    "        else:\n",
    "            rootpos[root] = (xcenter, vert_loc)\n",
    "        if leafpos is None:\n",
    "            leafpos = {}\n",
    "        children = sorted(list(G.neighbors(root)))\n",
    "        leaf_count = 0\n",
    "        if not isinstance(G, nx.DiGraph) and parent is not None:\n",
    "            children.remove(parent)  \n",
    "        if len(children)!=0:\n",
    "            rootdx = width/len(children)\n",
    "            nextx = xcenter - width/2 - rootdx/2\n",
    "            for child in children:\n",
    "                nextx += rootdx\n",
    "                rootpos, leafpos, newleaves = _hierarchy_pos(G,child, leftmost+leaf_count*leafdx, \n",
    "                                    width=rootdx, leafdx=leafdx,\n",
    "                                    vert_gap = vert_gap, vert_loc = vert_loc-vert_gap, \n",
    "                                    xcenter=nextx, rootpos=rootpos, leafpos=leafpos, parent = root)\n",
    "                leaf_count += newleaves\n",
    "\n",
    "            leftmostchild = min((x for x,y in [leafpos[child] for child in children]))\n",
    "            rightmostchild = max((x for x,y in [leafpos[child] for child in children]))\n",
    "            leafpos[root] = ((leftmostchild+rightmostchild)/2, vert_loc)\n",
    "        else:\n",
    "            leaf_count = 1\n",
    "            leafpos[root]  = (leftmost, vert_loc)\n",
    "        return rootpos, leafpos, leaf_count\n",
    "\n",
    "    xcenter = width/2.\n",
    "    if isinstance(G, nx.DiGraph):\n",
    "        leafcount = len([node for node in nx.descendants(G, root) if G.out_degree(node)==0])\n",
    "    elif isinstance(G, nx.Graph):\n",
    "        leafcount = len([node for node in nx.node_connected_component(G, root) if G.degree(node)==1 and node != root])\n",
    "    rootpos, leafpos, leaf_count = _hierarchy_pos(G, root, 0, width, \n",
    "                                                    leafdx=width*1./leafcount, \n",
    "                                                    vert_gap=vert_gap, \n",
    "                                                    vert_loc = vert_loc, \n",
    "                                                    xcenter = xcenter)\n",
    "    pos = {}\n",
    "    for node in rootpos:\n",
    "        pos[node] = (leaf_vs_root_factor*leafpos[node][0] + (1-leaf_vs_root_factor)*rootpos[node][0], leafpos[node][1]) \n",
    "    xmax = max(x for x,y in pos.values())\n",
    "    for node in pos:\n",
    "        pos[node]= (pos[node][0]*width/xmax, pos[node][1])\n",
    "    return pos\n",
    "    \n",
    "def populate_tree(T, parent_node, ticas, bandwidth, fusing_tolerance):\n",
    "    parent_mask = T.nodes[parent_node]['mask']\n",
    "    if ticas.shape[1] >= 1:\n",
    "        tica = ticas[parent_mask,0]\n",
    "        next_tica = ticas[:, 1:]\n",
    "    elif ticas.shape[1] == 0:\n",
    "        return\n",
    "    leafs = branch_tica(tica, bandwidth, fusing_tolerance=fusing_tolerance)\n",
    "    for leaf_id, leaf in enumerate(leafs):\n",
    "        leaf_mask = np.zeros_like(parent_mask)\n",
    "        nonzero_idxs = parent_mask.nonzero()[0]\n",
    "        leaf_mask[nonzero_idxs] = leaf['mask']\n",
    "        leaf_name = parent_node + f\".{leaf_id + 1}\"\n",
    "        T.add_node(leaf_name, mask = leaf_mask)\n",
    "        T.add_edge(parent_node, leaf_name)\n",
    "        populate_tree(T, leaf_name, next_tica, bandwidth, fusing_tolerance)\n",
    "\n",
    "def state_tree(ticas, bandwidth, fusing_tolerance=1):\n",
    "    T = nx.DiGraph()\n",
    "    T.add_node('0', mask=np.ones(ticas.shape[0], dtype=bool))\n",
    "    populate_tree(T, '0', ticas, bandwidth, fusing_tolerance)\n",
    "    relabel_map = dict()\n",
    "    for node in T.nodes:\n",
    "        if node == '0':\n",
    "            relabel_map[node] = 'MD'\n",
    "        else:\n",
    "            relabel_map[node] = node[2:]\n",
    "    T = nx.relabel_nodes(T,relabel_map, copy=False)\n",
    "    unchanged = False\n",
    "    while not unchanged:\n",
    "        unchanged = True\n",
    "        trimming_list = []\n",
    "        for node in T.nodes:\n",
    "            if T.out_degree(node) == 0:\n",
    "                parent_node = list(T.in_edges(node))[0][0]\n",
    "                if T.out_degree(parent_node) == 1:\n",
    "                    unchanged = False\n",
    "                    trimming_list.append(node)\n",
    "        T.remove_nodes_from(trimming_list)\n",
    "    return T"
   ]
  },
  {
   "cell_type": "code",
   "execution_count": 6,
   "metadata": {},
   "outputs": [],
   "source": [
    "bandwidth = 0.1\n",
    "ticas = colvar.filter(regex='DeepTICA').values #TODO add filter\n",
    "T = state_tree(ticas, bandwidth)"
   ]
  },
  {
   "cell_type": "code",
   "execution_count": 7,
   "metadata": {},
   "outputs": [
    {
     "data": {
      "image/png": "[encoded data removed]",
      "text/plain": [
       "<Figure size 432x288 with 1 Axes>"
      ]
     },
     "metadata": {},
     "output_type": "display_data"
    }
   ],
   "source": [
    "pos = hierarchy_pos(T)\n",
    "options = {\n",
    "    \"with_labels\": True,\n",
    "    \"font_size\": 16,\n",
    "    \"node_size\": 1000,\n",
    "    \"node_color\": \"white\",\n",
    "    \"edgecolors\": \"white\",\n",
    "    \"linewidths\": 1,\n",
    "    \"width\": 1,\n",
    "}\n",
    "\n",
    "nx.draw(T, pos, **options)"
   ]
  },
  {
   "cell_type": "code",
   "execution_count": 8,
   "metadata": {},
   "outputs": [],
   "source": [
    "import pandas as pd\n",
    "def generate_state_labels(T, root='Equilibrium'):\n",
    "    labels_list = []\n",
    "    _inspect_childrens(root,T, labels_list)\n",
    "    return labels_list\n",
    "def _inspect_childrens(node, T, labels_list):\n",
    "    if len(T.out_edges(node)) == 0:\n",
    "        return labels_list\n",
    "    else:\n",
    "        childrens = [i[1] for i in T.out_edges(node)]\n",
    "        masks = [T.nodes[child]['mask'] for child in childrens]\n",
    "        mask = np.logical_or.reduce(masks)\n",
    "        classes = np.full(mask.shape, 'undefined')\n",
    "        for id, m in enumerate(masks):\n",
    "            classes[m] = childrens[id]\n",
    "        df = pd.DataFrame(data=classes, columns=[\"labels\"])\n",
    "        df[\"selection\"] = mask\n",
    "        labels_list.append(df.copy())\n",
    "        for child in childrens:\n",
    "            labels_list = _inspect_childrens(child, T, labels_list)"
   ]
  },
  {
   "cell_type": "code",
   "execution_count": 13,
   "metadata": {},
   "outputs": [
    {
     "name": "stderr",
     "output_type": "stream",
     "text": [
      "/tmp/ipykernel_1522769/1020896860.py:21: FutureWarning: Support for multi-dimensional indexing (e.g. `obj[:, None]`) is deprecated and will be removed in a future version.  Convert to a numpy array before indexing instead.\n",
      "  fixed_points, kde = find_fes_fixed_points(centers[:, np.newaxis], bandwidth, init_points, return_kde = True)\n",
      "/tmp/ipykernel_1522769/1020896860.py:25: FutureWarning: Support for multi-dimensional indexing (e.g. `obj[:, None]`) is deprecated and will be removed in a future version.  Convert to a numpy array before indexing instead.\n",
      "  norms = np.linalg.norm((centers[:,np.newaxis] - minima), axis=2)\n"
     ]
    },
    {
     "ename": "ValueError",
     "evalue": "operands could not be broadcast together with shapes (103125,1) (2,1) ",
     "output_type": "error",
     "traceback": [
      "\u001b[0;31m---------------------------------------------------------------------------\u001b[0m",
      "\u001b[0;31mValueError\u001b[0m                                Traceback (most recent call last)",
      "\u001b[0;32m/tmp/ipykernel_1522769/1020896860.py\u001b[0m in \u001b[0;36m<module>\u001b[0;34m\u001b[0m\n\u001b[1;32m     32\u001b[0m     \u001b[0;32mreturn\u001b[0m \u001b[0mmask\u001b[0m\u001b[0;34m\u001b[0m\u001b[0;34m\u001b[0m\u001b[0m\n\u001b[1;32m     33\u001b[0m \u001b[0;34m\u001b[0m\u001b[0m\n\u001b[0;32m---> 34\u001b[0;31m \u001b[0mapply_cutoff_selection\u001b[0m\u001b[0;34m(\u001b[0m\u001b[0mcolvar\u001b[0m\u001b[0;34m[\u001b[0m\u001b[0;34m'DeepTICA 1'\u001b[0m\u001b[0;34m]\u001b[0m\u001b[0;34m,\u001b[0m \u001b[0mbandwidth\u001b[0m\u001b[0;34m)\u001b[0m\u001b[0;34m\u001b[0m\u001b[0;34m\u001b[0m\u001b[0m\n\u001b[0m",
      "\u001b[0;32m/tmp/ipykernel_1522769/1020896860.py\u001b[0m in \u001b[0;36mapply_cutoff_selection\u001b[0;34m(centers, bandwidth, fes_cutoff)\u001b[0m\n\u001b[1;32m     23\u001b[0m \u001b[0;34m\u001b[0m\u001b[0m\n\u001b[1;32m     24\u001b[0m     \u001b[0;31m# apply mask selection\u001b[0m\u001b[0;34m\u001b[0m\u001b[0;34m\u001b[0m\u001b[0m\n\u001b[0;32m---> 25\u001b[0;31m     \u001b[0mnorms\u001b[0m \u001b[0;34m=\u001b[0m \u001b[0mnp\u001b[0m\u001b[0;34m.\u001b[0m\u001b[0mlinalg\u001b[0m\u001b[0;34m.\u001b[0m\u001b[0mnorm\u001b[0m\u001b[0;34m(\u001b[0m\u001b[0;34m(\u001b[0m\u001b[0mcenters\u001b[0m\u001b[0;34m[\u001b[0m\u001b[0;34m:\u001b[0m\u001b[0;34m,\u001b[0m\u001b[0mnp\u001b[0m\u001b[0;34m.\u001b[0m\u001b[0mnewaxis\u001b[0m\u001b[0;34m]\u001b[0m \u001b[0;34m-\u001b[0m \u001b[0mminima\u001b[0m\u001b[0;34m)\u001b[0m\u001b[0;34m,\u001b[0m \u001b[0maxis\u001b[0m\u001b[0;34m=\u001b[0m\u001b[0;36m2\u001b[0m\u001b[0;34m)\u001b[0m\u001b[0;34m\u001b[0m\u001b[0;34m\u001b[0m\u001b[0m\n\u001b[0m\u001b[1;32m     26\u001b[0m     \u001b[0mclasses\u001b[0m \u001b[0;34m=\u001b[0m \u001b[0mnp\u001b[0m\u001b[0;34m.\u001b[0m\u001b[0margmin\u001b[0m\u001b[0;34m(\u001b[0m\u001b[0mnorms\u001b[0m\u001b[0;34m,\u001b[0m \u001b[0maxis\u001b[0m\u001b[0;34m=\u001b[0m\u001b[0;36m1\u001b[0m\u001b[0;34m)\u001b[0m\u001b[0;34m\u001b[0m\u001b[0;34m\u001b[0m\u001b[0m\n\u001b[1;32m     27\u001b[0m     \u001b[0mfes_at_minima\u001b[0m \u001b[0;34m=\u001b[0m  \u001b[0;34m-\u001b[0m \u001b[0mkde\u001b[0m\u001b[0;34m.\u001b[0m\u001b[0mlogpdf\u001b[0m\u001b[0;34m(\u001b[0m\u001b[0mminima\u001b[0m\u001b[0;34m)\u001b[0m\u001b[0;34m\u001b[0m\u001b[0;34m\u001b[0m\u001b[0m\n",
      "\u001b[0;31mValueError\u001b[0m: operands could not be broadcast together with shapes (103125,1) (2,1) "
     ]
    }
   ],
   "source": [
    "## apply threshold to points selection based on FES\n",
    "\n",
    "def get_minima(fixed_points,kde):\n",
    "    num_fixed_points = fixed_points.shape[0]\n",
    "    if num_fixed_points == 1:\n",
    "        minima = [fixed_points[0]]\n",
    "    else:\n",
    "        diff_signs = np.ones(num_fixed_points -1 )\n",
    "        diff_signs[1::2] *= -1\n",
    "        diffs = np.diff(-kde.logpdf(fixed_points), axis=0)\n",
    "        assert(np.allclose(diff_signs, np.sign(diffs)))\n",
    "        minima = fixed_points[0::2]\n",
    "\n",
    "    return minima\n",
    "\n",
    "def apply_cutoff_selection(centers, bandwidth, fes_cutoff=1):\n",
    "    # find minima\n",
    "    inf, sup = np.min(centers), np.max(centers)\n",
    "    padding = 1.1\n",
    "    init_points = np.arange(inf*padding, sup*padding, bandwidth)[:, np.newaxis]\n",
    "    fixed_points, kde = find_fes_fixed_points(centers[:, np.newaxis], bandwidth, init_points, return_kde = True)\n",
    "    minima = get_minima(fixed_points, kde)\n",
    "\n",
    "    # apply mask selection\n",
    "    norms = np.linalg.norm((centers[:,np.newaxis,:] - minima), axis=2)\n",
    "    classes = np.argmin(norms, axis=1)\n",
    "    fes_at_minima =  - kde.logpdf(minima)\n",
    "    ref_fes = np.asarray([fes_at_minima[idx] for idx in classes])\n",
    "    fes_pts = - kde.logpdf(kde.dataset)\n",
    "    mask = (fes_pts - ref_fes) < fes_cutoff\n",
    "\n",
    "    return mask\n",
    "\n",
    "apply_cutoff_selection(colvar['DeepTICA 1'], bandwidth)"
   ]
  },
  {
   "cell_type": "markdown",
   "metadata": {},
   "source": [
    "## Train"
   ]
  },
  {
   "cell_type": "code",
   "execution_count": 16,
   "metadata": {},
   "outputs": [],
   "source": [
    "def train(cv_list,mask=None,merge_states=None,states_subset=None):\n",
    "    if mask is not None:\n",
    "        # apply mask\n",
    "        cv = colvar[mask].reset_index()\n",
    "        desc = descriptors[mask].reset_index()\n",
    "        logw = None\n",
    "        if logweights is not None:\n",
    "            logw = logweights[mask]\n",
    "            if type(logw) == pd.DataFrame:\n",
    "                logw = logw.reset_index()\n",
    "    else:\n",
    "        cv = colvar\n",
    "        desc = descriptors\n",
    "        logw = logweights\n",
    "\n",
    "    # filter HB-descriptors\n",
    "    # Select only contacts which are greater than 0.5 at least once for these states\n",
    "    if filter_descriptors:\n",
    "        selected = ((desc.filter(regex='HB_CONTACT')>0.5).sum()>0)\n",
    "        desc = desc[selected.index[selected]]\n",
    "        print('Filtering H-bonds:',desc.shape)\n",
    "\n",
    "    ### identify states\n",
    "    ## states_labels = identify_metastable_states(cv, cv_list, kBT, bandwidth, logweights=logw, fes_cutoff=kBT, gradient_descent_iterates=gradient_descent_iterates)\n",
    "    # merge states if requested \n",
    "    if merge_states is not None:\n",
    "        for pair in merge_states:\n",
    "            states_labels.loc[states_labels['labels'] == pair[1], 'labels'] = pair[0]\n",
    "    \n",
    "    # count states\n",
    "    if states_subset is None:\n",
    "        num_states = len(states_labels['labels'].unique())\n",
    "    else:\n",
    "        num_states = len(states_subset)\n",
    "    num_histo = num_states if num_states>2 else 1\n",
    "    \n",
    "    # plot setup\n",
    "    if num_states == 1:\n",
    "        fig,ax = plt.subplots(figsize=(4.5,3))\n",
    "    else:\n",
    "        #fig,axs = plt.subplots(1,2,figsize=(7.5,5))\n",
    "        fig = plt.figure(figsize=(13.5,3), constrained_layout=True)\n",
    "        gs = matplotlib.gridspec.GridSpec(num_histo, 3, figure=fig)\n",
    "        ax1 = fig.add_subplot(gs[:, 0])\n",
    "        ax2 = fig.add_subplot(gs[:, 1])\n",
    "        axs_histo = []\n",
    "        for i in range(num_histo):\n",
    "            axs_histo.append(fig.add_subplot(gs[i, 2]))\n",
    "        ax = ax1\n",
    "        \n",
    "    plot_fes(cv[cv_list],bandwidth,states_labels,logweights=logw,num_samples=200,states_subset=states_subset,ax=ax) ## prefix_label=base_state+'.' if len(base_state)>0 else \"\"\n",
    "    \n",
    "    ##if len(base_state) > 0 :\n",
    "    ##    ax.set_title( f'State {base_state}' )\n",
    "\n",
    "    if num_states > 1 :\n",
    "\n",
    "        # classify\n",
    "        ##if states_subset is not None:\n",
    "        ##    state_names = [f'{base_state}.{i}' for i in states_subset ]\n",
    "        ##else:\n",
    "        ##    state_names = [f'{base_state}.{i}' for i in sorted(states_labels['labels'].unique()) ]\n",
    "        state_names = None\n",
    "        sample_obj, features_names, classes_names = prepare_training_dataset(desc, states_labels, num_samples, regex_filter=select_feat, states_names=state_names,states_subset=states_subset) \n",
    "        print(classes_names)\n",
    "        classifier = Classifier(sample_obj, features_names, classes_names)\n",
    "        classifier.compute(regularizers, max_iter= 10000) #, groups=groups)\n",
    "\n",
    "        # get best reg\n",
    "        reg,acc,num = get_best_reg(classifier)\n",
    "\n",
    "        # plot\n",
    "        ax = ax2\n",
    "        _, ax_twin = plot_classifier_complexity_vs_accuracy(classifier, ax = ax)\n",
    "        ax.axvline(np.log10(reg),linestyle='dotted',color='k')\n",
    "        ax.text(np.log10(reg)+0.02,acc+.05,f'{np.round(acc*100,1)}%',fontsize=12,color='fessa0')\n",
    "        ax_twin.text(np.log10(reg)+0.02,num+0.5,f'{num}',fontsize=12,color='fessa1')\n",
    "\n",
    "        #print features\n",
    "        print('Regularization --> log_10 (lambda) = ',np.round(np.log10(reg),3))\n",
    "        classifier.print_selected(reg)\n",
    "\n",
    "        relevant_feat = classifier.feature_summary(reg)\n",
    "        plot_histogram_features(desc, states_labels, classes_names, relevant_feat, axs = axs_histo, height=1)\n",
    "\n",
    "        #plt.tight_layout()\n",
    "    if save_folder is not None:\n",
    "        plt.savefig(save_folder+f'deeptica{cv_list[0][-1]}_state{base_state}_{feat_type}.png', bbox_inches='tight')\n"
   ]
  },
  {
   "cell_type": "code",
   "execution_count": 10,
   "metadata": {},
   "outputs": [],
   "source": [
    "import matplotlib\n",
    "from stateinterpreter import identify_metastable_states,prepare_training_dataset,Classifier\n",
    "from stateinterpreter.utils.plot import plot_classifier_complexity_vs_accuracy,plot_histogram_features\n",
    "\n",
    "regularizers = np.geomspace(0.01, 1, 51)\n",
    "\n",
    "logweights = None\n",
    "num_samples = 1000\n",
    "#bandwidth = 0.05\n",
    "save_folder = None #BPTI_data_path+'deeptica/v2-lag100-nodes1024-256-64-3/'\n",
    "#gradient_descent_iterates = 0"
   ]
  },
  {
   "cell_type": "code",
   "execution_count": 14,
   "metadata": {},
   "outputs": [],
   "source": [
    "# HBONDS\n",
    "feat_type = 'hbonds'\n",
    "select_feat = 'HB_CONT'\n",
    "filter_descriptors = True"
   ]
  },
  {
   "cell_type": "code",
   "execution_count": 12,
   "metadata": {},
   "outputs": [],
   "source": [
    "# ANGLES\n",
    "feat_type = 'angles'\n",
    "select_feat = 'sin_|cos_'\n",
    "filter_descriptors = False "
   ]
  },
  {
   "cell_type": "code",
   "execution_count": 17,
   "metadata": {},
   "outputs": [
    {
     "name": "stdout",
     "output_type": "stream",
     "text": [
      "['DeepTICA 1'] ['2' '1']\n",
      "Filtering H-bonds: (103123, 927)\n",
      "{0: '1', 1: '2'}\n"
     ]
    },
    {
     "name": "stderr",
     "output_type": "stream",
     "text": [
      "Optimizing Lasso Estimator: 100%|██████████| 51/51 [00:00<00:00, 337.25it/s]"
     ]
    },
    {
     "name": "stdout",
     "output_type": "stream",
     "text": [
      "Regularization --> log_10 (lambda) =  -0.96\n",
      "Accuracy: 98%\n",
      "State 2:\n",
      " HB_CONTACT LYS41-N -- ARG42-N\n",
      " HB_CONTACT LEU6-N -- GLU7-N\n",
      " HB_CONTACT ARG42-N -- ASN43-N\n"
     ]
    },
    {
     "name": "stderr",
     "output_type": "stream",
     "text": [
      "\n"
     ]
    },
    {
     "data": {
      "image/png": "[encoded data removed]",
      "text/plain": [
       "<Figure size 972x216 with 4 Axes>"
      ]
     },
     "metadata": {
      "needs_background": "light"
     },
     "output_type": "display_data"
    },
    {
     "name": "stdout",
     "output_type": "stream",
     "text": [
      "['DeepTICA 2'] ['2.2' '2.1']\n",
      "Filtering H-bonds: (100541, 871)\n",
      "{0: '2.1', 1: '2.2'}\n"
     ]
    },
    {
     "name": "stderr",
     "output_type": "stream",
     "text": [
      "Optimizing Lasso Estimator: 100%|██████████| 51/51 [00:00<00:00, 350.38it/s]"
     ]
    },
    {
     "name": "stdout",
     "output_type": "stream",
     "text": [
      "Regularization --> log_10 (lambda) =  -0.36\n",
      "Accuracy: 98%\n",
      "State 2.2:\n",
      " HB_CONTACT CYS14-N -- GLY36-O\n"
     ]
    },
    {
     "name": "stderr",
     "output_type": "stream",
     "text": [
      "\n"
     ]
    },
    {
     "data": {
      "image/png": "[encoded data removed]",
      "text/plain": [
       "<Figure size 972x216 with 4 Axes>"
      ]
     },
     "metadata": {
      "needs_background": "light"
     },
     "output_type": "display_data"
    },
    {
     "name": "stdout",
     "output_type": "stream",
     "text": [
      "['DeepTICA 3'] ['2.1.2' '2.1.1']\n",
      "Filtering H-bonds: (73703, 852)\n",
      "{0: '2.1.1', 1: '2.1.2'}\n"
     ]
    },
    {
     "name": "stderr",
     "output_type": "stream",
     "text": [
      "Optimizing Lasso Estimator: 100%|██████████| 51/51 [00:00<00:00, 361.76it/s]"
     ]
    },
    {
     "name": "stdout",
     "output_type": "stream",
     "text": [
      "Regularization --> log_10 (lambda) =  -0.72\n",
      "Accuracy: 100%\n",
      "State 2.1.2:\n",
      " HB_CONTACT PRO13-N -- CYS14-N\n",
      " HB_CONTACT TYR10-O -- ASN44-ND2s\n",
      " HB_CONTACT CYS38-N -- ARG39-N\n"
     ]
    },
    {
     "name": "stderr",
     "output_type": "stream",
     "text": [
      "\n"
     ]
    },
    {
     "data": {
      "image/png": "[encoded data removed]",
      "text/plain": [
       "<Figure size 972x216 with 4 Axes>"
      ]
     },
     "metadata": {
      "needs_background": "light"
     },
     "output_type": "display_data"
    }
   ],
   "source": [
    "labels_list = generate_state_labels(T,root='MD')\n",
    "\n",
    "for labels in labels_list:\n",
    "    mask = labels['labels'] != 'undefined'\n",
    "    states_labels = labels[mask].reset_index()\n",
    "\n",
    "    cv_level = states_labels['labels'][0].count('.')+1\n",
    "    cv_list = [f'DeepTICA {cv_level}']\n",
    "    print(cv_list, states_labels['labels'].unique())\n",
    "\n",
    "    train(cv_list,mask)\n",
    "    plt.show()"
   ]
  },
  {
   "cell_type": "code",
   "execution_count": null,
   "metadata": {},
   "outputs": [],
   "source": []
  }
 ],
 "metadata": {
  "interpreter": {
   "hash": "a02a46087913cbb969307444ebf7a1b306ab4b246983cc11b407aff0a5ed992b"
  },
  "kernelspec": {
   "display_name": "Python 3.9.7 64-bit ('pytorch': conda)",
   "name": "python3"
  },
  "language_info": {
   "codemirror_mode": {
    "name": "ipython",
    "version": 3
   },
   "file_extension": ".py",
   "mimetype": "text/x-python",
   "name": "python",
   "nbconvert_exporter": "python",
   "pygments_lexer": "ipython3",
   "version": "3.9.7"
  },
  "orig_nbformat": 4
 },
 "nbformat": 4,
 "nbformat_minor": 2
}
