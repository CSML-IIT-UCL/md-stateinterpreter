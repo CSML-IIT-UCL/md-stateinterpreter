{
 "cells": [
  {
   "cell_type": "markdown",
   "metadata": {},
   "source": [
    "## Import"
   ]
  },
  {
   "cell_type": "code",
   "execution_count": null,
   "metadata": {},
   "outputs": [],
   "source": [
    "import numpy as np\n",
    "import pandas as pd\n",
    "import matplotlib.pyplot as plt\n",
    "import mdtraj as md\n",
    "import itertools\n",
    "\n",
    "import stateinterpreter.MD \n",
    "import stateinterpreter.plot\n",
    "\n",
    "is_reload = False\n",
    "\n",
    "if is_reload:\n",
    "    from importlib import reload\n",
    "    reload(stateinterpreter)\n",
    "    reload(stateinterpreter.MD)\n",
    "    reload(stateinterpreter.classifier)\n",
    "    reload(stateinterpreter.plot)"
   ]
  },
  {
   "cell_type": "markdown",
   "metadata": {},
   "source": [
    "## Loader"
   ]
  },
  {
   "cell_type": "code",
   "execution_count": null,
   "metadata": {},
   "outputs": [],
   "source": [
    "from stateinterpreter.MD import Loader\n",
    "\n",
    "# Paths and filenames\n",
    "folder = \"../md_dataset/chignolin-unbiased/\"\n",
    "colvar_file = folder + 'COLVAR'\n",
    "\n",
    "traj_dict = {\n",
    "    'trajectory' : folder+'CLN025-0-protein-ALL.dcd',\n",
    "    'topology' : folder+'CLN025-0-protein.pdb'\n",
    "}\n",
    "\n",
    "# Compute descriptors from traj\n",
    "data = Loader(colvar_file, kbt=2.827, stride=20)\n",
    "# Rename TICA CVs\n",
    "data.colvar = data.colvar.rename(columns={'deep.node-4': 'tica1','deep.node-3': 'tica2','deep.node-2': 'tica3', 'deep.node-1': 'tica4','deep.node-0': 'tica5'})\n",
    "# Load Trajectory\n",
    "data.load_trajectory(traj_dict, descriptors=True)"
   ]
  },
  {
   "cell_type": "markdown",
   "metadata": {},
   "source": [
    "## Identify states based on FES minima"
   ]
  },
  {
   "cell_type": "code",
   "execution_count": null,
   "metadata": {},
   "outputs": [],
   "source": [
    "# Collective variables used for classes identification\n",
    "selected_cvs = ['tica1' ] #, 'tica2'] # , 'tica3']\n",
    "bounds = [(-1.1,1.1)]*len(selected_cvs)\n",
    "\n",
    "# Identify states\n",
    "data.identify_states(selected_cvs,bounds,fes_cutoff=2*data.kbt,sort_minima_by='cvs_grid',\n",
    "                     optimizer='rand_brute',optimizer_kwargs = {'num_init': 100} )\n",
    "\n",
    "# Prepare inputs\n",
    "df = data.collect_data()\n",
    "\n",
    "# Define folder for basins identification (save dataframe and plots)\n",
    "states_folder = 'results/chignolin-unbiased/tica-1d/'\n",
    "!mkdir -p {states_folder}\n",
    "\n",
    "# save dataframe\n",
    "df.to_csv(states_folder+'dataframe.txt', sep=' ')"
   ]
  },
  {
   "cell_type": "code",
   "execution_count": null,
   "metadata": {},
   "outputs": [],
   "source": [
    "from stateinterpreter.plot import plot_states\n",
    "plot_states(data, fes_isolines=True, save_folder = states_folder)"
   ]
  },
  {
   "cell_type": "markdown",
   "metadata": {},
   "source": [
    "## Stateinterpreter"
   ]
  },
  {
   "cell_type": "code",
   "execution_count": null,
   "metadata": {},
   "outputs": [],
   "source": [
    "from stateinterpreter.classifier import MD_Data, CV_path\n",
    "\n",
    "states_folder = 'results/chignolin-unbiased/tica-1d/'\n",
    "\n",
    "# Load input from file\n",
    "df = pd.read_csv(states_folder+'dataframe.txt', sep=' ')\n",
    "\n",
    "# or directly from dataframe\n",
    "model = MD_Data(df)\n",
    "\n",
    "# input features\n",
    "select_feat = 'HB_CONTACT|sin_|cos_'\n",
    "sample = model.sample(1000, regex_filter = select_feat)\n",
    "\n",
    "# Define results folder (save plots and results) \n",
    "results_folder = states_folder + 'hbonds-angles/'\n",
    "!mkdir -p {results_folder}"
   ]
  },
  {
   "cell_type": "markdown",
   "metadata": {},
   "source": [
    "### Linear Kernel"
   ]
  },
  {
   "cell_type": "code",
   "execution_count": null,
   "metadata": {},
   "outputs": [],
   "source": [
    "C_range = np.geomspace(1, 100, 25)\n",
    "kwargs = {'LASSO':True, 'max_iter': 10000}\n",
    "dset = sample.train_test_dataset()\n",
    "n_examples = dset[0].shape[0]\n",
    "C_range_in = C_range/n_examples\n",
    "cvpath = CV_path(dset, sample.features, quadratic_kernel=False)\n",
    "\n",
    "result = cvpath.compute(C_range_in,multi_class='ovr', **kwargs)"
   ]
  },
  {
   "cell_type": "code",
   "execution_count": null,
   "metadata": {},
   "outputs": [],
   "source": [
    "from stateinterpreter.plot import plot_cvpath\n",
    "\n",
    "C = np.power(10,1)\n",
    "\n",
    "# PLOT\n",
    "base_prefix = 'linear'\n",
    "plot_cvpath(cvpath,C)\n",
    "\n",
    "if results_folder is not None:\n",
    "    plt.savefig(results_folder+base_prefix+'-cvpath.png', facecolor='w', transparent=False, bbox_inches='tight')\n",
    "plt.show()"
   ]
  },
  {
   "cell_type": "code",
   "execution_count": null,
   "metadata": {},
   "outputs": [],
   "source": [
    "relevant_feat = cvpath.relevant_features(C)\n",
    "unique_features = cvpath.unique_features(C)\n",
    "\n",
    "print('\\n-- RELEVANT FEATURES --')\n",
    "cvpath.print_relevant_features(C)\n",
    "\n",
    "# save to file\n",
    "if results_folder is not None:\n",
    "    with open(results_folder+base_prefix+'-features.txt', 'w') as f:\n",
    "        cvpath.print_relevant_features(C,file=f)"
   ]
  },
  {
   "cell_type": "code",
   "execution_count": null,
   "metadata": {},
   "outputs": [],
   "source": [
    "from stateinterpreter.plot import plot_combination_cvs_relevant_features\n",
    "\n",
    "plot_combination_cvs_relevant_features(df,selected_cvs,relevant_feat, \n",
    "                                       save_folder=results_folder,file_prefix=base_prefix)"
   ]
  },
  {
   "cell_type": "markdown",
   "metadata": {},
   "source": [
    "### Quadratic kernel"
   ]
  },
  {
   "cell_type": "code",
   "execution_count": null,
   "metadata": {},
   "outputs": [],
   "source": [
    "# Create quadratic Kernel based on features selected with C value above\n",
    "prunedcv = cvpath.get_pruned_CVpath(C)\n",
    "prunedcv.compute(C_range_in, **kwargs);"
   ]
  },
  {
   "cell_type": "code",
   "execution_count": null,
   "metadata": {},
   "outputs": [],
   "source": [
    "C = np.power(10,1)\n",
    "\n",
    "# PLOT\n",
    "base_prefix = 'pruned'\n",
    "plot_cvpath(prunedcv,C)\n",
    "\n",
    "if results_folder is not None:\n",
    "    plt.savefig(results_folder+base_prefix+'-cvpath.png', facecolor='w', transparent=False, bbox_inches='tight')\n",
    "plt.show()"
   ]
  },
  {
   "cell_type": "code",
   "execution_count": null,
   "metadata": {},
   "outputs": [],
   "source": [
    "relevant_feat = prunedcv.relevant_features(C)\n",
    "unique_features = prunedcv.unique_features(C)\n",
    "\n",
    "print('\\n-- RELEVANT FEATURES --')\n",
    "prunedcv.print_relevant_features(C)\n",
    "\n",
    "# save to file\n",
    "if results_folder is not None:\n",
    "    with open(results_folder+base_prefix+'-features.txt', 'w') as f:\n",
    "        prunedcv.print_relevant_features(C,file=f)\n",
    "\n",
    "# add quadratic features to dataframe\n",
    "for feat in unique_features:\n",
    "    if \"||\" in feat:\n",
    "        if feat not in df.columns: \n",
    "            i, j = feat.split(' || ')\n",
    "            feat_ij = df[i].values * df[j].values\n",
    "            df[feat] = feat_ij"
   ]
  },
  {
   "cell_type": "code",
   "execution_count": null,
   "metadata": {},
   "outputs": [],
   "source": [
    "plot_combination_cvs_relevant_features(df,selected_cvs,relevant_feat, \n",
    "                                       save_folder=results_folder,file_prefix=base_prefix)"
   ]
  },
  {
   "cell_type": "markdown",
   "metadata": {},
   "source": [
    "## Visualize features"
   ]
  },
  {
   "cell_type": "code",
   "execution_count": null,
   "metadata": {},
   "outputs": [],
   "source": [
    "from stateinterpreter.plot import visualize_features\n",
    "\n",
    "view = visualize_features(data,relevant_feat,state=1)   \n",
    "view"
   ]
  },
  {
   "cell_type": "code",
   "execution_count": null,
   "metadata": {},
   "outputs": [],
   "source": [
    "view.download_image(filename='results/chignolin-unbiased/chignolin-hbonds.png')"
   ]
  }
 ],
 "metadata": {
  "interpreter": {
   "hash": "a02a46087913cbb969307444ebf7a1b306ab4b246983cc11b407aff0a5ed992b"
  },
  "kernelspec": {
   "display_name": "Python 3.9.7 64-bit ('pytorch': conda)",
   "name": "python3"
  },
  "language_info": {
   "codemirror_mode": {
    "name": "ipython",
    "version": 3
   },
   "file_extension": ".py",
   "mimetype": "text/x-python",
   "name": "python",
   "nbconvert_exporter": "python",
   "pygments_lexer": "ipython3",
   "version": "3.9.7"
  },
  "orig_nbformat": 4
 },
 "nbformat": 4,
 "nbformat_minor": 2
}
