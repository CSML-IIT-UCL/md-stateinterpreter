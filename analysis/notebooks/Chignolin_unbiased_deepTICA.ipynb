{
 "cells": [
  {
   "cell_type": "code",
   "execution_count": 1,
   "source": [
    "import numpy as np\n",
    "import pandas as pd\n",
    "import matplotlib.pyplot as plt\n",
    "import mdtraj as md\n",
    "import itertools\n",
    "\n",
    "import stateinterpreter.MD \n",
    "\n",
    "is_reload = False"
   ],
   "outputs": [],
   "metadata": {}
  },
  {
   "cell_type": "code",
   "execution_count": 2,
   "source": [
    "if is_reload:\n",
    "    from importlib import reload\n",
    "    reload(stateinterpreter)\n",
    "    reload(stateinterpreter.MD)\n",
    "    reload(stateinterpreter.classifier)"
   ],
   "outputs": [],
   "metadata": {}
  },
  {
   "cell_type": "markdown",
   "source": [
    "## Loader"
   ],
   "metadata": {}
  },
  {
   "cell_type": "code",
   "execution_count": 8,
   "source": [
    "from stateinterpreter.MD import Loader\n",
    "\n",
    "data_folder = \"data/chignolin-v3/\"\n",
    "\n",
    "colvar_header = pd.read_csv(data_folder+'COLVAR',sep=' ',skipinitialspace=True, nrows=0).columns[2:]  \n",
    "\n",
    "file_dict = {\n",
    "    'trajectory': 'CLN025-0-protein-ALL.dcd',\n",
    "    'topology' : 'CLN025-0-protein.pdb',\n",
    "    'collective_vars': 'COLVAR',\n",
    "    'pd.read_csv.args' : {\n",
    "                        'skipinitialspace' : True, \n",
    "                        'sep' : ' ',\n",
    "                        'header' : None,\n",
    "                        'skiprows' : 1,\n",
    "                        'comment' : '#',\n",
    "                        'names' : colvar_header\n",
    "                        }\n",
    "}\n",
    "\n",
    "stride = 10\n",
    "data = Loader(data_folder, file_dict, stride=stride,_DEV=False)\n",
    "\n",
    "# Rename TICA CVs\n",
    "data.colvar = data.colvar.rename(columns={'deep.node-4': 'tica1','deep.node-3': 'tica2','deep.node-2': 'tica3', 'deep.node-1': 'tica4','deep.node-0': 'tica5'})"
   ],
   "outputs": [],
   "metadata": {}
  },
  {
   "cell_type": "markdown",
   "source": [
    "## Define states based on FES minima"
   ],
   "metadata": {}
  },
  {
   "cell_type": "code",
   "execution_count": 10,
   "source": [
    "# Collective variables used for classes identification\n",
    "collective_vars = ['tica1', 'tica2'] # , 'tica3']\n",
    "bounds = [(-1.1,1.1)]*len(collective_vars)\n",
    "\n",
    "# Identify basins and compute descriptors\n",
    "colvar = data.load(collective_vars, bounds, num=25, memory_saver=False, )\n",
    "\n",
    "# Define folder for basins identification (save dataframe and plots)\n",
    "states_folder = 'results/chignolin-unbiased/tica-2d/'\n",
    "!mkdir -p {states_folder}\n",
    "\n",
    "# save dataframe\n",
    "colvar.to_csv(states_folder+'dataframe', sep=' ')"
   ],
   "outputs": [],
   "metadata": {}
  },
  {
   "cell_type": "code",
   "execution_count": 11,
   "source": [
    "basins = colvar['basin'].unique()\n",
    "\n",
    "def compute_basin_mean(df, basin, label_x, label_y):\n",
    "    mx = df[df['basin'] == basin][label_x].mean()\n",
    "    my = df[df['basin'] == basin][label_y].mean()\n",
    "    return mx,my\n",
    "    \n",
    "# scatter plot of tica components \n",
    "pairs = itertools.combinations(collective_vars, 2)\n",
    "n_pairs = sum(1 for _ in pairs)\n",
    "\n",
    "fig, axs = plt.subplots(1,n_pairs,figsize=(6*n_pairs,4.5),dpi=100)\n",
    "\n",
    "for k,(label_x,label_y) in enumerate(pairs):\n",
    "\n",
    "    # select ax\n",
    "    ax = axs[k] if n_pairs > 1 else axs\n",
    "\n",
    "    # FES isolines (if 2D)\n",
    "    if data.FES[1].ndim == 2:\n",
    "        sampled_positions, f = data.FES\n",
    "\n",
    "        xx = sampled_positions[0]\n",
    "        yy = sampled_positions[1]\n",
    "        cset = ax.contour(xx, yy, f, levels=np.linspace(1,30,10), colors='k')\n",
    "\n",
    "    # hexbin plot\n",
    "    colvar.plot.hexbin(label_x,label_y,C='basin',cmap='Set2',ax=ax,alpha=0.2,colorbar=False)\n",
    "    pp = colvar[colvar['selection']].plot.hexbin(label_x,label_y,C='basin',cmap='Set2',ax=ax)\n",
    "    ax.set_title('Metastable states identification')\n",
    "\n",
    "    #add basins labels\n",
    "    for b in basins:\n",
    "        mx,my = compute_basin_mean(colvar,b,label_x,label_y)\n",
    "        text = ax.text(mx, my, b, ha=\"center\", va=\"center\", \n",
    "                       color=\"k\", fontsize='large')\n",
    "\n",
    "plt.savefig(states_folder+'states.png',bbox_inches='tight')\n",
    "plt.tight_layout()"
   ],
   "outputs": [
    {
     "output_type": "display_data",
     "data": {
      "image/png": "[encoded data removed]",
      "text/plain": [
       "<Figure size 600x450 with 1 Axes>"
      ]
     },
     "metadata": {
      "needs_background": "light"
     }
    }
   ],
   "metadata": {}
  },
  {
   "cell_type": "markdown",
   "source": [
    "## State interpreter"
   ],
   "metadata": {}
  },
  {
   "cell_type": "code",
   "execution_count": 12,
   "source": [
    "from stateinterpreter.classifier import MD_Data, CV_path\n",
    "\n",
    "states_folder = 'results/chignolin-unbiased/tica-2d/'\n",
    "\n",
    "colvar = pd.read_csv(states_folder+'dataframe', sep=' ')\n",
    "model = MD_Data(colvar)\n",
    "\n",
    "# input features\n",
    "select_feat = 'HB_CONTACT' #|sin_|cos_'\n",
    "sample = model.sample(1000, regex_filter = select_feat)\n",
    "\n",
    "# Define results folder (save plots and results)\n",
    "save_results = True\n",
    "results_folder = states_folder + 'hbonds/'\n",
    "!mkdir -p {results_folder}"
   ],
   "outputs": [
    {
     "output_type": "stream",
     "name": "stderr",
     "text": [
      "/home/lbonati@iit.local/software/anaconda3/envs/pytorch/lib/python3.9/site-packages/IPython/core/interactiveshell.py:3441: DtypeWarning: Columns (4) have mixed types.Specify dtype option on import or set low_memory=False.\n",
      "  exec(code_obj, self.user_global_ns, self.user_ns)\n"
     ]
    },
    {
     "output_type": "error",
     "ename": "TypeError",
     "evalue": "'numpy.float64' object cannot be interpreted as an integer",
     "traceback": [
      "\u001b[0;31m---------------------------------------------------------------------------\u001b[0m",
      "\u001b[0;31mTypeError\u001b[0m                                 Traceback (most recent call last)",
      "\u001b[0;32m/tmp/ipykernel_562120/583227941.py\u001b[0m in \u001b[0;36m<module>\u001b[0;34m\u001b[0m\n\u001b[1;32m      8\u001b[0m \u001b[0;31m# input features\u001b[0m\u001b[0;34m\u001b[0m\u001b[0;34m\u001b[0m\u001b[0m\n\u001b[1;32m      9\u001b[0m \u001b[0mselect_feat\u001b[0m \u001b[0;34m=\u001b[0m \u001b[0;34m'HB_CONTACT'\u001b[0m \u001b[0;31m#|sin_|cos_'\u001b[0m\u001b[0;34m\u001b[0m\u001b[0;34m\u001b[0m\u001b[0m\n\u001b[0;32m---> 10\u001b[0;31m \u001b[0msample\u001b[0m \u001b[0;34m=\u001b[0m \u001b[0mmodel\u001b[0m\u001b[0;34m.\u001b[0m\u001b[0msample\u001b[0m\u001b[0;34m(\u001b[0m\u001b[0;36m1000\u001b[0m\u001b[0;34m,\u001b[0m \u001b[0mregex_filter\u001b[0m \u001b[0;34m=\u001b[0m \u001b[0mselect_feat\u001b[0m\u001b[0;34m)\u001b[0m\u001b[0;34m\u001b[0m\u001b[0;34m\u001b[0m\u001b[0m\n\u001b[0m\u001b[1;32m     11\u001b[0m \u001b[0;34m\u001b[0m\u001b[0m\n\u001b[1;32m     12\u001b[0m \u001b[0;31m# Define results folder (save plots and results)\u001b[0m\u001b[0;34m\u001b[0m\u001b[0;34m\u001b[0m\u001b[0m\n",
      "\u001b[0;32m~/work/ml4atomsim/stateinterpreter/classifier.py\u001b[0m in \u001b[0;36msample\u001b[0;34m(self, n_configs, regex_filter)\u001b[0m\n\u001b[1;32m     20\u001b[0m         \u001b[0mconfig_list\u001b[0m \u001b[0;34m=\u001b[0m \u001b[0;34m[\u001b[0m\u001b[0;34m]\u001b[0m\u001b[0;34m\u001b[0m\u001b[0;34m\u001b[0m\u001b[0m\n\u001b[1;32m     21\u001b[0m         \u001b[0mlabels\u001b[0m \u001b[0;34m=\u001b[0m \u001b[0;34m[\u001b[0m\u001b[0;34m]\u001b[0m\u001b[0;34m\u001b[0m\u001b[0;34m\u001b[0m\u001b[0m\n\u001b[0;32m---> 22\u001b[0;31m         \u001b[0;32mfor\u001b[0m \u001b[0mbasin\u001b[0m \u001b[0;32min\u001b[0m \u001b[0mrange\u001b[0m\u001b[0;34m(\u001b[0m\u001b[0mself\u001b[0m\u001b[0;34m.\u001b[0m\u001b[0mn_clusters\u001b[0m\u001b[0;34m)\u001b[0m\u001b[0;34m:\u001b[0m\u001b[0;34m\u001b[0m\u001b[0;34m\u001b[0m\u001b[0m\n\u001b[0m\u001b[1;32m     23\u001b[0m             \u001b[0;31m#select basin\u001b[0m\u001b[0;34m\u001b[0m\u001b[0;34m\u001b[0m\u001b[0m\n\u001b[1;32m     24\u001b[0m             \u001b[0mdf\u001b[0m \u001b[0;34m=\u001b[0m \u001b[0mself\u001b[0m\u001b[0;34m.\u001b[0m\u001b[0m_df\u001b[0m\u001b[0;34m.\u001b[0m\u001b[0mloc\u001b[0m\u001b[0;34m[\u001b[0m \u001b[0;34m(\u001b[0m\u001b[0mself\u001b[0m\u001b[0;34m.\u001b[0m\u001b[0m_df\u001b[0m\u001b[0;34m[\u001b[0m\u001b[0;34m'basin'\u001b[0m\u001b[0;34m]\u001b[0m \u001b[0;34m==\u001b[0m \u001b[0mbasin\u001b[0m\u001b[0;34m)\u001b[0m \u001b[0;34m&\u001b[0m \u001b[0;34m(\u001b[0m\u001b[0mself\u001b[0m\u001b[0;34m.\u001b[0m\u001b[0m_df\u001b[0m\u001b[0;34m[\u001b[0m\u001b[0;34m'selection'\u001b[0m\u001b[0;34m]\u001b[0m \u001b[0;34m==\u001b[0m \u001b[0;32mTrue\u001b[0m\u001b[0;34m)\u001b[0m\u001b[0;34m]\u001b[0m\u001b[0;34m\u001b[0m\u001b[0;34m\u001b[0m\u001b[0m\n",
      "\u001b[0;31mTypeError\u001b[0m: 'numpy.float64' object cannot be interpreted as an integer"
     ]
    }
   ],
   "metadata": {}
  },
  {
   "cell_type": "markdown",
   "source": [
    "### Functions \n",
    "\n",
    "TODO --> move them to package?"
   ],
   "metadata": {}
  },
  {
   "cell_type": "code",
   "execution_count": 31,
   "source": [
    "# plot cvpath and print info about features\n",
    "def get_relevant_features(cvpath, C, save_results, results_folder, base_prefix='linear'):\n",
    "\n",
    "    print('\\n-- RELEVANT FEATURES --')\n",
    "    # print features per state\n",
    "    cvpath.print_relevant_features(C)\n",
    "\n",
    "    # unique features\n",
    "    relevant_feat = cvpath.relevant_features(C)\n",
    "\n",
    "    unique_features = set()\n",
    "    for state in relevant_feat.values():\n",
    "        for feat in state:\n",
    "            unique_features.add(feat[1])\n",
    "    unique_features = list(unique_features)\n",
    "\n",
    "    #sort based on residue #TODO this works only for angles, generalize or change features names\n",
    "    #unique_features.sort(key=lambda x: int(x[-1]))\n",
    "\n",
    "    print('\\n-- UNIQUE FEATURES --')\n",
    "    for feat in unique_features:\n",
    "        print(feat)\n",
    "\n",
    "    # save to file\n",
    "    if save_results:\n",
    "        with open(results_folder+base_prefix+'-features.txt', 'w') as f:\n",
    "            print('\\n-- RELEVANT FEATURES --',file=f)\n",
    "            cvpath.print_relevant_features(C,file=f)\n",
    "            print('\\n-- UNIQUE FEATURES --',file=f)\n",
    "            for feat in unique_features:\n",
    "                print(feat,file=f)\n",
    "\n",
    "    return relevant_feat, unique_features"
   ],
   "outputs": [],
   "metadata": {}
  },
  {
   "cell_type": "code",
   "execution_count": 41,
   "source": [
    "# aux function to compute basins mean\n",
    "def compute_basin_mean(df, basin, label_x, label_y):\n",
    "    mx = df[df['basin'] == basin][label_x].mean()\n",
    "    my = df[df['basin'] == basin][label_y].mean()\n",
    "    return mx,my\n",
    "\n",
    "# color CVs space by TICA\n",
    "def plot_CVs_space(colvar, cv_x, cv_y, relevant_feat, max_nfeat = 3):\n",
    "\n",
    "    # retrieve basins\n",
    "    basins = colvar['basin'].unique()\n",
    "    n_basins = len(basins)\n",
    "\n",
    "    fig, axs = plt.subplots(n_basins,max_nfeat,figsize=(6 * max_nfeat, 5* n_basins),dpi=100, )\n",
    "                            #sharex=True, sharey=True)\n",
    "\n",
    "    # for each state ...\n",
    "    for i,(state,feat_list) in enumerate(relevant_feat.items()):\n",
    "        # ... color with the corresponding features ...\n",
    "        for j,feat_array in enumerate(feat_list):\n",
    "            # ... up to max_nfeat plot per state\n",
    "            if j < max_nfeat:\n",
    "                feat = feat_array[1]\n",
    "                importance = feat_array[2]\n",
    "                ax = axs[i,j]\n",
    "                pp = colvar[colvar['selection']==1].plot.hexbin(cv_x,cv_y,C=feat,cmap='coolwarm',ax=ax)\n",
    "                #set title\n",
    "                ax.set_title(f'[state {state}] {feat} - {np.round(importance*100)}%')\n",
    "                #add basins labels\n",
    "                for b in basins:\n",
    "                    mx,my = compute_basin_mean(colvar,b,cv_x,cv_y)\n",
    "                    bcolor = 'k' if b == i else 'w'\n",
    "                    fcolor = 'w' if b == i else 'k'            \n",
    "                    ax.scatter(mx,my,color=bcolor,s=250,alpha=0.7)\n",
    "                    text = ax.text(mx, my, b, ha=\"center\", va=\"center\", \n",
    "                                color=fcolor, fontsize='large')\n",
    "        \n",
    "        #set labels\n",
    "        for ax in plt.gcf().axes:\n",
    "            try:\n",
    "                ax.label_outer()\n",
    "            except:\n",
    "                pass\n",
    "\n",
    "        #disable unused axis\n",
    "        for j in range(len(feat_list),max_nfeat):\n",
    "            axs[i,j].axis('off')\n",
    "\n",
    "    plt.tight_layout()"
   ],
   "outputs": [],
   "metadata": {}
  },
  {
   "cell_type": "markdown",
   "source": [
    "### Linear kernel"
   ],
   "metadata": {}
  },
  {
   "cell_type": "code",
   "execution_count": 87,
   "source": [
    "C_range = np.geomspace(2, 100, 25)\n",
    "kwargs = {'LASSO':True, 'max_iter':1000}\n",
    "dset = sample.train_test_dataset()\n",
    "n_examples = dset[0].shape[0]\n",
    "C_range_in = C_range/n_examples\n",
    "cvpath = CV_path(dset, sample.features, quadratic_kernel=False)\n",
    "\n",
    "result = cvpath.compute(C_range_in,multi_class='ovr', **kwargs)"
   ],
   "outputs": [
    {
     "output_type": "stream",
     "name": "stderr",
     "text": [
      "/home/lbonati@iit.local/software/anaconda3/envs/pytorch/lib/python3.9/site-packages/sklearn/linear_model/_sag.py:352: ConvergenceWarning: The max_iter was reached which means the coef_ did not converge\n",
      "  warnings.warn(\n",
      "/home/lbonati@iit.local/software/anaconda3/envs/pytorch/lib/python3.9/site-packages/sklearn/linear_model/_sag.py:352: ConvergenceWarning: The max_iter was reached which means the coef_ did not converge\n",
      "  warnings.warn(\n",
      "/home/lbonati@iit.local/software/anaconda3/envs/pytorch/lib/python3.9/site-packages/sklearn/linear_model/_sag.py:352: ConvergenceWarning: The max_iter was reached which means the coef_ did not converge\n",
      "  warnings.warn(\n",
      "/home/lbonati@iit.local/software/anaconda3/envs/pytorch/lib/python3.9/site-packages/sklearn/linear_model/_sag.py:352: ConvergenceWarning: The max_iter was reached which means the coef_ did not converge\n",
      "  warnings.warn(\n",
      "/home/lbonati@iit.local/software/anaconda3/envs/pytorch/lib/python3.9/site-packages/sklearn/linear_model/_sag.py:352: ConvergenceWarning: The max_iter was reached which means the coef_ did not converge\n",
      "  warnings.warn(\n",
      "/home/lbonati@iit.local/software/anaconda3/envs/pytorch/lib/python3.9/site-packages/sklearn/linear_model/_sag.py:352: ConvergenceWarning: The max_iter was reached which means the coef_ did not converge\n",
      "  warnings.warn(\n",
      "/home/lbonati@iit.local/software/anaconda3/envs/pytorch/lib/python3.9/site-packages/sklearn/linear_model/_sag.py:352: ConvergenceWarning: The max_iter was reached which means the coef_ did not converge\n",
      "  warnings.warn(\n",
      "/home/lbonati@iit.local/software/anaconda3/envs/pytorch/lib/python3.9/site-packages/sklearn/linear_model/_sag.py:352: ConvergenceWarning: The max_iter was reached which means the coef_ did not converge\n",
      "  warnings.warn(\n",
      "/home/lbonati@iit.local/software/anaconda3/envs/pytorch/lib/python3.9/site-packages/sklearn/linear_model/_sag.py:352: ConvergenceWarning: The max_iter was reached which means the coef_ did not converge\n",
      "  warnings.warn(\n",
      "/home/lbonati@iit.local/software/anaconda3/envs/pytorch/lib/python3.9/site-packages/sklearn/linear_model/_sag.py:352: ConvergenceWarning: The max_iter was reached which means the coef_ did not converge\n",
      "  warnings.warn(\n",
      "/home/lbonati@iit.local/software/anaconda3/envs/pytorch/lib/python3.9/site-packages/sklearn/linear_model/_sag.py:352: ConvergenceWarning: The max_iter was reached which means the coef_ did not converge\n",
      "  warnings.warn(\n",
      "/home/lbonati@iit.local/software/anaconda3/envs/pytorch/lib/python3.9/site-packages/sklearn/linear_model/_sag.py:352: ConvergenceWarning: The max_iter was reached which means the coef_ did not converge\n",
      "  warnings.warn(\n",
      "/home/lbonati@iit.local/software/anaconda3/envs/pytorch/lib/python3.9/site-packages/sklearn/linear_model/_sag.py:352: ConvergenceWarning: The max_iter was reached which means the coef_ did not converge\n",
      "  warnings.warn(\n",
      "/home/lbonati@iit.local/software/anaconda3/envs/pytorch/lib/python3.9/site-packages/sklearn/linear_model/_sag.py:352: ConvergenceWarning: The max_iter was reached which means the coef_ did not converge\n",
      "  warnings.warn(\n",
      "/home/lbonati@iit.local/software/anaconda3/envs/pytorch/lib/python3.9/site-packages/sklearn/linear_model/_sag.py:352: ConvergenceWarning: The max_iter was reached which means the coef_ did not converge\n",
      "  warnings.warn(\n"
     ]
    }
   ],
   "metadata": {}
  },
  {
   "cell_type": "code",
   "execution_count": null,
   "source": [
    "C = np.exp(2.5)\n",
    "\n",
    "# PLOT\n",
    "base_prefix = 'linear'\n",
    "cvpath.plot(C)\n",
    "if save_results:\n",
    "    plt.savefig(results_folder+base_prefix+'-cvpath.png',\n",
    "            facecolor='w', \n",
    "            transparent=False,\n",
    "            bbox_inches='tight')\n",
    "plt.show()\n",
    "\n",
    "# RELEVANT FEATURES\n",
    "relevant_feat, unique_features = get_relevant_features(cvpath,C,save_results,results_folder,base_prefix=base_prefix)"
   ],
   "outputs": [],
   "metadata": {}
  },
  {
   "cell_type": "code",
   "execution_count": null,
   "source": [
    "pairs = itertools.combinations(collective_vars, 2)\n",
    "n_pairs = sum(1 for _ in pairs)\n",
    "print(n_pairs)\n",
    "\n",
    "for k,(cv_x,cv_y) in  enumerate(itertools.combinations(collective_vars, 2)):\n",
    "    print(k,cv_x,cv_y)\n",
    "\n",
    "    plot_CVs_space(colvar, cv_x, cv_y, relevant_feat, max_nfeat = 3)\n",
    "\n",
    "    if save_results:\n",
    "        plt.savefig(results_folder+base_prefix+f'-relevant_feats{k+1 if n_pairs > 1 else None}.png',\n",
    "                    facecolor='w', \n",
    "                    transparent=False,\n",
    "                    bbox_inches='tight')\n",
    "    plt.show()"
   ],
   "outputs": [],
   "metadata": {}
  },
  {
   "cell_type": "code",
   "execution_count": null,
   "source": [
    "# DEPRECATED, see cell above for plotting\n",
    "\n",
    "basins = colvar['basin'].unique()\n",
    "\n",
    "# scatter plot of tica components \n",
    "pairs = [['tica1','tica2']]#,['tica1','tica3'],['tica2','tica3']]\n",
    "\n",
    "for feat in unique_features:\n",
    "    fig, axs = plt.subplots(1,len(pairs),figsize=(6*len(pairs),4.5),dpi=100)\n",
    "    for k,(label_x,label_y) in enumerate(pairs):\n",
    "        ax = axs[k] if len(pairs) > 1 else axs\n",
    "        pp = colvar[colvar['selection']==1].plot.hexbin(label_x,label_y,C=feat,cmap='coolwarm',ax=ax)\n",
    "        ax.set_title(feat)\n",
    "        #add basins labels\n",
    "        for b in basins:\n",
    "            mx,my = compute_basin_mean(colvar,b,label_x,label_y)\n",
    "            text = ax.text(mx, my, b, ha=\"center\", va=\"center\", \n",
    "                        color=\"w\", fontsize='large')\n",
    "    plt.tight_layout()"
   ],
   "outputs": [],
   "metadata": {}
  },
  {
   "cell_type": "markdown",
   "source": [
    "### Quadratic kernel"
   ],
   "metadata": {}
  },
  {
   "cell_type": "code",
   "execution_count": 91,
   "source": [
    "# Quadratic Kernel\n",
    "\n",
    "prunedcv = cvpath.get_pruned_CVpath(C)\n",
    "prunedcv.compute(C_range_in, **kwargs);\n"
   ],
   "outputs": [],
   "metadata": {}
  },
  {
   "cell_type": "code",
   "execution_count": null,
   "source": [
    "C = np.exp(2)\n",
    "\n",
    "# PLOT\n",
    "base_prefix = 'pruned'\n",
    "prunedcv.plot(C)\n",
    "if save_results:\n",
    "    plt.savefig(results_folder+base_prefix+'-cvpath.png',\n",
    "            facecolor='w', \n",
    "            transparent=False,\n",
    "            bbox_inches='tight')\n",
    "plt.show()\n",
    "\n",
    "# RELEVANT FEATURES\n",
    "relevant_feat, unique_features = get_relevant_features(prunedcv,C,save_results,results_folder,base_prefix=base_prefix)"
   ],
   "outputs": [],
   "metadata": {}
  },
  {
   "cell_type": "code",
   "execution_count": 94,
   "source": [
    "# add quadratic features to colvar\n",
    "for feat in unique_features:\n",
    "    if \"||\" in feat:\n",
    "        if feat not in colvar.columns: \n",
    "            i, j = feat.split(' || ')\n",
    "            feat_ij = colvar[i].values * colvar[j].values\n",
    "            colvar[feat] = feat_ij"
   ],
   "outputs": [],
   "metadata": {}
  },
  {
   "cell_type": "code",
   "execution_count": null,
   "source": [
    "# PLOT FEATURES vs TICAs\n",
    "\n",
    "pairs = itertools.combinations(collective_vars, 2)\n",
    "n_pairs = sum(1 for _ in pairs)\n",
    "print(n_pairs)\n",
    "\n",
    "for k,(cv_x,cv_y) in  enumerate(itertools.combinations(collective_vars, 2)):\n",
    "    print(k,cv_x,cv_y)\n",
    "\n",
    "    plot_CVs_space(colvar, cv_x, cv_y, relevant_feat, max_nfeat = 3)\n",
    "\n",
    "    if save_results:\n",
    "        plt.savefig(results_folder+base_prefix+f'-relevant_feats{k+1 if n_pairs > 1 else None}.png',\n",
    "                    facecolor='w', \n",
    "                    transparent=False,\n",
    "                    bbox_inches='tight')\n",
    "    plt.show()"
   ],
   "outputs": [],
   "metadata": {}
  },
  {
   "cell_type": "markdown",
   "source": [
    "## (visualize protein)"
   ],
   "metadata": {}
  },
  {
   "cell_type": "code",
   "execution_count": null,
   "source": [
    "import nglview\n",
    "\n",
    "traj_file = data_folder + 'CLN025-0-protein-ALL.dcd'\n",
    "topo_file = data_folder + 'CLN025-0-protein.pdb'\n",
    "ref_file = data_folder + 'chignolin-ref-ca-DES.pdb'\n",
    "\n",
    "traj = md.load(traj_file, top=topo_file,stride=stride)\n",
    "ref = md.load(ref_file)\n",
    "\n",
    "# superimpose to ref\n",
    "traj.superpose(ref)\n",
    "\n",
    "# set up visualization\n",
    "view = nglview.show_mdtraj(traj)\n",
    "view.clear_representations()\n",
    "view.add_licorice('(not hydrogen)',opacity=0.35)\n",
    "view.add_licorice('(backbone) and (not hydrogen)')\n",
    "selection = '(6 8)'\n",
    "view.add_licorice(selection+' and (not hydrogen)')\n",
    "view.add_ball_and_stick(selection+' and (not hydrogen)',color='yellow',opacity=0.75)\n",
    "\n",
    "view"
   ],
   "outputs": [],
   "metadata": {}
  }
 ],
 "metadata": {
  "orig_nbformat": 4,
  "language_info": {
   "name": "python",
   "version": "3.9.7",
   "mimetype": "text/x-python",
   "codemirror_mode": {
    "name": "ipython",
    "version": 3
   },
   "pygments_lexer": "ipython3",
   "nbconvert_exporter": "python",
   "file_extension": ".py"
  },
  "kernelspec": {
   "name": "python3",
   "display_name": "Python 3.9.7 64-bit ('pytorch': conda)"
  },
  "interpreter": {
   "hash": "a02a46087913cbb969307444ebf7a1b306ab4b246983cc11b407aff0a5ed992b"
  }
 },
 "nbformat": 4,
 "nbformat_minor": 2
}