{
 "cells": [
  {
   "cell_type": "code",
   "execution_count": 9,
   "source": [
    "import numpy as np\n",
    "import pandas as pd\n"
   ],
   "outputs": [],
   "metadata": {}
  },
  {
   "cell_type": "markdown",
   "source": [
    "## Load COLVAR"
   ],
   "metadata": {}
  },
  {
   "cell_type": "code",
   "execution_count": 10,
   "source": [
    "def plumed_to_pandas(filename):\n",
    "    headers = pd.read_csv(filename,sep=' ',skipinitialspace=True, nrows=0).columns[2:]  \n",
    "    df = pd.read_csv(filename,sep=' ',skipinitialspace=True, header=None,skiprows=1,names=headers,comment='#') \n",
    "    return df\n",
    "\n",
    "colvar = plumed_to_pandas('data/chignolin-v3/COLVAR')\n",
    "colvar = colvar.rename(columns={'deep.node-4': 'tica1','deep.node-3': 'tica2','deep.node-2': 'tica3', 'deep.node-1': 'tica4','deep.node-0': 'tica5'})\n",
    "colvar = colvar[::10]\n",
    "colvar"
   ],
   "outputs": [
    {
     "output_type": "error",
     "ename": "FileNotFoundError",
     "evalue": "[Errno 2] No such file or directory: 'data/chignolin-v3/COLVAR'",
     "traceback": [
      "\u001b[0;31m---------------------------------------------------------------------------\u001b[0m",
      "\u001b[0;31mFileNotFoundError\u001b[0m                         Traceback (most recent call last)",
      "\u001b[0;32m<ipython-input-10-93186cf2bc1f>\u001b[0m in \u001b[0;36m<module>\u001b[0;34m\u001b[0m\n\u001b[1;32m      4\u001b[0m     \u001b[0;32mreturn\u001b[0m \u001b[0mdf\u001b[0m\u001b[0;34m\u001b[0m\u001b[0;34m\u001b[0m\u001b[0m\n\u001b[1;32m      5\u001b[0m \u001b[0;34m\u001b[0m\u001b[0m\n\u001b[0;32m----> 6\u001b[0;31m \u001b[0mcolvar\u001b[0m \u001b[0;34m=\u001b[0m \u001b[0mplumed_to_pandas\u001b[0m\u001b[0;34m(\u001b[0m\u001b[0;34m'data/chignolin-v3/COLVAR'\u001b[0m\u001b[0;34m)\u001b[0m\u001b[0;34m\u001b[0m\u001b[0;34m\u001b[0m\u001b[0m\n\u001b[0m\u001b[1;32m      7\u001b[0m \u001b[0mcolvar\u001b[0m \u001b[0;34m=\u001b[0m \u001b[0mcolvar\u001b[0m\u001b[0;34m.\u001b[0m\u001b[0mrename\u001b[0m\u001b[0;34m(\u001b[0m\u001b[0mcolumns\u001b[0m\u001b[0;34m=\u001b[0m\u001b[0;34m{\u001b[0m\u001b[0;34m'deep.node-4'\u001b[0m\u001b[0;34m:\u001b[0m \u001b[0;34m'tica1'\u001b[0m\u001b[0;34m,\u001b[0m\u001b[0;34m'deep.node-3'\u001b[0m\u001b[0;34m:\u001b[0m \u001b[0;34m'tica2'\u001b[0m\u001b[0;34m,\u001b[0m\u001b[0;34m'deep.node-2'\u001b[0m\u001b[0;34m:\u001b[0m \u001b[0;34m'tica3'\u001b[0m\u001b[0;34m,\u001b[0m \u001b[0;34m'deep.node-1'\u001b[0m\u001b[0;34m:\u001b[0m \u001b[0;34m'tica4'\u001b[0m\u001b[0;34m,\u001b[0m\u001b[0;34m'deep.node-0'\u001b[0m\u001b[0;34m:\u001b[0m \u001b[0;34m'tica5'\u001b[0m\u001b[0;34m}\u001b[0m\u001b[0;34m)\u001b[0m\u001b[0;34m\u001b[0m\u001b[0;34m\u001b[0m\u001b[0m\n\u001b[1;32m      8\u001b[0m \u001b[0mcolvar\u001b[0m \u001b[0;34m=\u001b[0m \u001b[0mcolvar\u001b[0m\u001b[0;34m[\u001b[0m\u001b[0;34m:\u001b[0m\u001b[0;34m:\u001b[0m\u001b[0;36m10\u001b[0m\u001b[0;34m]\u001b[0m\u001b[0;34m\u001b[0m\u001b[0;34m\u001b[0m\u001b[0m\n",
      "\u001b[0;32m<ipython-input-10-93186cf2bc1f>\u001b[0m in \u001b[0;36mplumed_to_pandas\u001b[0;34m(filename)\u001b[0m\n\u001b[1;32m      1\u001b[0m \u001b[0;32mdef\u001b[0m \u001b[0mplumed_to_pandas\u001b[0m\u001b[0;34m(\u001b[0m\u001b[0mfilename\u001b[0m\u001b[0;34m)\u001b[0m\u001b[0;34m:\u001b[0m\u001b[0;34m\u001b[0m\u001b[0;34m\u001b[0m\u001b[0m\n\u001b[0;32m----> 2\u001b[0;31m     \u001b[0mheaders\u001b[0m \u001b[0;34m=\u001b[0m \u001b[0mpd\u001b[0m\u001b[0;34m.\u001b[0m\u001b[0mread_csv\u001b[0m\u001b[0;34m(\u001b[0m\u001b[0mfilename\u001b[0m\u001b[0;34m,\u001b[0m\u001b[0msep\u001b[0m\u001b[0;34m=\u001b[0m\u001b[0;34m' '\u001b[0m\u001b[0;34m,\u001b[0m\u001b[0mskipinitialspace\u001b[0m\u001b[0;34m=\u001b[0m\u001b[0;32mTrue\u001b[0m\u001b[0;34m,\u001b[0m \u001b[0mnrows\u001b[0m\u001b[0;34m=\u001b[0m\u001b[0;36m0\u001b[0m\u001b[0;34m)\u001b[0m\u001b[0;34m.\u001b[0m\u001b[0mcolumns\u001b[0m\u001b[0;34m[\u001b[0m\u001b[0;36m2\u001b[0m\u001b[0;34m:\u001b[0m\u001b[0;34m]\u001b[0m\u001b[0;34m\u001b[0m\u001b[0;34m\u001b[0m\u001b[0m\n\u001b[0m\u001b[1;32m      3\u001b[0m     \u001b[0mdf\u001b[0m \u001b[0;34m=\u001b[0m \u001b[0mpd\u001b[0m\u001b[0;34m.\u001b[0m\u001b[0mread_csv\u001b[0m\u001b[0;34m(\u001b[0m\u001b[0mfilename\u001b[0m\u001b[0;34m,\u001b[0m\u001b[0msep\u001b[0m\u001b[0;34m=\u001b[0m\u001b[0;34m' '\u001b[0m\u001b[0;34m,\u001b[0m\u001b[0mskipinitialspace\u001b[0m\u001b[0;34m=\u001b[0m\u001b[0;32mTrue\u001b[0m\u001b[0;34m,\u001b[0m \u001b[0mheader\u001b[0m\u001b[0;34m=\u001b[0m\u001b[0;32mNone\u001b[0m\u001b[0;34m,\u001b[0m\u001b[0mskiprows\u001b[0m\u001b[0;34m=\u001b[0m\u001b[0;36m1\u001b[0m\u001b[0;34m,\u001b[0m\u001b[0mnames\u001b[0m\u001b[0;34m=\u001b[0m\u001b[0mheaders\u001b[0m\u001b[0;34m,\u001b[0m\u001b[0mcomment\u001b[0m\u001b[0;34m=\u001b[0m\u001b[0;34m'#'\u001b[0m\u001b[0;34m)\u001b[0m\u001b[0;34m\u001b[0m\u001b[0;34m\u001b[0m\u001b[0m\n\u001b[1;32m      4\u001b[0m     \u001b[0;32mreturn\u001b[0m \u001b[0mdf\u001b[0m\u001b[0;34m\u001b[0m\u001b[0;34m\u001b[0m\u001b[0m\n\u001b[1;32m      5\u001b[0m \u001b[0;34m\u001b[0m\u001b[0m\n",
      "\u001b[0;32m~/miniconda3/lib/python3.8/site-packages/pandas/io/parsers.py\u001b[0m in \u001b[0;36mread_csv\u001b[0;34m(filepath_or_buffer, sep, delimiter, header, names, index_col, usecols, squeeze, prefix, mangle_dupe_cols, dtype, engine, converters, true_values, false_values, skipinitialspace, skiprows, skipfooter, nrows, na_values, keep_default_na, na_filter, verbose, skip_blank_lines, parse_dates, infer_datetime_format, keep_date_col, date_parser, dayfirst, cache_dates, iterator, chunksize, compression, thousands, decimal, lineterminator, quotechar, quoting, doublequote, escapechar, comment, encoding, dialect, error_bad_lines, warn_bad_lines, delim_whitespace, low_memory, memory_map, float_precision)\u001b[0m\n\u001b[1;32m    684\u001b[0m     )\n\u001b[1;32m    685\u001b[0m \u001b[0;34m\u001b[0m\u001b[0m\n\u001b[0;32m--> 686\u001b[0;31m     \u001b[0;32mreturn\u001b[0m \u001b[0m_read\u001b[0m\u001b[0;34m(\u001b[0m\u001b[0mfilepath_or_buffer\u001b[0m\u001b[0;34m,\u001b[0m \u001b[0mkwds\u001b[0m\u001b[0;34m)\u001b[0m\u001b[0;34m\u001b[0m\u001b[0;34m\u001b[0m\u001b[0m\n\u001b[0m\u001b[1;32m    687\u001b[0m \u001b[0;34m\u001b[0m\u001b[0m\n\u001b[1;32m    688\u001b[0m \u001b[0;34m\u001b[0m\u001b[0m\n",
      "\u001b[0;32m~/miniconda3/lib/python3.8/site-packages/pandas/io/parsers.py\u001b[0m in \u001b[0;36m_read\u001b[0;34m(filepath_or_buffer, kwds)\u001b[0m\n\u001b[1;32m    450\u001b[0m \u001b[0;34m\u001b[0m\u001b[0m\n\u001b[1;32m    451\u001b[0m     \u001b[0;31m# Create the parser.\u001b[0m\u001b[0;34m\u001b[0m\u001b[0;34m\u001b[0m\u001b[0;34m\u001b[0m\u001b[0m\n\u001b[0;32m--> 452\u001b[0;31m     \u001b[0mparser\u001b[0m \u001b[0;34m=\u001b[0m \u001b[0mTextFileReader\u001b[0m\u001b[0;34m(\u001b[0m\u001b[0mfp_or_buf\u001b[0m\u001b[0;34m,\u001b[0m \u001b[0;34m**\u001b[0m\u001b[0mkwds\u001b[0m\u001b[0;34m)\u001b[0m\u001b[0;34m\u001b[0m\u001b[0;34m\u001b[0m\u001b[0m\n\u001b[0m\u001b[1;32m    453\u001b[0m \u001b[0;34m\u001b[0m\u001b[0m\n\u001b[1;32m    454\u001b[0m     \u001b[0;32mif\u001b[0m \u001b[0mchunksize\u001b[0m \u001b[0;32mor\u001b[0m \u001b[0miterator\u001b[0m\u001b[0;34m:\u001b[0m\u001b[0;34m\u001b[0m\u001b[0;34m\u001b[0m\u001b[0m\n",
      "\u001b[0;32m~/miniconda3/lib/python3.8/site-packages/pandas/io/parsers.py\u001b[0m in \u001b[0;36m__init__\u001b[0;34m(self, f, engine, **kwds)\u001b[0m\n\u001b[1;32m    944\u001b[0m             \u001b[0mself\u001b[0m\u001b[0;34m.\u001b[0m\u001b[0moptions\u001b[0m\u001b[0;34m[\u001b[0m\u001b[0;34m\"has_index_names\"\u001b[0m\u001b[0;34m]\u001b[0m \u001b[0;34m=\u001b[0m \u001b[0mkwds\u001b[0m\u001b[0;34m[\u001b[0m\u001b[0;34m\"has_index_names\"\u001b[0m\u001b[0;34m]\u001b[0m\u001b[0;34m\u001b[0m\u001b[0;34m\u001b[0m\u001b[0m\n\u001b[1;32m    945\u001b[0m \u001b[0;34m\u001b[0m\u001b[0m\n\u001b[0;32m--> 946\u001b[0;31m         \u001b[0mself\u001b[0m\u001b[0;34m.\u001b[0m\u001b[0m_make_engine\u001b[0m\u001b[0;34m(\u001b[0m\u001b[0mself\u001b[0m\u001b[0;34m.\u001b[0m\u001b[0mengine\u001b[0m\u001b[0;34m)\u001b[0m\u001b[0;34m\u001b[0m\u001b[0;34m\u001b[0m\u001b[0m\n\u001b[0m\u001b[1;32m    947\u001b[0m \u001b[0;34m\u001b[0m\u001b[0m\n\u001b[1;32m    948\u001b[0m     \u001b[0;32mdef\u001b[0m \u001b[0mclose\u001b[0m\u001b[0;34m(\u001b[0m\u001b[0mself\u001b[0m\u001b[0;34m)\u001b[0m\u001b[0;34m:\u001b[0m\u001b[0;34m\u001b[0m\u001b[0;34m\u001b[0m\u001b[0m\n",
      "\u001b[0;32m~/miniconda3/lib/python3.8/site-packages/pandas/io/parsers.py\u001b[0m in \u001b[0;36m_make_engine\u001b[0;34m(self, engine)\u001b[0m\n\u001b[1;32m   1176\u001b[0m     \u001b[0;32mdef\u001b[0m \u001b[0m_make_engine\u001b[0m\u001b[0;34m(\u001b[0m\u001b[0mself\u001b[0m\u001b[0;34m,\u001b[0m \u001b[0mengine\u001b[0m\u001b[0;34m=\u001b[0m\u001b[0;34m\"c\"\u001b[0m\u001b[0;34m)\u001b[0m\u001b[0;34m:\u001b[0m\u001b[0;34m\u001b[0m\u001b[0;34m\u001b[0m\u001b[0m\n\u001b[1;32m   1177\u001b[0m         \u001b[0;32mif\u001b[0m \u001b[0mengine\u001b[0m \u001b[0;34m==\u001b[0m \u001b[0;34m\"c\"\u001b[0m\u001b[0;34m:\u001b[0m\u001b[0;34m\u001b[0m\u001b[0;34m\u001b[0m\u001b[0m\n\u001b[0;32m-> 1178\u001b[0;31m             \u001b[0mself\u001b[0m\u001b[0;34m.\u001b[0m\u001b[0m_engine\u001b[0m \u001b[0;34m=\u001b[0m \u001b[0mCParserWrapper\u001b[0m\u001b[0;34m(\u001b[0m\u001b[0mself\u001b[0m\u001b[0;34m.\u001b[0m\u001b[0mf\u001b[0m\u001b[0;34m,\u001b[0m \u001b[0;34m**\u001b[0m\u001b[0mself\u001b[0m\u001b[0;34m.\u001b[0m\u001b[0moptions\u001b[0m\u001b[0;34m)\u001b[0m\u001b[0;34m\u001b[0m\u001b[0;34m\u001b[0m\u001b[0m\n\u001b[0m\u001b[1;32m   1179\u001b[0m         \u001b[0;32melse\u001b[0m\u001b[0;34m:\u001b[0m\u001b[0;34m\u001b[0m\u001b[0;34m\u001b[0m\u001b[0m\n\u001b[1;32m   1180\u001b[0m             \u001b[0;32mif\u001b[0m \u001b[0mengine\u001b[0m \u001b[0;34m==\u001b[0m \u001b[0;34m\"python\"\u001b[0m\u001b[0;34m:\u001b[0m\u001b[0;34m\u001b[0m\u001b[0;34m\u001b[0m\u001b[0m\n",
      "\u001b[0;32m~/miniconda3/lib/python3.8/site-packages/pandas/io/parsers.py\u001b[0m in \u001b[0;36m__init__\u001b[0;34m(self, src, **kwds)\u001b[0m\n\u001b[1;32m   2006\u001b[0m         \u001b[0mkwds\u001b[0m\u001b[0;34m[\u001b[0m\u001b[0;34m\"usecols\"\u001b[0m\u001b[0;34m]\u001b[0m \u001b[0;34m=\u001b[0m \u001b[0mself\u001b[0m\u001b[0;34m.\u001b[0m\u001b[0musecols\u001b[0m\u001b[0;34m\u001b[0m\u001b[0;34m\u001b[0m\u001b[0m\n\u001b[1;32m   2007\u001b[0m \u001b[0;34m\u001b[0m\u001b[0m\n\u001b[0;32m-> 2008\u001b[0;31m         \u001b[0mself\u001b[0m\u001b[0;34m.\u001b[0m\u001b[0m_reader\u001b[0m \u001b[0;34m=\u001b[0m \u001b[0mparsers\u001b[0m\u001b[0;34m.\u001b[0m\u001b[0mTextReader\u001b[0m\u001b[0;34m(\u001b[0m\u001b[0msrc\u001b[0m\u001b[0;34m,\u001b[0m \u001b[0;34m**\u001b[0m\u001b[0mkwds\u001b[0m\u001b[0;34m)\u001b[0m\u001b[0;34m\u001b[0m\u001b[0;34m\u001b[0m\u001b[0m\n\u001b[0m\u001b[1;32m   2009\u001b[0m         \u001b[0mself\u001b[0m\u001b[0;34m.\u001b[0m\u001b[0munnamed_cols\u001b[0m \u001b[0;34m=\u001b[0m \u001b[0mself\u001b[0m\u001b[0;34m.\u001b[0m\u001b[0m_reader\u001b[0m\u001b[0;34m.\u001b[0m\u001b[0munnamed_cols\u001b[0m\u001b[0;34m\u001b[0m\u001b[0;34m\u001b[0m\u001b[0m\n\u001b[1;32m   2010\u001b[0m \u001b[0;34m\u001b[0m\u001b[0m\n",
      "\u001b[0;32mpandas/_libs/parsers.pyx\u001b[0m in \u001b[0;36mpandas._libs.parsers.TextReader.__cinit__\u001b[0;34m()\u001b[0m\n",
      "\u001b[0;32mpandas/_libs/parsers.pyx\u001b[0m in \u001b[0;36mpandas._libs.parsers.TextReader._setup_parser_source\u001b[0;34m()\u001b[0m\n",
      "\u001b[0;31mFileNotFoundError\u001b[0m: [Errno 2] No such file or directory: 'data/chignolin-v3/COLVAR'"
     ]
    }
   ],
   "metadata": {}
  },
  {
   "cell_type": "markdown",
   "source": [
    "## FES with KDE\n",
    "\n",
    "draft of n-dimensional method"
   ],
   "metadata": {}
  },
  {
   "cell_type": "code",
   "execution_count": 85,
   "source": [
    "def compute_fes(colvar, collective_vars, bounds, num=100, bw_method = 0.05, kbt=2.5, logweights=None ):\n",
    "    \n",
    "    ndims = len(collective_vars)\n",
    "    sigma = [bw_method for _ in range(ndims)]\n",
    "\n",
    "    _1d_grid = [np.linspace(vmin, vmax, num) for (vmin, vmax) in bounds]\n",
    "    meshgrids = np.meshgrid(*_1d_grid)\n",
    "    coords = np.array([np.ravel(coord) for coord in meshgrids]).T\n",
    "\n",
    "    #compute probability with KDE\n",
    "    max_prob=0\n",
    "    prob = np.zeros(coords.shape[0]) #np.zeros([num for _ in range(ndims)])\n",
    "\n",
    "    for i,sample in enumerate(coords):\n",
    "        arg2 = 0\n",
    "        for j in range(ndims):\n",
    "            dx_j = sample[j] - colvar[collective_vars[j]]\n",
    "            arg2 += np.power(dx_j/sigma[j],2)\n",
    "            if logweights:\n",
    "                prob[i] = np.sum(np.exp(logweights)*np.exp(-0.5*arg2))\n",
    "            else:\n",
    "                prob[i] = np.sum(np.exp(-0.5*arg2))\n",
    "            if prob[i] > max_prob:\n",
    "                max_prob = prob[i]\n",
    "\n",
    "    prob = np.reshape(prob,(num,)*ndims)\n",
    "\n",
    "    #convert to fes\n",
    "    fes=-kbt*np.log(prob/max_prob)\n",
    "\n",
    "    return fes\n",
    "\n",
    "collective_vars = ['tica1','tica2']\n",
    "bounds = [(-1.,1.)]*len(collective_vars)\n",
    "\n",
    "fes = compute_fes(colvar,collective_vars, bounds, num=100, kbt=2.8)\n"
   ],
   "outputs": [],
   "metadata": {}
  },
  {
   "cell_type": "markdown",
   "source": [
    "### 1D and 2D case\n",
    "\n",
    "(not adapted)"
   ],
   "metadata": {}
  },
  {
   "cell_type": "code",
   "execution_count": null,
   "source": [
    "# 1D CASE: support derivatives, free energy difference, and periodic CVs\n",
    "\n",
    "def compute_fes_1d(cv_x,logweights,kbt,sigma,extent,grid_bin=100,compute_derivatives=False,periodic=False,compute_deltaF=False,deltaF_max=0.):\n",
    "    #define grid\n",
    "    gx_min,gx_max = extent\n",
    "    grid_x=np.linspace(gx_min,gx_max,grid_bin)\n",
    "    \n",
    "    #compute probability\n",
    "    max_prob=0\n",
    "    prob=np.zeros(grid_bin)\n",
    "    deriv=[]\n",
    "    if compute_derivatives:\n",
    "        deriv=np.zeros(grid_bin)\n",
    "    basinA,basinB=0,0\n",
    "    period=0\n",
    "    if periodic:\n",
    "        period=gx_max-gx_min\n",
    "    if periodic and compute_derivatives:\n",
    "        raise AttributeError('derivatives not implemented for periodic variables')\n",
    "        \n",
    "    for i in range(grid_bin):\n",
    "        dx,arg2=0,0\n",
    "        if periodic:\n",
    "            dx=np.absolute(grid_x[i]-cv_x)\n",
    "            arg2=(np.minimum(dx,period-dx)/sigma)**2\n",
    "        else:\n",
    "            dx=grid_x[i]-cv_x\n",
    "            arg2=(dx/sigma)**2\n",
    "        prob[i]=np.sum(np.exp(logweights)*np.exp(-0.5*arg2))\n",
    "        if compute_derivatives:\n",
    "            deriv[i]=np.sum(-dx/(sigma**2)*np.exp(logweights)*np.exp(-0.5*arg2))\n",
    "        if prob[i]>max_prob:\n",
    "            max_prob=prob[i]\n",
    "        if compute_deltaF:\n",
    "            if grid_x[i]<deltaF_max:\n",
    "                basinA+=prob[i]\n",
    "            else:\n",
    "                basinB+=prob[i]\n",
    "\n",
    "    #convert to fes\n",
    "    fes=-kbt*np.log(prob/max_prob)\n",
    "    \n",
    "    if compute_derivatives and compute_deltaF:\n",
    "        deriv=-kbt*deriv/prob\n",
    "        deltaF=kbt*np.log(basinA/basinB)\n",
    "        return grid_x,fes,deriv,deltaF\n",
    "    elif compute_deltaF:\n",
    "        deltaF=kbt*np.log(basinA/basinB)\n",
    "        return grid_x,fes,deltaF\n",
    "    else:\n",
    "        return grid_x,fes\n",
    "\n",
    "# 2D case\n",
    "\n",
    "def compute_fes_2d(cv_x,cv_y,logweights,kbt,sigma,extent,grid_bin=100):\n",
    "    #define grid\n",
    "    gx_min,gx_max,gy_min,gy_max = extent\n",
    "    xx=np.linspace(gx_min,gx_max,grid_bin)\n",
    "    yy=np.linspace(gy_min,gy_max,grid_bin)\n",
    "    grid_x,grid_y=np.meshgrid(xx,yy)\n",
    "\n",
    "    #retrieve_sigma\n",
    "    if isinstance(sigma, list):\n",
    "        sigma_x,sigma_y=sigma\n",
    "    else:\n",
    "        sigma_x=sigma\n",
    "        sigma_y=sigma\n",
    "        \n",
    "    #compute probability\n",
    "    max_prob=0\n",
    "    prob=np.zeros((grid_bin,grid_bin))\n",
    "    for i in range(grid_bin):\n",
    "        for j in range(grid_bin):\n",
    "            dx=np.absolute(grid_x[i,j]-cv_x)\n",
    "            dy=np.absolute(grid_y[i,j]-cv_y)\n",
    "            arg2=(dx/sigma_x)**2+(dy/sigma_y)**2\n",
    "            prob[i,j]=np.sum(np.exp(logweights)*np.exp(-0.5*arg2)) \n",
    "            if prob[i,j]>max_prob:\n",
    "                max_prob=prob[i,j]\n",
    "\n",
    "    #convert to fes\n",
    "    fes=-kbt*np.log(prob/max_prob)\n",
    "    \n",
    "    return fes"
   ],
   "outputs": [],
   "metadata": {}
  }
 ],
 "metadata": {
  "orig_nbformat": 4,
  "language_info": {
   "name": "python",
   "version": "3.8.5",
   "mimetype": "text/x-python",
   "codemirror_mode": {
    "name": "ipython",
    "version": 3
   },
   "pygments_lexer": "ipython3",
   "nbconvert_exporter": "python",
   "file_extension": ".py"
  },
  "kernelspec": {
   "name": "python3",
   "display_name": "Python 3.8.5 64-bit ('base': conda)"
  },
  "interpreter": {
   "hash": "148b2c42d016a2598f8b9a86899ec05cef0d6b2cf2dbaee8b24d25b0318e7134"
  }
 },
 "nbformat": 4,
 "nbformat_minor": 2
}