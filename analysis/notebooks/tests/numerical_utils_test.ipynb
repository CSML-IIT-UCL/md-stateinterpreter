{
 "cells": [
  {
   "cell_type": "code",
   "execution_count": 1,
   "metadata": {},
   "outputs": [],
   "source": [
    "import numpy as np\n",
    "import sys \n",
    "sys.path.append('../../../')\n",
    "from stateinterpreter.numerical_utils import gaussian_kde\n",
    "import matplotlib.pyplot as plt\n",
    "from statistics import mean\n",
    "from scipy.optimize import minimize\n",
    "from tqdm import tqdm"
   ]
  },
  {
   "cell_type": "code",
   "execution_count": null,
   "metadata": {},
   "outputs": [],
   "source": [
    "dims = 2\n",
    "mean_val = np.random.rand(2)*10\n",
    "cov = np.random.rand(2,2)\n",
    "cov = cov@cov.T\n",
    "size = 100000\n",
    "samples = np.random.multivariate_normal(mean_val, cov, size=size)"
   ]
  },
  {
   "cell_type": "code",
   "execution_count": null,
   "metadata": {},
   "outputs": [],
   "source": [
    "plt.plot(samples[:,0], samples[:,1], 'k.')\n",
    "plt.plot(mean_val[0], mean_val[1], 'wx')\n",
    "plt.axis('equal')"
   ]
  },
  {
   "cell_type": "code",
   "execution_count": null,
   "metadata": {},
   "outputs": [],
   "source": [
    "plt.hexbin(samples[:,0], samples[:,1])\n",
    "plt.plot(mean_val[0], mean_val[1], 'ko')\n",
    "plt.plot(res[:,0], res[:,1], 'k.')\n",
    "plt.axis('equal')"
   ]
  },
  {
   "cell_type": "code",
   "execution_count": null,
   "metadata": {},
   "outputs": [],
   "source": [
    "logpdf = True\n",
    "sizes = np.arange(0, 100000, 5000)[1:]\n",
    "residuals = []\n",
    "for size in tqdm(sizes):\n",
    "    subsample_idxs = np.random.randint(0,len(samples) -1, size=size)\n",
    "    subsample = samples[subsample_idxs]\n",
    "    KDE = gaussian_kde(subsample)\n",
    "    jac = lambda x: -KDE.grad(x, logpdf=logpdf)\n",
    "    objective = lambda x: -KDE(x, logpdf=logpdf)\n",
    "    res = minimize(objective, [-2,-1], jac=jac, tol=1e-8)\n",
    "    residuals.append(res.x)\n",
    "res = np.asarray(residuals)\n",
    "res_nrm = np.linalg.norm(res, axis=1)"
   ]
  },
  {
   "cell_type": "code",
   "execution_count": null,
   "metadata": {},
   "outputs": [],
   "source": [
    "plt.plot(sizes, res_nrm, 'k-')\n",
    "plt.plot(sizes, res_nrm, 'ko')\n",
    "plt.xlim(sizes[0], sizes[-1])"
   ]
  },
  {
   "cell_type": "code",
   "execution_count": null,
   "metadata": {},
   "outputs": [],
   "source": [
    "plt.plot(sizes, res_nrm, 'k-')\n",
    "plt.plot(sizes, res_nrm, 'ko')\n",
    "plt.xlim(sizes[0], sizes[-1])"
   ]
  },
  {
   "cell_type": "code",
   "execution_count": 2,
   "metadata": {},
   "outputs": [],
   "source": [
    "def test_gaussian_kde(n_centers = 1000, n_dims = 3, n_pts = 1000, logpdf = False):\n",
    "    \"\"\"Sample test, will always pass so long as import statement worked.\"\"\"\n",
    "    rand_dataset = np.random.rand(n_centers, n_dims)\n",
    "    rand_points = np.random.rand(n_pts, n_dims)\n",
    "\n",
    "    #Test \n",
    "    KDE = gaussian_kde(rand_dataset)\n",
    "    if logpdf:\n",
    "        return KDE.logpdf(rand_points)\n",
    "    else:\n",
    "        return KDE(rand_points)"
   ]
  },
  {
   "cell_type": "code",
   "execution_count": null,
   "metadata": {},
   "outputs": [],
   "source": [
    "n_centers_vals = np.arange(1000,30000,1000)\n",
    "time_log = []\n",
    "time_std = []\n",
    "#n_pts = 1\n",
    "n_centers = 10000\n",
    "for n_pts in n_centers_vals:\n",
    "    val = %timeit -o test_gaussian_kde(n_centers = n_centers, n_dims = 3, n_pts = n_pts, logpdf = False)\n",
    "    time_std.append(mean(val.timings))\n",
    "    val = %timeit -o test_gaussian_kde(n_centers = n_centers, n_dims = 3, n_pts = n_pts, logpdf = True)\n",
    "    time_log.append(mean(val.timings))"
   ]
  },
  {
   "cell_type": "code",
   "execution_count": 5,
   "metadata": {},
   "outputs": [
    {
     "name": "stdout",
     "output_type": "stream",
     "text": [
      "134 ms ± 1.47 ms per loop (mean ± std. dev. of 7 runs, 10 loops each)\n"
     ]
    },
    {
     "data": {
      "text/plain": [
       "<TimeitResult : 134 ms ± 1.47 ms per loop (mean ± std. dev. of 7 runs, 10 loops each)>"
      ]
     },
     "execution_count": 5,
     "metadata": {},
     "output_type": "execute_result"
    }
   ],
   "source": [
    "%timeit -o test_gaussian_kde(n_centers = 30000, n_dims = 2, n_pts = 300, logpdf = True)"
   ]
  },
  {
   "cell_type": "code",
   "execution_count": null,
   "metadata": {},
   "outputs": [],
   "source": [
    "plt.plot(n_centers_vals, time_log, 'k-')\n",
    "plt.plot(n_centers_vals, time_log, 'ko')\n",
    "plt.plot(n_centers_vals, time_std, 'k--')\n",
    "plt.plot(n_centers_vals, time_std, 'ko')\n",
    "plt.xlim(n_centers_vals[0], n_centers_vals[-1])"
   ]
  },
  {
   "cell_type": "code",
   "execution_count": 6,
   "metadata": {},
   "outputs": [],
   "source": [
    "import numba as nb"
   ]
  },
  {
   "cell_type": "code",
   "execution_count": 7,
   "metadata": {},
   "outputs": [
    {
     "data": {
      "text/plain": [
       "'0.51.2'"
      ]
     },
     "execution_count": 7,
     "metadata": {},
     "output_type": "execute_result"
    }
   ],
   "source": [
    "nb.__version__"
   ]
  },
  {
   "cell_type": "code",
   "execution_count": null,
   "metadata": {},
   "outputs": [],
   "source": []
  }
 ],
 "metadata": {
  "interpreter": {
   "hash": "f49b71d23927f4bf57e7fb8675c074a649cd3df02a5cd7a1722fecc2b8949b27"
  },
  "kernelspec": {
   "display_name": "Python 3.8.5 64-bit ('base': conda)",
   "name": "python3"
  },
  "language_info": {
   "codemirror_mode": {
    "name": "ipython",
    "version": 3
   },
   "file_extension": ".py",
   "mimetype": "text/x-python",
   "name": "python",
   "nbconvert_exporter": "python",
   "pygments_lexer": "ipython3",
   "version": "3.8.5"
  },
  "orig_nbformat": 4
 },
 "nbformat": 4,
 "nbformat_minor": 2
}
