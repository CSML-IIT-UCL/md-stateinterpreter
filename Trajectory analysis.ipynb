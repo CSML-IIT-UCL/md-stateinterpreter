{
 "cells": [
  {
   "cell_type": "code",
   "metadata": {
    "tags": [],
    "cell_id": "00001-8cf56f7f-bc2b-48ae-80eb-81dff3f2d0ec",
    "deepnote_to_be_reexecuted": false,
    "source_hash": "5dd42775",
    "execution_start": 1626780708736,
    "execution_millis": 2911,
    "deepnote_cell_type": "code"
   },
   "source": "import numpy as np\nimport pandas as pd\nimport matplotlib.pyplot as plt\nimport mdtraj as md\nimport itertools",
   "execution_count": 1,
   "outputs": []
  },
  {
   "cell_type": "markdown",
   "source": "## Chignolin (long unbiased trajectory)",
   "metadata": {
    "tags": [],
    "cell_id": "00001-9a73d9f6-a76d-4fd0-8abb-8f389d0fe88b",
    "is_collapsed": false,
    "deepnote_cell_type": "text-cell-h2"
   }
  },
  {
   "cell_type": "markdown",
   "source": "### Load trajectory",
   "metadata": {
    "tags": [],
    "cell_id": "00002-dd2d33ec-0bd0-4f98-ad43-dfef7aa5665b",
    "is_collapsed": false,
    "deepnote_cell_type": "text-cell-h3"
   }
  },
  {
   "cell_type": "code",
   "metadata": {
    "tags": [],
    "cell_id": "00001-dbd2c650-5902-4779-a0b5-0b7bd99a3631",
    "deepnote_to_be_reexecuted": false,
    "source_hash": "7bc88b94",
    "execution_start": 1626780711647,
    "execution_millis": 12373,
    "deepnote_cell_type": "code"
   },
   "source": "# use external integration for large dataset (see https://docs.deepnote.com/integrations/deepnote-shared-datasets)\nfolder = \"/datasets/chignolin-unbiased-desres/\"\n\n# load trajectory\ntraj_file = folder + \"CLN025-0-protein-ALL.dcd\"\ntopo_file = folder + \"CLN025-0-protein.pdb\"\nstride = 10\ntraj = md.load(traj_file, top=topo_file,stride=stride)\n\n# load reference structure (used for Root-mean-square deviation [RMSD] analysis)\nref_file = folder + \"chignolin-ref-ca-DES.pdb\"\nref = md.load(ref_file)",
   "execution_count": 2,
   "outputs": []
  },
  {
   "cell_type": "code",
   "metadata": {
    "tags": [],
    "cell_id": "00003-361838e9-9f1d-4b57-aaa2-43e42be2adf6",
    "deepnote_to_be_reexecuted": false,
    "source_hash": "9e663680",
    "execution_start": 1626780724055,
    "execution_millis": 105,
    "deepnote_cell_type": "code"
   },
   "source": "# PRINT TOPOLOGY with atom properties (serial, name, element,residue_id,residue_name etc)\ntable, bonds = ref.top.to_dataframe()\ntable\n#table.loc[table['resName'].str.contains(\"ASP\") ]",
   "execution_count": 3,
   "outputs": [
    {
     "output_type": "execute_result",
     "execution_count": 3,
     "data": {
      "application/vnd.deepnote.dataframe.v2+json": {
       "row_count": 166,
       "column_count": 7,
       "columns": [
        {
         "name": "serial",
         "dtype": "int64",
         "stats": {
          "unique_count": 166,
          "nan_count": 0,
          "min": "1",
          "max": "166",
          "histogram": [
           {
            "bin_start": 1,
            "bin_end": 17.5,
            "count": 17
           },
           {
            "bin_start": 17.5,
            "bin_end": 34,
            "count": 16
           },
           {
            "bin_start": 34,
            "bin_end": 50.5,
            "count": 17
           },
           {
            "bin_start": 50.5,
            "bin_end": 67,
            "count": 16
           },
           {
            "bin_start": 67,
            "bin_end": 83.5,
            "count": 17
           },
           {
            "bin_start": 83.5,
            "bin_end": 100,
            "count": 16
           },
           {
            "bin_start": 100,
            "bin_end": 116.5,
            "count": 17
           },
           {
            "bin_start": 116.5,
            "bin_end": 133,
            "count": 16
           },
           {
            "bin_start": 133,
            "bin_end": 149.5,
            "count": 17
           },
           {
            "bin_start": 149.5,
            "bin_end": 166,
            "count": 17
           }
          ]
         }
        },
        {
         "name": "name",
         "dtype": "object",
         "stats": {
          "unique_count": 50,
          "nan_count": 0,
          "categories": [
           {
            "name": "N",
            "count": 10
           },
           {
            "name": "CA",
            "count": 10
           },
           {
            "name": "48 others",
            "count": 146
           }
          ]
         }
        },
        {
         "name": "element",
         "dtype": "object",
         "stats": {
          "unique_count": 4,
          "nan_count": 0,
          "categories": [
           {
            "name": "H",
            "count": 73
           },
           {
            "name": "C",
            "count": 62
           },
           {
            "name": "2 others",
            "count": 31
           }
          ]
         }
        },
        {
         "name": "resSeq",
         "dtype": "int64",
         "stats": {
          "unique_count": 10,
          "nan_count": 0,
          "min": "1",
          "max": "10",
          "histogram": [
           {
            "bin_start": 1,
            "bin_end": 1.9,
            "count": 23
           },
           {
            "bin_start": 1.9,
            "bin_end": 2.8,
            "count": 21
           },
           {
            "bin_start": 2.8,
            "bin_end": 3.7,
            "count": 12
           },
           {
            "bin_start": 3.7,
            "bin_end": 4.6,
            "count": 14
           },
           {
            "bin_start": 4.6,
            "bin_end": 5.5,
            "count": 15
           },
           {
            "bin_start": 5.5,
            "bin_end": 6.4,
            "count": 14
           },
           {
            "bin_start": 6.4,
            "bin_end": 7.3,
            "count": 7
           },
           {
            "bin_start": 7.3,
            "bin_end": 8.2,
            "count": 14
           },
           {
            "bin_start": 8.2,
            "bin_end": 9.1,
            "count": 24
           },
           {
            "bin_start": 9.1,
            "bin_end": 10,
            "count": 22
           }
          ]
         }
        },
        {
         "name": "resName",
         "dtype": "object",
         "stats": {
          "unique_count": 7,
          "nan_count": 0,
          "categories": [
           {
            "name": "TYR",
            "count": 66
           },
           {
            "name": "THR",
            "count": 28
           },
           {
            "name": "5 others",
            "count": 72
           }
          ]
         }
        },
        {
         "name": "chainID",
         "dtype": "int64",
         "stats": {
          "unique_count": 1,
          "nan_count": 0,
          "min": "0",
          "max": "0",
          "histogram": [
           {
            "bin_start": -0.5,
            "bin_end": -0.4,
            "count": 0
           },
           {
            "bin_start": -0.4,
            "bin_end": -0.3,
            "count": 0
           },
           {
            "bin_start": -0.3,
            "bin_end": -0.19999999999999996,
            "count": 0
           },
           {
            "bin_start": -0.19999999999999996,
            "bin_end": -0.09999999999999998,
            "count": 0
           },
           {
            "bin_start": -0.09999999999999998,
            "bin_end": 0,
            "count": 0
           },
           {
            "bin_start": 0,
            "bin_end": 0.10000000000000009,
            "count": 166
           },
           {
            "bin_start": 0.10000000000000009,
            "bin_end": 0.20000000000000007,
            "count": 0
           },
           {
            "bin_start": 0.20000000000000007,
            "bin_end": 0.30000000000000004,
            "count": 0
           },
           {
            "bin_start": 0.30000000000000004,
            "bin_end": 0.4,
            "count": 0
           },
           {
            "bin_start": 0.4,
            "bin_end": 0.5,
            "count": 0
           }
          ]
         }
        },
        {
         "name": "segmentID",
         "dtype": "object",
         "stats": {
          "unique_count": 1,
          "nan_count": 0,
          "categories": [
           {
            "name": "",
            "count": 166
           }
          ]
         }
        },
        {
         "name": "_deepnote_index_column",
         "dtype": "int64"
        }
       ],
       "rows_top": [
        {
         "serial": 1,
         "name": "N",
         "element": "N",
         "resSeq": 1,
         "resName": "TYR",
         "chainID": 0,
         "segmentID": "",
         "_deepnote_index_column": 0
        },
        {
         "serial": 2,
         "name": "H",
         "element": "H",
         "resSeq": 1,
         "resName": "TYR",
         "chainID": 0,
         "segmentID": "",
         "_deepnote_index_column": 1
        },
        {
         "serial": 3,
         "name": "H2",
         "element": "H",
         "resSeq": 1,
         "resName": "TYR",
         "chainID": 0,
         "segmentID": "",
         "_deepnote_index_column": 2
        },
        {
         "serial": 4,
         "name": "H3",
         "element": "H",
         "resSeq": 1,
         "resName": "TYR",
         "chainID": 0,
         "segmentID": "",
         "_deepnote_index_column": 3
        },
        {
         "serial": 5,
         "name": "CA",
         "element": "C",
         "resSeq": 1,
         "resName": "TYR",
         "chainID": 0,
         "segmentID": "",
         "_deepnote_index_column": 4
        },
        {
         "serial": 6,
         "name": "HA",
         "element": "H",
         "resSeq": 1,
         "resName": "TYR",
         "chainID": 0,
         "segmentID": "",
         "_deepnote_index_column": 5
        },
        {
         "serial": 7,
         "name": "CB",
         "element": "C",
         "resSeq": 1,
         "resName": "TYR",
         "chainID": 0,
         "segmentID": "",
         "_deepnote_index_column": 6
        },
        {
         "serial": 8,
         "name": "HB3",
         "element": "H",
         "resSeq": 1,
         "resName": "TYR",
         "chainID": 0,
         "segmentID": "",
         "_deepnote_index_column": 7
        },
        {
         "serial": 9,
         "name": "HB2",
         "element": "H",
         "resSeq": 1,
         "resName": "TYR",
         "chainID": 0,
         "segmentID": "",
         "_deepnote_index_column": 8
        },
        {
         "serial": 10,
         "name": "CG",
         "element": "C",
         "resSeq": 1,
         "resName": "TYR",
         "chainID": 0,
         "segmentID": "",
         "_deepnote_index_column": 9
        },
        {
         "serial": 11,
         "name": "CD1",
         "element": "C",
         "resSeq": 1,
         "resName": "TYR",
         "chainID": 0,
         "segmentID": "",
         "_deepnote_index_column": 10
        },
        {
         "serial": 12,
         "name": "HD1",
         "element": "H",
         "resSeq": 1,
         "resName": "TYR",
         "chainID": 0,
         "segmentID": "",
         "_deepnote_index_column": 11
        },
        {
         "serial": 13,
         "name": "CE1",
         "element": "C",
         "resSeq": 1,
         "resName": "TYR",
         "chainID": 0,
         "segmentID": "",
         "_deepnote_index_column": 12
        },
        {
         "serial": 14,
         "name": "HE1",
         "element": "H",
         "resSeq": 1,
         "resName": "TYR",
         "chainID": 0,
         "segmentID": "",
         "_deepnote_index_column": 13
        },
        {
         "serial": 15,
         "name": "CZ",
         "element": "C",
         "resSeq": 1,
         "resName": "TYR",
         "chainID": 0,
         "segmentID": "",
         "_deepnote_index_column": 14
        },
        {
         "serial": 16,
         "name": "OH",
         "element": "O",
         "resSeq": 1,
         "resName": "TYR",
         "chainID": 0,
         "segmentID": "",
         "_deepnote_index_column": 15
        },
        {
         "serial": 17,
         "name": "HH",
         "element": "H",
         "resSeq": 1,
         "resName": "TYR",
         "chainID": 0,
         "segmentID": "",
         "_deepnote_index_column": 16
        },
        {
         "serial": 18,
         "name": "CD2",
         "element": "C",
         "resSeq": 1,
         "resName": "TYR",
         "chainID": 0,
         "segmentID": "",
         "_deepnote_index_column": 17
        },
        {
         "serial": 19,
         "name": "HD2",
         "element": "H",
         "resSeq": 1,
         "resName": "TYR",
         "chainID": 0,
         "segmentID": "",
         "_deepnote_index_column": 18
        },
        {
         "serial": 20,
         "name": "CE2",
         "element": "C",
         "resSeq": 1,
         "resName": "TYR",
         "chainID": 0,
         "segmentID": "",
         "_deepnote_index_column": 19
        },
        {
         "serial": 21,
         "name": "HE2",
         "element": "H",
         "resSeq": 1,
         "resName": "TYR",
         "chainID": 0,
         "segmentID": "",
         "_deepnote_index_column": 20
        },
        {
         "serial": 22,
         "name": "C",
         "element": "C",
         "resSeq": 1,
         "resName": "TYR",
         "chainID": 0,
         "segmentID": "",
         "_deepnote_index_column": 21
        },
        {
         "serial": 23,
         "name": "O",
         "element": "O",
         "resSeq": 1,
         "resName": "TYR",
         "chainID": 0,
         "segmentID": "",
         "_deepnote_index_column": 22
        },
        {
         "serial": 24,
         "name": "N",
         "element": "N",
         "resSeq": 2,
         "resName": "TYR",
         "chainID": 0,
         "segmentID": "",
         "_deepnote_index_column": 23
        },
        {
         "serial": 25,
         "name": "H",
         "element": "H",
         "resSeq": 2,
         "resName": "TYR",
         "chainID": 0,
         "segmentID": "",
         "_deepnote_index_column": 24
        },
        {
         "serial": 26,
         "name": "CA",
         "element": "C",
         "resSeq": 2,
         "resName": "TYR",
         "chainID": 0,
         "segmentID": "",
         "_deepnote_index_column": 25
        },
        {
         "serial": 27,
         "name": "HA",
         "element": "H",
         "resSeq": 2,
         "resName": "TYR",
         "chainID": 0,
         "segmentID": "",
         "_deepnote_index_column": 26
        },
        {
         "serial": 28,
         "name": "CB",
         "element": "C",
         "resSeq": 2,
         "resName": "TYR",
         "chainID": 0,
         "segmentID": "",
         "_deepnote_index_column": 27
        },
        {
         "serial": 29,
         "name": "HB3",
         "element": "H",
         "resSeq": 2,
         "resName": "TYR",
         "chainID": 0,
         "segmentID": "",
         "_deepnote_index_column": 28
        },
        {
         "serial": 30,
         "name": "HB2",
         "element": "H",
         "resSeq": 2,
         "resName": "TYR",
         "chainID": 0,
         "segmentID": "",
         "_deepnote_index_column": 29
        },
        {
         "serial": 31,
         "name": "CG",
         "element": "C",
         "resSeq": 2,
         "resName": "TYR",
         "chainID": 0,
         "segmentID": "",
         "_deepnote_index_column": 30
        },
        {
         "serial": 32,
         "name": "CD1",
         "element": "C",
         "resSeq": 2,
         "resName": "TYR",
         "chainID": 0,
         "segmentID": "",
         "_deepnote_index_column": 31
        },
        {
         "serial": 33,
         "name": "HD1",
         "element": "H",
         "resSeq": 2,
         "resName": "TYR",
         "chainID": 0,
         "segmentID": "",
         "_deepnote_index_column": 32
        },
        {
         "serial": 34,
         "name": "CE1",
         "element": "C",
         "resSeq": 2,
         "resName": "TYR",
         "chainID": 0,
         "segmentID": "",
         "_deepnote_index_column": 33
        },
        {
         "serial": 35,
         "name": "HE1",
         "element": "H",
         "resSeq": 2,
         "resName": "TYR",
         "chainID": 0,
         "segmentID": "",
         "_deepnote_index_column": 34
        },
        {
         "serial": 36,
         "name": "CZ",
         "element": "C",
         "resSeq": 2,
         "resName": "TYR",
         "chainID": 0,
         "segmentID": "",
         "_deepnote_index_column": 35
        },
        {
         "serial": 37,
         "name": "OH",
         "element": "O",
         "resSeq": 2,
         "resName": "TYR",
         "chainID": 0,
         "segmentID": "",
         "_deepnote_index_column": 36
        },
        {
         "serial": 38,
         "name": "HH",
         "element": "H",
         "resSeq": 2,
         "resName": "TYR",
         "chainID": 0,
         "segmentID": "",
         "_deepnote_index_column": 37
        },
        {
         "serial": 39,
         "name": "CD2",
         "element": "C",
         "resSeq": 2,
         "resName": "TYR",
         "chainID": 0,
         "segmentID": "",
         "_deepnote_index_column": 38
        },
        {
         "serial": 40,
         "name": "HD2",
         "element": "H",
         "resSeq": 2,
         "resName": "TYR",
         "chainID": 0,
         "segmentID": "",
         "_deepnote_index_column": 39
        },
        {
         "serial": 41,
         "name": "CE2",
         "element": "C",
         "resSeq": 2,
         "resName": "TYR",
         "chainID": 0,
         "segmentID": "",
         "_deepnote_index_column": 40
        },
        {
         "serial": 42,
         "name": "HE2",
         "element": "H",
         "resSeq": 2,
         "resName": "TYR",
         "chainID": 0,
         "segmentID": "",
         "_deepnote_index_column": 41
        },
        {
         "serial": 43,
         "name": "C",
         "element": "C",
         "resSeq": 2,
         "resName": "TYR",
         "chainID": 0,
         "segmentID": "",
         "_deepnote_index_column": 42
        },
        {
         "serial": 44,
         "name": "O",
         "element": "O",
         "resSeq": 2,
         "resName": "TYR",
         "chainID": 0,
         "segmentID": "",
         "_deepnote_index_column": 43
        },
        {
         "serial": 45,
         "name": "N",
         "element": "N",
         "resSeq": 3,
         "resName": "ASP",
         "chainID": 0,
         "segmentID": "",
         "_deepnote_index_column": 44
        },
        {
         "serial": 46,
         "name": "H",
         "element": "H",
         "resSeq": 3,
         "resName": "ASP",
         "chainID": 0,
         "segmentID": "",
         "_deepnote_index_column": 45
        },
        {
         "serial": 47,
         "name": "CA",
         "element": "C",
         "resSeq": 3,
         "resName": "ASP",
         "chainID": 0,
         "segmentID": "",
         "_deepnote_index_column": 46
        },
        {
         "serial": 48,
         "name": "HA",
         "element": "H",
         "resSeq": 3,
         "resName": "ASP",
         "chainID": 0,
         "segmentID": "",
         "_deepnote_index_column": 47
        },
        {
         "serial": 49,
         "name": "CB",
         "element": "C",
         "resSeq": 3,
         "resName": "ASP",
         "chainID": 0,
         "segmentID": "",
         "_deepnote_index_column": 48
        },
        {
         "serial": 50,
         "name": "HB3",
         "element": "H",
         "resSeq": 3,
         "resName": "ASP",
         "chainID": 0,
         "segmentID": "",
         "_deepnote_index_column": 49
        },
        {
         "serial": 51,
         "name": "HB2",
         "element": "H",
         "resSeq": 3,
         "resName": "ASP",
         "chainID": 0,
         "segmentID": "",
         "_deepnote_index_column": 50
        },
        {
         "serial": 52,
         "name": "CG",
         "element": "C",
         "resSeq": 3,
         "resName": "ASP",
         "chainID": 0,
         "segmentID": "",
         "_deepnote_index_column": 51
        },
        {
         "serial": 53,
         "name": "OD1",
         "element": "O",
         "resSeq": 3,
         "resName": "ASP",
         "chainID": 0,
         "segmentID": "",
         "_deepnote_index_column": 52
        },
        {
         "serial": 54,
         "name": "OD2",
         "element": "O",
         "resSeq": 3,
         "resName": "ASP",
         "chainID": 0,
         "segmentID": "",
         "_deepnote_index_column": 53
        },
        {
         "serial": 55,
         "name": "C",
         "element": "C",
         "resSeq": 3,
         "resName": "ASP",
         "chainID": 0,
         "segmentID": "",
         "_deepnote_index_column": 54
        },
        {
         "serial": 56,
         "name": "O",
         "element": "O",
         "resSeq": 3,
         "resName": "ASP",
         "chainID": 0,
         "segmentID": "",
         "_deepnote_index_column": 55
        },
        {
         "serial": 57,
         "name": "N",
         "element": "N",
         "resSeq": 4,
         "resName": "PRO",
         "chainID": 0,
         "segmentID": "",
         "_deepnote_index_column": 56
        },
        {
         "serial": 58,
         "name": "CD",
         "element": "C",
         "resSeq": 4,
         "resName": "PRO",
         "chainID": 0,
         "segmentID": "",
         "_deepnote_index_column": 57
        },
        {
         "serial": 59,
         "name": "HD3",
         "element": "H",
         "resSeq": 4,
         "resName": "PRO",
         "chainID": 0,
         "segmentID": "",
         "_deepnote_index_column": 58
        },
        {
         "serial": 60,
         "name": "HD2",
         "element": "H",
         "resSeq": 4,
         "resName": "PRO",
         "chainID": 0,
         "segmentID": "",
         "_deepnote_index_column": 59
        },
        {
         "serial": 61,
         "name": "CA",
         "element": "C",
         "resSeq": 4,
         "resName": "PRO",
         "chainID": 0,
         "segmentID": "",
         "_deepnote_index_column": 60
        },
        {
         "serial": 62,
         "name": "HA",
         "element": "H",
         "resSeq": 4,
         "resName": "PRO",
         "chainID": 0,
         "segmentID": "",
         "_deepnote_index_column": 61
        },
        {
         "serial": 63,
         "name": "CB",
         "element": "C",
         "resSeq": 4,
         "resName": "PRO",
         "chainID": 0,
         "segmentID": "",
         "_deepnote_index_column": 62
        },
        {
         "serial": 64,
         "name": "HB3",
         "element": "H",
         "resSeq": 4,
         "resName": "PRO",
         "chainID": 0,
         "segmentID": "",
         "_deepnote_index_column": 63
        },
        {
         "serial": 65,
         "name": "HB2",
         "element": "H",
         "resSeq": 4,
         "resName": "PRO",
         "chainID": 0,
         "segmentID": "",
         "_deepnote_index_column": 64
        },
        {
         "serial": 66,
         "name": "CG",
         "element": "C",
         "resSeq": 4,
         "resName": "PRO",
         "chainID": 0,
         "segmentID": "",
         "_deepnote_index_column": 65
        },
        {
         "serial": 67,
         "name": "HG3",
         "element": "H",
         "resSeq": 4,
         "resName": "PRO",
         "chainID": 0,
         "segmentID": "",
         "_deepnote_index_column": 66
        },
        {
         "serial": 68,
         "name": "HG2",
         "element": "H",
         "resSeq": 4,
         "resName": "PRO",
         "chainID": 0,
         "segmentID": "",
         "_deepnote_index_column": 67
        },
        {
         "serial": 69,
         "name": "C",
         "element": "C",
         "resSeq": 4,
         "resName": "PRO",
         "chainID": 0,
         "segmentID": "",
         "_deepnote_index_column": 68
        },
        {
         "serial": 70,
         "name": "O",
         "element": "O",
         "resSeq": 4,
         "resName": "PRO",
         "chainID": 0,
         "segmentID": "",
         "_deepnote_index_column": 69
        },
        {
         "serial": 71,
         "name": "N",
         "element": "N",
         "resSeq": 5,
         "resName": "GLU",
         "chainID": 0,
         "segmentID": "",
         "_deepnote_index_column": 70
        }
       ],
       "rows_bottom": [
        {
         "serial": 96,
         "name": "HG22",
         "element": "H",
         "resSeq": 6,
         "resName": "THR",
         "chainID": 0,
         "segmentID": "",
         "_deepnote_index_column": 95
        },
        {
         "serial": 97,
         "name": "HG23",
         "element": "H",
         "resSeq": 6,
         "resName": "THR",
         "chainID": 0,
         "segmentID": "",
         "_deepnote_index_column": 96
        },
        {
         "serial": 98,
         "name": "C",
         "element": "C",
         "resSeq": 6,
         "resName": "THR",
         "chainID": 0,
         "segmentID": "",
         "_deepnote_index_column": 97
        },
        {
         "serial": 99,
         "name": "O",
         "element": "O",
         "resSeq": 6,
         "resName": "THR",
         "chainID": 0,
         "segmentID": "",
         "_deepnote_index_column": 98
        },
        {
         "serial": 100,
         "name": "N",
         "element": "N",
         "resSeq": 7,
         "resName": "GLY",
         "chainID": 0,
         "segmentID": "",
         "_deepnote_index_column": 99
        },
        {
         "serial": 101,
         "name": "H",
         "element": "H",
         "resSeq": 7,
         "resName": "GLY",
         "chainID": 0,
         "segmentID": "",
         "_deepnote_index_column": 100
        },
        {
         "serial": 102,
         "name": "CA",
         "element": "C",
         "resSeq": 7,
         "resName": "GLY",
         "chainID": 0,
         "segmentID": "",
         "_deepnote_index_column": 101
        },
        {
         "serial": 103,
         "name": "HA3",
         "element": "H",
         "resSeq": 7,
         "resName": "GLY",
         "chainID": 0,
         "segmentID": "",
         "_deepnote_index_column": 102
        },
        {
         "serial": 104,
         "name": "HA2",
         "element": "H",
         "resSeq": 7,
         "resName": "GLY",
         "chainID": 0,
         "segmentID": "",
         "_deepnote_index_column": 103
        },
        {
         "serial": 105,
         "name": "C",
         "element": "C",
         "resSeq": 7,
         "resName": "GLY",
         "chainID": 0,
         "segmentID": "",
         "_deepnote_index_column": 104
        },
        {
         "serial": 106,
         "name": "O",
         "element": "O",
         "resSeq": 7,
         "resName": "GLY",
         "chainID": 0,
         "segmentID": "",
         "_deepnote_index_column": 105
        },
        {
         "serial": 107,
         "name": "N",
         "element": "N",
         "resSeq": 8,
         "resName": "THR",
         "chainID": 0,
         "segmentID": "",
         "_deepnote_index_column": 106
        },
        {
         "serial": 108,
         "name": "H",
         "element": "H",
         "resSeq": 8,
         "resName": "THR",
         "chainID": 0,
         "segmentID": "",
         "_deepnote_index_column": 107
        },
        {
         "serial": 109,
         "name": "CA",
         "element": "C",
         "resSeq": 8,
         "resName": "THR",
         "chainID": 0,
         "segmentID": "",
         "_deepnote_index_column": 108
        },
        {
         "serial": 110,
         "name": "HA",
         "element": "H",
         "resSeq": 8,
         "resName": "THR",
         "chainID": 0,
         "segmentID": "",
         "_deepnote_index_column": 109
        },
        {
         "serial": 111,
         "name": "CB",
         "element": "C",
         "resSeq": 8,
         "resName": "THR",
         "chainID": 0,
         "segmentID": "",
         "_deepnote_index_column": 110
        },
        {
         "serial": 112,
         "name": "HB",
         "element": "H",
         "resSeq": 8,
         "resName": "THR",
         "chainID": 0,
         "segmentID": "",
         "_deepnote_index_column": 111
        },
        {
         "serial": 113,
         "name": "OG1",
         "element": "O",
         "resSeq": 8,
         "resName": "THR",
         "chainID": 0,
         "segmentID": "",
         "_deepnote_index_column": 112
        },
        {
         "serial": 114,
         "name": "HG1",
         "element": "H",
         "resSeq": 8,
         "resName": "THR",
         "chainID": 0,
         "segmentID": "",
         "_deepnote_index_column": 113
        },
        {
         "serial": 115,
         "name": "CG2",
         "element": "C",
         "resSeq": 8,
         "resName": "THR",
         "chainID": 0,
         "segmentID": "",
         "_deepnote_index_column": 114
        },
        {
         "serial": 116,
         "name": "HG21",
         "element": "H",
         "resSeq": 8,
         "resName": "THR",
         "chainID": 0,
         "segmentID": "",
         "_deepnote_index_column": 115
        },
        {
         "serial": 117,
         "name": "HG22",
         "element": "H",
         "resSeq": 8,
         "resName": "THR",
         "chainID": 0,
         "segmentID": "",
         "_deepnote_index_column": 116
        },
        {
         "serial": 118,
         "name": "HG23",
         "element": "H",
         "resSeq": 8,
         "resName": "THR",
         "chainID": 0,
         "segmentID": "",
         "_deepnote_index_column": 117
        },
        {
         "serial": 119,
         "name": "C",
         "element": "C",
         "resSeq": 8,
         "resName": "THR",
         "chainID": 0,
         "segmentID": "",
         "_deepnote_index_column": 118
        },
        {
         "serial": 120,
         "name": "O",
         "element": "O",
         "resSeq": 8,
         "resName": "THR",
         "chainID": 0,
         "segmentID": "",
         "_deepnote_index_column": 119
        },
        {
         "serial": 121,
         "name": "N",
         "element": "N",
         "resSeq": 9,
         "resName": "TRP",
         "chainID": 0,
         "segmentID": "",
         "_deepnote_index_column": 120
        },
        {
         "serial": 122,
         "name": "H",
         "element": "H",
         "resSeq": 9,
         "resName": "TRP",
         "chainID": 0,
         "segmentID": "",
         "_deepnote_index_column": 121
        },
        {
         "serial": 123,
         "name": "CA",
         "element": "C",
         "resSeq": 9,
         "resName": "TRP",
         "chainID": 0,
         "segmentID": "",
         "_deepnote_index_column": 122
        },
        {
         "serial": 124,
         "name": "HA",
         "element": "H",
         "resSeq": 9,
         "resName": "TRP",
         "chainID": 0,
         "segmentID": "",
         "_deepnote_index_column": 123
        },
        {
         "serial": 125,
         "name": "CB",
         "element": "C",
         "resSeq": 9,
         "resName": "TRP",
         "chainID": 0,
         "segmentID": "",
         "_deepnote_index_column": 124
        },
        {
         "serial": 126,
         "name": "HB3",
         "element": "H",
         "resSeq": 9,
         "resName": "TRP",
         "chainID": 0,
         "segmentID": "",
         "_deepnote_index_column": 125
        },
        {
         "serial": 127,
         "name": "HB2",
         "element": "H",
         "resSeq": 9,
         "resName": "TRP",
         "chainID": 0,
         "segmentID": "",
         "_deepnote_index_column": 126
        },
        {
         "serial": 128,
         "name": "CG",
         "element": "C",
         "resSeq": 9,
         "resName": "TRP",
         "chainID": 0,
         "segmentID": "",
         "_deepnote_index_column": 127
        },
        {
         "serial": 129,
         "name": "CD1",
         "element": "C",
         "resSeq": 9,
         "resName": "TRP",
         "chainID": 0,
         "segmentID": "",
         "_deepnote_index_column": 128
        },
        {
         "serial": 130,
         "name": "HD1",
         "element": "H",
         "resSeq": 9,
         "resName": "TRP",
         "chainID": 0,
         "segmentID": "",
         "_deepnote_index_column": 129
        },
        {
         "serial": 131,
         "name": "NE1",
         "element": "N",
         "resSeq": 9,
         "resName": "TRP",
         "chainID": 0,
         "segmentID": "",
         "_deepnote_index_column": 130
        },
        {
         "serial": 132,
         "name": "HE1",
         "element": "H",
         "resSeq": 9,
         "resName": "TRP",
         "chainID": 0,
         "segmentID": "",
         "_deepnote_index_column": 131
        },
        {
         "serial": 133,
         "name": "CE2",
         "element": "C",
         "resSeq": 9,
         "resName": "TRP",
         "chainID": 0,
         "segmentID": "",
         "_deepnote_index_column": 132
        },
        {
         "serial": 134,
         "name": "CD2",
         "element": "C",
         "resSeq": 9,
         "resName": "TRP",
         "chainID": 0,
         "segmentID": "",
         "_deepnote_index_column": 133
        },
        {
         "serial": 135,
         "name": "CE3",
         "element": "C",
         "resSeq": 9,
         "resName": "TRP",
         "chainID": 0,
         "segmentID": "",
         "_deepnote_index_column": 134
        },
        {
         "serial": 136,
         "name": "HE3",
         "element": "H",
         "resSeq": 9,
         "resName": "TRP",
         "chainID": 0,
         "segmentID": "",
         "_deepnote_index_column": 135
        },
        {
         "serial": 137,
         "name": "CZ3",
         "element": "C",
         "resSeq": 9,
         "resName": "TRP",
         "chainID": 0,
         "segmentID": "",
         "_deepnote_index_column": 136
        },
        {
         "serial": 138,
         "name": "HZ3",
         "element": "H",
         "resSeq": 9,
         "resName": "TRP",
         "chainID": 0,
         "segmentID": "",
         "_deepnote_index_column": 137
        },
        {
         "serial": 139,
         "name": "CZ2",
         "element": "C",
         "resSeq": 9,
         "resName": "TRP",
         "chainID": 0,
         "segmentID": "",
         "_deepnote_index_column": 138
        },
        {
         "serial": 140,
         "name": "HZ2",
         "element": "H",
         "resSeq": 9,
         "resName": "TRP",
         "chainID": 0,
         "segmentID": "",
         "_deepnote_index_column": 139
        },
        {
         "serial": 141,
         "name": "CH2",
         "element": "C",
         "resSeq": 9,
         "resName": "TRP",
         "chainID": 0,
         "segmentID": "",
         "_deepnote_index_column": 140
        },
        {
         "serial": 142,
         "name": "HH2",
         "element": "H",
         "resSeq": 9,
         "resName": "TRP",
         "chainID": 0,
         "segmentID": "",
         "_deepnote_index_column": 141
        },
        {
         "serial": 143,
         "name": "C",
         "element": "C",
         "resSeq": 9,
         "resName": "TRP",
         "chainID": 0,
         "segmentID": "",
         "_deepnote_index_column": 142
        },
        {
         "serial": 144,
         "name": "O",
         "element": "O",
         "resSeq": 9,
         "resName": "TRP",
         "chainID": 0,
         "segmentID": "",
         "_deepnote_index_column": 143
        },
        {
         "serial": 145,
         "name": "C",
         "element": "C",
         "resSeq": 10,
         "resName": "TYR",
         "chainID": 0,
         "segmentID": "",
         "_deepnote_index_column": 144
        },
        {
         "serial": 146,
         "name": "O",
         "element": "O",
         "resSeq": 10,
         "resName": "TYR",
         "chainID": 0,
         "segmentID": "",
         "_deepnote_index_column": 145
        },
        {
         "serial": 147,
         "name": "OXT",
         "element": "O",
         "resSeq": 10,
         "resName": "TYR",
         "chainID": 0,
         "segmentID": "",
         "_deepnote_index_column": 146
        },
        {
         "serial": 148,
         "name": "N",
         "element": "N",
         "resSeq": 10,
         "resName": "TYR",
         "chainID": 0,
         "segmentID": "",
         "_deepnote_index_column": 147
        },
        {
         "serial": 149,
         "name": "H",
         "element": "H",
         "resSeq": 10,
         "resName": "TYR",
         "chainID": 0,
         "segmentID": "",
         "_deepnote_index_column": 148
        },
        {
         "serial": 150,
         "name": "CA",
         "element": "C",
         "resSeq": 10,
         "resName": "TYR",
         "chainID": 0,
         "segmentID": "",
         "_deepnote_index_column": 149
        },
        {
         "serial": 151,
         "name": "HA",
         "element": "H",
         "resSeq": 10,
         "resName": "TYR",
         "chainID": 0,
         "segmentID": "",
         "_deepnote_index_column": 150
        },
        {
         "serial": 152,
         "name": "CB",
         "element": "C",
         "resSeq": 10,
         "resName": "TYR",
         "chainID": 0,
         "segmentID": "",
         "_deepnote_index_column": 151
        },
        {
         "serial": 153,
         "name": "HB3",
         "element": "H",
         "resSeq": 10,
         "resName": "TYR",
         "chainID": 0,
         "segmentID": "",
         "_deepnote_index_column": 152
        },
        {
         "serial": 154,
         "name": "HB2",
         "element": "H",
         "resSeq": 10,
         "resName": "TYR",
         "chainID": 0,
         "segmentID": "",
         "_deepnote_index_column": 153
        },
        {
         "serial": 155,
         "name": "CG",
         "element": "C",
         "resSeq": 10,
         "resName": "TYR",
         "chainID": 0,
         "segmentID": "",
         "_deepnote_index_column": 154
        },
        {
         "serial": 156,
         "name": "CD1",
         "element": "C",
         "resSeq": 10,
         "resName": "TYR",
         "chainID": 0,
         "segmentID": "",
         "_deepnote_index_column": 155
        },
        {
         "serial": 157,
         "name": "HD1",
         "element": "H",
         "resSeq": 10,
         "resName": "TYR",
         "chainID": 0,
         "segmentID": "",
         "_deepnote_index_column": 156
        },
        {
         "serial": 158,
         "name": "CE1",
         "element": "C",
         "resSeq": 10,
         "resName": "TYR",
         "chainID": 0,
         "segmentID": "",
         "_deepnote_index_column": 157
        },
        {
         "serial": 159,
         "name": "HE1",
         "element": "H",
         "resSeq": 10,
         "resName": "TYR",
         "chainID": 0,
         "segmentID": "",
         "_deepnote_index_column": 158
        },
        {
         "serial": 160,
         "name": "CZ",
         "element": "C",
         "resSeq": 10,
         "resName": "TYR",
         "chainID": 0,
         "segmentID": "",
         "_deepnote_index_column": 159
        },
        {
         "serial": 161,
         "name": "OH",
         "element": "O",
         "resSeq": 10,
         "resName": "TYR",
         "chainID": 0,
         "segmentID": "",
         "_deepnote_index_column": 160
        },
        {
         "serial": 162,
         "name": "HH",
         "element": "H",
         "resSeq": 10,
         "resName": "TYR",
         "chainID": 0,
         "segmentID": "",
         "_deepnote_index_column": 161
        },
        {
         "serial": 163,
         "name": "CD2",
         "element": "C",
         "resSeq": 10,
         "resName": "TYR",
         "chainID": 0,
         "segmentID": "",
         "_deepnote_index_column": 162
        },
        {
         "serial": 164,
         "name": "HD2",
         "element": "H",
         "resSeq": 10,
         "resName": "TYR",
         "chainID": 0,
         "segmentID": "",
         "_deepnote_index_column": 163
        },
        {
         "serial": 165,
         "name": "CE2",
         "element": "C",
         "resSeq": 10,
         "resName": "TYR",
         "chainID": 0,
         "segmentID": "",
         "_deepnote_index_column": 164
        },
        {
         "serial": 166,
         "name": "HE2",
         "element": "H",
         "resSeq": 10,
         "resName": "TYR",
         "chainID": 0,
         "segmentID": "",
         "_deepnote_index_column": 165
        }
       ]
      },
      "text/plain": "     serial name element  resSeq resName  chainID segmentID\n0         1    N       N       1     TYR        0          \n1         2    H       H       1     TYR        0          \n2         3   H2       H       1     TYR        0          \n3         4   H3       H       1     TYR        0          \n4         5   CA       C       1     TYR        0          \n..      ...  ...     ...     ...     ...      ...       ...\n161     162   HH       H      10     TYR        0          \n162     163  CD2       C      10     TYR        0          \n163     164  HD2       H      10     TYR        0          \n164     165  CE2       C      10     TYR        0          \n165     166  HE2       H      10     TYR        0          \n\n[166 rows x 7 columns]",
      "text/html": "<div>\n<style scoped>\n    .dataframe tbody tr th:only-of-type {\n        vertical-align: middle;\n    }\n\n    .dataframe tbody tr th {\n        vertical-align: top;\n    }\n\n    .dataframe thead th {\n        text-align: right;\n    }\n</style>\n<table border=\"1\" class=\"dataframe\">\n  <thead>\n    <tr style=\"text-align: right;\">\n      <th></th>\n      <th>serial</th>\n      <th>name</th>\n      <th>element</th>\n      <th>resSeq</th>\n      <th>resName</th>\n      <th>chainID</th>\n      <th>segmentID</th>\n    </tr>\n  </thead>\n  <tbody>\n    <tr>\n      <th>0</th>\n      <td>1</td>\n      <td>N</td>\n      <td>N</td>\n      <td>1</td>\n      <td>TYR</td>\n      <td>0</td>\n      <td></td>\n    </tr>\n    <tr>\n      <th>1</th>\n      <td>2</td>\n      <td>H</td>\n      <td>H</td>\n      <td>1</td>\n      <td>TYR</td>\n      <td>0</td>\n      <td></td>\n    </tr>\n    <tr>\n      <th>2</th>\n      <td>3</td>\n      <td>H2</td>\n      <td>H</td>\n      <td>1</td>\n      <td>TYR</td>\n      <td>0</td>\n      <td></td>\n    </tr>\n    <tr>\n      <th>3</th>\n      <td>4</td>\n      <td>H3</td>\n      <td>H</td>\n      <td>1</td>\n      <td>TYR</td>\n      <td>0</td>\n      <td></td>\n    </tr>\n    <tr>\n      <th>4</th>\n      <td>5</td>\n      <td>CA</td>\n      <td>C</td>\n      <td>1</td>\n      <td>TYR</td>\n      <td>0</td>\n      <td></td>\n    </tr>\n    <tr>\n      <th>...</th>\n      <td>...</td>\n      <td>...</td>\n      <td>...</td>\n      <td>...</td>\n      <td>...</td>\n      <td>...</td>\n      <td>...</td>\n    </tr>\n    <tr>\n      <th>161</th>\n      <td>162</td>\n      <td>HH</td>\n      <td>H</td>\n      <td>10</td>\n      <td>TYR</td>\n      <td>0</td>\n      <td></td>\n    </tr>\n    <tr>\n      <th>162</th>\n      <td>163</td>\n      <td>CD2</td>\n      <td>C</td>\n      <td>10</td>\n      <td>TYR</td>\n      <td>0</td>\n      <td></td>\n    </tr>\n    <tr>\n      <th>163</th>\n      <td>164</td>\n      <td>HD2</td>\n      <td>H</td>\n      <td>10</td>\n      <td>TYR</td>\n      <td>0</td>\n      <td></td>\n    </tr>\n    <tr>\n      <th>164</th>\n      <td>165</td>\n      <td>CE2</td>\n      <td>C</td>\n      <td>10</td>\n      <td>TYR</td>\n      <td>0</td>\n      <td></td>\n    </tr>\n    <tr>\n      <th>165</th>\n      <td>166</td>\n      <td>HE2</td>\n      <td>H</td>\n      <td>10</td>\n      <td>TYR</td>\n      <td>0</td>\n      <td></td>\n    </tr>\n  </tbody>\n</table>\n<p>166 rows × 7 columns</p>\n</div>"
     },
     "metadata": {}
    }
   ]
  },
  {
   "cell_type": "markdown",
   "source": "### Load COLVAR (aka COLlective VARiables)",
   "metadata": {
    "tags": [],
    "cell_id": "00004-51e14107-5126-4d21-b6c2-065604e67062",
    "is_collapsed": false,
    "deepnote_cell_type": "text-cell-h3"
   }
  },
  {
   "cell_type": "code",
   "metadata": {
    "tags": [],
    "cell_id": "00004-b817bcf8-8367-447b-9fac-c61a80cafb07",
    "deepnote_to_be_reexecuted": false,
    "source_hash": "3c3fb1f6",
    "execution_start": 1626780724165,
    "execution_millis": 1298,
    "deepnote_cell_type": "code"
   },
   "source": "filename=folder + 'COLVAR' \n\ntica1_label = 'deep.node-4'\ntica2_label = 'deep.node-3'\n\nheaders = pd.read_csv(filename,sep=' ',skipinitialspace=True, nrows=0).columns[2:]\ncolvar = pd.read_csv(filename,sep=' ',skipinitialspace=True, header=None,skiprows=1,names=headers,comment='#')  \n\ncolvar = colvar.iloc[::stride, :]\ncolvar.index = np.arange(len(colvar))\n\ncolvar",
   "execution_count": 4,
   "outputs": [
    {
     "output_type": "execute_result",
     "execution_count": 4,
     "data": {
      "application/vnd.deepnote.dataframe.v2+json": {
       "row_count": 52475,
       "column_count": 9,
       "columns": [
        {
         "name": "time",
         "dtype": "float64",
         "stats": {
          "unique_count": 52475,
          "nan_count": 0,
          "min": "0.0",
          "max": "524740.0",
          "histogram": [
           {
            "bin_start": 0,
            "bin_end": 52474,
            "count": 5248
           },
           {
            "bin_start": 52474,
            "bin_end": 104948,
            "count": 5247
           },
           {
            "bin_start": 104948,
            "bin_end": 157422,
            "count": 5248
           },
           {
            "bin_start": 157422,
            "bin_end": 209896,
            "count": 5247
           },
           {
            "bin_start": 209896,
            "bin_end": 262370,
            "count": 5247
           },
           {
            "bin_start": 262370,
            "bin_end": 314844,
            "count": 5248
           },
           {
            "bin_start": 314844,
            "bin_end": 367318,
            "count": 5247
           },
           {
            "bin_start": 367318,
            "bin_end": 419792,
            "count": 5248
           },
           {
            "bin_start": 419792,
            "bin_end": 472266,
            "count": 5247
           },
           {
            "bin_start": 472266,
            "bin_end": 524740,
            "count": 5248
           }
          ]
         }
        },
        {
         "name": "rmsd_ca",
         "dtype": "float64"
        },
        {
         "name": "end",
         "dtype": "float64"
        },
        {
         "name": "hbonds",
         "dtype": "float64"
        },
        {
         "name": "deep.node-0",
         "dtype": "float64"
        },
        {
         "name": "deep.node-1",
         "dtype": "float64"
        },
        {
         "name": "deep.node-2",
         "dtype": "float64"
        },
        {
         "name": "deep.node-3",
         "dtype": "float64"
        },
        {
         "name": "deep.node-4",
         "dtype": "float64"
        },
        {
         "name": "_deepnote_index_column",
         "dtype": "int64"
        }
       ],
       "rows_top": [
        {
         "time": 0,
         "rmsd_ca": 0.067477,
         "end": 0.500523,
         "hbonds": 3.515683,
         "deep.node-0": 0.156591,
         "deep.node-1": 0.269741,
         "deep.node-2": -0.503362,
         "deep.node-3": -0.76936,
         "deep.node-4": 0.860714,
         "_deepnote_index_column": 0
        },
        {
         "time": 10,
         "rmsd_ca": 0.040256,
         "end": 0.516848,
         "hbonds": 3.607478,
         "deep.node-0": -0.163258,
         "deep.node-1": 0.031106,
         "deep.node-2": 0.738618,
         "deep.node-3": -0.639663,
         "deep.node-4": 0.860408,
         "_deepnote_index_column": 1
        },
        {
         "time": 20,
         "rmsd_ca": 0.062648,
         "end": 0.460648,
         "hbonds": 3.625588,
         "deep.node-0": -0.114638,
         "deep.node-1": 0.244315,
         "deep.node-2": 0.888992,
         "deep.node-3": -0.485358,
         "deep.node-4": 0.901081,
         "_deepnote_index_column": 2
        },
        {
         "time": 30,
         "rmsd_ca": 0.067292,
         "end": 0.490304,
         "hbonds": 3.519522,
         "deep.node-0": -0.082365,
         "deep.node-1": -0.005303,
         "deep.node-2": -0.405775,
         "deep.node-3": -0.523814,
         "deep.node-4": 0.901542,
         "_deepnote_index_column": 3
        },
        {
         "time": 40,
         "rmsd_ca": 0.065588,
         "end": 0.487023,
         "hbonds": 3.634205,
         "deep.node-0": 0.348991,
         "deep.node-1": -0.240763,
         "deep.node-2": -0.353688,
         "deep.node-3": -0.58635,
         "deep.node-4": 0.871337,
         "_deepnote_index_column": 4
        },
        {
         "time": 50,
         "rmsd_ca": 0.050351,
         "end": 0.569474,
         "hbonds": 3.618844,
         "deep.node-0": 0.030831,
         "deep.node-1": -0.184169,
         "deep.node-2": -0.432056,
         "deep.node-3": -0.660682,
         "deep.node-4": 0.723143,
         "_deepnote_index_column": 5
        },
        {
         "time": 60,
         "rmsd_ca": 0.059429,
         "end": 0.506555,
         "hbonds": 3.648905,
         "deep.node-0": -0.13055,
         "deep.node-1": 0.031022,
         "deep.node-2": -0.618396,
         "deep.node-3": -0.74449,
         "deep.node-4": 0.893823,
         "_deepnote_index_column": 6
        },
        {
         "time": 70,
         "rmsd_ca": 0.081524,
         "end": 0.515847,
         "hbonds": 3.26413,
         "deep.node-0": 0.058845,
         "deep.node-1": 0.338158,
         "deep.node-2": -0.779354,
         "deep.node-3": -0.030481,
         "deep.node-4": 0.860388,
         "_deepnote_index_column": 7
        },
        {
         "time": 80,
         "rmsd_ca": 0.063697,
         "end": 0.555067,
         "hbonds": 3.596076,
         "deep.node-0": 0.160606,
         "deep.node-1": 0.428127,
         "deep.node-2": -0.839308,
         "deep.node-3": 0.582165,
         "deep.node-4": 0.831578,
         "_deepnote_index_column": 8
        },
        {
         "time": 90,
         "rmsd_ca": 0.079833,
         "end": 0.51067,
         "hbonds": 3.415074,
         "deep.node-0": 0.1088,
         "deep.node-1": -0.387017,
         "deep.node-2": -0.562285,
         "deep.node-3": 0.107668,
         "deep.node-4": 0.786426,
         "_deepnote_index_column": 9
        },
        {
         "time": 100,
         "rmsd_ca": 0.107275,
         "end": 0.548823,
         "hbonds": 3.549887,
         "deep.node-0": -0.099905,
         "deep.node-1": -0.42316,
         "deep.node-2": -0.537948,
         "deep.node-3": 0.000951,
         "deep.node-4": 0.834154,
         "_deepnote_index_column": 10
        },
        {
         "time": 110,
         "rmsd_ca": 0.095716,
         "end": 0.486244,
         "hbonds": 3.559506,
         "deep.node-0": -0.110188,
         "deep.node-1": -0.037942,
         "deep.node-2": -0.801729,
         "deep.node-3": -0.073777,
         "deep.node-4": 0.793225,
         "_deepnote_index_column": 11
        },
        {
         "time": 120,
         "rmsd_ca": 0.06066,
         "end": 0.514827,
         "hbonds": 3.653834,
         "deep.node-0": 0.20656,
         "deep.node-1": 0.087928,
         "deep.node-2": -0.535421,
         "deep.node-3": -0.77627,
         "deep.node-4": 0.894112,
         "_deepnote_index_column": 12
        },
        {
         "time": 130,
         "rmsd_ca": 0.044734,
         "end": 0.479792,
         "hbonds": 3.647885,
         "deep.node-0": 0.073964,
         "deep.node-1": 0.154191,
         "deep.node-2": -0.570574,
         "deep.node-3": -0.676289,
         "deep.node-4": 0.908443,
         "_deepnote_index_column": 13
        },
        {
         "time": 140,
         "rmsd_ca": 0.043557,
         "end": 0.492869,
         "hbonds": 3.636897,
         "deep.node-0": -0.04418,
         "deep.node-1": 0.21369,
         "deep.node-2": -0.594694,
         "deep.node-3": -0.791294,
         "deep.node-4": 0.958013,
         "_deepnote_index_column": 14
        },
        {
         "time": 150,
         "rmsd_ca": 0.039031,
         "end": 0.470183,
         "hbonds": 3.577198,
         "deep.node-0": -0.00245,
         "deep.node-1": 0.204794,
         "deep.node-2": -0.555795,
         "deep.node-3": -0.685986,
         "deep.node-4": 0.937183,
         "_deepnote_index_column": 15
        },
        {
         "time": 160,
         "rmsd_ca": 0.058903,
         "end": 0.508192,
         "hbonds": 3.620293,
         "deep.node-0": -0.16121,
         "deep.node-1": 0.132792,
         "deep.node-2": 0.795867,
         "deep.node-3": -0.563031,
         "deep.node-4": 0.920025,
         "_deepnote_index_column": 16
        },
        {
         "time": 170,
         "rmsd_ca": 0.073343,
         "end": 0.492366,
         "hbonds": 3.224751,
         "deep.node-0": -0.040607,
         "deep.node-1": 0.395493,
         "deep.node-2": 0.747319,
         "deep.node-3": -0.638124,
         "deep.node-4": 0.891142,
         "_deepnote_index_column": 17
        },
        {
         "time": 180,
         "rmsd_ca": 0.048085,
         "end": 0.494158,
         "hbonds": 3.693659,
         "deep.node-0": 0.158867,
         "deep.node-1": 0.312876,
         "deep.node-2": 0.800644,
         "deep.node-3": -0.544118,
         "deep.node-4": 0.900307,
         "_deepnote_index_column": 18
        },
        {
         "time": 190,
         "rmsd_ca": 0.048256,
         "end": 0.456873,
         "hbonds": 3.559156,
         "deep.node-0": 0.108492,
         "deep.node-1": 0.277404,
         "deep.node-2": 0.716685,
         "deep.node-3": -0.676267,
         "deep.node-4": 0.912831,
         "_deepnote_index_column": 19
        },
        {
         "time": 200,
         "rmsd_ca": 0.055349,
         "end": 0.504914,
         "hbonds": 3.576088,
         "deep.node-0": 0.151266,
         "deep.node-1": -0.149849,
         "deep.node-2": 0.841402,
         "deep.node-3": -0.592976,
         "deep.node-4": 0.880016,
         "_deepnote_index_column": 20
        },
        {
         "time": 210,
         "rmsd_ca": 0.061316,
         "end": 0.509217,
         "hbonds": 3.547881,
         "deep.node-0": 0.209141,
         "deep.node-1": -0.11517,
         "deep.node-2": 0.852168,
         "deep.node-3": -0.423698,
         "deep.node-4": 0.853693,
         "_deepnote_index_column": 21
        },
        {
         "time": 220,
         "rmsd_ca": 0.073537,
         "end": 0.502452,
         "hbonds": 3.484399,
         "deep.node-0": 0.007732,
         "deep.node-1": 0.032459,
         "deep.node-2": 0.754581,
         "deep.node-3": -0.639514,
         "deep.node-4": 0.869417,
         "_deepnote_index_column": 22
        },
        {
         "time": 230,
         "rmsd_ca": 0.051125,
         "end": 0.500257,
         "hbonds": 3.647237,
         "deep.node-0": -0.211324,
         "deep.node-1": 0.381857,
         "deep.node-2": 0.732031,
         "deep.node-3": -0.59846,
         "deep.node-4": 0.960892,
         "_deepnote_index_column": 23
        },
        {
         "time": 240,
         "rmsd_ca": 0.124849,
         "end": 0.532415,
         "hbonds": 3.477528,
         "deep.node-0": 0.34156,
         "deep.node-1": -0.138695,
         "deep.node-2": -0.096536,
         "deep.node-3": -0.640904,
         "deep.node-4": 0.760775,
         "_deepnote_index_column": 24
        },
        {
         "time": 250,
         "rmsd_ca": 0.064743,
         "end": 0.483878,
         "hbonds": 3.439813,
         "deep.node-0": 0.32388,
         "deep.node-1": -0.173039,
         "deep.node-2": 0.871938,
         "deep.node-3": -0.378292,
         "deep.node-4": 0.87202,
         "_deepnote_index_column": 25
        },
        {
         "time": 260,
         "rmsd_ca": 0.047702,
         "end": 0.487527,
         "hbonds": 3.597752,
         "deep.node-0": 0.059936,
         "deep.node-1": 0.223079,
         "deep.node-2": 0.873306,
         "deep.node-3": -0.692732,
         "deep.node-4": 0.926771,
         "_deepnote_index_column": 26
        },
        {
         "time": 270,
         "rmsd_ca": 0.081919,
         "end": 0.509129,
         "hbonds": 3.571071,
         "deep.node-0": 0.062312,
         "deep.node-1": -0.33095,
         "deep.node-2": 0.47108,
         "deep.node-3": -0.11598,
         "deep.node-4": 0.821489,
         "_deepnote_index_column": 27
        },
        {
         "time": 280,
         "rmsd_ca": 0.056059,
         "end": 0.510615,
         "hbonds": 3.533969,
         "deep.node-0": 0.329889,
         "deep.node-1": -0.03403,
         "deep.node-2": 0.205303,
         "deep.node-3": -0.560014,
         "deep.node-4": 0.77153,
         "_deepnote_index_column": 28
        },
        {
         "time": 290,
         "rmsd_ca": 0.046607,
         "end": 0.506829,
         "hbonds": 3.631704,
         "deep.node-0": -0.073563,
         "deep.node-1": 0.353214,
         "deep.node-2": 0.817445,
         "deep.node-3": -0.652799,
         "deep.node-4": 0.901773,
         "_deepnote_index_column": 29
        },
        {
         "time": 300,
         "rmsd_ca": 0.058707,
         "end": 0.528834,
         "hbonds": 3.584136,
         "deep.node-0": -0.104121,
         "deep.node-1": 0.294404,
         "deep.node-2": -0.497918,
         "deep.node-3": -0.71775,
         "deep.node-4": 0.886608,
         "_deepnote_index_column": 30
        },
        {
         "time": 310,
         "rmsd_ca": 0.104015,
         "end": 0.518935,
         "hbonds": 3.504036,
         "deep.node-0": 0.288206,
         "deep.node-1": -0.258195,
         "deep.node-2": 0.141886,
         "deep.node-3": -0.5591,
         "deep.node-4": 0.729188,
         "_deepnote_index_column": 31
        },
        {
         "time": 320,
         "rmsd_ca": 0.051677,
         "end": 0.52379,
         "hbonds": 3.539383,
         "deep.node-0": 0.117718,
         "deep.node-1": -0.400684,
         "deep.node-2": -0.374968,
         "deep.node-3": -0.540402,
         "deep.node-4": 0.810643,
         "_deepnote_index_column": 32
        },
        {
         "time": 330,
         "rmsd_ca": 0.063607,
         "end": 0.507935,
         "hbonds": 3.651834,
         "deep.node-0": 0.004465,
         "deep.node-1": 0.092366,
         "deep.node-2": -0.573037,
         "deep.node-3": -0.700834,
         "deep.node-4": 0.847726,
         "_deepnote_index_column": 33
        },
        {
         "time": 340,
         "rmsd_ca": 0.099549,
         "end": 0.459031,
         "hbonds": 3.277858,
         "deep.node-0": 0.186926,
         "deep.node-1": -0.02115,
         "deep.node-2": -0.727414,
         "deep.node-3": -0.178015,
         "deep.node-4": 0.758053,
         "_deepnote_index_column": 34
        },
        {
         "time": 350,
         "rmsd_ca": 0.041269,
         "end": 0.498206,
         "hbonds": 3.640997,
         "deep.node-0": 0.012662,
         "deep.node-1": 0.213277,
         "deep.node-2": -0.608699,
         "deep.node-3": -0.843145,
         "deep.node-4": 0.947208,
         "_deepnote_index_column": 35
        },
        {
         "time": 360,
         "rmsd_ca": 0.058751,
         "end": 0.472378,
         "hbonds": 3.608555,
         "deep.node-0": 0.21253,
         "deep.node-1": 0.127473,
         "deep.node-2": -0.535575,
         "deep.node-3": -0.740727,
         "deep.node-4": 0.884179,
         "_deepnote_index_column": 36
        },
        {
         "time": 370,
         "rmsd_ca": 0.057967,
         "end": 0.524505,
         "hbonds": 3.607045,
         "deep.node-0": -0.051304,
         "deep.node-1": 0.061478,
         "deep.node-2": -0.59383,
         "deep.node-3": -0.721598,
         "deep.node-4": 0.912296,
         "_deepnote_index_column": 37
        },
        {
         "time": 380,
         "rmsd_ca": 0.059748,
         "end": 0.517828,
         "hbonds": 3.641203,
         "deep.node-0": -0.197188,
         "deep.node-1": -0.01921,
         "deep.node-2": -0.407744,
         "deep.node-3": -0.673038,
         "deep.node-4": 0.924361,
         "_deepnote_index_column": 38
        },
        {
         "time": 390,
         "rmsd_ca": 0.055443,
         "end": 0.513286,
         "hbonds": 3.68034,
         "deep.node-0": 0.249573,
         "deep.node-1": -0.192519,
         "deep.node-2": 0.786067,
         "deep.node-3": -0.577315,
         "deep.node-4": 0.861948,
         "_deepnote_index_column": 39
        },
        {
         "time": 400,
         "rmsd_ca": 0.079539,
         "end": 0.511143,
         "hbonds": 3.412412,
         "deep.node-0": 0.161417,
         "deep.node-1": 0.309681,
         "deep.node-2": 0.675492,
         "deep.node-3": -0.644175,
         "deep.node-4": 0.899487,
         "_deepnote_index_column": 40
        },
        {
         "time": 410,
         "rmsd_ca": 0.071126,
         "end": 0.507927,
         "hbonds": 3.569407,
         "deep.node-0": -0.139218,
         "deep.node-1": 0.322562,
         "deep.node-2": 0.724413,
         "deep.node-3": -0.730262,
         "deep.node-4": 0.909255,
         "_deepnote_index_column": 41
        },
        {
         "time": 420,
         "rmsd_ca": 0.084344,
         "end": 0.542798,
         "hbonds": 3.548162,
         "deep.node-0": -0.11598,
         "deep.node-1": 0.145733,
         "deep.node-2": 0.678658,
         "deep.node-3": -0.597563,
         "deep.node-4": 0.888475,
         "_deepnote_index_column": 42
        },
        {
         "time": 430,
         "rmsd_ca": 0.092587,
         "end": 0.488553,
         "hbonds": 3.48135,
         "deep.node-0": 0.130957,
         "deep.node-1": 0.409874,
         "deep.node-2": 0.317624,
         "deep.node-3": 0.689294,
         "deep.node-4": 0.834921,
         "_deepnote_index_column": 43
        },
        {
         "time": 440,
         "rmsd_ca": 0.076671,
         "end": 0.482513,
         "hbonds": 3.49777,
         "deep.node-0": 0.121849,
         "deep.node-1": 0.295529,
         "deep.node-2": 0.374184,
         "deep.node-3": 0.803343,
         "deep.node-4": 0.783059,
         "_deepnote_index_column": 44
        },
        {
         "time": 450,
         "rmsd_ca": 0.099081,
         "end": 0.520028,
         "hbonds": 3.551625,
         "deep.node-0": 0.251506,
         "deep.node-1": -0.261168,
         "deep.node-2": 0.579226,
         "deep.node-3": 0.68035,
         "deep.node-4": 0.733847,
         "_deepnote_index_column": 45
        },
        {
         "time": 460,
         "rmsd_ca": 0.09478,
         "end": 0.514699,
         "hbonds": 3.646904,
         "deep.node-0": -0.095817,
         "deep.node-1": 0.201379,
         "deep.node-2": 0.611824,
         "deep.node-3": 0.881886,
         "deep.node-4": 0.826303,
         "_deepnote_index_column": 46
        },
        {
         "time": 470,
         "rmsd_ca": 0.0717,
         "end": 0.485027,
         "hbonds": 3.502829,
         "deep.node-0": -0.083428,
         "deep.node-1": 0.221223,
         "deep.node-2": 0.589688,
         "deep.node-3": 0.743823,
         "deep.node-4": 0.785107,
         "_deepnote_index_column": 47
        },
        {
         "time": 480,
         "rmsd_ca": 0.11153,
         "end": 0.520726,
         "hbonds": 3.571051,
         "deep.node-0": -0.103368,
         "deep.node-1": 0.032001,
         "deep.node-2": -0.627658,
         "deep.node-3": 0.598881,
         "deep.node-4": 0.825985,
         "_deepnote_index_column": 48
        },
        {
         "time": 490,
         "rmsd_ca": 0.093206,
         "end": 0.494563,
         "hbonds": 3.432668,
         "deep.node-0": -0.22938,
         "deep.node-1": 0.082851,
         "deep.node-2": -0.566554,
         "deep.node-3": 0.68338,
         "deep.node-4": 0.781473,
         "_deepnote_index_column": 49
        },
        {
         "time": 500,
         "rmsd_ca": 0.097078,
         "end": 0.572228,
         "hbonds": 3.652876,
         "deep.node-0": 0.10367,
         "deep.node-1": -0.274928,
         "deep.node-2": -0.582685,
         "deep.node-3": 0.545233,
         "deep.node-4": 0.74437,
         "_deepnote_index_column": 50
        },
        {
         "time": 510,
         "rmsd_ca": 0.05418,
         "end": 0.476515,
         "hbonds": 3.554619,
         "deep.node-0": 0.344897,
         "deep.node-1": -0.062113,
         "deep.node-2": -0.538944,
         "deep.node-3": 0.097366,
         "deep.node-4": 0.852844,
         "_deepnote_index_column": 51
        },
        {
         "time": 520,
         "rmsd_ca": 0.033671,
         "end": 0.489848,
         "hbonds": 3.575646,
         "deep.node-0": 0.096814,
         "deep.node-1": 0.150212,
         "deep.node-2": -0.621678,
         "deep.node-3": -0.720139,
         "deep.node-4": 0.91095,
         "_deepnote_index_column": 52
        },
        {
         "time": 530,
         "rmsd_ca": 0.054895,
         "end": 0.48338,
         "hbonds": 3.69116,
         "deep.node-0": 0.001905,
         "deep.node-1": 0.084149,
         "deep.node-2": -0.373331,
         "deep.node-3": -0.672937,
         "deep.node-4": 0.876909,
         "_deepnote_index_column": 53
        },
        {
         "time": 540,
         "rmsd_ca": 0.057591,
         "end": 0.484213,
         "hbonds": 3.532981,
         "deep.node-0": 0.070873,
         "deep.node-1": 0.200037,
         "deep.node-2": -0.520935,
         "deep.node-3": -0.792534,
         "deep.node-4": 0.89304,
         "_deepnote_index_column": 54
        }
       ],
       "rows_bottom": [
        {
         "time": 524190,
         "rmsd_ca": 0.046627,
         "end": 0.498608,
         "hbonds": 3.603345,
         "deep.node-0": 0.059199,
         "deep.node-1": 0.051882,
         "deep.node-2": -0.55066,
         "deep.node-3": -0.755131,
         "deep.node-4": 0.780516,
         "_deepnote_index_column": 52419
        },
        {
         "time": 524200,
         "rmsd_ca": 0.05056,
         "end": 0.499454,
         "hbonds": 3.473219,
         "deep.node-0": 0.101521,
         "deep.node-1": 0.122191,
         "deep.node-2": 0.904128,
         "deep.node-3": -0.580093,
         "deep.node-4": 0.928842,
         "_deepnote_index_column": 52420
        },
        {
         "time": 524210,
         "rmsd_ca": 0.058509,
         "end": 0.514519,
         "hbonds": 3.676869,
         "deep.node-0": 0.015598,
         "deep.node-1": 0.192167,
         "deep.node-2": 0.897535,
         "deep.node-3": -0.65843,
         "deep.node-4": 0.893431,
         "_deepnote_index_column": 52421
        },
        {
         "time": 524220,
         "rmsd_ca": 0.049341,
         "end": 0.502377,
         "hbonds": 3.618397,
         "deep.node-0": -0.075287,
         "deep.node-1": 0.076915,
         "deep.node-2": 0.72667,
         "deep.node-3": -0.618673,
         "deep.node-4": 0.893789,
         "_deepnote_index_column": 52422
        },
        {
         "time": 524230,
         "rmsd_ca": 0.070278,
         "end": 0.482468,
         "hbonds": 3.612324,
         "deep.node-0": -0.115433,
         "deep.node-1": 0.15123,
         "deep.node-2": 0.666795,
         "deep.node-3": -0.641901,
         "deep.node-4": 0.909317,
         "_deepnote_index_column": 52423
        },
        {
         "time": 524240,
         "rmsd_ca": 0.055682,
         "end": 0.50275,
         "hbonds": 3.557412,
         "deep.node-0": 0.066789,
         "deep.node-1": -0.002936,
         "deep.node-2": 0.720478,
         "deep.node-3": -0.607793,
         "deep.node-4": 0.876375,
         "_deepnote_index_column": 52424
        },
        {
         "time": 524250,
         "rmsd_ca": 0.055269,
         "end": 0.544681,
         "hbonds": 3.530498,
         "deep.node-0": -0.09223,
         "deep.node-1": 0.140104,
         "deep.node-2": 0.740354,
         "deep.node-3": -0.586685,
         "deep.node-4": 0.899469,
         "_deepnote_index_column": 52425
        },
        {
         "time": 524260,
         "rmsd_ca": 0.059243,
         "end": 0.501853,
         "hbonds": 3.396007,
         "deep.node-0": 0.236631,
         "deep.node-1": -0.165488,
         "deep.node-2": 0.600856,
         "deep.node-3": -0.617799,
         "deep.node-4": 0.848315,
         "_deepnote_index_column": 52426
        },
        {
         "time": 524270,
         "rmsd_ca": 0.101476,
         "end": 0.521906,
         "hbonds": 3.41097,
         "deep.node-0": 0.238353,
         "deep.node-1": 0.035363,
         "deep.node-2": 0.248873,
         "deep.node-3": -0.679712,
         "deep.node-4": 0.750691,
         "_deepnote_index_column": 52427
        },
        {
         "time": 524280,
         "rmsd_ca": 0.040748,
         "end": 0.493961,
         "hbonds": 3.524572,
         "deep.node-0": -0.045711,
         "deep.node-1": 0.34131,
         "deep.node-2": 0.783578,
         "deep.node-3": -0.577167,
         "deep.node-4": 0.658739,
         "_deepnote_index_column": 52428
        },
        {
         "time": 524290,
         "rmsd_ca": 0.091718,
         "end": 0.523812,
         "hbonds": 3.520223,
         "deep.node-0": -0.324578,
         "deep.node-1": 0.044345,
         "deep.node-2": 0.528324,
         "deep.node-3": 0.132222,
         "deep.node-4": 0.794041,
         "_deepnote_index_column": 52429
        },
        {
         "time": 524300,
         "rmsd_ca": 0.098983,
         "end": 0.554914,
         "hbonds": 3.546298,
         "deep.node-0": -0.281212,
         "deep.node-1": -0.084069,
         "deep.node-2": 0.613887,
         "deep.node-3": 0.126566,
         "deep.node-4": 0.79786,
         "_deepnote_index_column": 52430
        },
        {
         "time": 524310,
         "rmsd_ca": 0.062274,
         "end": 0.497779,
         "hbonds": 3.456854,
         "deep.node-0": -0.103246,
         "deep.node-1": 0.264907,
         "deep.node-2": 0.759047,
         "deep.node-3": -0.573509,
         "deep.node-4": 0.920905,
         "_deepnote_index_column": 52431
        },
        {
         "time": 524320,
         "rmsd_ca": 0.062198,
         "end": 0.509157,
         "hbonds": 3.708259,
         "deep.node-0": -0.0046,
         "deep.node-1": 0.134006,
         "deep.node-2": 0.700126,
         "deep.node-3": -0.562667,
         "deep.node-4": 0.921335,
         "_deepnote_index_column": 52432
        },
        {
         "time": 524330,
         "rmsd_ca": 0.056861,
         "end": 0.494401,
         "hbonds": 3.594273,
         "deep.node-0": 0.052634,
         "deep.node-1": 0.144572,
         "deep.node-2": 0.807908,
         "deep.node-3": -0.566333,
         "deep.node-4": 0.883729,
         "_deepnote_index_column": 52433
        },
        {
         "time": 524340,
         "rmsd_ca": 0.041354,
         "end": 0.499071,
         "hbonds": 3.658536,
         "deep.node-0": 0.05397,
         "deep.node-1": -0.013215,
         "deep.node-2": 0.802055,
         "deep.node-3": -0.50731,
         "deep.node-4": 0.923857,
         "_deepnote_index_column": 52434
        },
        {
         "time": 524350,
         "rmsd_ca": 0.056431,
         "end": 0.539679,
         "hbonds": 3.612245,
         "deep.node-0": 0.07036,
         "deep.node-1": -0.027246,
         "deep.node-2": -0.446361,
         "deep.node-3": -0.754188,
         "deep.node-4": 0.930685,
         "_deepnote_index_column": 52435
        },
        {
         "time": 524360,
         "rmsd_ca": 0.065846,
         "end": 0.501016,
         "hbonds": 3.306891,
         "deep.node-0": -0.025572,
         "deep.node-1": 0.280711,
         "deep.node-2": -0.65017,
         "deep.node-3": -0.657183,
         "deep.node-4": 0.881362,
         "_deepnote_index_column": 52436
        },
        {
         "time": 524370,
         "rmsd_ca": 0.049221,
         "end": 0.561335,
         "hbonds": 3.588125,
         "deep.node-0": -0.120701,
         "deep.node-1": 0.367629,
         "deep.node-2": -0.603599,
         "deep.node-3": -0.73265,
         "deep.node-4": 0.847605,
         "_deepnote_index_column": 52437
        },
        {
         "time": 524380,
         "rmsd_ca": 0.099408,
         "end": 0.495643,
         "hbonds": 3.365729,
         "deep.node-0": -0.239738,
         "deep.node-1": -0.019254,
         "deep.node-2": -0.647218,
         "deep.node-3": 0.1121,
         "deep.node-4": 0.791516,
         "_deepnote_index_column": 52438
        },
        {
         "time": 524390,
         "rmsd_ca": 0.095395,
         "end": 0.50372,
         "hbonds": 3.628759,
         "deep.node-0": -0.18848,
         "deep.node-1": 0.079541,
         "deep.node-2": -0.671389,
         "deep.node-3": -0.070318,
         "deep.node-4": 0.85752,
         "_deepnote_index_column": 52439
        },
        {
         "time": 524400,
         "rmsd_ca": 0.101942,
         "end": 0.506624,
         "hbonds": 3.519301,
         "deep.node-0": 0.02976,
         "deep.node-1": 0.076534,
         "deep.node-2": -0.850691,
         "deep.node-3": -0.024068,
         "deep.node-4": 0.824272,
         "_deepnote_index_column": 52440
        },
        {
         "time": 524410,
         "rmsd_ca": 0.086025,
         "end": 0.49068,
         "hbonds": 3.671065,
         "deep.node-0": 0.147605,
         "deep.node-1": 0.24189,
         "deep.node-2": -0.871464,
         "deep.node-3": 0.615874,
         "deep.node-4": 0.837519,
         "_deepnote_index_column": 52441
        },
        {
         "time": 524420,
         "rmsd_ca": 0.050255,
         "end": 0.491741,
         "hbonds": 3.609926,
         "deep.node-0": 0.124346,
         "deep.node-1": 0.218643,
         "deep.node-2": 0.750988,
         "deep.node-3": 0.054354,
         "deep.node-4": 0.872509,
         "_deepnote_index_column": 52442
        },
        {
         "time": 524430,
         "rmsd_ca": 0.064819,
         "end": 0.502562,
         "hbonds": 3.517644,
         "deep.node-0": 0.249423,
         "deep.node-1": 0.418533,
         "deep.node-2": 0.703868,
         "deep.node-3": 0.124199,
         "deep.node-4": 0.828302,
         "_deepnote_index_column": 52443
        },
        {
         "time": 524440,
         "rmsd_ca": 0.044732,
         "end": 0.51368,
         "hbonds": 3.423381,
         "deep.node-0": 0.465504,
         "deep.node-1": 0.490016,
         "deep.node-2": 0.654012,
         "deep.node-3": 0.141447,
         "deep.node-4": 0.790265,
         "_deepnote_index_column": 52444
        },
        {
         "time": 524450,
         "rmsd_ca": 0.03784,
         "end": 0.504704,
         "hbonds": 3.683697,
         "deep.node-0": 0.090136,
         "deep.node-1": 0.339975,
         "deep.node-2": 0.74568,
         "deep.node-3": -0.070544,
         "deep.node-4": 0.875652,
         "_deepnote_index_column": 52445
        },
        {
         "time": 524460,
         "rmsd_ca": 0.068596,
         "end": 0.500308,
         "hbonds": 3.652003,
         "deep.node-0": 0.023296,
         "deep.node-1": 0.390741,
         "deep.node-2": 0.651838,
         "deep.node-3": 0.260882,
         "deep.node-4": 0.775219,
         "_deepnote_index_column": 52446
        },
        {
         "time": 524470,
         "rmsd_ca": 0.06062,
         "end": 0.493802,
         "hbonds": 3.578705,
         "deep.node-0": 0.172918,
         "deep.node-1": 0.373827,
         "deep.node-2": 0.762363,
         "deep.node-3": -0.663429,
         "deep.node-4": 0.912858,
         "_deepnote_index_column": 52447
        },
        {
         "time": 524480,
         "rmsd_ca": 0.076871,
         "end": 0.500534,
         "hbonds": 3.566775,
         "deep.node-0": 0.108964,
         "deep.node-1": 0.159529,
         "deep.node-2": -0.458251,
         "deep.node-3": -0.719942,
         "deep.node-4": 0.859424,
         "_deepnote_index_column": 52448
        },
        {
         "time": 524490,
         "rmsd_ca": 0.063094,
         "end": 0.500534,
         "hbonds": 3.612533,
         "deep.node-0": -0.045517,
         "deep.node-1": 0.141814,
         "deep.node-2": -0.636096,
         "deep.node-3": -0.775778,
         "deep.node-4": 0.94019,
         "_deepnote_index_column": 52449
        },
        {
         "time": 524500,
         "rmsd_ca": 0.06326,
         "end": 0.501542,
         "hbonds": 3.545046,
         "deep.node-0": 0.250306,
         "deep.node-1": 0.198342,
         "deep.node-2": -0.532451,
         "deep.node-3": -0.704408,
         "deep.node-4": 0.849083,
         "_deepnote_index_column": 52450
        },
        {
         "time": 524510,
         "rmsd_ca": 0.051316,
         "end": 0.490693,
         "hbonds": 3.550486,
         "deep.node-0": 0.073483,
         "deep.node-1": 0.272673,
         "deep.node-2": 0.758546,
         "deep.node-3": -0.713996,
         "deep.node-4": 0.941626,
         "_deepnote_index_column": 52451
        },
        {
         "time": 524520,
         "rmsd_ca": 0.091699,
         "end": 0.488621,
         "hbonds": 3.554922,
         "deep.node-0": -0.057442,
         "deep.node-1": 0.089981,
         "deep.node-2": 0.671308,
         "deep.node-3": -0.619957,
         "deep.node-4": 0.847606,
         "_deepnote_index_column": 52452
        },
        {
         "time": 524530,
         "rmsd_ca": 0.057417,
         "end": 0.507123,
         "hbonds": 3.498819,
         "deep.node-0": 0.169435,
         "deep.node-1": 0.135714,
         "deep.node-2": 0.720397,
         "deep.node-3": -0.51308,
         "deep.node-4": 0.869901,
         "_deepnote_index_column": 52453
        },
        {
         "time": 524540,
         "rmsd_ca": 0.071808,
         "end": 0.512684,
         "hbonds": 3.632081,
         "deep.node-0": 0.177212,
         "deep.node-1": 0.172791,
         "deep.node-2": 0.777484,
         "deep.node-3": -0.685501,
         "deep.node-4": 0.927039,
         "_deepnote_index_column": 52454
        },
        {
         "time": 524550,
         "rmsd_ca": 0.043622,
         "end": 0.503502,
         "hbonds": 3.465652,
         "deep.node-0": -0.008499,
         "deep.node-1": 0.213665,
         "deep.node-2": -0.588294,
         "deep.node-3": -0.840017,
         "deep.node-4": 0.876273,
         "_deepnote_index_column": 52455
        },
        {
         "time": 524560,
         "rmsd_ca": 0.238165,
         "end": 0.896492,
         "hbonds": 2.987827,
         "deep.node-0": 0.362702,
         "deep.node-1": -0.005361,
         "deep.node-2": 0.432728,
         "deep.node-3": -0.731466,
         "deep.node-4": -0.004876,
         "_deepnote_index_column": 52456
        },
        {
         "time": 524570,
         "rmsd_ca": 0.233878,
         "end": 0.945797,
         "hbonds": 2.895121,
         "deep.node-0": 0.183364,
         "deep.node-1": 0.178842,
         "deep.node-2": 0.493776,
         "deep.node-3": -0.251357,
         "deep.node-4": -0.033305,
         "_deepnote_index_column": 52457
        },
        {
         "time": 524580,
         "rmsd_ca": 0.22093,
         "end": 1.106541,
         "hbonds": 2.68474,
         "deep.node-0": 0.234493,
         "deep.node-1": 0.216189,
         "deep.node-2": 0.113244,
         "deep.node-3": -0.343112,
         "deep.node-4": -0.029396,
         "_deepnote_index_column": 52458
        },
        {
         "time": 524590,
         "rmsd_ca": 0.226082,
         "end": 1.038165,
         "hbonds": 2.861832,
         "deep.node-0": 0.295836,
         "deep.node-1": -0.291364,
         "deep.node-2": 0.223638,
         "deep.node-3": -0.190979,
         "deep.node-4": -0.127759,
         "_deepnote_index_column": 52459
        },
        {
         "time": 524600,
         "rmsd_ca": 0.297535,
         "end": 1.192679,
         "hbonds": 1.920843,
         "deep.node-0": 0.136975,
         "deep.node-1": -0.272676,
         "deep.node-2": 0.131464,
         "deep.node-3": -0.207165,
         "deep.node-4": -0.056313,
         "_deepnote_index_column": 52460
        },
        {
         "time": 524610,
         "rmsd_ca": 0.294099,
         "end": 1.251102,
         "hbonds": 2.43488,
         "deep.node-0": 0.189923,
         "deep.node-1": -0.220333,
         "deep.node-2": 0.203613,
         "deep.node-3": 0.008276,
         "deep.node-4": -0.045516,
         "_deepnote_index_column": 52461
        },
        {
         "time": 524620,
         "rmsd_ca": 0.296641,
         "end": 1.265682,
         "hbonds": 2.46079,
         "deep.node-0": 0.308983,
         "deep.node-1": -0.091007,
         "deep.node-2": -0.075094,
         "deep.node-3": -0.113085,
         "deep.node-4": -0.090185,
         "_deepnote_index_column": 52462
        },
        {
         "time": 524630,
         "rmsd_ca": 0.254174,
         "end": 1.360895,
         "hbonds": 2.372417,
         "deep.node-0": 0.435066,
         "deep.node-1": -0.053129,
         "deep.node-2": 0.419601,
         "deep.node-3": 0.070044,
         "deep.node-4": 0.061614,
         "_deepnote_index_column": 52463
        },
        {
         "time": 524640,
         "rmsd_ca": 0.458593,
         "end": 1.608151,
         "hbonds": 0.60385,
         "deep.node-0": -0.471447,
         "deep.node-1": -0.002052,
         "deep.node-2": -0.218973,
         "deep.node-3": -0.326005,
         "deep.node-4": -0.414243,
         "_deepnote_index_column": 52464
        },
        {
         "time": 524650,
         "rmsd_ca": 0.391548,
         "end": 1.308729,
         "hbonds": 0.761919,
         "deep.node-0": 0.015074,
         "deep.node-1": 0.226508,
         "deep.node-2": 0.18215,
         "deep.node-3": -0.398552,
         "deep.node-4": -0.40257,
         "_deepnote_index_column": 52465
        },
        {
         "time": 524660,
         "rmsd_ca": 0.316759,
         "end": 1.390077,
         "hbonds": 2.127445,
         "deep.node-0": 0.301087,
         "deep.node-1": -0.12717,
         "deep.node-2": 0.267675,
         "deep.node-3": -0.313709,
         "deep.node-4": -0.272245,
         "_deepnote_index_column": 52466
        },
        {
         "time": 524670,
         "rmsd_ca": 0.532361,
         "end": 1.945163,
         "hbonds": 1.373365,
         "deep.node-0": 0.013143,
         "deep.node-1": 0.093098,
         "deep.node-2": 0.442892,
         "deep.node-3": -0.318107,
         "deep.node-4": -0.686918,
         "_deepnote_index_column": 52467
        },
        {
         "time": 524680,
         "rmsd_ca": 0.4108,
         "end": 1.491035,
         "hbonds": 0.965792,
         "deep.node-0": -0.044677,
         "deep.node-1": 0.093995,
         "deep.node-2": 0.014461,
         "deep.node-3": -0.389343,
         "deep.node-4": -0.353364,
         "_deepnote_index_column": 52468
        },
        {
         "time": 524690,
         "rmsd_ca": 0.52198,
         "end": 1.865556,
         "hbonds": 0.516025,
         "deep.node-0": 0.01495,
         "deep.node-1": 0.072403,
         "deep.node-2": 0.166702,
         "deep.node-3": -0.341254,
         "deep.node-4": -0.523128,
         "_deepnote_index_column": 52469
        },
        {
         "time": 524700,
         "rmsd_ca": 0.651776,
         "end": 1.920228,
         "hbonds": 0.413543,
         "deep.node-0": 0.028602,
         "deep.node-1": 0.230118,
         "deep.node-2": 0.027031,
         "deep.node-3": -0.283929,
         "deep.node-4": -0.689612,
         "_deepnote_index_column": 52470
        },
        {
         "time": 524710,
         "rmsd_ca": 0.543898,
         "end": 1.96042,
         "hbonds": 0.512699,
         "deep.node-0": -0.170959,
         "deep.node-1": 0.161725,
         "deep.node-2": -0.014535,
         "deep.node-3": -0.523711,
         "deep.node-4": -0.522852,
         "_deepnote_index_column": 52471
        },
        {
         "time": 524720,
         "rmsd_ca": 0.428343,
         "end": 1.464966,
         "hbonds": 0.604115,
         "deep.node-0": -0.156648,
         "deep.node-1": 0.097244,
         "deep.node-2": 0.012294,
         "deep.node-3": -0.381107,
         "deep.node-4": -0.555181,
         "_deepnote_index_column": 52472
        },
        {
         "time": 524730,
         "rmsd_ca": 0.452596,
         "end": 1.448579,
         "hbonds": 0.586075,
         "deep.node-0": -0.09889,
         "deep.node-1": 0.154325,
         "deep.node-2": 0.106024,
         "deep.node-3": -0.387451,
         "deep.node-4": -0.569581,
         "_deepnote_index_column": 52473
        },
        {
         "time": 524740,
         "rmsd_ca": 0.595281,
         "end": 1.987051,
         "hbonds": 0.423479,
         "deep.node-0": -0.207653,
         "deep.node-1": 0.227339,
         "deep.node-2": 0.048673,
         "deep.node-3": -0.407225,
         "deep.node-4": -0.649493,
         "_deepnote_index_column": 52474
        }
       ]
      },
      "text/plain": "           time   rmsd_ca       end    hbonds  deep.node-0  deep.node-1  \\\n0           0.0  0.067477  0.500523  3.515683     0.156591     0.269741   \n1          10.0  0.040256  0.516848  3.607478    -0.163258     0.031106   \n2          20.0  0.062648  0.460648  3.625588    -0.114638     0.244315   \n3          30.0  0.067292  0.490304  3.519522    -0.082365    -0.005303   \n4          40.0  0.065588  0.487023  3.634205     0.348991    -0.240763   \n...         ...       ...       ...       ...          ...          ...   \n52470  524700.0  0.651776  1.920228  0.413543     0.028602     0.230118   \n52471  524710.0  0.543898  1.960420  0.512699    -0.170959     0.161725   \n52472  524720.0  0.428343  1.464966  0.604115    -0.156648     0.097244   \n52473  524730.0  0.452596  1.448579  0.586075    -0.098890     0.154325   \n52474  524740.0  0.595281  1.987051  0.423479    -0.207653     0.227339   \n\n       deep.node-2  deep.node-3  deep.node-4  \n0        -0.503362    -0.769360     0.860714  \n1         0.738618    -0.639663     0.860408  \n2         0.888992    -0.485358     0.901081  \n3        -0.405775    -0.523814     0.901542  \n4        -0.353688    -0.586350     0.871337  \n...            ...          ...          ...  \n52470     0.027031    -0.283929    -0.689612  \n52471    -0.014535    -0.523711    -0.522852  \n52472     0.012294    -0.381107    -0.555181  \n52473     0.106024    -0.387451    -0.569581  \n52474     0.048673    -0.407225    -0.649493  \n\n[52475 rows x 9 columns]",
      "text/html": "<div>\n<style scoped>\n    .dataframe tbody tr th:only-of-type {\n        vertical-align: middle;\n    }\n\n    .dataframe tbody tr th {\n        vertical-align: top;\n    }\n\n    .dataframe thead th {\n        text-align: right;\n    }\n</style>\n<table border=\"1\" class=\"dataframe\">\n  <thead>\n    <tr style=\"text-align: right;\">\n      <th></th>\n      <th>time</th>\n      <th>rmsd_ca</th>\n      <th>end</th>\n      <th>hbonds</th>\n      <th>deep.node-0</th>\n      <th>deep.node-1</th>\n      <th>deep.node-2</th>\n      <th>deep.node-3</th>\n      <th>deep.node-4</th>\n    </tr>\n  </thead>\n  <tbody>\n    <tr>\n      <th>0</th>\n      <td>0.0</td>\n      <td>0.067477</td>\n      <td>0.500523</td>\n      <td>3.515683</td>\n      <td>0.156591</td>\n      <td>0.269741</td>\n      <td>-0.503362</td>\n      <td>-0.769360</td>\n      <td>0.860714</td>\n    </tr>\n    <tr>\n      <th>1</th>\n      <td>10.0</td>\n      <td>0.040256</td>\n      <td>0.516848</td>\n      <td>3.607478</td>\n      <td>-0.163258</td>\n      <td>0.031106</td>\n      <td>0.738618</td>\n      <td>-0.639663</td>\n      <td>0.860408</td>\n    </tr>\n    <tr>\n      <th>2</th>\n      <td>20.0</td>\n      <td>0.062648</td>\n      <td>0.460648</td>\n      <td>3.625588</td>\n      <td>-0.114638</td>\n      <td>0.244315</td>\n      <td>0.888992</td>\n      <td>-0.485358</td>\n      <td>0.901081</td>\n    </tr>\n    <tr>\n      <th>3</th>\n      <td>30.0</td>\n      <td>0.067292</td>\n      <td>0.490304</td>\n      <td>3.519522</td>\n      <td>-0.082365</td>\n      <td>-0.005303</td>\n      <td>-0.405775</td>\n      <td>-0.523814</td>\n      <td>0.901542</td>\n    </tr>\n    <tr>\n      <th>4</th>\n      <td>40.0</td>\n      <td>0.065588</td>\n      <td>0.487023</td>\n      <td>3.634205</td>\n      <td>0.348991</td>\n      <td>-0.240763</td>\n      <td>-0.353688</td>\n      <td>-0.586350</td>\n      <td>0.871337</td>\n    </tr>\n    <tr>\n      <th>...</th>\n      <td>...</td>\n      <td>...</td>\n      <td>...</td>\n      <td>...</td>\n      <td>...</td>\n      <td>...</td>\n      <td>...</td>\n      <td>...</td>\n      <td>...</td>\n    </tr>\n    <tr>\n      <th>52470</th>\n      <td>524700.0</td>\n      <td>0.651776</td>\n      <td>1.920228</td>\n      <td>0.413543</td>\n      <td>0.028602</td>\n      <td>0.230118</td>\n      <td>0.027031</td>\n      <td>-0.283929</td>\n      <td>-0.689612</td>\n    </tr>\n    <tr>\n      <th>52471</th>\n      <td>524710.0</td>\n      <td>0.543898</td>\n      <td>1.960420</td>\n      <td>0.512699</td>\n      <td>-0.170959</td>\n      <td>0.161725</td>\n      <td>-0.014535</td>\n      <td>-0.523711</td>\n      <td>-0.522852</td>\n    </tr>\n    <tr>\n      <th>52472</th>\n      <td>524720.0</td>\n      <td>0.428343</td>\n      <td>1.464966</td>\n      <td>0.604115</td>\n      <td>-0.156648</td>\n      <td>0.097244</td>\n      <td>0.012294</td>\n      <td>-0.381107</td>\n      <td>-0.555181</td>\n    </tr>\n    <tr>\n      <th>52473</th>\n      <td>524730.0</td>\n      <td>0.452596</td>\n      <td>1.448579</td>\n      <td>0.586075</td>\n      <td>-0.098890</td>\n      <td>0.154325</td>\n      <td>0.106024</td>\n      <td>-0.387451</td>\n      <td>-0.569581</td>\n    </tr>\n    <tr>\n      <th>52474</th>\n      <td>524740.0</td>\n      <td>0.595281</td>\n      <td>1.987051</td>\n      <td>0.423479</td>\n      <td>-0.207653</td>\n      <td>0.227339</td>\n      <td>0.048673</td>\n      <td>-0.407225</td>\n      <td>-0.649493</td>\n    </tr>\n  </tbody>\n</table>\n<p>52475 rows × 9 columns</p>\n</div>"
     },
     "metadata": {}
    }
   ]
  },
  {
   "cell_type": "code",
   "metadata": {
    "tags": [],
    "cell_id": "00007-d8006adb-77eb-4d66-9bda-61239369542e",
    "deepnote_to_be_reexecuted": false,
    "source_hash": "d4b19022",
    "execution_start": 1626780725480,
    "execution_millis": 17952,
    "deepnote_cell_type": "code"
   },
   "source": "# Calculate FES \n\nimport scipy.stats as st\n\nxdata = colvar[tica1_label].values\nydata = colvar[tica2_label].values\nxmin, xmax = -1.1, 1.1\nymin, ymax = -1.1, 1.1\nnbins = 110\n\nxgrid = np.linspace(xmin,xmax,nbins)\nygrid = np.linspace(ymin,ymax,nbins)\n\n# kernel density estimation for the probability distribution\n#xx, yy = np.mgrid[xmin:xmax:100j, ymin:ymax:100j] #why 100j? number of points along each direction\nxx,yy = np.meshgrid(xgrid,ygrid)\npositions = np.vstack([xx.ravel(), yy.ravel()])\nvalues = np.vstack([xdata, ydata])\nkernel = st.gaussian_kde(values)\nf = np.reshape(kernel(positions).T, xx.shape)\n\n# free energy\nkbt = 2.827\nf = - kbt * np.log(f)\nf-= np.min(f)\n\nf[f>30] = np.NaN",
   "execution_count": 5,
   "outputs": []
  },
  {
   "cell_type": "code",
   "metadata": {
    "tags": [],
    "cell_id": "00009-3614fa21-97f0-409d-a2c4-bf3ddaf2df77",
    "deepnote_to_be_reexecuted": false,
    "source_hash": "26ad6114",
    "execution_start": 1626780743438,
    "execution_millis": 4,
    "deepnote_cell_type": "code"
   },
   "source": "import scipy.ndimage.filters as filters\nimport scipy.ndimage.morphology as morphology\n\n# https://stackoverflow.com/questions/3986345/how-to-find-the-local-minima-of-a-smooth-multidimensional-array-in-numpy-efficie\n\ndef detect_local_minima(arr):\n    # https://stackoverflow.com/questions/3684484/peak-detection-in-a-2d-array/3689710#3689710\n    \"\"\"\n    Takes an array and detects the troughs using the local maximum filter.\n    Returns a boolean mask of the troughs (i.e. 1 when\n    the pixel's value is the neighborhood maximum, 0 otherwise)\n    \"\"\"\n    # define an connected neighborhood http://www.scipy.org/doc/api_docs/SciPy.ndimage.morphology.html#generate_binary_structure\n    neighborhood = morphology.generate_binary_structure(len(arr.shape),2)\n    # apply the local minimum filter; all locations of minimum value in their neighborhood are set to 1 http://www.scipy.org/doc/api_docs/SciPy.ndimage.filters.html#minimum_filter\n    local_min = (filters.minimum_filter(arr, footprint=neighborhood)==arr)\n    # local_min is a mask that contains the peaks we are looking for, but also the background.\n    # In order to isolate the peaks we must remove the background from the mask. we create the mask of the background\n    background = (arr==0)\n    # \n    # a little technicality: we must erode the background in order to successfully subtract it from local_min, otherwise a line will appear along the background border (artifact of the local minimum filter) http://www.scipy.org/doc/api_docs/SciPy.ndimage.morphology.html#binary_erosion\n    eroded_background = morphology.binary_erosion(\n        background, structure=neighborhood, border_value=1)\n    # \n    # we obtain the final mask, containing only peaks, by removing the background from the local_min mask\n    detected_minima = local_min ^ eroded_background\n    return np.where(detected_minima)",
   "execution_count": 6,
   "outputs": []
  },
  {
   "cell_type": "code",
   "metadata": {
    "tags": [],
    "cell_id": "00008-ed1bc8fa-79ec-4600-a482-62a5f3f257d9",
    "deepnote_to_be_reexecuted": false,
    "source_hash": "fc2bc590",
    "execution_start": 1626780743481,
    "execution_millis": 856,
    "deepnote_cell_type": "code"
   },
   "source": "fig,ax = plt.subplots(dpi=100)\n\nlevels = np.arange(1,30,3)\n\ncfset = ax.contourf(xx, yy, f, levels=levels, cmap='Blues')\n#cfset = ax.imshow(np.rot90(f), cmap='Blues', extent=[xmin, xmax, ymin, ymax])\n# Contour plot\ncset = ax.contour(xx, yy, f, levels=levels, colors='k')\n# Label plot\nax.clabel(cset, inline=1, fontsize=10)\n\ncbar = plt.colorbar(cfset)\nax.set_xlabel('DeepTICA 1')\nax.set_ylabel('DeepTICA 2')\ncbar.set_label('FES [kJ/mol]')\n\nlocal_minima_locations = detect_local_minima(f)\nfor i,j in zip(*local_minima_locations):\n    print(i,j,xx[i,j],yy[i,j],f[i,j])\n    ax.scatter(xx[i,j],yy[i,j],marker='x',s=100)\nax.scatter(xx[i,j],yy[i,j],marker='x',s=100,label='FES local minima')\nax.legend(frameon=False,loc=2)",
   "execution_count": 7,
   "outputs": [
    {
     "name": "stdout",
     "text": "20 99 0.8981651376146789 -0.6963302752293579 0.0\n38 29 -0.5146788990825688 -0.33302752293577986 3.7310571452291166\n55 96 0.8376146788990826 0.010091743119265972 3.67623438582219\n88 93 0.7770642201834863 0.6761467889908257 3.516808699194865\n",
     "output_type": "stream"
    },
    {
     "output_type": "execute_result",
     "execution_count": 7,
     "data": {
      "text/plain": "<matplotlib.legend.Legend at 0x7fd81c151e90>"
     },
     "metadata": {}
    },
    {
     "data": {
      "text/plain": "<Figure size 600x400 with 2 Axes>",
      "image/png": "[encoded data removed]"
     },
     "metadata": {
      "needs_background": "light",
      "image/png": {
       "width": 549,
       "height": 370
      }
     },
     "output_type": "display_data"
    }
   ]
  },
  {
   "cell_type": "markdown",
   "source": "### Clustering -&gt; Labels",
   "metadata": {
    "tags": [],
    "cell_id": "00010-65c9e62b-df33-480f-8117-49305fa8caee",
    "is_collapsed": false,
    "deepnote_cell_type": "text-cell-h3"
   }
  },
  {
   "cell_type": "code",
   "metadata": {
    "tags": [],
    "cell_id": "00009-7f763414-1fe4-41d2-a2f6-b2a6bf28f344",
    "deepnote_to_be_reexecuted": false,
    "source_hash": "8a6705e8",
    "execution_start": 1626780744344,
    "execution_millis": 3245,
    "deepnote_cell_type": "code"
   },
   "source": "from sklearn.cluster import KMeans\n\nfig, ax = plt.subplots(dpi=100)\n\n#colvar['weights'] = np.exp( ( colvar['bias'].values - np.max(colvar['bias'].values))/kbt )\n\ntica1 = colvar[tica1_label].values\ntica2 = colvar[tica2_label].values\n#weights = colvar['weights'].values\n\nX = np.stack([tica1,tica2],axis=1)\n\nn_clusters = 4\n\n#init_cluster=np.asarray([[-.35,-0.35],[0.9,-.65],[0.9,0.],[.9,.65]])\n#kmeans = KMeans(n_clusters=n_clusters, init=init_cluster).fit(X,sample_weight=weights)\nkmeans = KMeans(n_clusters=n_clusters).fit(X)#,sample_weight=weights)\ncolvar['basin'] = kmeans.labels_\n\ncolvar.plot(x=tica1_label,y=tica2_label,c='basin',kind='scatter',cmap='viridis',ax=ax,s=1)\n\nfor center in kmeans.cluster_centers_:\n    ax.scatter(center[0],center[1],s=100)\n\nplt.tight_layout()",
   "execution_count": 8,
   "outputs": [
    {
     "data": {
      "text/plain": "<Figure size 600x400 with 2 Axes>",
      "image/png": "[encoded data removed]"
     },
     "metadata": {
      "needs_background": "light",
      "image/png": {
       "width": 582,
       "height": 390
      }
     },
     "output_type": "display_data"
    }
   ]
  },
  {
   "cell_type": "code",
   "metadata": {
    "tags": [],
    "cell_id": "00011-293f5b63-6b61-4411-b3c1-c05c9653be9f",
    "deepnote_to_be_reexecuted": false,
    "source_hash": "2e8eee5d",
    "execution_start": 1626780747586,
    "execution_millis": 1281,
    "deepnote_cell_type": "code"
   },
   "source": "fes_cutoff = 5 # units kJ/mol\n\nref_fes = []\n\n#compute fes values for cluster centers\nfor i in range(n_clusters):\n    mx,my = kmeans.cluster_centers_[i]\n    idx = (np.abs(xgrid - mx)).argmin()\n    idy = (np.abs(ygrid - my)).argmin()\n    ref_fes.append( f[idy,idx] )\nref_fes = np.asarray(ref_fes)\n\n#compute fes values for each point\nidxs = np.searchsorted(xgrid, xdata, side='left')\nidys = np.searchsorted(ygrid, ydata, side='left')\n\nfes = f[idys.tolist(),idxs.tolist()]\ncolvar['fes'] = fes\ncolvar['deltaFes'] = fes - ref_fes[colvar['basin']]\n\n#select points whose fes w.r.t. local minimum is lesser than cutoff\ncolvar['selection'] = (colvar['deltaFes']<fes_cutoff).values.astype(int)\n\nfig, ax = plt.subplots(dpi=100)\ncolvar.plot.scatter(tica1_label,tica2_label,c='selection',s=1,cmap='inferno',ax=ax)",
   "execution_count": 9,
   "outputs": [
    {
     "output_type": "execute_result",
     "execution_count": 9,
     "data": {
      "text/plain": "<AxesSubplot:xlabel='deep.node-4', ylabel='deep.node-3'>"
     },
     "metadata": {}
    },
    {
     "data": {
      "text/plain": "<Figure size 600x400 with 2 Axes>",
      "image/png": "[encoded data removed]"
     },
     "metadata": {
      "needs_background": "light",
      "image/png": {
       "width": 553,
       "height": 370
      }
     },
     "output_type": "display_data"
    }
   ]
  },
  {
   "cell_type": "markdown",
   "source": "### Compute descriptors from traj",
   "metadata": {
    "tags": [],
    "cell_id": "00006-78c6e373-c252-4d14-b496-954163c101d7",
    "is_collapsed": false,
    "deepnote_cell_type": "text-cell-h3"
   }
  },
  {
   "cell_type": "code",
   "metadata": {
    "tags": [],
    "cell_id": "00002-cd647fb7-45aa-4e04-9a92-077580b0a7fc",
    "deepnote_to_be_reexecuted": false,
    "source_hash": "2c25dde0",
    "execution_start": 1626780748879,
    "execution_millis": 92,
    "deepnote_cell_type": "code"
   },
   "source": "# COMPUTE DISTANCES\n \n# https://www.mdtraj.org/1.9.5/atom_selection.html\n\n#heavy atom distances\n#basename = 'dd_'\n#sel = traj.top.select('not type H')\n#which is equivalent to:\n#sel = [atom.index for atom in traj.top.atoms if atom.element.symbol is not 'H']\n\n#or only CA distances\nbasename = 'ca_'\nsel = traj.top.select('name CA')\n\npairs = [ (i,j) for i,j in itertools.combinations(sel,2) ]\ndist = md.compute_distances(traj,pairs)\nnames = [basename+str(i)+'-'+str(j) for (i,j) in pairs]\n\ndf = pd.DataFrame(data=dist,columns=names)\ncolvar = colvar.join(df)\nprint(df.shape)",
   "execution_count": 10,
   "outputs": [
    {
     "name": "stdout",
     "text": "(52475, 45)\n",
     "output_type": "stream"
    }
   ]
  },
  {
   "cell_type": "code",
   "metadata": {
    "tags": [],
    "cell_id": "00017-a5ecce6e-79a5-43e9-8718-447d0fe1e864",
    "deepnote_to_be_reexecuted": false,
    "source_hash": "f71976ef",
    "execution_start": 1626780749002,
    "execution_millis": 444,
    "deepnote_cell_type": "code"
   },
   "source": "# H-BONDS DISTANCES / CONTACTS (donor-acceptor)\n\ndef switching_function(x,r0=1.,d0=0,n=6,m=12):\n    \n\n# find donors (OH or NH)\ndonors = [ at_i.index for at_i,at_j in traj.top.bonds  \n            if ( ( at_i.element.symbol == 'O' ) | (at_i.element.symbol == 'N')  ) & ( at_j.element.symbol == 'H')]\n# keep unique \ndonors = sorted( list(set(donors)) )\nprint(donors)\n\n# find acceptors (O r N)\nacceptors = traj.top.select('symbol O or symbol N')\nprint(acceptors)\n\n# compute pairs\nbasename = 'hb_'\npairs = [ (min(x,y),max(x,y)) for x in donors for y in acceptors if x != y ]\n# remove duplicates\npairs = sorted(list(set(pairs)))\n\nnames = [ basename+str(x)+'-'+str(y) for x,y in  pairs]\n\ndist = md.compute_distances(traj,pairs)\n\ndf = pd.DataFrame(data=dist,columns=names)\ncolvar = colvar.join(df)\ndf.shape\n",
   "execution_count": 11,
   "outputs": [
    {
     "name": "stdout",
     "text": "[0, 15, 23, 36, 44, 70, 85, 91, 99, 106, 112, 120, 130, 147, 160]\n[  0  15  22  23  36  43  44  52  53  55  56  69  70  81  82  84  85  91\n  98  99 105 106 112 119 120 130 143 145 146 147 160]\n",
     "output_type": "stream"
    },
    {
     "output_type": "execute_result",
     "execution_count": 11,
     "data": {
      "text/plain": "(52475, 345)"
     },
     "metadata": {}
    }
   ]
  },
  {
   "cell_type": "code",
   "metadata": {
    "tags": [],
    "cell_id": "00004-9a153df4-a89c-4d08-a016-b98794cfe625",
    "deepnote_to_be_reexecuted": false,
    "source_hash": "c359cfcc",
    "execution_start": 1626780749460,
    "execution_millis": 643,
    "deepnote_cell_type": "code"
   },
   "source": "# DIHEDRAL ANGLES\n# phi,psi --> backbone\n# chi1,chi2 --> sidechain\n\nvalues_list = []\nnames_list = []\n\ndef get_dihedrals(traj,kind='phi',sincos=True):\n    #retrieve topology\n    table, _ = traj.top.to_dataframe()\n\n    #prepare list for appending\n    dihedrals = []\n    names,values = [],[]\n    \n    if kind == 'phi':\n        dihedrals = md.compute_phi(traj)\n    elif kind == 'psi':\n        dihedrals = md.compute_psi(traj)\n    elif kind == 'chi1':\n        dihedrals = md.compute_chi1(traj)\n    elif kind == 'chi2':\n        dihedrals = md.compute_chi2(traj)\n    else:\n        print( 'supported values: phi,psi,chi1,chi2' )\n\n    idx_list = dihedrals[0]\n    for i, idx in enumerate(idx_list):\n        #find residue id from topology table\n        res = table['resSeq'][idx[0]]\n        name = 'dih_'+kind+'-'+str(res)\n        names.append(name)\n        values.append(dihedrals[1][:,i])\n        if sincos:\n            names.append('cos_'+kind+'-'+str(res)) \n            values.append(np.cos( dihedrals[1][:,i] ))\n            names.append('sin_'+kind+'-'+str(res)) \n            values.append(np.sin( dihedrals[1][:,i] ))\n    return names, values\n\nfor kind in ['phi','psi','chi1','chi2']:\n    names, values = get_dihedrals(traj,kind,sincos=True)\n    names_list.extend(names)\n    values_list.extend(values)\n\ndf = pd.DataFrame(data=np.asarray(values_list).T,columns=names_list)\ncolvar = colvar.join(df)\ndf\n#values_list",
   "execution_count": 12,
   "outputs": [
    {
     "output_type": "execute_result",
     "execution_count": 12,
     "data": {
      "application/vnd.deepnote.dataframe.v2+json": {
       "row_count": 52475,
       "column_count": 102,
       "columns": [
        {
         "name": "dih_phi-1",
         "dtype": "float32",
         "stats": {
          "unique_count": 52359,
          "nan_count": 0,
          "min": "-3.140474319458008",
          "max": "3.141411542892456",
          "histogram": [
           {
            "bin_start": -3.140474319458008,
            "bin_end": -2.5122857093811035,
            "count": 7719
           },
           {
            "bin_start": -2.5122857093811035,
            "bin_end": -1.8840970993041992,
            "count": 15949
           },
           {
            "bin_start": -1.8840970993041992,
            "bin_end": -1.2559086084365845,
            "count": 21363
           },
           {
            "bin_start": -1.2559086084365845,
            "bin_end": -0.6277199983596802,
            "count": 5896
           },
           {
            "bin_start": -0.6277199983596802,
            "bin_end": 0.0004686117172241211,
            "count": 24
           },
           {
            "bin_start": 0.0004686117172241211,
            "bin_end": 0.6286572217941284,
            "count": 6
           },
           {
            "bin_start": 0.6286572217941284,
            "bin_end": 1.2568458318710327,
            "count": 1072
           },
           {
            "bin_start": 1.2568458318710327,
            "bin_end": 1.8850343227386475,
            "count": 402
           },
           {
            "bin_start": 1.8850343227386475,
            "bin_end": 2.5132229328155518,
            "count": 0
           },
           {
            "bin_start": 2.5132229328155518,
            "bin_end": 3.141411542892456,
            "count": 44
           }
          ]
         }
        },
        {
         "name": "cos_phi-1",
         "dtype": "float32"
        },
        {
         "name": "sin_phi-1",
         "dtype": "float32"
        },
        {
         "name": "dih_phi-2",
         "dtype": "float32"
        },
        {
         "name": "cos_phi-2",
         "dtype": "float32"
        },
        {
         "name": "sin_phi-2",
         "dtype": "float32"
        },
        {
         "name": "dih_phi-3",
         "dtype": "float32"
        },
        {
         "name": "cos_phi-3",
         "dtype": "float32"
        },
        {
         "name": "sin_phi-3",
         "dtype": "float32"
        },
        {
         "name": "dih_phi-4",
         "dtype": "float32"
        },
        {
         "name": "cos_phi-4",
         "dtype": "float32"
        },
        {
         "name": "sin_phi-4",
         "dtype": "float32"
        },
        {
         "name": "dih_phi-5",
         "dtype": "float32"
        },
        {
         "name": "cos_phi-5",
         "dtype": "float32"
        },
        {
         "name": "sin_phi-5",
         "dtype": "float32"
        },
        {
         "name": "dih_phi-6",
         "dtype": "float32"
        },
        {
         "name": "cos_phi-6",
         "dtype": "float32"
        },
        {
         "name": "sin_phi-6",
         "dtype": "float32"
        },
        {
         "name": "dih_phi-7",
         "dtype": "float32"
        },
        {
         "name": "cos_phi-7",
         "dtype": "float32"
        },
        {
         "name": "sin_phi-7",
         "dtype": "float32"
        },
        {
         "name": "dih_phi-8",
         "dtype": "float32"
        },
        {
         "name": "cos_phi-8",
         "dtype": "float32"
        },
        {
         "name": "sin_phi-8",
         "dtype": "float32"
        },
        {
         "name": "dih_phi-9",
         "dtype": "float32"
        },
        {
         "name": "cos_phi-9",
         "dtype": "float32"
        },
        {
         "name": "sin_phi-9",
         "dtype": "float32"
        },
        {
         "name": "dih_psi-1",
         "dtype": "float32"
        },
        {
         "name": "cos_psi-1",
         "dtype": "float32"
        },
        {
         "name": "sin_psi-1",
         "dtype": "float32"
        },
        {
         "name": "dih_psi-2",
         "dtype": "float32"
        },
        {
         "name": "cos_psi-2",
         "dtype": "float32"
        },
        {
         "name": "sin_psi-2",
         "dtype": "float32"
        },
        {
         "name": "dih_psi-3",
         "dtype": "float32"
        },
        {
         "name": "cos_psi-3",
         "dtype": "float32"
        },
        {
         "name": "sin_psi-3",
         "dtype": "float32"
        },
        {
         "name": "dih_psi-4",
         "dtype": "float32"
        },
        {
         "name": "cos_psi-4",
         "dtype": "float32"
        },
        {
         "name": "sin_psi-4",
         "dtype": "float32"
        },
        {
         "name": "dih_psi-5",
         "dtype": "float32"
        },
        {
         "name": "cos_psi-5",
         "dtype": "float32"
        },
        {
         "name": "sin_psi-5",
         "dtype": "float32"
        },
        {
         "name": "dih_psi-6",
         "dtype": "float32"
        },
        {
         "name": "cos_psi-6",
         "dtype": "float32"
        },
        {
         "name": "sin_psi-6",
         "dtype": "float32"
        },
        {
         "name": "dih_psi-7",
         "dtype": "float32"
        },
        {
         "name": "cos_psi-7",
         "dtype": "float32"
        },
        {
         "name": "sin_psi-7",
         "dtype": "float32"
        },
        {
         "name": "dih_psi-8",
         "dtype": "float32"
        },
        {
         "name": "cos_psi-8",
         "dtype": "float32"
        },
        {
         "name": "sin_psi-8",
         "dtype": "float32"
        },
        {
         "name": "dih_psi-9",
         "dtype": "float32"
        },
        {
         "name": "cos_psi-9",
         "dtype": "float32"
        },
        {
         "name": "sin_psi-9",
         "dtype": "float32"
        },
        {
         "name": "dih_chi1-1",
         "dtype": "float32"
        },
        {
         "name": "cos_chi1-1",
         "dtype": "float32"
        },
        {
         "name": "sin_chi1-1",
         "dtype": "float32"
        },
        {
         "name": "dih_chi1-2",
         "dtype": "float32"
        },
        {
         "name": "cos_chi1-2",
         "dtype": "float32"
        },
        {
         "name": "sin_chi1-2",
         "dtype": "float32"
        },
        {
         "name": "dih_chi1-3",
         "dtype": "float32"
        },
        {
         "name": "cos_chi1-3",
         "dtype": "float32"
        },
        {
         "name": "sin_chi1-3",
         "dtype": "float32"
        },
        {
         "name": "dih_chi1-4",
         "dtype": "float32"
        },
        {
         "name": "cos_chi1-4",
         "dtype": "float32"
        },
        {
         "name": "sin_chi1-4",
         "dtype": "float32"
        },
        {
         "name": "dih_chi1-5",
         "dtype": "float32"
        },
        {
         "name": "cos_chi1-5",
         "dtype": "float32"
        },
        {
         "name": "sin_chi1-5",
         "dtype": "float32"
        },
        {
         "name": "dih_chi1-6",
         "dtype": "float32"
        },
        {
         "name": "cos_chi1-6",
         "dtype": "float32"
        },
        {
         "name": "sin_chi1-6",
         "dtype": "float32"
        },
        {
         "name": "dih_chi1-8",
         "dtype": "float32"
        },
        {
         "name": "cos_chi1-8",
         "dtype": "float32"
        },
        {
         "name": "sin_chi1-8",
         "dtype": "float32"
        },
        {
         "name": "dih_chi1-9",
         "dtype": "float32"
        },
        {
         "name": "cos_chi1-9",
         "dtype": "float32"
        },
        {
         "name": "sin_chi1-9",
         "dtype": "float32"
        },
        {
         "name": "dih_chi1-10",
         "dtype": "float32"
        },
        {
         "name": "cos_chi1-10",
         "dtype": "float32"
        },
        {
         "name": "sin_chi1-10",
         "dtype": "float32"
        },
        {
         "name": "dih_chi2-1",
         "dtype": "float32"
        },
        {
         "name": "cos_chi2-1",
         "dtype": "float32"
        },
        {
         "name": "sin_chi2-1",
         "dtype": "float32"
        },
        {
         "name": "dih_chi2-2",
         "dtype": "float32"
        },
        {
         "name": "cos_chi2-2",
         "dtype": "float32"
        },
        {
         "name": "sin_chi2-2",
         "dtype": "float32"
        },
        {
         "name": "dih_chi2-3",
         "dtype": "float32"
        },
        {
         "name": "cos_chi2-3",
         "dtype": "float32"
        },
        {
         "name": "sin_chi2-3",
         "dtype": "float32"
        },
        {
         "name": "dih_chi2-4",
         "dtype": "float32"
        },
        {
         "name": "cos_chi2-4",
         "dtype": "float32"
        },
        {
         "name": "sin_chi2-4",
         "dtype": "float32"
        },
        {
         "name": "dih_chi2-5",
         "dtype": "float32"
        },
        {
         "name": "cos_chi2-5",
         "dtype": "float32"
        },
        {
         "name": "sin_chi2-5",
         "dtype": "float32"
        },
        {
         "name": "dih_chi2-9",
         "dtype": "float32"
        },
        {
         "name": "cos_chi2-9",
         "dtype": "float32"
        },
        {
         "name": "sin_chi2-9",
         "dtype": "float32"
        },
        {
         "name": "dih_chi2-10",
         "dtype": "float32"
        },
        {
         "name": "cos_chi2-10",
         "dtype": "float32"
        },
        {
         "name": "sin_chi2-10",
         "dtype": "float32"
        },
        {
         "name": "_deepnote_index_column",
         "dtype": "int64"
        }
       ],
       "rows_top": [
        {
         "dih_phi-1": -2.8023781776428223,
         "cos_phi-1": -0.9430163502693176,
         "sin_phi-1": -0.3327464163303375,
         "dih_phi-2": -1.9619288444519043,
         "cos_phi-2": -0.38123562932014465,
         "sin_phi-2": -0.9244778752326965,
         "dih_phi-3": -1.1293987035751343,
         "cos_phi-3": 0.42720356583595276,
         "sin_phi-3": -0.9041554927825928,
         "dih_phi-4": -1.0449146032333374,
         "cos_phi-4": 0.5019757747650146,
         "sin_phi-4": -0.864881694316864,
         "dih_phi-5": -2.0327277183532715,
         "cos_phi-5": -0.44567790627479553,
         "sin_phi-5": -0.8951933979988098,
         "dih_phi-6": 1.4273052215576172,
         "cos_phi-6": 0.14299920201301575,
         "sin_phi-6": 0.9897227883338928,
         "dih_phi-7": -1.4845693111419678,
         "cos_phi-7": 0.08612020313739777,
         "sin_phi-7": -0.9962847828865051,
         "dih_phi-8": -1.8098493814468384,
         "cos_phi-8": -0.2367827147245407,
         "sin_phi-8": -0.9715626239776611,
         "dih_phi-9": -1.9005763530731201,
         "cos_phi-9": -0.3238348960876465,
         "sin_phi-9": -0.9461135864257812,
         "dih_psi-1": -1.8280272483825684,
         "cos_psi-1": -0.25440356135368347,
         "sin_psi-1": -0.9670981764793396,
         "dih_psi-2": 2.6346120834350586,
         "cos_psi-2": -0.8742145299911499,
         "sin_psi-2": 0.48553985357284546,
         "dih_psi-3": 1.9730095863342285,
         "cos_psi-3": -0.39145591855049133,
         "sin_psi-3": 0.9201968312263489,
         "dih_psi-4": -0.48443615436553955,
         "cos_psi-4": 0.8849377036094666,
         "sin_psi-4": -0.46570947766304016,
         "dih_psi-5": -0.8136970400810242,
         "cos_psi-5": 0.6868159770965576,
         "sin_psi-5": -0.726831316947937,
         "dih_psi-6": -0.04099975898861885,
         "cos_psi-6": 0.9991596341133118,
         "sin_psi-6": -0.04098827391862869,
         "dih_psi-7": 0.20084288716316223,
         "cos_psi-7": 0.9798987507820129,
         "sin_psi-7": 0.1994953453540802,
         "dih_psi-8": 2.5074641704559326,
         "cos_psi-8": -0.8055883049964905,
         "sin_psi-8": 0.5924756526947021,
         "dih_psi-9": 2.2437632083892822,
         "cos_psi-9": -0.6233087778091431,
         "sin_psi-9": 0.7819758057594299,
         "dih_chi1-1": 3.1177356243133545,
         "cos_chi1-1": -0.9997154474258423,
         "sin_chi1-1": 0.02385476604104042,
         "dih_chi1-2": -3.0517897605895996,
         "cos_chi1-2": -0.9959704279899597,
         "sin_chi1-2": -0.08968223631381989,
         "dih_chi1-3": 3.023066997528076,
         "cos_chi1-3": -0.9929840564727783,
         "sin_chi1-3": 0.1182483360171318,
         "dih_chi1-4": 0.33856919407844543,
         "cos_chi1-4": 0.9432308673858643,
         "sin_chi1-4": 0.3321378529071808,
         "dih_chi1-5": -1.1875172853469849,
         "cos_chi1-5": 0.3739636242389679,
         "sin_chi1-5": -0.9274433851242065,
         "dih_chi1-6": 1.1840283870697021,
         "cos_chi1-6": 0.3771970868110657,
         "sin_chi1-6": 0.9261330366134644,
         "dih_chi1-8": -0.9666117429733276,
         "cos_chi1-8": 0.5680912137031555,
         "sin_chi1-8": -0.8229656219482422,
         "dih_chi1-9": -1.2643041610717773,
         "cos_chi1-9": 0.301716148853302,
         "sin_chi1-9": -0.953397810459137,
         "dih_chi1-10": -1.2418768405914307,
         "cos_chi1-10": 0.3230206370353699,
         "sin_chi1-10": -0.9463919401168823,
         "dih_chi2-1": -1.8927065134048462,
         "cos_chi2-1": -0.316379189491272,
         "sin_chi2-1": -0.9486328363418579,
         "dih_chi2-2": 1.3042657375335693,
         "cos_chi2-2": 0.2633861303329468,
         "sin_chi2-2": 0.9646905064582825,
         "dih_chi2-3": 0.7293697595596313,
         "cos_chi2-3": 0.7455945611000061,
         "sin_chi2-3": 0.6663998961448669,
         "dih_chi2-4": -0.4007721245288849,
         "cos_chi2-4": 0.9207600355148315,
         "sin_chi2-4": -0.3901293873786926,
         "dih_chi2-5": -3.1306111812591553,
         "cos_chi2-5": -0.9999396800994873,
         "sin_chi2-5": -0.010981251485645771,
         "dih_chi2-9": 1.6696622371673584,
         "cos_chi2-9": -0.09870492666959763,
         "sin_chi2-9": 0.9951167702674866,
         "dih_chi2-10": 1.5798858404159546,
         "cos_chi2-10": -0.009089388884603977,
         "sin_chi2-10": 0.9999586939811707,
         "_deepnote_index_column": 0
        },
        {
         "dih_phi-1": -1.6474765539169312,
         "cos_phi-1": -0.07660510390996933,
         "sin_phi-1": -0.9970614910125732,
         "dih_phi-2": -1.612324833869934,
         "cos_phi-2": -0.04151657223701477,
         "sin_phi-2": -0.999137818813324,
         "dih_phi-3": -1.3391615152359009,
         "cos_phi-3": 0.2295689731836319,
         "sin_phi-3": -0.9732924103736877,
         "dih_phi-4": -1.4047117233276367,
         "cos_phi-4": 0.16532211005687714,
         "sin_phi-4": -0.9862396121025085,
         "dih_phi-5": -2.0364460945129395,
         "cos_phi-5": -0.4490034580230713,
         "sin_phi-5": -0.893530011177063,
         "dih_phi-6": 1.5157769918441772,
         "cos_phi-6": 0.05499158054590225,
         "sin_phi-6": 0.9984868168830872,
         "dih_phi-7": -1.8970515727996826,
         "cos_phi-7": -0.3204980492591858,
         "sin_phi-7": -0.947249174118042,
         "dih_phi-8": -1.2746875286102295,
         "cos_phi-8": 0.2918005883693695,
         "sin_phi-8": -0.9564791917800903,
         "dih_phi-9": -2.4446496963500977,
         "cos_phi-9": -0.7668079733848572,
         "sin_phi-9": -0.6418765783309937,
         "dih_psi-1": 2.9372341632843018,
         "cos_psi-1": -0.9791913628578186,
         "sin_psi-1": 0.20293903350830078,
         "dih_psi-2": 2.236210823059082,
         "cos_psi-2": -0.6173852682113647,
         "sin_psi-2": 0.7866609692573547,
         "dih_psi-3": 1.8320034742355347,
         "cos_psi-3": -0.25824692845344543,
         "sin_psi-3": 0.9660789370536804,
         "dih_psi-4": -0.1042897179722786,
         "cos_psi-4": 0.9945667386054993,
         "sin_psi-4": -0.1041007712483406,
         "dih_psi-5": -0.6104650497436523,
         "cos_psi-5": 0.8193815350532532,
         "sin_psi-5": -0.573248565196991,
         "dih_psi-6": -0.11479885131120682,
         "cos_psi-6": 0.9934178590774536,
         "sin_psi-6": -0.11454686522483826,
         "dih_psi-7": 0.28506866097450256,
         "cos_psi-7": 0.9596423506736755,
         "sin_psi-7": 0.2812233567237854,
         "dih_psi-8": 1.9938093423843384,
         "cos_psi-8": -0.41050973534584045,
         "sin_psi-8": 0.9118562340736389,
         "dih_psi-9": 2.613250494003296,
         "cos_psi-9": -0.8636439442634583,
         "sin_psi-9": 0.5041022896766663,
         "dih_chi1-1": -1.0944404602050781,
         "cos_chi1-1": 0.4585438072681427,
         "sin_chi1-1": -0.8886718153953552,
         "dih_chi1-2": -3.132018566131592,
         "cos_chi1-2": -0.9999541640281677,
         "sin_chi1-2": -0.009573941119015217,
         "dih_chi1-3": 3.0096890926361084,
         "cos_chi1-3": -0.9913133382797241,
         "sin_chi1-3": 0.13152140378952026,
         "dih_chi1-4": 0.46952152252197266,
         "cos_chi1-4": 0.8917849063873291,
         "sin_chi1-4": 0.4524596333503723,
         "dih_chi1-5": -3.0461041927337646,
         "cos_chi1-5": -0.9954444169998169,
         "sin_chi1-5": -0.09534341096878052,
         "dih_chi1-6": 1.2108219861984253,
         "cos_chi1-6": 0.35225021839141846,
         "sin_chi1-6": 0.9359058737754822,
         "dih_chi1-8": -1.0922982692718506,
         "cos_chi1-8": 0.46044644713401794,
         "sin_chi1-8": -0.8876875042915344,
         "dih_chi1-9": -1.084425687789917,
         "cos_chi1-9": 0.4674205183982849,
         "sin_chi1-9": -0.8840351104736328,
         "dih_chi1-10": -1.090768814086914,
         "cos_chi1-10": 0.4618035852909088,
         "sin_chi1-10": -0.8869822025299072,
         "dih_chi2-1": 1.9396326541900635,
         "cos_chi2-1": -0.3605302572250366,
         "sin_chi2-1": 0.9327475428581238,
         "dih_chi2-2": -2.0012760162353516,
         "cos_chi2-2": -0.4173067510128021,
         "sin_chi2-2": -0.9087656736373901,
         "dih_chi2-3": -2.7516937255859375,
         "cos_chi2-3": -0.9249475002288818,
         "sin_chi2-3": -0.3800949156284332,
         "dih_chi2-4": -0.5487080216407776,
         "cos_chi2-4": 0.8531991243362427,
         "sin_chi2-4": -0.5215853452682495,
         "dih_chi2-5": 1.4106961488723755,
         "cos_chi2-5": 0.15941710770130157,
         "sin_chi2-5": 0.9872113466262817,
         "dih_chi2-9": 1.9780970811843872,
         "cos_chi2-9": -0.39613232016563416,
         "sin_chi2-9": 0.9181934595108032,
         "dih_chi2-10": 1.9350332021713257,
         "cos_chi2-10": -0.3562363386154175,
         "sin_chi2-10": 0.9343959093093872,
         "_deepnote_index_column": 1
        },
        {
         "dih_phi-1": -2.3121774196624756,
         "cos_phi-1": -0.6753071546554565,
         "sin_phi-1": -0.737536609172821,
         "dih_phi-2": -2.146756649017334,
         "cos_phi-2": -0.5446404218673706,
         "sin_phi-2": -0.8386696577072144,
         "dih_phi-3": -0.9541088938713074,
         "cos_phi-3": 0.5783359408378601,
         "sin_phi-3": -0.8157986998558044,
         "dih_phi-4": -1.2397868633270264,
         "cos_phi-4": 0.3249978721141815,
         "sin_phi-4": -0.9457147717475891,
         "dih_phi-5": -1.660120964050293,
         "cos_phi-5": -0.08920589834451675,
         "sin_phi-5": -0.9960132241249084,
         "dih_phi-6": 1.3839612007141113,
         "cos_phi-6": 0.18575003743171692,
         "sin_phi-6": 0.9825970530509949,
         "dih_phi-7": -1.4705822467803955,
         "cos_phi-7": 0.10004642605781555,
         "sin_phi-7": -0.9949827790260315,
         "dih_phi-8": -1.6595711708068848,
         "cos_phi-8": -0.08865828812122345,
         "sin_phi-8": -0.9960620999336243,
         "dih_phi-9": -2.1331870555877686,
         "cos_phi-9": -0.533210277557373,
         "sin_phi-9": -0.8459827303886414,
         "dih_psi-1": 2.7676234245300293,
         "cos_psi-1": -0.9308846592903137,
         "sin_psi-1": 0.36531320214271545,
         "dih_psi-2": 2.5107877254486084,
         "cos_psi-2": -0.8075529932975769,
         "sin_psi-2": 0.5897949934005737,
         "dih_psi-3": 1.8245794773101807,
         "cos_psi-3": -0.2510676980018616,
         "sin_psi-3": 0.967969536781311,
         "dih_psi-4": -0.43725430965423584,
         "cos_psi-4": 0.905917763710022,
         "sin_psi-4": -0.423453688621521,
         "dih_psi-5": -0.8020785450935364,
         "cos_psi-5": 0.6952141523361206,
         "sin_psi-5": -0.7188026905059814,
         "dih_psi-6": -0.3339306712150574,
         "cos_psi-6": 0.944761335849762,
         "sin_psi-6": -0.3277590870857239,
         "dih_psi-7": 0.13776344060897827,
         "cos_psi-7": 0.9905256032943726,
         "sin_psi-7": 0.13732808828353882,
         "dih_psi-8": 2.4186148643493652,
         "cos_psi-8": -0.7498388886451721,
         "sin_psi-8": 0.6616204977035522,
         "dih_psi-9": 2.304544448852539,
         "cos_psi-9": -0.6696579456329346,
         "sin_psi-9": 0.7426696419715881,
         "dih_chi1-1": -1.1856000423431396,
         "cos_chi1-1": 0.37574106454849243,
         "sin_chi1-1": -0.9267246723175049,
         "dih_chi1-2": -2.9623782634735107,
         "cos_chi1-2": -0.9839840531349182,
         "sin_chi1-2": -0.17825660109519958,
         "dih_chi1-3": -3.1214358806610107,
         "cos_chi1-3": -0.9997968673706055,
         "sin_chi1-3": -0.0201554074883461,
         "dih_chi1-4": -0.31746602058410645,
         "cos_chi1-4": 0.9500294923782349,
         "sin_chi1-4": -0.3121602237224579,
         "dih_chi1-5": -3.1085236072540283,
         "cos_chi1-5": -0.9994532465934753,
         "sin_chi1-5": -0.033063020557165146,
         "dih_chi1-6": 1.1073673963546753,
         "cos_chi1-6": 0.44701799750328064,
         "sin_chi1-6": 0.8945249915122986,
         "dih_chi1-8": -1.2529493570327759,
         "cos_chi1-8": 0.31252211332321167,
         "sin_chi1-8": -0.9499104619026184,
         "dih_chi1-9": -1.352451205253601,
         "cos_chi1-9": 0.21661433577537537,
         "sin_chi1-9": -0.9762572646141052,
         "dih_chi1-10": -1.4523845911026,
         "cos_chi1-10": 0.11813521385192871,
         "sin_chi1-10": -0.9929975271224976,
         "dih_chi2-1": 1.5323700904846191,
         "cos_chi2-1": 0.0384167805314064,
         "sin_chi2-1": 0.9992617964744568,
         "dih_chi2-2": -1.9914286136627197,
         "cos_chi2-2": -0.40833768248558044,
         "sin_chi2-2": -0.9128309488296509,
         "dih_chi2-3": 0.9893144369125366,
         "cos_chi2-3": 0.5492628812789917,
         "sin_chi2-3": 0.8356496095657349,
         "dih_chi2-4": 0.522950291633606,
         "cos_chi2-4": 0.866349458694458,
         "sin_chi2-4": 0.4994382858276367,
         "dih_chi2-5": 2.866121768951416,
         "cos_chi2-5": -0.9622972011566162,
         "sin_chi2-5": 0.27200010418891907,
         "dih_chi2-9": -1.5570358037948608,
         "cos_chi2-9": 0.013760088942945004,
         "sin_chi2-9": -0.9999053478240967,
         "dih_chi2-10": 1.7869881391525269,
         "cos_chi2-10": -0.21451164782047272,
         "sin_chi2-10": 0.9767214059829712,
         "_deepnote_index_column": 2
        },
        {
         "dih_phi-1": -1.280259370803833,
         "cos_phi-1": 0.28646671772003174,
         "sin_phi-1": -0.9580901861190796,
         "dih_phi-2": -1.8330374956130981,
         "cos_phi-2": -0.25924572348594666,
         "sin_phi-2": -0.9658113718032837,
         "dih_phi-3": -1.0948646068572998,
         "cos_phi-3": 0.45816683769226074,
         "sin_phi-3": -0.8888662457466125,
         "dih_phi-4": -1.4206812381744385,
         "cos_phi-4": 0.14955192804336548,
         "sin_phi-4": -0.9887538552284241,
         "dih_phi-5": -1.591975450515747,
         "cos_phi-5": -0.021177539601922035,
         "sin_phi-5": -0.9997757077217102,
         "dih_phi-6": 1.5023430585861206,
         "cos_phi-6": 0.0683998167514801,
         "sin_phi-6": 0.9976580142974854,
         "dih_phi-7": -1.4118144512176514,
         "cos_phi-7": 0.15831300616264343,
         "sin_phi-7": -0.9873889684677124,
         "dih_phi-8": -1.484032154083252,
         "cos_phi-8": 0.08665534853935242,
         "sin_phi-8": -0.9962383508682251,
         "dih_phi-9": -1.6060796976089478,
         "cos_phi-9": -0.03527605161070824,
         "sin_phi-9": -0.9993776082992554,
         "dih_psi-1": 3.0123376846313477,
         "cos_psi-1": -0.9916582107543945,
         "sin_psi-1": 0.1288953572511673,
         "dih_psi-2": 2.332756519317627,
         "cos_psi-2": -0.6903409361839294,
         "sin_psi-2": 0.723484218120575,
         "dih_psi-3": 1.8970844745635986,
         "cos_psi-3": -0.3205292224884033,
         "sin_psi-3": 0.9472386240959167,
         "dih_psi-4": -0.08087015151977539,
         "cos_psi-4": 0.9967318177223206,
         "sin_psi-4": -0.08078203350305557,
         "dih_psi-5": -0.8097079992294312,
         "cos_psi-5": 0.6897099018096924,
         "sin_psi-5": -0.724085807800293,
         "dih_psi-6": -0.6049079895019531,
         "cos_psi-6": 0.8225544095039368,
         "sin_psi-6": -0.5686863660812378,
         "dih_psi-7": 0.07292673736810684,
         "cos_psi-7": 0.997342050075531,
         "sin_psi-7": 0.07286211103200912,
         "dih_psi-8": 2.196500778198242,
         "cos_psi-8": -0.5856684446334839,
         "sin_psi-8": 0.8105507493019104,
         "dih_psi-9": 1.8634095191955566,
         "cos_psi-9": -0.2884553074836731,
         "sin_psi-9": 0.9574933648109436,
         "dih_chi1-1": -1.1859323978424072,
         "cos_chi1-1": 0.3754330277442932,
         "sin_chi1-1": -0.9268495440483093,
         "dih_chi1-2": 3.0744454860687256,
         "cos_chi1-2": -0.997746467590332,
         "sin_chi1-2": 0.06709671765565872,
         "dih_chi1-3": 3.0583386421203613,
         "cos_chi1-3": -0.996536374092102,
         "sin_chi1-3": 0.08315786719322205,
         "dih_chi1-4": 0.701818585395813,
         "cos_chi1-4": 0.7636693716049194,
         "sin_chi1-4": 0.6456075310707092,
         "dih_chi1-5": -3.112632989883423,
         "cos_chi1-5": -0.9995806813240051,
         "sin_chi1-5": -0.028955616056919098,
         "dih_chi1-6": 0.8936067223548889,
         "cos_chi1-6": 0.6266052722930908,
         "sin_chi1-6": 0.7793368101119995,
         "dih_chi1-8": -1.0972239971160889,
         "cos_chi1-8": 0.45606836676597595,
         "sin_chi1-8": -0.8899447321891785,
         "dih_chi1-9": -1.6865746974945068,
         "cos_chi1-9": -0.11551988124847412,
         "sin_chi1-9": -0.9933051466941833,
         "dih_chi1-10": -1.0754501819610596,
         "cos_chi1-10": 0.4753362238407135,
         "sin_chi1-10": -0.8798041939735413,
         "dih_chi2-1": 1.9261614084243774,
         "cos_chi2-1": -0.3479326367378235,
         "sin_chi2-1": 0.9375195503234863,
         "dih_chi2-2": 1.2333378791809082,
         "cos_chi2-2": 0.33108997344970703,
         "sin_chi2-2": 0.9435991644859314,
         "dih_chi2-3": -2.690154552459717,
         "cos_chi2-3": -0.8998206257820129,
         "sin_chi2-3": -0.43626001477241516,
         "dih_chi2-4": -0.667419970035553,
         "cos_chi2-4": 0.7854211926460266,
         "sin_chi2-4": -0.6189616322517395,
         "dih_chi2-5": -3.0603439807891846,
         "cos_chi2-5": -0.9967011213302612,
         "sin_chi2-5": -0.081159308552742,
         "dih_chi2-9": -1.8949719667434692,
         "cos_chi2-9": -0.3185274600982666,
         "sin_chi2-9": -0.947913646697998,
         "dih_chi2-10": 1.9058195352554321,
         "cos_chi2-10": -0.328791081905365,
         "sin_chi2-10": 0.9444026947021484,
         "_deepnote_index_column": 3
        }
       ],
       "rows_bottom": [
        {
         "dih_phi-1": -1.8552558422088623,
         "cos_phi-1": -0.280638724565506,
         "sin_phi-1": -0.9598134756088257,
         "dih_phi-2": -1.8018704652786255,
         "cos_phi-2": -0.22902324795722961,
         "sin_phi-2": -0.9734209775924683,
         "dih_phi-3": -1.4348978996276855,
         "cos_phi-3": 0.13548050820827484,
         "sin_phi-3": -0.9907799959182739,
         "dih_phi-4": -1.4640284776687622,
         "cos_phi-4": 0.10656511783599854,
         "sin_phi-4": -0.9943057298660278,
         "dih_phi-5": -1.587830901145935,
         "cos_phi-5": -0.01703375019133091,
         "sin_phi-5": -0.9998549222946167,
         "dih_phi-6": -0.993205726146698,
         "cos_phi-6": 0.546006977558136,
         "sin_phi-6": -0.8377806544303894,
         "dih_phi-7": -1.3400444984436035,
         "cos_phi-7": 0.22870948910713196,
         "sin_phi-7": -0.9734947085380554,
         "dih_phi-8": -2.578369140625,
         "cos_phi-8": -0.8455384373664856,
         "sin_phi-8": -0.5339146256446838,
         "dih_phi-9": -2.036705493927002,
         "cos_phi-9": -0.4492352306842804,
         "sin_phi-9": -0.8934134840965271,
         "dih_psi-1": 2.954202890396118,
         "cos_psi-1": -0.9824938774108887,
         "sin_psi-1": 0.18629498779773712,
         "dih_psi-2": -0.7526430487632751,
         "cos_psi-2": 0.729884684085846,
         "sin_psi-2": -0.6835702657699585,
         "dih_psi-3": 1.9903717041015625,
         "cos_psi-3": -0.40737268328666687,
         "sin_psi-3": 0.9132620096206665,
         "dih_psi-4": 2.939082384109497,
         "cos_psi-4": -0.9795647859573364,
         "sin_psi-4": 0.20112892985343933,
         "dih_psi-5": 1.6460723876953125,
         "cos_psi-5": -0.0752049908041954,
         "sin_psi-5": 0.9971681237220764,
         "dih_psi-6": 0.7422560453414917,
         "cos_psi-6": 0.7369454503059387,
         "sin_psi-6": 0.6759521961212158,
         "dih_psi-7": 2.8299903869628906,
         "cos_psi-7": -0.9518435597419739,
         "sin_psi-7": 0.30658411979675293,
         "dih_psi-8": 0.829750657081604,
         "cos_psi-8": 0.6750597357749939,
         "sin_psi-8": 0.7377631068229675,
         "dih_psi-9": 0.24283534288406372,
         "cos_psi-9": 0.9706600904464722,
         "sin_psi-9": 0.2404557466506958,
         "dih_chi1-1": -1.0364069938659668,
         "cos_chi1-1": 0.5093156099319458,
         "sin_chi1-1": -0.8605798482894897,
         "dih_chi1-2": -1.3638486862182617,
         "cos_chi1-2": 0.2054736316204071,
         "sin_chi1-2": -0.9786626696586609,
         "dih_chi1-3": -1.1139180660247803,
         "cos_chi1-3": 0.4411487281322479,
         "sin_chi1-3": -0.8974339962005615,
         "dih_chi1-4": 0.6495736241340637,
         "cos_chi1-4": 0.7963417768478394,
         "sin_chi1-4": 0.6048468947410583,
         "dih_chi1-5": -3.047232151031494,
         "cos_chi1-5": -0.995551347732544,
         "sin_chi1-5": -0.09422053396701813,
         "dih_chi1-6": 0.7608179450035095,
         "cos_chi1-6": 0.7242722511291504,
         "sin_chi1-6": 0.6895141005516052,
         "dih_chi1-8": 0.7803090214729309,
         "cos_chi1-8": 0.7106961607933044,
         "sin_chi1-8": 0.7034990787506104,
         "dih_chi1-9": 0.2781204879283905,
         "cos_chi1-9": 0.9615731835365295,
         "sin_chi1-9": 0.27454885840415955,
         "dih_chi1-10": -0.9597584009170532,
         "cos_chi1-10": 0.5737178921699524,
         "sin_chi1-10": -0.8190529942512512,
         "dih_chi2-1": -1.1256048679351807,
         "cos_chi2-1": 0.43063071370124817,
         "sin_chi2-1": -0.9025282263755798,
         "dih_chi2-2": -1.6957414150238037,
         "cos_chi2-2": -0.12462025135755539,
         "sin_chi2-2": -0.992204487323761,
         "dih_chi2-3": -1.1409190893173218,
         "cos_chi2-3": 0.4167592227458954,
         "sin_chi2-3": -0.9090169072151184,
         "dih_chi2-4": -0.8134580254554749,
         "cos_chi2-4": 0.6869897246360779,
         "sin_chi2-4": -0.7266671657562256,
         "dih_chi2-5": -2.8175547122955322,
         "cos_chi2-5": -0.947957456111908,
         "sin_chi2-5": -0.3183969259262085,
         "dih_chi2-9": 1.6251147985458374,
         "cos_chi2-9": -0.05429176613688469,
         "sin_chi2-9": 0.9985251426696777,
         "dih_chi2-10": -0.8026854395866394,
         "cos_chi2-10": 0.69477778673172,
         "sin_chi2-10": -0.7192244529724121,
         "_deepnote_index_column": 52470
        },
        {
         "dih_phi-1": -1.5453360080718994,
         "cos_phi-1": 0.02545756846666336,
         "sin_phi-1": -0.9996759295463562,
         "dih_phi-2": -1.676052212715149,
         "cos_phi-2": -0.10506164282560349,
         "sin_phi-2": -0.994465708732605,
         "dih_phi-3": -1.1916190385818481,
         "cos_phi-3": 0.37015634775161743,
         "sin_phi-3": -0.9289695024490356,
         "dih_phi-4": -1.1883914470672607,
         "cos_phi-4": 0.3731527328491211,
         "sin_phi-4": -0.9277698993682861,
         "dih_phi-5": -2.2125415802001953,
         "cos_phi-5": -0.5985944271087646,
         "sin_phi-5": -0.8010522723197937,
         "dih_phi-6": 1.6015965938568115,
         "cos_phi-6": -0.030795397236943245,
         "sin_phi-6": 0.9995257258415222,
         "dih_phi-7": -1.194074034690857,
         "cos_phi-7": 0.3678745925426483,
         "sin_phi-7": -0.9298754334449768,
         "dih_phi-8": -1.3035705089569092,
         "cos_phi-8": 0.2640567421913147,
         "sin_phi-8": -0.9645071625709534,
         "dih_phi-9": -1.2029006481170654,
         "cos_phi-9": 0.35965272784233093,
         "sin_phi-9": -0.9330862164497375,
         "dih_psi-1": -1.006934642791748,
         "cos_psi-1": 0.5344540476799011,
         "sin_psi-1": -0.8451975584030151,
         "dih_psi-2": -0.019437309354543686,
         "cos_psi-2": 0.9998111128807068,
         "sin_psi-2": -0.01943608559668064,
         "dih_psi-3": 1.8953627347946167,
         "cos_psi-3": -0.3188978433609009,
         "sin_psi-3": 0.9477890729904175,
         "dih_psi-4": 2.8047707080841064,
         "cos_psi-4": -0.9438097476959229,
         "sin_psi-4": 0.33048927783966064,
         "dih_psi-5": 2.130028009414673,
         "cos_psi-5": -0.530535101890564,
         "sin_psi-5": 0.8476629853248596,
         "dih_psi-6": -0.034364212304353714,
         "cos_psi-6": 0.9994096159934998,
         "sin_psi-6": -0.034357450902462006,
         "dih_psi-7": 0.46307820081710815,
         "cos_psi-7": 0.8946816921234131,
         "sin_psi-7": 0.446704238653183,
         "dih_psi-8": -0.29474887251853943,
         "cos_psi-8": 0.9568751454353333,
         "sin_psi-8": -0.29049956798553467,
         "dih_psi-9": -0.3623606562614441,
         "cos_psi-9": 0.9350625872612,
         "sin_psi-9": -0.35448259115219116,
         "dih_chi1-1": -2.8310112953186035,
         "cos_chi1-1": -0.9521560668945312,
         "sin_chi1-1": -0.3056122362613678,
         "dih_chi1-2": -1.0014071464538574,
         "cos_chi1-2": 0.539117693901062,
         "sin_chi1-2": -0.8422304391860962,
         "dih_chi1-3": -0.9926864504814148,
         "cos_chi1-3": 0.546441912651062,
         "sin_chi1-3": -0.8374969959259033,
         "dih_chi1-4": 0.37042927742004395,
         "cos_chi1-4": 0.9321720004081726,
         "sin_chi1-4": 0.36201563477516174,
         "dih_chi1-5": 0.6855011582374573,
         "cos_chi1-5": 0.7741018533706665,
         "sin_chi1-5": 0.6330610513687134,
         "dih_chi1-6": 1.1631523370742798,
         "cos_chi1-6": 0.39644747972488403,
         "sin_chi1-6": 0.918057382106781,
         "dih_chi1-8": 0.7534346580505371,
         "cos_chi1-8": 0.7293433547019958,
         "sin_chi1-8": 0.684147834777832,
         "dih_chi1-9": 1.1247050762176514,
         "cos_chi1-9": 0.43144261837005615,
         "sin_chi1-9": 0.9021403789520264,
         "dih_chi1-10": -1.507699728012085,
         "cos_chi1-10": 0.06305474042892456,
         "sin_chi1-10": -0.9980100989341736,
         "dih_chi2-1": 0.12788903713226318,
         "cos_chi2-1": 0.9918333292007446,
         "sin_chi2-1": 0.1275407075881958,
         "dih_chi2-2": 2.106675148010254,
         "cos_chi2-2": -0.5105968713760376,
         "sin_chi2-2": 0.8598202466964722,
         "dih_chi2-3": 1.866564393043518,
         "cos_chi2-3": -0.2914746403694153,
         "sin_chi2-3": 0.9565785527229309,
         "dih_chi2-4": -0.4988757073879242,
         "cos_chi2-4": 0.878121018409729,
         "sin_chi2-4": -0.4784385859966278,
         "dih_chi2-5": -2.803253412246704,
         "cos_chi2-5": -0.9433072209358215,
         "sin_chi2-5": -0.33192095160484314,
         "dih_chi2-9": 1.700710415840149,
         "cos_chi2-9": -0.12954895198345184,
         "sin_chi2-9": 0.9915730357170105,
         "dih_chi2-10": -1.0109773874282837,
         "cos_chi2-10": 0.5310328006744385,
         "sin_chi2-10": -0.8473512530326843,
         "_deepnote_index_column": 52471
        },
        {
         "dih_phi-1": -1.4930647611618042,
         "cos_phi-1": 0.07765331119298935,
         "sin_phi-1": -0.9969804286956787,
         "dih_phi-2": -0.9795675277709961,
         "cos_phi-2": 0.5573816299438477,
         "sin_phi-2": -0.8302564024925232,
         "dih_phi-3": -1.172224521636963,
         "cos_phi-3": 0.3881025016307831,
         "sin_phi-3": -0.9216161966323853,
         "dih_phi-4": -1.1146081686019897,
         "cos_phi-4": 0.4405292868614197,
         "sin_phi-4": -0.8977382183074951,
         "dih_phi-5": -1.9396454095840454,
         "cos_phi-5": -0.3605421483516693,
         "sin_phi-5": -0.9327429533004761,
         "dih_phi-6": 1.5060322284698486,
         "cos_phi-6": 0.0647188350558281,
         "sin_phi-6": 0.9979035258293152,
         "dih_phi-7": -1.1474344730377197,
         "cos_phi-7": 0.4108278155326843,
         "sin_phi-7": -0.9117129445075989,
         "dih_phi-8": -1.3774765729904175,
         "cos_phi-8": 0.1921178549528122,
         "sin_phi-8": -0.9813718795776367,
         "dih_phi-9": -1.8095182180404663,
         "cos_phi-9": -0.23646095395088196,
         "sin_phi-9": -0.9716410040855408,
         "dih_psi-1": 2.26992130279541,
         "cos_psi-1": -0.6435481905937195,
         "sin_psi-1": 0.7654055953025818,
         "dih_psi-2": -0.4756535291671753,
         "cos_psi-2": 0.8889936208724976,
         "sin_psi-2": -0.45791953802108765,
         "dih_psi-3": 2.2555510997772217,
         "cos_psi-3": -0.6324831247329712,
         "sin_psi-3": 0.7745741605758667,
         "dih_psi-4": 2.7403554916381836,
         "cos_psi-4": -0.9205785393714905,
         "sin_psi-4": 0.39055755734443665,
         "dih_psi-5": 1.4672338962554932,
         "cos_psi-5": 0.10337740927934647,
         "sin_psi-5": 0.9946421980857849,
         "dih_psi-6": 0.12322641909122467,
         "cos_psi-6": 0.9924172163009644,
         "sin_psi-6": 0.12291479855775833,
         "dih_psi-7": 0.10461349040269852,
         "cos_psi-7": 0.9945330023765564,
         "sin_psi-7": 0.10442277789115906,
         "dih_psi-8": -0.7721009254455566,
         "cos_psi-8": 0.716446578502655,
         "sin_psi-8": -0.6976419687271118,
         "dih_psi-9": -0.08869750797748566,
         "cos_psi-9": 0.9960689544677734,
         "sin_psi-9": -0.08858124911785126,
         "dih_chi1-1": -2.6500635147094727,
         "cos_chi1-1": -0.8816121816635132,
         "sin_chi1-1": -0.47197455167770386,
         "dih_chi1-2": -1.1141172647476196,
         "cos_chi1-2": 0.44096994400024414,
         "sin_chi1-2": -0.8975218534469604,
         "dih_chi1-3": -1.061239242553711,
         "cos_chi1-3": 0.48779064416885376,
         "sin_chi1-3": -0.87296062707901,
         "dih_chi1-4": 0.4156208038330078,
         "cos_chi1-4": 0.9148658514022827,
         "sin_chi1-4": 0.4037579596042633,
         "dih_chi1-5": -2.810054302215576,
         "cos_chi1-5": -0.9455427527427673,
         "sin_chi1-5": -0.32549798488616943,
         "dih_chi1-6": 0.36258620023727417,
         "cos_chi1-6": 0.9349826574325562,
         "sin_chi1-6": 0.3546934723854065,
         "dih_chi1-8": 0.8102237582206726,
         "cos_chi1-8": 0.689336359500885,
         "sin_chi1-8": 0.7244414687156677,
         "dih_chi1-9": 0.9332435131072998,
         "cos_chi1-9": 0.595230758190155,
         "sin_chi1-9": 0.8035548329353333,
         "dih_chi1-10": -1.1659163236618042,
         "cos_chi1-10": 0.39390847086906433,
         "sin_chi1-10": -0.9191496968269348,
         "dih_chi2-1": -1.7898807525634766,
         "cos_chi2-1": -0.2173360288143158,
         "sin_chi2-1": -0.9760968685150146,
         "dih_chi2-2": 2.6148576736450195,
         "cos_chi2-2": -0.8644530177116394,
         "sin_chi2-2": 0.5027136206626892,
         "dih_chi2-3": 0.7799246907234192,
         "cos_chi2-3": 0.7109665274620056,
         "sin_chi2-3": 0.7032259106636047,
         "dih_chi2-4": -0.6748478412628174,
         "cos_chi2-4": 0.7808020114898682,
         "sin_chi2-4": -0.6247785091400146,
         "dih_chi2-5": 2.8427884578704834,
         "cos_chi2-5": -0.9556891918182373,
         "sin_chi2-5": 0.2943775951862335,
         "dih_chi2-9": 1.4904730319976807,
         "cos_chi2-9": 0.08023694902658463,
         "sin_chi2-9": 0.9967758059501648,
         "dih_chi2-10": -0.6543353796005249,
         "cos_chi2-10": 0.7934526205062866,
         "sin_chi2-10": -0.6086320281028748,
         "_deepnote_index_column": 52472
        },
        {
         "dih_phi-1": -1.6143672466278076,
         "cos_phi-1": -0.04355713725090027,
         "sin_phi-1": -0.9990509152412415,
         "dih_phi-2": -1.9995888471603394,
         "cos_phi-2": -0.4157729148864746,
         "sin_phi-2": -0.9094684720039368,
         "dih_phi-3": -1.0337060689926147,
         "cos_phi-3": 0.5116381049156189,
         "sin_phi-3": -0.8592010736465454,
         "dih_phi-4": -1.6501199007034302,
         "cos_phi-4": -0.07924041152000427,
         "sin_phi-4": -0.9968555569648743,
         "dih_phi-5": -1.1152904033660889,
         "cos_phi-5": 0.439916729927063,
         "sin_phi-5": -0.8980385661125183,
         "dih_phi-6": 1.6097909212112427,
         "cos_phi-6": -0.03898471221327782,
         "sin_phi-6": 0.9992398023605347,
         "dih_phi-7": -1.2374708652496338,
         "cos_phi-7": 0.32718726992607117,
         "sin_phi-7": -0.9449595212936401,
         "dih_phi-8": -0.9483484029769897,
         "cos_phi-8": 0.5830256938934326,
         "sin_phi-8": -0.8124536871910095,
         "dih_phi-9": -1.486247181892395,
         "cos_phi-9": 0.0844484493136406,
         "sin_phi-9": -0.9964278340339661,
         "dih_psi-1": 2.7805473804473877,
         "cos_psi-1": -0.9355280995368958,
         "sin_psi-1": 0.3532523214817047,
         "dih_psi-2": 0.22704528272151947,
         "cos_psi-2": 0.9743357300758362,
         "sin_psi-2": 0.2250996232032776,
         "dih_psi-3": 2.8285012245178223,
         "cos_psi-3": -0.9513859748840332,
         "sin_psi-3": 0.30800125002861023,
         "dih_psi-4": 2.1636803150177,
         "cos_psi-4": -0.5587551593780518,
         "sin_psi-4": 0.8293326497077942,
         "dih_psi-5": 0.7917479872703552,
         "cos_psi-5": 0.7026025652885437,
         "sin_psi-5": 0.7115824818611145,
         "dih_psi-6": -0.4023871123790741,
         "cos_psi-6": 0.9201287627220154,
         "sin_psi-6": -0.3916158974170685,
         "dih_psi-7": 0.4131079316139221,
         "cos_psi-7": 0.9158775210380554,
         "sin_psi-7": 0.4014577567577362,
         "dih_psi-8": -0.1511802226305008,
         "cos_psi-8": 0.9885939955711365,
         "sin_psi-8": -0.1506049931049347,
         "dih_psi-9": -0.5118657946586609,
         "cos_psi-9": 0.8718321323394775,
         "sin_psi-9": -0.489804744720459,
         "dih_chi1-1": -1.1153050661087036,
         "cos_chi1-1": 0.4399035573005676,
         "sin_chi1-1": -0.898045003414154,
         "dih_chi1-2": -0.8853484988212585,
         "cos_chi1-2": 0.633019745349884,
         "sin_chi1-2": -0.7741356492042542,
         "dih_chi1-3": -1.0545881986618042,
         "cos_chi1-3": 0.4935859143733978,
         "sin_chi1-3": -0.8696970343589783,
         "dih_chi1-4": -0.5404143333435059,
         "cos_chi1-4": 0.8574956059455872,
         "sin_chi1-4": -0.5144913196563721,
         "dih_chi1-5": -1.056670904159546,
         "cos_chi1-5": 0.4917735159397125,
         "sin_chi1-5": -0.8707231283187866,
         "dih_chi1-6": 0.9262933731079102,
         "cos_chi1-6": 0.6008011698722839,
         "sin_chi1-6": 0.7993984818458557,
         "dih_chi1-8": 0.6431991457939148,
         "cos_chi1-8": 0.8001811504364014,
         "sin_chi1-8": 0.5997583866119385,
         "dih_chi1-9": 0.9310219287872314,
         "cos_chi1-9": 0.5970144867897034,
         "sin_chi1-9": 0.8022304773330688,
         "dih_chi1-10": -1.2457090616226196,
         "cos_chi1-10": 0.31939148902893066,
         "sin_chi1-10": -0.9476228356361389,
         "dih_chi2-1": -1.169142723083496,
         "cos_chi2-1": 0.39094090461730957,
         "sin_chi2-1": -0.9204157590866089,
         "dih_chi2-2": -0.5984463691711426,
         "cos_chi2-2": 0.8262118697166443,
         "sin_chi2-2": -0.5633594989776611,
         "dih_chi2-3": 2.5110082626342773,
         "cos_chi2-3": -0.8076830506324768,
         "sin_chi2-3": 0.5896168947219849,
         "dih_chi2-4": 0.5604870915412903,
         "cos_chi2-4": 0.8469962477684021,
         "sin_chi2-4": 0.5315988063812256,
         "dih_chi2-5": 3.085803508758545,
         "cos_chi2-5": -0.9984441995620728,
         "sin_chi2-5": 0.0557602122426033,
         "dih_chi2-9": 1.6299635171890259,
         "cos_chi2-9": -0.05913267657160759,
         "sin_chi2-9": 0.9982501268386841,
         "dih_chi2-10": -0.8939101696014404,
         "cos_chi2-10": 0.6263687014579773,
         "sin_chi2-10": -0.7795268893241882,
         "_deepnote_index_column": 52473
        },
        {
         "dih_phi-1": -1.5907872915267944,
         "cos_phi-1": -0.019989632070064545,
         "sin_phi-1": -0.9998002052307129,
         "dih_phi-2": -1.1652557849884033,
         "cos_phi-2": 0.3945155143737793,
         "sin_phi-2": -0.9188892841339111,
         "dih_phi-3": -1.2628031969070435,
         "cos_phi-3": 0.3031468391418457,
         "sin_phi-3": -0.9529438614845276,
         "dih_phi-4": -1.8301329612731934,
         "cos_phi-4": -0.2564394176006317,
         "sin_phi-4": -0.9665603041648865,
         "dih_phi-5": -1.183462381362915,
         "cos_phi-5": 0.37772122025489807,
         "sin_phi-5": -0.9259193539619446,
         "dih_phi-6": 1.3136037588119507,
         "cos_phi-6": 0.2543664872646332,
         "sin_phi-6": 0.967107892036438,
         "dih_phi-7": -1.1089503765106201,
         "cos_phi-7": 0.4456014335155487,
         "sin_phi-7": -0.8952314853668213,
         "dih_phi-8": -1.5560160875320435,
         "cos_phi-8": 0.01477970089763403,
         "sin_phi-8": -0.9998907446861267,
         "dih_phi-9": -1.9883463382720947,
         "cos_phi-9": -0.4055221676826477,
         "sin_phi-9": -0.9140852093696594,
         "dih_psi-1": 2.8125898838043213,
         "cos_psi-1": -0.9463649988174438,
         "sin_psi-1": 0.32309943437576294,
         "dih_psi-2": -0.6028636693954468,
         "cos_psi-2": 0.8237152695655823,
         "sin_psi-2": -0.5670036673545837,
         "dih_psi-3": 2.506483793258667,
         "cos_psi-3": -0.8050071001052856,
         "sin_psi-3": 0.593265175819397,
         "dih_psi-4": 2.7872462272644043,
         "cos_psi-4": -0.9378734827041626,
         "sin_psi-4": 0.34697747230529785,
         "dih_psi-5": 0.39547181129455566,
         "cos_psi-5": 0.9228149056434631,
         "sin_psi-5": 0.38524362444877625,
         "dih_psi-6": 2.302046775817871,
         "cos_psi-6": -0.6678009033203125,
         "sin_psi-6": 0.7443399429321289,
         "dih_psi-7": 0.19011147320270538,
         "cos_psi-7": 0.9819831848144531,
         "sin_psi-7": 0.18896836042404175,
         "dih_psi-8": -0.27027982473373413,
         "cos_psi-8": 0.9636962413787842,
         "sin_psi-8": -0.26700112223625183,
         "dih_psi-9": 0.41215768456459045,
         "cos_psi-9": 0.9162586331367493,
         "sin_psi-9": 0.400587260723114,
         "dih_chi1-1": -1.1602044105529785,
         "cos_chi1-1": 0.39915212988853455,
         "sin_chi1-1": -0.91688472032547,
         "dih_chi1-2": -1.1012927293777466,
         "cos_chi1-2": 0.4524436593055725,
         "sin_chi1-2": -0.8917930126190186,
         "dih_chi1-3": -1.1051586866378784,
         "cos_chi1-3": 0.44899266958236694,
         "sin_chi1-3": -0.8935354351997375,
         "dih_chi1-4": 0.5607748627662659,
         "cos_chi1-4": 0.8468432426452637,
         "sin_chi1-4": 0.5318425297737122,
         "dih_chi1-5": -1.1622281074523926,
         "cos_chi1-5": 0.3972958028316498,
         "sin_chi1-5": -0.9176905751228333,
         "dih_chi1-6": -0.7496492266654968,
         "cos_chi1-6": 0.7319279313087463,
         "sin_chi1-6": -0.6813820600509644,
         "dih_chi1-8": 0.9488611817359924,
         "cos_chi1-8": 0.5826090574264526,
         "sin_chi1-8": 0.8127525448799133,
         "dih_chi1-9": 0.9676487445831299,
         "cos_chi1-9": 0.5672374963760376,
         "sin_chi1-9": 0.823554277420044,
         "dih_chi1-10": -1.2989919185638428,
         "cos_chi1-10": 0.26847004890441895,
         "sin_chi1-10": -0.9632880091667175,
         "dih_chi2-1": 2.024691581726074,
         "cos_chi2-1": -0.43846967816352844,
         "sin_chi2-1": 0.8987459540367126,
         "dih_chi2-2": 1.9130533933639526,
         "cos_chi2-2": -0.33561408519744873,
         "sin_chi2-2": 0.9419995546340942,
         "dih_chi2-3": -1.689031720161438,
         "cos_chi2-3": -0.11796010285615921,
         "sin_chi2-3": -0.9930183291435242,
         "dih_chi2-4": -0.5779049396514893,
         "cos_chi2-4": 0.8376089334487915,
         "sin_chi2-4": -0.5462703108787537,
         "dih_chi2-5": 2.710608959197998,
         "cos_chi2-5": -0.9085552096366882,
         "sin_chi2-5": 0.4177647531032562,
         "dih_chi2-9": 1.4155713319778442,
         "cos_chi2-9": 0.15460239350795746,
         "sin_chi2-9": 0.9879767894744873,
         "dih_chi2-10": -0.25722914934158325,
         "cos_chi2-10": 0.967098593711853,
         "sin_chi2-10": -0.254401832818985,
         "_deepnote_index_column": 52474
        }
       ]
      },
      "text/plain": "       dih_phi-1  cos_phi-1  sin_phi-1  dih_phi-2  cos_phi-2  sin_phi-2  \\\n0      -2.802378  -0.943016  -0.332746  -1.961929  -0.381236  -0.924478   \n1      -1.647477  -0.076605  -0.997061  -1.612325  -0.041517  -0.999138   \n2      -2.312177  -0.675307  -0.737537  -2.146757  -0.544640  -0.838670   \n3      -1.280259   0.286467  -0.958090  -1.833037  -0.259246  -0.965811   \n4      -1.916033  -0.338420  -0.940995  -1.413374   0.156773  -0.987635   \n...          ...        ...        ...        ...        ...        ...   \n52470  -1.855256  -0.280639  -0.959813  -1.801870  -0.229023  -0.973421   \n52471  -1.545336   0.025458  -0.999676  -1.676052  -0.105062  -0.994466   \n52472  -1.493065   0.077653  -0.996980  -0.979568   0.557382  -0.830256   \n52473  -1.614367  -0.043557  -0.999051  -1.999589  -0.415773  -0.909468   \n52474  -1.590787  -0.019990  -0.999800  -1.165256   0.394516  -0.918889   \n\n       dih_phi-3  cos_phi-3  sin_phi-3  dih_phi-4  ...  sin_chi2-4  \\\n0      -1.129399   0.427204  -0.904155  -1.044915  ...   -0.390129   \n1      -1.339162   0.229569  -0.973292  -1.404712  ...   -0.521585   \n2      -0.954109   0.578336  -0.815799  -1.239787  ...    0.499438   \n3      -1.094865   0.458167  -0.888866  -1.420681  ...   -0.618962   \n4      -1.319649   0.248516  -0.968628  -1.191379  ...   -0.287387   \n...          ...        ...        ...        ...  ...         ...   \n52470  -1.434898   0.135481  -0.990780  -1.464028  ...   -0.726667   \n52471  -1.191619   0.370156  -0.928970  -1.188391  ...   -0.478439   \n52472  -1.172225   0.388103  -0.921616  -1.114608  ...   -0.624779   \n52473  -1.033706   0.511638  -0.859201  -1.650120  ...    0.531599   \n52474  -1.262803   0.303147  -0.952944  -1.830133  ...   -0.546270   \n\n       dih_chi2-5  cos_chi2-5  sin_chi2-5  dih_chi2-9  cos_chi2-9  sin_chi2-9  \\\n0       -3.130611   -0.999940   -0.010981    1.669662   -0.098705    0.995117   \n1        1.410696    0.159417    0.987211    1.978097   -0.396132    0.918193   \n2        2.866122   -0.962297    0.272000   -1.557036    0.013760   -0.999905   \n3       -3.060344   -0.996701   -0.081159   -1.894972   -0.318527   -0.947914   \n4        2.995318   -0.989321    0.145753   -1.116294    0.439016   -0.898479   \n...           ...         ...         ...         ...         ...         ...   \n52470   -2.817555   -0.947957   -0.318397    1.625115   -0.054292    0.998525   \n52471   -2.803253   -0.943307   -0.331921    1.700710   -0.129549    0.991573   \n52472    2.842788   -0.955689    0.294378    1.490473    0.080237    0.996776   \n52473    3.085804   -0.998444    0.055760    1.629964   -0.059133    0.998250   \n52474    2.710609   -0.908555    0.417765    1.415571    0.154602    0.987977   \n\n       dih_chi2-10  cos_chi2-10  sin_chi2-10  \n0         1.579886    -0.009089     0.999959  \n1         1.935033    -0.356236     0.934396  \n2         1.786988    -0.214512     0.976721  \n3         1.905820    -0.328791     0.944403  \n4         1.567960     0.002836     0.999996  \n...            ...          ...          ...  \n52470    -0.802685     0.694778    -0.719224  \n52471    -1.010977     0.531033    -0.847351  \n52472    -0.654335     0.793453    -0.608632  \n52473    -0.893910     0.626369    -0.779527  \n52474    -0.257229     0.967099    -0.254402  \n\n[52475 rows x 102 columns]",
      "text/html": "<div>\n<style scoped>\n    .dataframe tbody tr th:only-of-type {\n        vertical-align: middle;\n    }\n\n    .dataframe tbody tr th {\n        vertical-align: top;\n    }\n\n    .dataframe thead th {\n        text-align: right;\n    }\n</style>\n<table border=\"1\" class=\"dataframe\">\n  <thead>\n    <tr style=\"text-align: right;\">\n      <th></th>\n      <th>dih_phi-1</th>\n      <th>cos_phi-1</th>\n      <th>sin_phi-1</th>\n      <th>dih_phi-2</th>\n      <th>cos_phi-2</th>\n      <th>sin_phi-2</th>\n      <th>dih_phi-3</th>\n      <th>cos_phi-3</th>\n      <th>sin_phi-3</th>\n      <th>dih_phi-4</th>\n      <th>...</th>\n      <th>sin_chi2-4</th>\n      <th>dih_chi2-5</th>\n      <th>cos_chi2-5</th>\n      <th>sin_chi2-5</th>\n      <th>dih_chi2-9</th>\n      <th>cos_chi2-9</th>\n      <th>sin_chi2-9</th>\n      <th>dih_chi2-10</th>\n      <th>cos_chi2-10</th>\n      <th>sin_chi2-10</th>\n    </tr>\n  </thead>\n  <tbody>\n    <tr>\n      <th>0</th>\n      <td>-2.802378</td>\n      <td>-0.943016</td>\n      <td>-0.332746</td>\n      <td>-1.961929</td>\n      <td>-0.381236</td>\n      <td>-0.924478</td>\n      <td>-1.129399</td>\n      <td>0.427204</td>\n      <td>-0.904155</td>\n      <td>-1.044915</td>\n      <td>...</td>\n      <td>-0.390129</td>\n      <td>-3.130611</td>\n      <td>-0.999940</td>\n      <td>-0.010981</td>\n      <td>1.669662</td>\n      <td>-0.098705</td>\n      <td>0.995117</td>\n      <td>1.579886</td>\n      <td>-0.009089</td>\n      <td>0.999959</td>\n    </tr>\n    <tr>\n      <th>1</th>\n      <td>-1.647477</td>\n      <td>-0.076605</td>\n      <td>-0.997061</td>\n      <td>-1.612325</td>\n      <td>-0.041517</td>\n      <td>-0.999138</td>\n      <td>-1.339162</td>\n      <td>0.229569</td>\n      <td>-0.973292</td>\n      <td>-1.404712</td>\n      <td>...</td>\n      <td>-0.521585</td>\n      <td>1.410696</td>\n      <td>0.159417</td>\n      <td>0.987211</td>\n      <td>1.978097</td>\n      <td>-0.396132</td>\n      <td>0.918193</td>\n      <td>1.935033</td>\n      <td>-0.356236</td>\n      <td>0.934396</td>\n    </tr>\n    <tr>\n      <th>2</th>\n      <td>-2.312177</td>\n      <td>-0.675307</td>\n      <td>-0.737537</td>\n      <td>-2.146757</td>\n      <td>-0.544640</td>\n      <td>-0.838670</td>\n      <td>-0.954109</td>\n      <td>0.578336</td>\n      <td>-0.815799</td>\n      <td>-1.239787</td>\n      <td>...</td>\n      <td>0.499438</td>\n      <td>2.866122</td>\n      <td>-0.962297</td>\n      <td>0.272000</td>\n      <td>-1.557036</td>\n      <td>0.013760</td>\n      <td>-0.999905</td>\n      <td>1.786988</td>\n      <td>-0.214512</td>\n      <td>0.976721</td>\n    </tr>\n    <tr>\n      <th>3</th>\n      <td>-1.280259</td>\n      <td>0.286467</td>\n      <td>-0.958090</td>\n      <td>-1.833037</td>\n      <td>-0.259246</td>\n      <td>-0.965811</td>\n      <td>-1.094865</td>\n      <td>0.458167</td>\n      <td>-0.888866</td>\n      <td>-1.420681</td>\n      <td>...</td>\n      <td>-0.618962</td>\n      <td>-3.060344</td>\n      <td>-0.996701</td>\n      <td>-0.081159</td>\n      <td>-1.894972</td>\n      <td>-0.318527</td>\n      <td>-0.947914</td>\n      <td>1.905820</td>\n      <td>-0.328791</td>\n      <td>0.944403</td>\n    </tr>\n    <tr>\n      <th>4</th>\n      <td>-1.916033</td>\n      <td>-0.338420</td>\n      <td>-0.940995</td>\n      <td>-1.413374</td>\n      <td>0.156773</td>\n      <td>-0.987635</td>\n      <td>-1.319649</td>\n      <td>0.248516</td>\n      <td>-0.968628</td>\n      <td>-1.191379</td>\n      <td>...</td>\n      <td>-0.287387</td>\n      <td>2.995318</td>\n      <td>-0.989321</td>\n      <td>0.145753</td>\n      <td>-1.116294</td>\n      <td>0.439016</td>\n      <td>-0.898479</td>\n      <td>1.567960</td>\n      <td>0.002836</td>\n      <td>0.999996</td>\n    </tr>\n    <tr>\n      <th>...</th>\n      <td>...</td>\n      <td>...</td>\n      <td>...</td>\n      <td>...</td>\n      <td>...</td>\n      <td>...</td>\n      <td>...</td>\n      <td>...</td>\n      <td>...</td>\n      <td>...</td>\n      <td>...</td>\n      <td>...</td>\n      <td>...</td>\n      <td>...</td>\n      <td>...</td>\n      <td>...</td>\n      <td>...</td>\n      <td>...</td>\n      <td>...</td>\n      <td>...</td>\n      <td>...</td>\n    </tr>\n    <tr>\n      <th>52470</th>\n      <td>-1.855256</td>\n      <td>-0.280639</td>\n      <td>-0.959813</td>\n      <td>-1.801870</td>\n      <td>-0.229023</td>\n      <td>-0.973421</td>\n      <td>-1.434898</td>\n      <td>0.135481</td>\n      <td>-0.990780</td>\n      <td>-1.464028</td>\n      <td>...</td>\n      <td>-0.726667</td>\n      <td>-2.817555</td>\n      <td>-0.947957</td>\n      <td>-0.318397</td>\n      <td>1.625115</td>\n      <td>-0.054292</td>\n      <td>0.998525</td>\n      <td>-0.802685</td>\n      <td>0.694778</td>\n      <td>-0.719224</td>\n    </tr>\n    <tr>\n      <th>52471</th>\n      <td>-1.545336</td>\n      <td>0.025458</td>\n      <td>-0.999676</td>\n      <td>-1.676052</td>\n      <td>-0.105062</td>\n      <td>-0.994466</td>\n      <td>-1.191619</td>\n      <td>0.370156</td>\n      <td>-0.928970</td>\n      <td>-1.188391</td>\n      <td>...</td>\n      <td>-0.478439</td>\n      <td>-2.803253</td>\n      <td>-0.943307</td>\n      <td>-0.331921</td>\n      <td>1.700710</td>\n      <td>-0.129549</td>\n      <td>0.991573</td>\n      <td>-1.010977</td>\n      <td>0.531033</td>\n      <td>-0.847351</td>\n    </tr>\n    <tr>\n      <th>52472</th>\n      <td>-1.493065</td>\n      <td>0.077653</td>\n      <td>-0.996980</td>\n      <td>-0.979568</td>\n      <td>0.557382</td>\n      <td>-0.830256</td>\n      <td>-1.172225</td>\n      <td>0.388103</td>\n      <td>-0.921616</td>\n      <td>-1.114608</td>\n      <td>...</td>\n      <td>-0.624779</td>\n      <td>2.842788</td>\n      <td>-0.955689</td>\n      <td>0.294378</td>\n      <td>1.490473</td>\n      <td>0.080237</td>\n      <td>0.996776</td>\n      <td>-0.654335</td>\n      <td>0.793453</td>\n      <td>-0.608632</td>\n    </tr>\n    <tr>\n      <th>52473</th>\n      <td>-1.614367</td>\n      <td>-0.043557</td>\n      <td>-0.999051</td>\n      <td>-1.999589</td>\n      <td>-0.415773</td>\n      <td>-0.909468</td>\n      <td>-1.033706</td>\n      <td>0.511638</td>\n      <td>-0.859201</td>\n      <td>-1.650120</td>\n      <td>...</td>\n      <td>0.531599</td>\n      <td>3.085804</td>\n      <td>-0.998444</td>\n      <td>0.055760</td>\n      <td>1.629964</td>\n      <td>-0.059133</td>\n      <td>0.998250</td>\n      <td>-0.893910</td>\n      <td>0.626369</td>\n      <td>-0.779527</td>\n    </tr>\n    <tr>\n      <th>52474</th>\n      <td>-1.590787</td>\n      <td>-0.019990</td>\n      <td>-0.999800</td>\n      <td>-1.165256</td>\n      <td>0.394516</td>\n      <td>-0.918889</td>\n      <td>-1.262803</td>\n      <td>0.303147</td>\n      <td>-0.952944</td>\n      <td>-1.830133</td>\n      <td>...</td>\n      <td>-0.546270</td>\n      <td>2.710609</td>\n      <td>-0.908555</td>\n      <td>0.417765</td>\n      <td>1.415571</td>\n      <td>0.154602</td>\n      <td>0.987977</td>\n      <td>-0.257229</td>\n      <td>0.967099</td>\n      <td>-0.254402</td>\n    </tr>\n  </tbody>\n</table>\n<p>52475 rows × 102 columns</p>\n</div>"
     },
     "metadata": {}
    }
   ]
  },
  {
   "cell_type": "code",
   "metadata": {
    "tags": [],
    "cell_id": "00018-8d844be0-c573-462a-b2bf-5f1513ccdd64",
    "deepnote_to_be_reexecuted": false,
    "source_hash": "b623e53d",
    "execution_start": 1626780750096,
    "execution_millis": 64087974,
    "deepnote_cell_type": "code"
   },
   "source": "",
   "execution_count": 12,
   "outputs": []
  },
  {
   "cell_type": "markdown",
   "source": "### Compute properties (optional)",
   "metadata": {
    "tags": [],
    "is_collapsed": false,
    "cell_id": "00018-10b1cad3-f8a7-4ab6-a6b5-ec86e952154c",
    "deepnote_cell_type": "text-cell-h3"
   }
  },
  {
   "cell_type": "code",
   "source": "",
   "metadata": {
    "tags": [],
    "cell_id": "00019-2c51be37-4001-4f37-bdf9-416475f23d8b",
    "deepnote_to_be_reexecuted": false,
    "source_hash": "b623e53d",
    "execution_start": 1626783424530,
    "execution_millis": 1,
    "deepnote_cell_type": "code"
   },
   "outputs": [],
   "execution_count": 54
  },
  {
   "cell_type": "code",
   "metadata": {
    "tags": [],
    "cell_id": "00019-fcdbaeda-55d5-4e57-84d2-41caeb301632",
    "deepnote_to_be_reexecuted": false,
    "source_hash": "5f1f1ece",
    "execution_start": 1626780750105,
    "execution_millis": 636,
    "deepnote_cell_type": "code"
   },
   "source": "# RMSD analysis w.r.t. experimental NMR structure, using only CA atoms\n\nrmsd = md.rmsd(traj,ref,atom_indices=ref.top.select('name CA'))\n\nplt.figure()\nplt.plot(rmsd)",
   "execution_count": 13,
   "outputs": [
    {
     "output_type": "execute_result",
     "execution_count": 13,
     "data": {
      "text/plain": "[<matplotlib.lines.Line2D at 0x7fd8134b3250>]"
     },
     "metadata": {}
    },
    {
     "data": {
      "text/plain": "<Figure size 432x288 with 1 Axes>",
      "image/png": "[encoded data removed]"
     },
     "metadata": {
      "needs_background": "light",
      "image/png": {
       "width": 372,
       "height": 248
      }
     },
     "output_type": "display_data"
    }
   ]
  },
  {
   "cell_type": "code",
   "metadata": {
    "tags": [],
    "cell_id": "00011-e2620d70-f807-457c-b445-8ca37668e0b5",
    "deepnote_to_be_reexecuted": false,
    "source_hash": "34c3f714",
    "execution_start": 1626780750743,
    "execution_millis": 1984,
    "deepnote_cell_type": "code"
   },
   "source": "# Hydrogen bonds\n\n# select folded configurations\nfolded = (colvar[tica1_label] > 0.65).values\ntraj_folded = traj[folded]\n\n# compute hbonds\nhbonds = md.wernet_nilsson(traj_folded)",
   "execution_count": 14,
   "outputs": []
  },
  {
   "cell_type": "code",
   "metadata": {
    "tags": [],
    "cell_id": "00013-8d5587e5-51ed-407b-9fef-39bb959c0482",
    "deepnote_to_be_reexecuted": false,
    "source_hash": "ec6b64d1",
    "execution_start": 1626780752748,
    "execution_millis": 201,
    "deepnote_cell_type": "code"
   },
   "source": "hbonds_list = [ hb.tolist() for hb in hbonds ]\nhbonds_list = [ item for sublist in hbonds_list for item in sublist]",
   "execution_count": 15,
   "outputs": []
  },
  {
   "cell_type": "code",
   "metadata": {
    "tags": [],
    "cell_id": "00015-16157bb6-7e7f-49ed-9ca3-ec2e3892accc",
    "deepnote_to_be_reexecuted": false,
    "source_hash": "c7963cc0",
    "execution_start": 1626780753035,
    "execution_millis": 4,
    "deepnote_cell_type": "code"
   },
   "source": "from collections import Counter\n\n#label function\nlabel = lambda hbond : '%s -- %s' % (traj.top.atom(hbond[0]), traj.top.atom(hbond[2]))\n\n#for hbond in hbonds[0]:\n#    print (label(hbond))\n\n#compute frequency\ncount = Counter(map(tuple, hbonds_list))\ncount = dict(sorted(count.items(), key=lambda item: item[1],reverse=True))",
   "execution_count": 16,
   "outputs": []
  },
  {
   "cell_type": "code",
   "metadata": {
    "tags": [],
    "cell_id": "00016-b3d36fb3-4a18-4d86-9214-cda37625864a",
    "deepnote_to_be_reexecuted": false,
    "source_hash": "a9b2b0cc",
    "execution_start": 1626780753050,
    "execution_millis": 13,
    "deepnote_cell_type": "code"
   },
   "source": "for key,value in count.items():\n    if value/len(traj_folded)*100 > 5:\n        print(label(key),value/len(traj_folded)*100)",
   "execution_count": 17,
   "outputs": [
    {
     "name": "stdout",
     "text": "TYR10-N -- TYR1-O 85.20208442416536\nASP3-N -- THR8-O 77.44782706260752\nGLY7-N -- ASP3-O 51.7789911985439\nTHR8-OG1 -- THR6-OG1 45.94958486049816\nTHR6-OG1 -- ASP3-OD2 44.39624005784527\nTHR6-OG1 -- ASP3-OD1 44.36133343306655\nTHR6-N -- ASP3-OD2 29.476151295285113\nTHR6-N -- ASP3-OD1 29.423791358117036\nTYR1-N -- TYR10-O 15.889994265340215\nTYR1-N -- TYR10-OXT 15.745381105542675\nTYR1-N -- TYR10-O 15.695514498715934\nTYR1-N -- TYR10-O 15.653127882913207\nTYR1-N -- TYR10-OXT 15.376368215024808\nTYR1-N -- TYR10-OXT 15.194355100107213\nTYR10-OH -- THR6-OG1 8.582043034881691\nGLU5-N -- ASP3-OD1 7.395217792405316\nGLU5-N -- ASP3-OD2 7.150871418954297\n",
     "output_type": "stream"
    }
   ]
  },
  {
   "cell_type": "markdown",
   "source": "### Select configurations for classifier",
   "metadata": {
    "tags": [],
    "cell_id": "00024-519e77df-1019-49bf-a2bd-de0aa683ab7a",
    "is_collapsed": false,
    "deepnote_cell_type": "text-cell-h3"
   }
  },
  {
   "cell_type": "code",
   "metadata": {
    "tags": [],
    "cell_id": "00018-3edd08ef-ccb6-44f4-865c-717ee440264c",
    "deepnote_to_be_reexecuted": false,
    "source_hash": "c32e6fb2",
    "execution_start": 1626781360294,
    "execution_millis": 118,
    "deepnote_cell_type": "code"
   },
   "source": "regex_selection = 'cos_|sin_|ca_|hb_'\nconfig_per_basin = 5000\n\nconfig_list = []\nfeatures_names = []\nlabels = []\n\nfor i in range(n_clusters):\n    #select basin\n    colvar_i = colvar.loc[ (colvar['basin'] == i) & (colvar['selection'] == 1) ]\n    #select descriptors and sample\n    config_i = colvar_i.filter(regex=regex_selection).sample(n=config_per_basin).values\n    config_list.append(config_i)\n    labels.extend([i]*config_per_basin)\n    print(i,config_i.shape)\n    features_names = colvar_i.filter(regex=regex_selection).columns.values\n\nlabels = np.array(labels, dtype=np.int_)\nconfigurations = np.vstack(config_list)",
   "execution_count": 36,
   "outputs": [
    {
     "name": "stdout",
     "text": "0 (5000, 458)\n1 (5000, 458)\n2 (5000, 458)\n3 (5000, 458)\n",
     "output_type": "stream"
    }
   ]
  },
  {
   "cell_type": "markdown",
   "source": "### To-do list\n\n* Trajectories\n    * Chignolin from unbiased simulation\n    * Chignolin from enhanced sampling\n    * BPTI (Narjes)\n\n* Descriptors set\n    * Dihedral angles (sin\\_,cos\\_)\n    * HB distances (hb\\_)\n    * HB contacts (hbc\\_)\n    * Dihedral + CA distances (sin\\_,cos\\_,ca\\_)\n    * Dihedral + HB distances (sin\\_,cos\\_,hb\\_)\n    * Dihedral + HB  contacts (sin\\_,cos\\_,hbc\\_)\n    * Dihedral + CA distances + HB distances (sin\\_,cos\\_,ca\\_,hb\\_)\n\n### Questions\n\n* The solutions are stable w.r.t. the set of features?\n* Check symmetry issues (most importantly on different sets of trajectories)\n    * Possibly devise an algorithm to spot easy symmetries like $\\pi$ flips\n* Polynomial kernel to obtain ''correlated'' features\n* Group lasso on the macro groups of features\n\n### Interesting points\n* The clusters are linearly separable in a _nonlinear_ embedding of the features. If LASSO works with 100\\% accuracy, then the clusters are linearly separable in the features space.\n",
   "metadata": {
    "tags": [],
    "cell_id": "00027-703f2007-9072-40ce-9dae-4f549f4b17f5",
    "deepnote_cell_type": "markdown"
   }
  },
  {
   "cell_type": "markdown",
   "source": "### Lasso classifier",
   "metadata": {
    "tags": [],
    "cell_id": "00027-ad3c5d71-809c-4bbb-a6de-04b9148f52a7",
    "deepnote_cell_type": "markdown"
   }
  },
  {
   "cell_type": "code",
   "source": "",
   "metadata": {
    "tags": [],
    "cell_id": "00027-e26341df-8ea9-4a07-8c5e-361a38501b16",
    "deepnote_to_be_reexecuted": false,
    "source_hash": "88867d31",
    "execution_start": 1626781859344,
    "execution_millis": 12,
    "deepnote_cell_type": "code"
   },
   "outputs": [
    {
     "output_type": "execute_result",
     "execution_count": 46,
     "data": {
      "text/plain": "(15000, 458)"
     },
     "metadata": {}
    }
   ],
   "execution_count": 46
  },
  {
   "cell_type": "code",
   "source": "from sklearn.linear_model import LogisticRegression\nfrom sklearn.preprocessing import StandardScaler\nfrom sklearn.model_selection import cross_val_score, train_test_split, StratifiedKFold\nimport concurrent.futures\n\nscaler = StandardScaler(with_mean=True)\nscaler.fit(configurations)\nscaled_configurations = scaler.transform(configurations)\n\n#Train test splitting\ntrain_val_dataset = train_test_split(scaled_configurations, labels)",
   "metadata": {
    "tags": [],
    "cell_id": "00027-3e77e999-a1bf-4168-ac75-5a7e61a472f3",
    "deepnote_to_be_reexecuted": false,
    "source_hash": "7afd5f53",
    "execution_start": 1626781976886,
    "execution_millis": 233,
    "deepnote_cell_type": "code"
   },
   "outputs": [],
   "execution_count": 49
  },
  {
   "cell_type": "code",
   "source": "\n#Lasso Path\ndef CV_path(dataset, C_range, l1_ratio=None, **kwargs):\n    coeffs = []\n    train_in, val_in, train_out, val_out = dataset\n    _is_lasso = kwargs.get('LASSO', False)\n    try:\n        del kwargs['LASSO']\n    except:\n        pass\n\n    if _is_lasso:\n        def _train_model(C):\n            model = LogisticRegression(penalty='l1', C=C, solver='saga', multi_class=\"multinomial\", fit_intercept=False, **kwargs) \n            #Model Fit\n            model.fit(train_in,train_out)\n            score = model.score(val_in,val_out)\n            return (C, model.coef_,score)\n    else:\n        def _train_model(C):\n            model = LogisticRegression(penalty='elasticnet', C=C, solver='saga', l1_ratio=l1_ratio, multi_class=\"multinomial\", fit_intercept=False, **kwargs) \n            #Model Fit\n            model.fit(train_in,train_out)\n            score = model.score(val_in,val_out)\n            return (C, model.coef_,score)\n    \n    with concurrent.futures.ThreadPoolExecutor() as executor:\n        fut = [executor.submit(_train_model, C) for C in C_range]\n        for fut_result in concurrent.futures.as_completed(fut):\n            coeffs.append(fut_result.result())\n\n    C_arr = []\n    coeff_arr = []\n    CV_arr = []\n    for data in coeffs:\n        C_arr.append(data[0])\n        coeff_arr.append(data[1])\n        CV_arr.append(data[2])\n\n    C_arr = np.array(C_arr)\n    coeff_arr = np.array(coeff_arr)\n    CV_arr = np.array(CV_arr)\n    sort_perm = np.argsort(C_arr)\n\n    return C_arr[sort_perm], np.squeeze(coeff_arr[sort_perm]), CV_arr[sort_perm]",
   "metadata": {
    "tags": [],
    "cell_id": "00029-79fc8ba2-4113-4aed-820c-b16ab8a7d37f",
    "deepnote_to_be_reexecuted": false,
    "source_hash": "5e2b5197",
    "execution_start": 1626781978012,
    "execution_millis": 4,
    "deepnote_cell_type": "code"
   },
   "outputs": [],
   "execution_count": 50
  },
  {
   "cell_type": "code",
   "source": "C_range = np.geomspace(2, 100, 25)\nkwargs = {'LASSO':True, 'max_iter':1000}\n_, coeffs_LASSO, CV_LASSO = CV_path(train_val_dataset, C_range/train_val_dataset[0].shape[0], **kwargs)",
   "metadata": {
    "tags": [],
    "cell_id": "00029-163b526d-8508-4cfc-8a85-762a207cc164",
    "deepnote_to_be_reexecuted": false,
    "source_hash": "b8900bd3",
    "execution_start": 1626781979217,
    "execution_millis": 28,
    "deepnote_cell_type": "code"
   },
   "outputs": [
    {
     "output_type": "error",
     "ename": "NameError",
     "evalue": "name 'concurrent' is not defined",
     "traceback": [
      "\u001b[0;31m---------------------------------------------------------------------------\u001b[0m",
      "\u001b[0;31mNameError\u001b[0m                                 Traceback (most recent call last)",
      "\u001b[0;32m/tmp/ipykernel_358/1732716465.py\u001b[0m in \u001b[0;36m<module>\u001b[0;34m\u001b[0m\n\u001b[1;32m      1\u001b[0m \u001b[0mC_range\u001b[0m \u001b[0;34m=\u001b[0m \u001b[0mnp\u001b[0m\u001b[0;34m.\u001b[0m\u001b[0mgeomspace\u001b[0m\u001b[0;34m(\u001b[0m\u001b[0;36m2\u001b[0m\u001b[0;34m,\u001b[0m \u001b[0;36m100\u001b[0m\u001b[0;34m,\u001b[0m \u001b[0;36m25\u001b[0m\u001b[0;34m)\u001b[0m\u001b[0;34m\u001b[0m\u001b[0;34m\u001b[0m\u001b[0m\n\u001b[1;32m      2\u001b[0m \u001b[0mkwargs\u001b[0m \u001b[0;34m=\u001b[0m \u001b[0;34m{\u001b[0m\u001b[0;34m'LASSO'\u001b[0m\u001b[0;34m:\u001b[0m\u001b[0;32mTrue\u001b[0m\u001b[0;34m,\u001b[0m \u001b[0;34m'max_iter'\u001b[0m\u001b[0;34m:\u001b[0m\u001b[0;36m1000\u001b[0m\u001b[0;34m}\u001b[0m\u001b[0;34m\u001b[0m\u001b[0;34m\u001b[0m\u001b[0m\n\u001b[0;32m----> 3\u001b[0;31m \u001b[0m_\u001b[0m\u001b[0;34m,\u001b[0m \u001b[0mcoeffs_LASSO\u001b[0m\u001b[0;34m,\u001b[0m \u001b[0mCV_LASSO\u001b[0m \u001b[0;34m=\u001b[0m \u001b[0mCV_path\u001b[0m\u001b[0;34m(\u001b[0m\u001b[0mtrain_val_dataset\u001b[0m\u001b[0;34m,\u001b[0m \u001b[0mC_range\u001b[0m\u001b[0;34m/\u001b[0m\u001b[0mtrain_val_dataset\u001b[0m\u001b[0;34m[\u001b[0m\u001b[0;36m0\u001b[0m\u001b[0;34m]\u001b[0m\u001b[0;34m.\u001b[0m\u001b[0mshape\u001b[0m\u001b[0;34m[\u001b[0m\u001b[0;36m0\u001b[0m\u001b[0;34m]\u001b[0m\u001b[0;34m,\u001b[0m \u001b[0;34m**\u001b[0m\u001b[0mkwargs\u001b[0m\u001b[0;34m)\u001b[0m\u001b[0;34m\u001b[0m\u001b[0;34m\u001b[0m\u001b[0m\n\u001b[0m\u001b[1;32m      4\u001b[0m \u001b[0mcoeffs_LASSO\u001b[0m\u001b[0;34m.\u001b[0m\u001b[0mappend\u001b[0m\u001b[0;34m(\u001b[0m\u001b[0m_tmp_coeffs\u001b[0m\u001b[0;34m)\u001b[0m\u001b[0;34m\u001b[0m\u001b[0;34m\u001b[0m\u001b[0m\n\u001b[1;32m      5\u001b[0m \u001b[0mCV_LASSO\u001b[0m\u001b[0;34m.\u001b[0m\u001b[0mappend\u001b[0m\u001b[0;34m(\u001b[0m\u001b[0m_tmp_CV\u001b[0m\u001b[0;34m)\u001b[0m\u001b[0;34m\u001b[0m\u001b[0;34m\u001b[0m\u001b[0m\n",
      "\u001b[0;32m/tmp/ipykernel_358/3527894718.py\u001b[0m in \u001b[0;36mCV_path\u001b[0;34m(dataset, C_range, l1_ratio, **kwargs)\u001b[0m\n\u001b[1;32m     24\u001b[0m             \u001b[0;32mreturn\u001b[0m \u001b[0;34m(\u001b[0m\u001b[0mC\u001b[0m\u001b[0;34m,\u001b[0m \u001b[0mmodel\u001b[0m\u001b[0;34m.\u001b[0m\u001b[0mcoef_\u001b[0m\u001b[0;34m,\u001b[0m\u001b[0mscore\u001b[0m\u001b[0;34m)\u001b[0m\u001b[0;34m\u001b[0m\u001b[0;34m\u001b[0m\u001b[0m\n\u001b[1;32m     25\u001b[0m \u001b[0;34m\u001b[0m\u001b[0m\n\u001b[0;32m---> 26\u001b[0;31m     \u001b[0;32mwith\u001b[0m \u001b[0mconcurrent\u001b[0m\u001b[0;34m.\u001b[0m\u001b[0mfutures\u001b[0m\u001b[0;34m.\u001b[0m\u001b[0mThreadPoolExecutor\u001b[0m\u001b[0;34m(\u001b[0m\u001b[0;34m)\u001b[0m \u001b[0;32mas\u001b[0m \u001b[0mexecutor\u001b[0m\u001b[0;34m:\u001b[0m\u001b[0;34m\u001b[0m\u001b[0;34m\u001b[0m\u001b[0m\n\u001b[0m\u001b[1;32m     27\u001b[0m         \u001b[0mfut\u001b[0m \u001b[0;34m=\u001b[0m \u001b[0;34m[\u001b[0m\u001b[0mexecutor\u001b[0m\u001b[0;34m.\u001b[0m\u001b[0msubmit\u001b[0m\u001b[0;34m(\u001b[0m\u001b[0m_train_model\u001b[0m\u001b[0;34m,\u001b[0m \u001b[0mC\u001b[0m\u001b[0;34m)\u001b[0m \u001b[0;32mfor\u001b[0m \u001b[0mC\u001b[0m \u001b[0;32min\u001b[0m \u001b[0mC_range\u001b[0m\u001b[0;34m]\u001b[0m\u001b[0;34m\u001b[0m\u001b[0;34m\u001b[0m\u001b[0m\n\u001b[1;32m     28\u001b[0m         \u001b[0;32mfor\u001b[0m \u001b[0mfut_result\u001b[0m \u001b[0;32min\u001b[0m \u001b[0mconcurrent\u001b[0m\u001b[0;34m.\u001b[0m\u001b[0mfutures\u001b[0m\u001b[0;34m.\u001b[0m\u001b[0mas_completed\u001b[0m\u001b[0;34m(\u001b[0m\u001b[0mfut\u001b[0m\u001b[0;34m)\u001b[0m\u001b[0;34m:\u001b[0m\u001b[0;34m\u001b[0m\u001b[0;34m\u001b[0m\u001b[0m\n",
      "\u001b[0;31mNameError\u001b[0m: name 'concurrent' is not defined"
     ]
    },
    {
     "output_type": "error",
     "ename": "KeyboardInterrupt",
     "evalue": "",
     "traceback": [
      "\u001b[0;31m---------------------------------------------------------------------------\u001b[0m",
      "\u001b[0;31mKeyboardInterrupt\u001b[0m                         Traceback (most recent call last)",
      "\u001b[0;32m/tmp/ipykernel_358/3260934472.py\u001b[0m in \u001b[0;36mCV_path\u001b[0;34m(dataset, C_range, l1_ratio, **kwargs)\u001b[0m\n\u001b[1;32m     27\u001b[0m         \u001b[0mfut\u001b[0m \u001b[0;34m=\u001b[0m \u001b[0;34m[\u001b[0m\u001b[0mexecutor\u001b[0m\u001b[0;34m.\u001b[0m\u001b[0msubmit\u001b[0m\u001b[0;34m(\u001b[0m\u001b[0m_train_model\u001b[0m\u001b[0;34m,\u001b[0m \u001b[0mC\u001b[0m\u001b[0;34m)\u001b[0m \u001b[0;32mfor\u001b[0m \u001b[0mC\u001b[0m \u001b[0;32min\u001b[0m \u001b[0mC_range\u001b[0m\u001b[0;34m]\u001b[0m\u001b[0;34m\u001b[0m\u001b[0;34m\u001b[0m\u001b[0m\n\u001b[0;32m---> 28\u001b[0;31m         \u001b[0;32mfor\u001b[0m \u001b[0mfut_result\u001b[0m \u001b[0;32min\u001b[0m \u001b[0mconcurrent\u001b[0m\u001b[0;34m.\u001b[0m\u001b[0mfutures\u001b[0m\u001b[0;34m.\u001b[0m\u001b[0mas_completed\u001b[0m\u001b[0;34m(\u001b[0m\u001b[0mfut\u001b[0m\u001b[0;34m)\u001b[0m\u001b[0;34m:\u001b[0m\u001b[0;34m\u001b[0m\u001b[0;34m\u001b[0m\u001b[0m\n\u001b[0m\u001b[1;32m     29\u001b[0m             \u001b[0mcoeffs\u001b[0m\u001b[0;34m.\u001b[0m\u001b[0mappend\u001b[0m\u001b[0;34m(\u001b[0m\u001b[0mfut_result\u001b[0m\u001b[0;34m.\u001b[0m\u001b[0mresult\u001b[0m\u001b[0;34m(\u001b[0m\u001b[0;34m)\u001b[0m\u001b[0;34m)\u001b[0m\u001b[0;34m\u001b[0m\u001b[0;34m\u001b[0m\u001b[0m\n",
      "\u001b[0;32m/usr/local/lib/python3.7/concurrent/futures/_base.py\u001b[0m in \u001b[0;36mas_completed\u001b[0;34m(fs, timeout)\u001b[0m\n\u001b[1;32m    239\u001b[0m \u001b[0;34m\u001b[0m\u001b[0m\n\u001b[0;32m--> 240\u001b[0;31m             \u001b[0mwaiter\u001b[0m\u001b[0;34m.\u001b[0m\u001b[0mevent\u001b[0m\u001b[0;34m.\u001b[0m\u001b[0mwait\u001b[0m\u001b[0;34m(\u001b[0m\u001b[0mwait_timeout\u001b[0m\u001b[0;34m)\u001b[0m\u001b[0;34m\u001b[0m\u001b[0;34m\u001b[0m\u001b[0m\n\u001b[0m\u001b[1;32m    241\u001b[0m \u001b[0;34m\u001b[0m\u001b[0m\n",
      "\u001b[0;32m/usr/local/lib/python3.7/threading.py\u001b[0m in \u001b[0;36mwait\u001b[0;34m(self, timeout)\u001b[0m\n\u001b[1;32m    551\u001b[0m             \u001b[0;32mif\u001b[0m \u001b[0;32mnot\u001b[0m \u001b[0msignaled\u001b[0m\u001b[0;34m:\u001b[0m\u001b[0;34m\u001b[0m\u001b[0;34m\u001b[0m\u001b[0m\n\u001b[0;32m--> 552\u001b[0;31m                 \u001b[0msignaled\u001b[0m \u001b[0;34m=\u001b[0m \u001b[0mself\u001b[0m\u001b[0;34m.\u001b[0m\u001b[0m_cond\u001b[0m\u001b[0;34m.\u001b[0m\u001b[0mwait\u001b[0m\u001b[0;34m(\u001b[0m\u001b[0mtimeout\u001b[0m\u001b[0;34m)\u001b[0m\u001b[0;34m\u001b[0m\u001b[0;34m\u001b[0m\u001b[0m\n\u001b[0m\u001b[1;32m    553\u001b[0m             \u001b[0;32mreturn\u001b[0m \u001b[0msignaled\u001b[0m\u001b[0;34m\u001b[0m\u001b[0;34m\u001b[0m\u001b[0m\n",
      "\u001b[0;32m/usr/local/lib/python3.7/threading.py\u001b[0m in \u001b[0;36mwait\u001b[0;34m(self, timeout)\u001b[0m\n\u001b[1;32m    295\u001b[0m             \u001b[0;32mif\u001b[0m \u001b[0mtimeout\u001b[0m \u001b[0;32mis\u001b[0m \u001b[0;32mNone\u001b[0m\u001b[0;34m:\u001b[0m\u001b[0;34m\u001b[0m\u001b[0;34m\u001b[0m\u001b[0m\n\u001b[0;32m--> 296\u001b[0;31m                 \u001b[0mwaiter\u001b[0m\u001b[0;34m.\u001b[0m\u001b[0macquire\u001b[0m\u001b[0;34m(\u001b[0m\u001b[0;34m)\u001b[0m\u001b[0;34m\u001b[0m\u001b[0;34m\u001b[0m\u001b[0m\n\u001b[0m\u001b[1;32m    297\u001b[0m                 \u001b[0mgotit\u001b[0m \u001b[0;34m=\u001b[0m \u001b[0;32mTrue\u001b[0m\u001b[0;34m\u001b[0m\u001b[0;34m\u001b[0m\u001b[0m\n",
      "\u001b[0;31mKeyboardInterrupt\u001b[0m: ",
      "\nDuring handling of the above exception, another exception occurred:\n",
      "\u001b[0;31mKeyboardInterrupt\u001b[0m                         Traceback (most recent call last)",
      "\u001b[0;32m/tmp/ipykernel_358/3164367901.py\u001b[0m in \u001b[0;36m<module>\u001b[0;34m\u001b[0m\n\u001b[1;32m      1\u001b[0m \u001b[0mC_range\u001b[0m \u001b[0;34m=\u001b[0m \u001b[0mnp\u001b[0m\u001b[0;34m.\u001b[0m\u001b[0mgeomspace\u001b[0m\u001b[0;34m(\u001b[0m\u001b[0;36m2\u001b[0m\u001b[0;34m,\u001b[0m \u001b[0;36m100\u001b[0m\u001b[0;34m,\u001b[0m \u001b[0;36m25\u001b[0m\u001b[0;34m)\u001b[0m\u001b[0;34m\u001b[0m\u001b[0;34m\u001b[0m\u001b[0m\n\u001b[1;32m      2\u001b[0m \u001b[0mkwargs\u001b[0m \u001b[0;34m=\u001b[0m \u001b[0;34m{\u001b[0m\u001b[0;34m'LASSO'\u001b[0m\u001b[0;34m:\u001b[0m\u001b[0;32mTrue\u001b[0m\u001b[0;34m,\u001b[0m \u001b[0;34m'max_iter'\u001b[0m\u001b[0;34m:\u001b[0m\u001b[0;36m1000\u001b[0m\u001b[0;34m}\u001b[0m\u001b[0;34m\u001b[0m\u001b[0;34m\u001b[0m\u001b[0m\n\u001b[0;32m----> 3\u001b[0;31m \u001b[0m_\u001b[0m\u001b[0;34m,\u001b[0m \u001b[0mcoeffs_LASSO\u001b[0m\u001b[0;34m,\u001b[0m \u001b[0mCV_LASSO\u001b[0m \u001b[0;34m=\u001b[0m \u001b[0mCV_path\u001b[0m\u001b[0;34m(\u001b[0m\u001b[0mtrain_val_dataset\u001b[0m\u001b[0;34m,\u001b[0m \u001b[0mC_range\u001b[0m\u001b[0;34m/\u001b[0m\u001b[0mtrain_val_dataset\u001b[0m\u001b[0;34m[\u001b[0m\u001b[0;36m0\u001b[0m\u001b[0;34m]\u001b[0m\u001b[0;34m.\u001b[0m\u001b[0mshape\u001b[0m\u001b[0;34m[\u001b[0m\u001b[0;36m0\u001b[0m\u001b[0;34m]\u001b[0m\u001b[0;34m,\u001b[0m \u001b[0;34m**\u001b[0m\u001b[0mkwargs\u001b[0m\u001b[0;34m)\u001b[0m\u001b[0;34m\u001b[0m\u001b[0;34m\u001b[0m\u001b[0m\n\u001b[0m\u001b[1;32m      4\u001b[0m \u001b[0mcoeffs_LASSO\u001b[0m\u001b[0;34m.\u001b[0m\u001b[0mappend\u001b[0m\u001b[0;34m(\u001b[0m\u001b[0m_tmp_coeffs\u001b[0m\u001b[0;34m)\u001b[0m\u001b[0;34m\u001b[0m\u001b[0;34m\u001b[0m\u001b[0m\n\u001b[1;32m      5\u001b[0m \u001b[0mCV_LASSO\u001b[0m\u001b[0;34m.\u001b[0m\u001b[0mappend\u001b[0m\u001b[0;34m(\u001b[0m\u001b[0m_tmp_CV\u001b[0m\u001b[0;34m)\u001b[0m\u001b[0;34m\u001b[0m\u001b[0;34m\u001b[0m\u001b[0m\n",
      "\u001b[0;32m/tmp/ipykernel_358/3260934472.py\u001b[0m in \u001b[0;36mCV_path\u001b[0;34m(dataset, C_range, l1_ratio, **kwargs)\u001b[0m\n\u001b[1;32m     27\u001b[0m         \u001b[0mfut\u001b[0m \u001b[0;34m=\u001b[0m \u001b[0;34m[\u001b[0m\u001b[0mexecutor\u001b[0m\u001b[0;34m.\u001b[0m\u001b[0msubmit\u001b[0m\u001b[0;34m(\u001b[0m\u001b[0m_train_model\u001b[0m\u001b[0;34m,\u001b[0m \u001b[0mC\u001b[0m\u001b[0;34m)\u001b[0m \u001b[0;32mfor\u001b[0m \u001b[0mC\u001b[0m \u001b[0;32min\u001b[0m \u001b[0mC_range\u001b[0m\u001b[0;34m]\u001b[0m\u001b[0;34m\u001b[0m\u001b[0;34m\u001b[0m\u001b[0m\n\u001b[1;32m     28\u001b[0m         \u001b[0;32mfor\u001b[0m \u001b[0mfut_result\u001b[0m \u001b[0;32min\u001b[0m \u001b[0mconcurrent\u001b[0m\u001b[0;34m.\u001b[0m\u001b[0mfutures\u001b[0m\u001b[0;34m.\u001b[0m\u001b[0mas_completed\u001b[0m\u001b[0;34m(\u001b[0m\u001b[0mfut\u001b[0m\u001b[0;34m)\u001b[0m\u001b[0;34m:\u001b[0m\u001b[0;34m\u001b[0m\u001b[0;34m\u001b[0m\u001b[0m\n\u001b[0;32m---> 29\u001b[0;31m             \u001b[0mcoeffs\u001b[0m\u001b[0;34m.\u001b[0m\u001b[0mappend\u001b[0m\u001b[0;34m(\u001b[0m\u001b[0mfut_result\u001b[0m\u001b[0;34m.\u001b[0m\u001b[0mresult\u001b[0m\u001b[0;34m(\u001b[0m\u001b[0;34m)\u001b[0m\u001b[0;34m)\u001b[0m\u001b[0;34m\u001b[0m\u001b[0;34m\u001b[0m\u001b[0m\n\u001b[0m\u001b[1;32m     30\u001b[0m \u001b[0;34m\u001b[0m\u001b[0m\n\u001b[1;32m     31\u001b[0m     \u001b[0mC_arr\u001b[0m \u001b[0;34m=\u001b[0m \u001b[0;34m[\u001b[0m\u001b[0;34m]\u001b[0m\u001b[0;34m\u001b[0m\u001b[0;34m\u001b[0m\u001b[0m\n",
      "\u001b[0;32m/usr/local/lib/python3.7/concurrent/futures/_base.py\u001b[0m in \u001b[0;36m__exit__\u001b[0;34m(self, exc_type, exc_val, exc_tb)\u001b[0m\n\u001b[1;32m    621\u001b[0m \u001b[0;34m\u001b[0m\u001b[0m\n\u001b[1;32m    622\u001b[0m     \u001b[0;32mdef\u001b[0m \u001b[0m__exit__\u001b[0m\u001b[0;34m(\u001b[0m\u001b[0mself\u001b[0m\u001b[0;34m,\u001b[0m \u001b[0mexc_type\u001b[0m\u001b[0;34m,\u001b[0m \u001b[0mexc_val\u001b[0m\u001b[0;34m,\u001b[0m \u001b[0mexc_tb\u001b[0m\u001b[0;34m)\u001b[0m\u001b[0;34m:\u001b[0m\u001b[0;34m\u001b[0m\u001b[0;34m\u001b[0m\u001b[0m\n\u001b[0;32m--> 623\u001b[0;31m         \u001b[0mself\u001b[0m\u001b[0;34m.\u001b[0m\u001b[0mshutdown\u001b[0m\u001b[0;34m(\u001b[0m\u001b[0mwait\u001b[0m\u001b[0;34m=\u001b[0m\u001b[0;32mTrue\u001b[0m\u001b[0;34m)\u001b[0m\u001b[0;34m\u001b[0m\u001b[0;34m\u001b[0m\u001b[0m\n\u001b[0m\u001b[1;32m    624\u001b[0m         \u001b[0;32mreturn\u001b[0m \u001b[0;32mFalse\u001b[0m\u001b[0;34m\u001b[0m\u001b[0;34m\u001b[0m\u001b[0m\n\u001b[1;32m    625\u001b[0m \u001b[0;34m\u001b[0m\u001b[0m\n",
      "\u001b[0;32m/usr/local/lib/python3.7/concurrent/futures/thread.py\u001b[0m in \u001b[0;36mshutdown\u001b[0;34m(self, wait)\u001b[0m\n\u001b[1;32m    214\u001b[0m         \u001b[0;32mif\u001b[0m \u001b[0mwait\u001b[0m\u001b[0;34m:\u001b[0m\u001b[0;34m\u001b[0m\u001b[0;34m\u001b[0m\u001b[0m\n\u001b[1;32m    215\u001b[0m             \u001b[0;32mfor\u001b[0m \u001b[0mt\u001b[0m \u001b[0;32min\u001b[0m \u001b[0mself\u001b[0m\u001b[0;34m.\u001b[0m\u001b[0m_threads\u001b[0m\u001b[0;34m:\u001b[0m\u001b[0;34m\u001b[0m\u001b[0;34m\u001b[0m\u001b[0m\n\u001b[0;32m--> 216\u001b[0;31m                 \u001b[0mt\u001b[0m\u001b[0;34m.\u001b[0m\u001b[0mjoin\u001b[0m\u001b[0;34m(\u001b[0m\u001b[0;34m)\u001b[0m\u001b[0;34m\u001b[0m\u001b[0;34m\u001b[0m\u001b[0m\n\u001b[0m\u001b[1;32m    217\u001b[0m     \u001b[0mshutdown\u001b[0m\u001b[0;34m.\u001b[0m\u001b[0m__doc__\u001b[0m \u001b[0;34m=\u001b[0m \u001b[0m_base\u001b[0m\u001b[0;34m.\u001b[0m\u001b[0mExecutor\u001b[0m\u001b[0;34m.\u001b[0m\u001b[0mshutdown\u001b[0m\u001b[0;34m.\u001b[0m\u001b[0m__doc__\u001b[0m\u001b[0;34m\u001b[0m\u001b[0;34m\u001b[0m\u001b[0m\n",
      "\u001b[0;32m/usr/local/lib/python3.7/threading.py\u001b[0m in \u001b[0;36mjoin\u001b[0;34m(self, timeout)\u001b[0m\n\u001b[1;32m   1042\u001b[0m \u001b[0;34m\u001b[0m\u001b[0m\n\u001b[1;32m   1043\u001b[0m         \u001b[0;32mif\u001b[0m \u001b[0mtimeout\u001b[0m \u001b[0;32mis\u001b[0m \u001b[0;32mNone\u001b[0m\u001b[0;34m:\u001b[0m\u001b[0;34m\u001b[0m\u001b[0;34m\u001b[0m\u001b[0m\n\u001b[0;32m-> 1044\u001b[0;31m             \u001b[0mself\u001b[0m\u001b[0;34m.\u001b[0m\u001b[0m_wait_for_tstate_lock\u001b[0m\u001b[0;34m(\u001b[0m\u001b[0;34m)\u001b[0m\u001b[0;34m\u001b[0m\u001b[0;34m\u001b[0m\u001b[0m\n\u001b[0m\u001b[1;32m   1045\u001b[0m         \u001b[0;32melse\u001b[0m\u001b[0;34m:\u001b[0m\u001b[0;34m\u001b[0m\u001b[0;34m\u001b[0m\u001b[0m\n\u001b[1;32m   1046\u001b[0m             \u001b[0;31m# the behavior of a negative timeout isn't documented, but\u001b[0m\u001b[0;34m\u001b[0m\u001b[0;34m\u001b[0m\u001b[0;34m\u001b[0m\u001b[0m\n",
      "\u001b[0;32m/usr/local/lib/python3.7/threading.py\u001b[0m in \u001b[0;36m_wait_for_tstate_lock\u001b[0;34m(self, block, timeout)\u001b[0m\n\u001b[1;32m   1058\u001b[0m         \u001b[0;32mif\u001b[0m \u001b[0mlock\u001b[0m \u001b[0;32mis\u001b[0m \u001b[0;32mNone\u001b[0m\u001b[0;34m:\u001b[0m  \u001b[0;31m# already determined that the C code is done\u001b[0m\u001b[0;34m\u001b[0m\u001b[0;34m\u001b[0m\u001b[0m\n\u001b[1;32m   1059\u001b[0m             \u001b[0;32massert\u001b[0m \u001b[0mself\u001b[0m\u001b[0;34m.\u001b[0m\u001b[0m_is_stopped\u001b[0m\u001b[0;34m\u001b[0m\u001b[0;34m\u001b[0m\u001b[0m\n\u001b[0;32m-> 1060\u001b[0;31m         \u001b[0;32melif\u001b[0m \u001b[0mlock\u001b[0m\u001b[0;34m.\u001b[0m\u001b[0macquire\u001b[0m\u001b[0;34m(\u001b[0m\u001b[0mblock\u001b[0m\u001b[0;34m,\u001b[0m \u001b[0mtimeout\u001b[0m\u001b[0;34m)\u001b[0m\u001b[0;34m:\u001b[0m\u001b[0;34m\u001b[0m\u001b[0;34m\u001b[0m\u001b[0m\n\u001b[0m\u001b[1;32m   1061\u001b[0m             \u001b[0mlock\u001b[0m\u001b[0;34m.\u001b[0m\u001b[0mrelease\u001b[0m\u001b[0;34m(\u001b[0m\u001b[0;34m)\u001b[0m\u001b[0;34m\u001b[0m\u001b[0;34m\u001b[0m\u001b[0m\n\u001b[1;32m   1062\u001b[0m             \u001b[0mself\u001b[0m\u001b[0;34m.\u001b[0m\u001b[0m_stop\u001b[0m\u001b[0;34m(\u001b[0m\u001b[0;34m)\u001b[0m\u001b[0;34m\u001b[0m\u001b[0;34m\u001b[0m\u001b[0m\n",
      "\u001b[0;31mKeyboardInterrupt\u001b[0m: "
     ]
    }
   ],
   "execution_count": 48
  },
  {
   "cell_type": "code",
   "source": "descs = [f'Lasso Paths, state {idx +1}' for idx in range(_tmp_coeffs.shape[1])]\n#colors = ['k', 'r--', 'g-']\nfig, axes = plt.subplots(ncols = coeffs_LASSO.shape[2] + 1, figsize=(17.5,3.5))\nfor idx in range(_tmp_coeffs.shape[1]):\n    ax = axes[idx]\n    for model_idx in range(coeffs_LASSO.shape[0]):\n        ax.plot(1/C_range, coeffs_LASSO[model_idx,:,idx,:], '.')\n    ax.set_xlim(1/C_range[-1], 1/C_range[0])\n    ax.set_xlabel(r\"$1/C$\")\n    ax.set_title(descs[idx])\nax = axes[-1]\nfor model_idx in range(coeffs_LASSO.shape[0]):\n    ax.plot(1/C_range, CV_LASSO[model_idx,:])\nax.set_xlim(1/C_range[-1], 1/C_range[0])\nax.set_xlabel(r\"$1/C$\")\nax.set_title(\"Score\")",
   "metadata": {
    "tags": [],
    "cell_id": "00031-9e84a03b-84c0-4e43-a92d-b27c94957565",
    "deepnote_cell_type": "code"
   },
   "outputs": [],
   "execution_count": null
  },
  {
   "cell_type": "markdown",
   "source": "<a style='text-decoration:none;line-height:16px;display:flex;color:#5B5B62;padding:10px;justify-content:end;' href='https://deepnote.com?utm_source=created-in-deepnote-cell&projectId=fa81218d-8afb-4a4f-8164-247b0de78a96' target=\"_blank\">\n<img alt='Created in deepnote.com' style='display:inline;max-height:16px;margin:0px;margin-right:7.5px;' src='data:image/svg+xml;base64,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' > </img>\nCreated in <span style='font-weight:600;margin-left:4px;'>Deepnote</span></a>",
   "metadata": {
    "tags": [],
    "created_in_deepnote_cell": true,
    "deepnote_cell_type": "markdown"
   }
  }
 ],
 "nbformat": 4,
 "nbformat_minor": 2,
 "metadata": {
  "orig_nbformat": 2,
  "deepnote": {
   "is_reactive": false
  },
  "deepnote_notebook_id": "b951797d-6c5e-4083-867a-fb4ff8dd9ed5",
  "deepnote_execution_queue": []
 }
}